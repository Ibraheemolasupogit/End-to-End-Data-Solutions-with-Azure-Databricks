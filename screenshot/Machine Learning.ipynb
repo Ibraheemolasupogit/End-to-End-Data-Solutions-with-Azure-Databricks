{
 "cells": [
  {
   "cell_type": "code",
   "execution_count": 0,
   "metadata": {
    "application/vnd.databricks.v1+cell": {
     "cellMetadata": {
      "byteLimit": 2048000,
      "rowLimit": 10000
     },
     "inputWidgets": {},
     "nuid": "a3f039ac-66dc-4fe2-83b6-5609bf92959e",
     "showTitle": false,
     "tableResultSettingsMap": {},
     "title": ""
    }
   },
   "outputs": [
    {
     "output_type": "stream",
     "name": "stderr",
     "output_type": "stream",
     "text": [
      "--2025-09-20 15:01:20--  https://raw.githubusercontent.com/MicrosoftLearning/mslearn-databricks/main/data/penguins.csv\nResolving raw.githubusercontent.com (raw.githubusercontent.com)... 185.199.108.133, 185.199.109.133, 185.199.110.133, ...\nConnecting to raw.githubusercontent.com (raw.githubusercontent.com)|185.199.108.133|:443... connected.\nHTTP request sent, awaiting response... 200 OK\nLength: 9533 (9.3K) [text/plain]\nSaving to: ‘/dbfs/ml_lab/penguins.csv’\n\n     0K .........                                             100% 8.87M=0.001s\n\n2025-09-20 15:01:20 (8.87 MB/s) - ‘/dbfs/ml_lab/penguins.csv’ saved [9533/9533]\n\n"
     ]
    }
   ],
   "source": [
    "%sh\n",
    "rm -r /dbfs/ml_lab\n",
    "mkdir /dbfs/ml_lab\n",
    "wget -O /dbfs/ml_lab/penguins.csv https://raw.githubusercontent.com/MicrosoftLearning/mslearn-databricks/main/data/penguins.csv"
   ]
  },
  {
   "cell_type": "code",
   "execution_count": 0,
   "metadata": {
    "application/vnd.databricks.v1+cell": {
     "cellMetadata": {
      "byteLimit": 2048000,
      "rowLimit": 10000
     },
     "inputWidgets": {},
     "nuid": "b1101964-7514-479a-ae73-09dae71eb441",
     "showTitle": false,
     "tableResultSettingsMap": {},
     "title": ""
    }
   },
   "outputs": [
    {
     "output_type": "display_data",
     "data": {
      "text/html": [
       "<style scoped>\n",
       "  .table-result-container {\n",
       "    max-height: 300px;\n",
       "    overflow: auto;\n",
       "  }\n",
       "  table, th, td {\n",
       "    border: 1px solid black;\n",
       "    border-collapse: collapse;\n",
       "  }\n",
       "  th, td {\n",
       "    padding: 5px;\n",
       "  }\n",
       "  th {\n",
       "    text-align: left;\n",
       "  }\n",
       "</style><div class='table-result-container'><table class='table-result'><thead style='background-color: white'><tr><th>Island</th><th>CulmenLength</th><th>CulmenDepth</th><th>FlipperLength</th><th>BodyMass</th><th>Species</th></tr></thead><tbody><tr><td>Torgersen</td><td>39.1</td><td>18.7</td><td>181</td><td>3750</td><td>0</td></tr><tr><td>Torgersen</td><td>39.5</td><td>17.4</td><td>186</td><td>3800</td><td>0</td></tr><tr><td>Torgersen</td><td>40.3</td><td>18</td><td>195</td><td>3250</td><td>0</td></tr><tr><td>Torgersen</td><td>null</td><td>null</td><td>null</td><td>null</td><td>0</td></tr><tr><td>Torgersen</td><td>36.7</td><td>19.3</td><td>193</td><td>3450</td><td>0</td></tr><tr><td>Torgersen</td><td>39.3</td><td>20.6</td><td>190</td><td>3650</td><td>0</td></tr><tr><td>Torgersen</td><td>38.9</td><td>17.8</td><td>181</td><td>3625</td><td>0</td></tr><tr><td>Torgersen</td><td>39.2</td><td>19.6</td><td>195</td><td>4675</td><td>0</td></tr><tr><td>Torgersen</td><td>34.1</td><td>18.1</td><td>193</td><td>3475</td><td>0</td></tr><tr><td>Torgersen</td><td>42</td><td>20.2</td><td>190</td><td>4250</td><td>0</td></tr><tr><td>Torgersen</td><td>37.8</td><td>17.1</td><td>186</td><td>3300</td><td>0</td></tr><tr><td>Torgersen</td><td>37.8</td><td>17.3</td><td>180</td><td>3700</td><td>0</td></tr><tr><td>Torgersen</td><td>41.1</td><td>17.6</td><td>182</td><td>3200</td><td>0</td></tr><tr><td>Torgersen</td><td>38.6</td><td>21.2</td><td>191</td><td>3800</td><td>0</td></tr><tr><td>Torgersen</td><td>34.6</td><td>21.1</td><td>198</td><td>4400</td><td>0</td></tr><tr><td>Torgersen</td><td>36.6</td><td>17.8</td><td>185</td><td>3700</td><td>0</td></tr><tr><td>Torgersen</td><td>38.7</td><td>19</td><td>195</td><td>3450</td><td>0</td></tr><tr><td>Torgersen</td><td>42.5</td><td>20.7</td><td>197</td><td>4500</td><td>0</td></tr><tr><td>Torgersen</td><td>34.4</td><td>18.4</td><td>184</td><td>3325</td><td>0</td></tr><tr><td>Torgersen</td><td>46</td><td>21.5</td><td>194</td><td>4200</td><td>0</td></tr><tr><td>Biscoe</td><td>37.8</td><td>18.3</td><td>174</td><td>3400</td><td>0</td></tr><tr><td>Biscoe</td><td>37.7</td><td>18.7</td><td>180</td><td>3600</td><td>0</td></tr><tr><td>Biscoe</td><td>35.9</td><td>19.2</td><td>189</td><td>3800</td><td>0</td></tr><tr><td>Biscoe</td><td>38.2</td><td>18.1</td><td>185</td><td>3950</td><td>0</td></tr><tr><td>Biscoe</td><td>38.8</td><td>17.2</td><td>180</td><td>3800</td><td>0</td></tr><tr><td>Biscoe</td><td>35.3</td><td>18.9</td><td>187</td><td>3800</td><td>0</td></tr><tr><td>Biscoe</td><td>40.6</td><td>18.6</td><td>183</td><td>3550</td><td>0</td></tr><tr><td>Biscoe</td><td>40.5</td><td>17.9</td><td>187</td><td>3200</td><td>0</td></tr><tr><td>Biscoe</td><td>37.9</td><td>18.6</td><td>172</td><td>3150</td><td>0</td></tr><tr><td>Biscoe</td><td>40.5</td><td>18.9</td><td>180</td><td>3950</td><td>0</td></tr><tr><td>Dream</td><td>39.5</td><td>16.7</td><td>178</td><td>3250</td><td>0</td></tr><tr><td>Dream</td><td>37.2</td><td>18.1</td><td>178</td><td>3900</td><td>0</td></tr><tr><td>Dream</td><td>39.5</td><td>17.8</td><td>188</td><td>3300</td><td>0</td></tr><tr><td>Dream</td><td>40.9</td><td>18.9</td><td>184</td><td>3900</td><td>0</td></tr><tr><td>Dream</td><td>36.4</td><td>17</td><td>195</td><td>3325</td><td>0</td></tr><tr><td>Dream</td><td>39.2</td><td>21.1</td><td>196</td><td>4150</td><td>0</td></tr><tr><td>Dream</td><td>38.8</td><td>20</td><td>190</td><td>3950</td><td>0</td></tr><tr><td>Dream</td><td>42.2</td><td>18.5</td><td>180</td><td>3550</td><td>0</td></tr><tr><td>Dream</td><td>37.6</td><td>19.3</td><td>181</td><td>3300</td><td>0</td></tr><tr><td>Dream</td><td>39.8</td><td>19.1</td><td>184</td><td>4650</td><td>0</td></tr><tr><td>Dream</td><td>36.5</td><td>18</td><td>182</td><td>3150</td><td>0</td></tr><tr><td>Dream</td><td>40.8</td><td>18.4</td><td>195</td><td>3900</td><td>0</td></tr><tr><td>Dream</td><td>36</td><td>18.5</td><td>186</td><td>3100</td><td>0</td></tr><tr><td>Dream</td><td>44.1</td><td>19.7</td><td>196</td><td>4400</td><td>0</td></tr><tr><td>Dream</td><td>37</td><td>16.9</td><td>185</td><td>3000</td><td>0</td></tr><tr><td>Dream</td><td>39.6</td><td>18.8</td><td>190</td><td>4600</td><td>0</td></tr><tr><td>Dream</td><td>41.1</td><td>19</td><td>182</td><td>3425</td><td>0</td></tr><tr><td>Dream</td><td>37.5</td><td>18.9</td><td>179</td><td>2975</td><td>0</td></tr><tr><td>Dream</td><td>36</td><td>17.9</td><td>190</td><td>3450</td><td>0</td></tr><tr><td>Dream</td><td>42.3</td><td>21.2</td><td>191</td><td>4150</td><td>0</td></tr><tr><td>Biscoe</td><td>39.6</td><td>17.7</td><td>186</td><td>3500</td><td>0</td></tr><tr><td>Biscoe</td><td>40.1</td><td>18.9</td><td>188</td><td>4300</td><td>0</td></tr><tr><td>Biscoe</td><td>35</td><td>17.9</td><td>190</td><td>3450</td><td>0</td></tr><tr><td>Biscoe</td><td>42</td><td>19.5</td><td>200</td><td>4050</td><td>0</td></tr><tr><td>Biscoe</td><td>34.5</td><td>18.1</td><td>187</td><td>2900</td><td>0</td></tr><tr><td>Biscoe</td><td>41.4</td><td>18.6</td><td>191</td><td>3700</td><td>0</td></tr><tr><td>Biscoe</td><td>39</td><td>17.5</td><td>186</td><td>3550</td><td>0</td></tr><tr><td>Biscoe</td><td>40.6</td><td>18.8</td><td>193</td><td>3800</td><td>0</td></tr><tr><td>Biscoe</td><td>36.5</td><td>16.6</td><td>181</td><td>2850</td><td>0</td></tr><tr><td>Biscoe</td><td>37.6</td><td>19.1</td><td>194</td><td>3750</td><td>0</td></tr><tr><td>Biscoe</td><td>35.7</td><td>16.9</td><td>185</td><td>3150</td><td>0</td></tr><tr><td>Biscoe</td><td>41.3</td><td>21.1</td><td>195</td><td>4400</td><td>0</td></tr><tr><td>Biscoe</td><td>37.6</td><td>17</td><td>185</td><td>3600</td><td>0</td></tr><tr><td>Biscoe</td><td>41.1</td><td>18.2</td><td>192</td><td>4050</td><td>0</td></tr><tr><td>Biscoe</td><td>36.4</td><td>17.1</td><td>184</td><td>2850</td><td>0</td></tr><tr><td>Biscoe</td><td>41.6</td><td>18</td><td>192</td><td>3950</td><td>0</td></tr><tr><td>Biscoe</td><td>35.5</td><td>16.2</td><td>195</td><td>3350</td><td>0</td></tr><tr><td>Biscoe</td><td>41.1</td><td>19.1</td><td>188</td><td>4100</td><td>0</td></tr><tr><td>Torgersen</td><td>35.9</td><td>16.6</td><td>190</td><td>3050</td><td>0</td></tr><tr><td>Torgersen</td><td>41.8</td><td>19.4</td><td>198</td><td>4450</td><td>0</td></tr><tr><td>Torgersen</td><td>33.5</td><td>19</td><td>190</td><td>3600</td><td>0</td></tr><tr><td>Torgersen</td><td>39.7</td><td>18.4</td><td>190</td><td>3900</td><td>0</td></tr><tr><td>Torgersen</td><td>39.6</td><td>17.2</td><td>196</td><td>3550</td><td>0</td></tr><tr><td>Torgersen</td><td>45.8</td><td>18.9</td><td>197</td><td>4150</td><td>0</td></tr><tr><td>Torgersen</td><td>35.5</td><td>17.5</td><td>190</td><td>3700</td><td>0</td></tr><tr><td>Torgersen</td><td>42.8</td><td>18.5</td><td>195</td><td>4250</td><td>0</td></tr><tr><td>Torgersen</td><td>40.9</td><td>16.8</td><td>191</td><td>3700</td><td>0</td></tr><tr><td>Torgersen</td><td>37.2</td><td>19.4</td><td>184</td><td>3900</td><td>0</td></tr><tr><td>Torgersen</td><td>36.2</td><td>16.1</td><td>187</td><td>3550</td><td>0</td></tr><tr><td>Torgersen</td><td>42.1</td><td>19.1</td><td>195</td><td>4000</td><td>0</td></tr><tr><td>Torgersen</td><td>34.6</td><td>17.2</td><td>189</td><td>3200</td><td>0</td></tr><tr><td>Torgersen</td><td>42.9</td><td>17.6</td><td>196</td><td>4700</td><td>0</td></tr><tr><td>Torgersen</td><td>36.7</td><td>18.8</td><td>187</td><td>3800</td><td>0</td></tr><tr><td>Torgersen</td><td>35.1</td><td>19.4</td><td>193</td><td>4200</td><td>0</td></tr><tr><td>Dream</td><td>37.3</td><td>17.8</td><td>191</td><td>3350</td><td>0</td></tr><tr><td>Dream</td><td>41.3</td><td>20.3</td><td>194</td><td>3550</td><td>0</td></tr><tr><td>Dream</td><td>36.3</td><td>19.5</td><td>190</td><td>3800</td><td>0</td></tr><tr><td>Dream</td><td>36.9</td><td>18.6</td><td>189</td><td>3500</td><td>0</td></tr><tr><td>Dream</td><td>38.3</td><td>19.2</td><td>189</td><td>3950</td><td>0</td></tr><tr><td>Dream</td><td>38.9</td><td>18.8</td><td>190</td><td>3600</td><td>0</td></tr><tr><td>Dream</td><td>35.7</td><td>18</td><td>202</td><td>3550</td><td>0</td></tr><tr><td>Dream</td><td>41.1</td><td>18.1</td><td>205</td><td>4300</td><td>0</td></tr><tr><td>Dream</td><td>34</td><td>17.1</td><td>185</td><td>3400</td><td>0</td></tr><tr><td>Dream</td><td>39.6</td><td>18.1</td><td>186</td><td>4450</td><td>0</td></tr><tr><td>Dream</td><td>36.2</td><td>17.3</td><td>187</td><td>3300</td><td>0</td></tr><tr><td>Dream</td><td>40.8</td><td>18.9</td><td>208</td><td>4300</td><td>0</td></tr><tr><td>Dream</td><td>38.1</td><td>18.6</td><td>190</td><td>3700</td><td>0</td></tr><tr><td>Dream</td><td>40.3</td><td>18.5</td><td>196</td><td>4350</td><td>0</td></tr><tr><td>Dream</td><td>33.1</td><td>16.1</td><td>178</td><td>2900</td><td>0</td></tr><tr><td>Dream</td><td>43.2</td><td>18.5</td><td>192</td><td>4100</td><td>0</td></tr><tr><td>Biscoe</td><td>35</td><td>17.9</td><td>192</td><td>3725</td><td>0</td></tr><tr><td>Biscoe</td><td>41</td><td>20</td><td>203</td><td>4725</td><td>0</td></tr><tr><td>Biscoe</td><td>37.7</td><td>16</td><td>183</td><td>3075</td><td>0</td></tr><tr><td>Biscoe</td><td>37.8</td><td>20</td><td>190</td><td>4250</td><td>0</td></tr><tr><td>Biscoe</td><td>37.9</td><td>18.6</td><td>193</td><td>2925</td><td>0</td></tr><tr><td>Biscoe</td><td>39.7</td><td>18.9</td><td>184</td><td>3550</td><td>0</td></tr><tr><td>Biscoe</td><td>38.6</td><td>17.2</td><td>199</td><td>3750</td><td>0</td></tr><tr><td>Biscoe</td><td>38.2</td><td>20</td><td>190</td><td>3900</td><td>0</td></tr><tr><td>Biscoe</td><td>38.1</td><td>17</td><td>181</td><td>3175</td><td>0</td></tr><tr><td>Biscoe</td><td>43.2</td><td>19</td><td>197</td><td>4775</td><td>0</td></tr><tr><td>Biscoe</td><td>38.1</td><td>16.5</td><td>198</td><td>3825</td><td>0</td></tr><tr><td>Biscoe</td><td>45.6</td><td>20.3</td><td>191</td><td>4600</td><td>0</td></tr><tr><td>Biscoe</td><td>39.7</td><td>17.7</td><td>193</td><td>3200</td><td>0</td></tr><tr><td>Biscoe</td><td>42.2</td><td>19.5</td><td>197</td><td>4275</td><td>0</td></tr><tr><td>Biscoe</td><td>39.6</td><td>20.7</td><td>191</td><td>3900</td><td>0</td></tr><tr><td>Biscoe</td><td>42.7</td><td>18.3</td><td>196</td><td>4075</td><td>0</td></tr><tr><td>Torgersen</td><td>38.6</td><td>17</td><td>188</td><td>2900</td><td>0</td></tr><tr><td>Torgersen</td><td>37.3</td><td>20.5</td><td>199</td><td>3775</td><td>0</td></tr><tr><td>Torgersen</td><td>35.7</td><td>17</td><td>189</td><td>3350</td><td>0</td></tr><tr><td>Torgersen</td><td>41.1</td><td>18.6</td><td>189</td><td>3325</td><td>0</td></tr><tr><td>Torgersen</td><td>36.2</td><td>17.2</td><td>187</td><td>3150</td><td>0</td></tr><tr><td>Torgersen</td><td>37.7</td><td>19.8</td><td>198</td><td>3500</td><td>0</td></tr><tr><td>Torgersen</td><td>40.2</td><td>17</td><td>176</td><td>3450</td><td>0</td></tr><tr><td>Torgersen</td><td>41.4</td><td>18.5</td><td>202</td><td>3875</td><td>0</td></tr><tr><td>Torgersen</td><td>35.2</td><td>15.9</td><td>186</td><td>3050</td><td>0</td></tr><tr><td>Torgersen</td><td>40.6</td><td>19</td><td>199</td><td>4000</td><td>0</td></tr><tr><td>Torgersen</td><td>38.8</td><td>17.6</td><td>191</td><td>3275</td><td>0</td></tr><tr><td>Torgersen</td><td>41.5</td><td>18.3</td><td>195</td><td>4300</td><td>0</td></tr><tr><td>Torgersen</td><td>39</td><td>17.1</td><td>191</td><td>3050</td><td>0</td></tr><tr><td>Torgersen</td><td>44.1</td><td>18</td><td>210</td><td>4000</td><td>0</td></tr><tr><td>Torgersen</td><td>38.5</td><td>17.9</td><td>190</td><td>3325</td><td>0</td></tr><tr><td>Torgersen</td><td>43.1</td><td>19.2</td><td>197</td><td>3500</td><td>0</td></tr><tr><td>Dream</td><td>36.8</td><td>18.5</td><td>193</td><td>3500</td><td>0</td></tr><tr><td>Dream</td><td>37.5</td><td>18.5</td><td>199</td><td>4475</td><td>0</td></tr><tr><td>Dream</td><td>38.1</td><td>17.6</td><td>187</td><td>3425</td><td>0</td></tr><tr><td>Dream</td><td>41.1</td><td>17.5</td><td>190</td><td>3900</td><td>0</td></tr><tr><td>Dream</td><td>35.6</td><td>17.5</td><td>191</td><td>3175</td><td>0</td></tr><tr><td>Dream</td><td>40.2</td><td>20.1</td><td>200</td><td>3975</td><td>0</td></tr><tr><td>Dream</td><td>37</td><td>16.5</td><td>185</td><td>3400</td><td>0</td></tr><tr><td>Dream</td><td>39.7</td><td>17.9</td><td>193</td><td>4250</td><td>0</td></tr><tr><td>Dream</td><td>40.2</td><td>17.1</td><td>193</td><td>3400</td><td>0</td></tr><tr><td>Dream</td><td>40.6</td><td>17.2</td><td>187</td><td>3475</td><td>0</td></tr><tr><td>Dream</td><td>32.1</td><td>15.5</td><td>188</td><td>3050</td><td>0</td></tr><tr><td>Dream</td><td>40.7</td><td>17</td><td>190</td><td>3725</td><td>0</td></tr><tr><td>Dream</td><td>37.3</td><td>16.8</td><td>192</td><td>3000</td><td>0</td></tr><tr><td>Dream</td><td>39</td><td>18.7</td><td>185</td><td>3650</td><td>0</td></tr><tr><td>Dream</td><td>39.2</td><td>18.6</td><td>190</td><td>4250</td><td>0</td></tr><tr><td>Dream</td><td>36.6</td><td>18.4</td><td>184</td><td>3475</td><td>0</td></tr><tr><td>Dream</td><td>36</td><td>17.8</td><td>195</td><td>3450</td><td>0</td></tr><tr><td>Dream</td><td>37.8</td><td>18.1</td><td>193</td><td>3750</td><td>0</td></tr><tr><td>Dream</td><td>36</td><td>17.1</td><td>187</td><td>3700</td><td>0</td></tr><tr><td>Dream</td><td>41.5</td><td>18.5</td><td>201</td><td>4000</td><td>0</td></tr><tr><td>Biscoe</td><td>46.1</td><td>13.2</td><td>211</td><td>4500</td><td>1</td></tr><tr><td>Biscoe</td><td>50</td><td>16.3</td><td>230</td><td>5700</td><td>1</td></tr><tr><td>Biscoe</td><td>48.7</td><td>14.1</td><td>210</td><td>4450</td><td>1</td></tr><tr><td>Biscoe</td><td>50</td><td>15.2</td><td>218</td><td>5700</td><td>1</td></tr><tr><td>Biscoe</td><td>47.6</td><td>14.5</td><td>215</td><td>5400</td><td>1</td></tr><tr><td>Biscoe</td><td>46.5</td><td>13.5</td><td>210</td><td>4550</td><td>1</td></tr><tr><td>Biscoe</td><td>45.4</td><td>14.6</td><td>211</td><td>4800</td><td>1</td></tr><tr><td>Biscoe</td><td>46.7</td><td>15.3</td><td>219</td><td>5200</td><td>1</td></tr><tr><td>Biscoe</td><td>43.3</td><td>13.4</td><td>209</td><td>4400</td><td>1</td></tr><tr><td>Biscoe</td><td>46.8</td><td>15.4</td><td>215</td><td>5150</td><td>1</td></tr><tr><td>Biscoe</td><td>40.9</td><td>13.7</td><td>214</td><td>4650</td><td>1</td></tr><tr><td>Biscoe</td><td>49</td><td>16.1</td><td>216</td><td>5550</td><td>1</td></tr><tr><td>Biscoe</td><td>45.5</td><td>13.7</td><td>214</td><td>4650</td><td>1</td></tr><tr><td>Biscoe</td><td>48.4</td><td>14.6</td><td>213</td><td>5850</td><td>1</td></tr><tr><td>Biscoe</td><td>45.8</td><td>14.6</td><td>210</td><td>4200</td><td>1</td></tr><tr><td>Biscoe</td><td>49.3</td><td>15.7</td><td>217</td><td>5850</td><td>1</td></tr><tr><td>Biscoe</td><td>42</td><td>13.5</td><td>210</td><td>4150</td><td>1</td></tr><tr><td>Biscoe</td><td>49.2</td><td>15.2</td><td>221</td><td>6300</td><td>1</td></tr><tr><td>Biscoe</td><td>46.2</td><td>14.5</td><td>209</td><td>4800</td><td>1</td></tr><tr><td>Biscoe</td><td>48.7</td><td>15.1</td><td>222</td><td>5350</td><td>1</td></tr><tr><td>Biscoe</td><td>50.2</td><td>14.3</td><td>218</td><td>5700</td><td>1</td></tr><tr><td>Biscoe</td><td>45.1</td><td>14.5</td><td>215</td><td>5000</td><td>1</td></tr><tr><td>Biscoe</td><td>46.5</td><td>14.5</td><td>213</td><td>4400</td><td>1</td></tr><tr><td>Biscoe</td><td>46.3</td><td>15.8</td><td>215</td><td>5050</td><td>1</td></tr><tr><td>Biscoe</td><td>42.9</td><td>13.1</td><td>215</td><td>5000</td><td>1</td></tr><tr><td>Biscoe</td><td>46.1</td><td>15.1</td><td>215</td><td>5100</td><td>1</td></tr><tr><td>Biscoe</td><td>44.5</td><td>14.3</td><td>216</td><td>4100</td><td>1</td></tr><tr><td>Biscoe</td><td>47.8</td><td>15</td><td>215</td><td>5650</td><td>1</td></tr><tr><td>Biscoe</td><td>48.2</td><td>14.3</td><td>210</td><td>4600</td><td>1</td></tr><tr><td>Biscoe</td><td>50</td><td>15.3</td><td>220</td><td>5550</td><td>1</td></tr><tr><td>Biscoe</td><td>47.3</td><td>15.3</td><td>222</td><td>5250</td><td>1</td></tr><tr><td>Biscoe</td><td>42.8</td><td>14.2</td><td>209</td><td>4700</td><td>1</td></tr><tr><td>Biscoe</td><td>45.1</td><td>14.5</td><td>207</td><td>5050</td><td>1</td></tr><tr><td>Biscoe</td><td>59.6</td><td>17</td><td>230</td><td>6050</td><td>1</td></tr><tr><td>Biscoe</td><td>49.1</td><td>14.8</td><td>220</td><td>5150</td><td>1</td></tr><tr><td>Biscoe</td><td>48.4</td><td>16.3</td><td>220</td><td>5400</td><td>1</td></tr><tr><td>Biscoe</td><td>42.6</td><td>13.7</td><td>213</td><td>4950</td><td>1</td></tr><tr><td>Biscoe</td><td>44.4</td><td>17.3</td><td>219</td><td>5250</td><td>1</td></tr><tr><td>Biscoe</td><td>44</td><td>13.6</td><td>208</td><td>4350</td><td>1</td></tr><tr><td>Biscoe</td><td>48.7</td><td>15.7</td><td>208</td><td>5350</td><td>1</td></tr><tr><td>Biscoe</td><td>42.7</td><td>13.7</td><td>208</td><td>3950</td><td>1</td></tr><tr><td>Biscoe</td><td>49.6</td><td>16</td><td>225</td><td>5700</td><td>1</td></tr><tr><td>Biscoe</td><td>45.3</td><td>13.7</td><td>210</td><td>4300</td><td>1</td></tr><tr><td>Biscoe</td><td>49.6</td><td>15</td><td>216</td><td>4750</td><td>1</td></tr><tr><td>Biscoe</td><td>50.5</td><td>15.9</td><td>222</td><td>5550</td><td>1</td></tr><tr><td>Biscoe</td><td>43.6</td><td>13.9</td><td>217</td><td>4900</td><td>1</td></tr><tr><td>Biscoe</td><td>45.5</td><td>13.9</td><td>210</td><td>4200</td><td>1</td></tr><tr><td>Biscoe</td><td>50.5</td><td>15.9</td><td>225</td><td>5400</td><td>1</td></tr><tr><td>Biscoe</td><td>44.9</td><td>13.3</td><td>213</td><td>5100</td><td>1</td></tr><tr><td>Biscoe</td><td>45.2</td><td>15.8</td><td>215</td><td>5300</td><td>1</td></tr><tr><td>Biscoe</td><td>46.6</td><td>14.2</td><td>210</td><td>4850</td><td>1</td></tr><tr><td>Biscoe</td><td>48.5</td><td>14.1</td><td>220</td><td>5300</td><td>1</td></tr><tr><td>Biscoe</td><td>45.1</td><td>14.4</td><td>210</td><td>4400</td><td>1</td></tr><tr><td>Biscoe</td><td>50.1</td><td>15</td><td>225</td><td>5000</td><td>1</td></tr><tr><td>Biscoe</td><td>46.5</td><td>14.4</td><td>217</td><td>4900</td><td>1</td></tr><tr><td>Biscoe</td><td>45</td><td>15.4</td><td>220</td><td>5050</td><td>1</td></tr><tr><td>Biscoe</td><td>43.8</td><td>13.9</td><td>208</td><td>4300</td><td>1</td></tr><tr><td>Biscoe</td><td>45.5</td><td>15</td><td>220</td><td>5000</td><td>1</td></tr><tr><td>Biscoe</td><td>43.2</td><td>14.5</td><td>208</td><td>4450</td><td>1</td></tr><tr><td>Biscoe</td><td>50.4</td><td>15.3</td><td>224</td><td>5550</td><td>1</td></tr><tr><td>Biscoe</td><td>45.3</td><td>13.8</td><td>208</td><td>4200</td><td>1</td></tr><tr><td>Biscoe</td><td>46.2</td><td>14.9</td><td>221</td><td>5300</td><td>1</td></tr><tr><td>Biscoe</td><td>45.7</td><td>13.9</td><td>214</td><td>4400</td><td>1</td></tr><tr><td>Biscoe</td><td>54.3</td><td>15.7</td><td>231</td><td>5650</td><td>1</td></tr><tr><td>Biscoe</td><td>45.8</td><td>14.2</td><td>219</td><td>4700</td><td>1</td></tr><tr><td>Biscoe</td><td>49.8</td><td>16.8</td><td>230</td><td>5700</td><td>1</td></tr><tr><td>Biscoe</td><td>46.2</td><td>14.4</td><td>214</td><td>4650</td><td>1</td></tr><tr><td>Biscoe</td><td>49.5</td><td>16.2</td><td>229</td><td>5800</td><td>1</td></tr><tr><td>Biscoe</td><td>43.5</td><td>14.2</td><td>220</td><td>4700</td><td>1</td></tr><tr><td>Biscoe</td><td>50.7</td><td>15</td><td>223</td><td>5550</td><td>1</td></tr><tr><td>Biscoe</td><td>47.7</td><td>15</td><td>216</td><td>4750</td><td>1</td></tr><tr><td>Biscoe</td><td>46.4</td><td>15.6</td><td>221</td><td>5000</td><td>1</td></tr><tr><td>Biscoe</td><td>48.2</td><td>15.6</td><td>221</td><td>5100</td><td>1</td></tr><tr><td>Biscoe</td><td>46.5</td><td>14.8</td><td>217</td><td>5200</td><td>1</td></tr><tr><td>Biscoe</td><td>46.4</td><td>15</td><td>216</td><td>4700</td><td>1</td></tr><tr><td>Biscoe</td><td>48.6</td><td>16</td><td>230</td><td>5800</td><td>1</td></tr><tr><td>Biscoe</td><td>47.5</td><td>14.2</td><td>209</td><td>4600</td><td>1</td></tr><tr><td>Biscoe</td><td>51.1</td><td>16.3</td><td>220</td><td>6000</td><td>1</td></tr><tr><td>Biscoe</td><td>45.2</td><td>13.8</td><td>215</td><td>4750</td><td>1</td></tr><tr><td>Biscoe</td><td>45.2</td><td>16.4</td><td>223</td><td>5950</td><td>1</td></tr><tr><td>Biscoe</td><td>49.1</td><td>14.5</td><td>212</td><td>4625</td><td>1</td></tr><tr><td>Biscoe</td><td>52.5</td><td>15.6</td><td>221</td><td>5450</td><td>1</td></tr><tr><td>Biscoe</td><td>47.4</td><td>14.6</td><td>212</td><td>4725</td><td>1</td></tr><tr><td>Biscoe</td><td>50</td><td>15.9</td><td>224</td><td>5350</td><td>1</td></tr><tr><td>Biscoe</td><td>44.9</td><td>13.8</td><td>212</td><td>4750</td><td>1</td></tr><tr><td>Biscoe</td><td>50.8</td><td>17.3</td><td>228</td><td>5600</td><td>1</td></tr><tr><td>Biscoe</td><td>43.4</td><td>14.4</td><td>218</td><td>4600</td><td>1</td></tr><tr><td>Biscoe</td><td>51.3</td><td>14.2</td><td>218</td><td>5300</td><td>1</td></tr><tr><td>Biscoe</td><td>47.5</td><td>14</td><td>212</td><td>4875</td><td>1</td></tr><tr><td>Biscoe</td><td>52.1</td><td>17</td><td>230</td><td>5550</td><td>1</td></tr><tr><td>Biscoe</td><td>47.5</td><td>15</td><td>218</td><td>4950</td><td>1</td></tr><tr><td>Biscoe</td><td>52.2</td><td>17.1</td><td>228</td><td>5400</td><td>1</td></tr><tr><td>Biscoe</td><td>45.5</td><td>14.5</td><td>212</td><td>4750</td><td>1</td></tr><tr><td>Biscoe</td><td>49.5</td><td>16.1</td><td>224</td><td>5650</td><td>1</td></tr><tr><td>Biscoe</td><td>44.5</td><td>14.7</td><td>214</td><td>4850</td><td>1</td></tr><tr><td>Biscoe</td><td>50.8</td><td>15.7</td><td>226</td><td>5200</td><td>1</td></tr><tr><td>Biscoe</td><td>49.4</td><td>15.8</td><td>216</td><td>4925</td><td>1</td></tr><tr><td>Biscoe</td><td>46.9</td><td>14.6</td><td>222</td><td>4875</td><td>1</td></tr><tr><td>Biscoe</td><td>48.4</td><td>14.4</td><td>203</td><td>4625</td><td>1</td></tr><tr><td>Biscoe</td><td>51.1</td><td>16.5</td><td>225</td><td>5250</td><td>1</td></tr><tr><td>Biscoe</td><td>48.5</td><td>15</td><td>219</td><td>4850</td><td>1</td></tr><tr><td>Biscoe</td><td>55.9</td><td>17</td><td>228</td><td>5600</td><td>1</td></tr><tr><td>Biscoe</td><td>47.2</td><td>15.5</td><td>215</td><td>4975</td><td>1</td></tr><tr><td>Biscoe</td><td>49.1</td><td>15</td><td>228</td><td>5500</td><td>1</td></tr><tr><td>Biscoe</td><td>47.3</td><td>13.8</td><td>216</td><td>4725</td><td>1</td></tr><tr><td>Biscoe</td><td>46.8</td><td>16.1</td><td>215</td><td>5500</td><td>1</td></tr><tr><td>Biscoe</td><td>41.7</td><td>14.7</td><td>210</td><td>4700</td><td>1</td></tr><tr><td>Biscoe</td><td>53.4</td><td>15.8</td><td>219</td><td>5500</td><td>1</td></tr><tr><td>Biscoe</td><td>43.3</td><td>14</td><td>208</td><td>4575</td><td>1</td></tr><tr><td>Biscoe</td><td>48.1</td><td>15.1</td><td>209</td><td>5500</td><td>1</td></tr><tr><td>Biscoe</td><td>50.5</td><td>15.2</td><td>216</td><td>5000</td><td>1</td></tr><tr><td>Biscoe</td><td>49.8</td><td>15.9</td><td>229</td><td>5950</td><td>1</td></tr><tr><td>Biscoe</td><td>43.5</td><td>15.2</td><td>213</td><td>4650</td><td>1</td></tr><tr><td>Biscoe</td><td>51.5</td><td>16.3</td><td>230</td><td>5500</td><td>1</td></tr><tr><td>Biscoe</td><td>46.2</td><td>14.1</td><td>217</td><td>4375</td><td>1</td></tr><tr><td>Biscoe</td><td>55.1</td><td>16</td><td>230</td><td>5850</td><td>1</td></tr><tr><td>Biscoe</td><td>44.5</td><td>15.7</td><td>217</td><td>4875</td><td>1</td></tr><tr><td>Biscoe</td><td>48.8</td><td>16.2</td><td>222</td><td>6000</td><td>1</td></tr><tr><td>Biscoe</td><td>47.2</td><td>13.7</td><td>214</td><td>4925</td><td>1</td></tr><tr><td>Biscoe</td><td>null</td><td>null</td><td>null</td><td>null</td><td>1</td></tr><tr><td>Biscoe</td><td>46.8</td><td>14.3</td><td>215</td><td>4850</td><td>1</td></tr><tr><td>Biscoe</td><td>50.4</td><td>15.7</td><td>222</td><td>5750</td><td>1</td></tr><tr><td>Biscoe</td><td>45.2</td><td>14.8</td><td>212</td><td>5200</td><td>1</td></tr><tr><td>Biscoe</td><td>49.9</td><td>16.1</td><td>213</td><td>5400</td><td>1</td></tr><tr><td>Dream</td><td>46.5</td><td>17.9</td><td>192</td><td>3500</td><td>2</td></tr><tr><td>Dream</td><td>50</td><td>19.5</td><td>196</td><td>3900</td><td>2</td></tr><tr><td>Dream</td><td>51.3</td><td>19.2</td><td>193</td><td>3650</td><td>2</td></tr><tr><td>Dream</td><td>45.4</td><td>18.7</td><td>188</td><td>3525</td><td>2</td></tr><tr><td>Dream</td><td>52.7</td><td>19.8</td><td>197</td><td>3725</td><td>2</td></tr><tr><td>Dream</td><td>45.2</td><td>17.8</td><td>198</td><td>3950</td><td>2</td></tr><tr><td>Dream</td><td>46.1</td><td>18.2</td><td>178</td><td>3250</td><td>2</td></tr><tr><td>Dream</td><td>51.3</td><td>18.2</td><td>197</td><td>3750</td><td>2</td></tr><tr><td>Dream</td><td>46</td><td>18.9</td><td>195</td><td>4150</td><td>2</td></tr><tr><td>Dream</td><td>51.3</td><td>19.9</td><td>198</td><td>3700</td><td>2</td></tr><tr><td>Dream</td><td>46.6</td><td>17.8</td><td>193</td><td>3800</td><td>2</td></tr><tr><td>Dream</td><td>51.7</td><td>20.3</td><td>194</td><td>3775</td><td>2</td></tr><tr><td>Dream</td><td>47</td><td>17.3</td><td>185</td><td>3700</td><td>2</td></tr><tr><td>Dream</td><td>52</td><td>18.1</td><td>201</td><td>4050</td><td>2</td></tr><tr><td>Dream</td><td>45.9</td><td>17.1</td><td>190</td><td>3575</td><td>2</td></tr><tr><td>Dream</td><td>50.5</td><td>19.6</td><td>201</td><td>4050</td><td>2</td></tr><tr><td>Dream</td><td>50.3</td><td>20</td><td>197</td><td>3300</td><td>2</td></tr><tr><td>Dream</td><td>58</td><td>17.8</td><td>181</td><td>3700</td><td>2</td></tr><tr><td>Dream</td><td>46.4</td><td>18.6</td><td>190</td><td>3450</td><td>2</td></tr><tr><td>Dream</td><td>49.2</td><td>18.2</td><td>195</td><td>4400</td><td>2</td></tr><tr><td>Dream</td><td>42.4</td><td>17.3</td><td>181</td><td>3600</td><td>2</td></tr><tr><td>Dream</td><td>48.5</td><td>17.5</td><td>191</td><td>3400</td><td>2</td></tr><tr><td>Dream</td><td>43.2</td><td>16.6</td><td>187</td><td>2900</td><td>2</td></tr><tr><td>Dream</td><td>50.6</td><td>19.4</td><td>193</td><td>3800</td><td>2</td></tr><tr><td>Dream</td><td>46.7</td><td>17.9</td><td>195</td><td>3300</td><td>2</td></tr><tr><td>Dream</td><td>52</td><td>19</td><td>197</td><td>4150</td><td>2</td></tr><tr><td>Dream</td><td>50.5</td><td>18.4</td><td>200</td><td>3400</td><td>2</td></tr><tr><td>Dream</td><td>49.5</td><td>19</td><td>200</td><td>3800</td><td>2</td></tr><tr><td>Dream</td><td>46.4</td><td>17.8</td><td>191</td><td>3700</td><td>2</td></tr><tr><td>Dream</td><td>52.8</td><td>20</td><td>205</td><td>4550</td><td>2</td></tr><tr><td>Dream</td><td>40.9</td><td>16.6</td><td>187</td><td>3200</td><td>2</td></tr><tr><td>Dream</td><td>54.2</td><td>20.8</td><td>201</td><td>4300</td><td>2</td></tr><tr><td>Dream</td><td>42.5</td><td>16.7</td><td>187</td><td>3350</td><td>2</td></tr><tr><td>Dream</td><td>51</td><td>18.8</td><td>203</td><td>4100</td><td>2</td></tr><tr><td>Dream</td><td>49.7</td><td>18.6</td><td>195</td><td>3600</td><td>2</td></tr><tr><td>Dream</td><td>47.5</td><td>16.8</td><td>199</td><td>3900</td><td>2</td></tr><tr><td>Dream</td><td>47.6</td><td>18.3</td><td>195</td><td>3850</td><td>2</td></tr><tr><td>Dream</td><td>52</td><td>20.7</td><td>210</td><td>4800</td><td>2</td></tr><tr><td>Dream</td><td>46.9</td><td>16.6</td><td>192</td><td>2700</td><td>2</td></tr><tr><td>Dream</td><td>53.5</td><td>19.9</td><td>205</td><td>4500</td><td>2</td></tr><tr><td>Dream</td><td>49</td><td>19.5</td><td>210</td><td>3950</td><td>2</td></tr><tr><td>Dream</td><td>46.2</td><td>17.5</td><td>187</td><td>3650</td><td>2</td></tr><tr><td>Dream</td><td>50.9</td><td>19.1</td><td>196</td><td>3550</td><td>2</td></tr><tr><td>Dream</td><td>45.5</td><td>17</td><td>196</td><td>3500</td><td>2</td></tr><tr><td>Dream</td><td>50.9</td><td>17.9</td><td>196</td><td>3675</td><td>2</td></tr><tr><td>Dream</td><td>50.8</td><td>18.5</td><td>201</td><td>4450</td><td>2</td></tr><tr><td>Dream</td><td>50.1</td><td>17.9</td><td>190</td><td>3400</td><td>2</td></tr><tr><td>Dream</td><td>49</td><td>19.6</td><td>212</td><td>4300</td><td>2</td></tr><tr><td>Dream</td><td>51.5</td><td>18.7</td><td>187</td><td>3250</td><td>2</td></tr><tr><td>Dream</td><td>49.8</td><td>17.3</td><td>198</td><td>3675</td><td>2</td></tr><tr><td>Dream</td><td>48.1</td><td>16.4</td><td>199</td><td>3325</td><td>2</td></tr><tr><td>Dream</td><td>51.4</td><td>19</td><td>201</td><td>3950</td><td>2</td></tr><tr><td>Dream</td><td>45.7</td><td>17.3</td><td>193</td><td>3600</td><td>2</td></tr><tr><td>Dream</td><td>50.7</td><td>19.7</td><td>203</td><td>4050</td><td>2</td></tr><tr><td>Dream</td><td>42.5</td><td>17.3</td><td>187</td><td>3350</td><td>2</td></tr><tr><td>Dream</td><td>52.2</td><td>18.8</td><td>197</td><td>3450</td><td>2</td></tr><tr><td>Dream</td><td>45.2</td><td>16.6</td><td>191</td><td>3250</td><td>2</td></tr><tr><td>Dream</td><td>49.3</td><td>19.9</td><td>203</td><td>4050</td><td>2</td></tr><tr><td>Dream</td><td>50.2</td><td>18.8</td><td>202</td><td>3800</td><td>2</td></tr><tr><td>Dream</td><td>45.6</td><td>19.4</td><td>194</td><td>3525</td><td>2</td></tr><tr><td>Dream</td><td>51.9</td><td>19.5</td><td>206</td><td>3950</td><td>2</td></tr><tr><td>Dream</td><td>46.8</td><td>16.5</td><td>189</td><td>3650</td><td>2</td></tr><tr><td>Dream</td><td>45.7</td><td>17</td><td>195</td><td>3650</td><td>2</td></tr><tr><td>Dream</td><td>55.8</td><td>19.8</td><td>207</td><td>4000</td><td>2</td></tr><tr><td>Dream</td><td>43.5</td><td>18.1</td><td>202</td><td>3400</td><td>2</td></tr><tr><td>Dream</td><td>49.6</td><td>18.2</td><td>193</td><td>3775</td><td>2</td></tr><tr><td>Dream</td><td>50.8</td><td>19</td><td>210</td><td>4100</td><td>2</td></tr><tr><td>Dream</td><td>50.2</td><td>18.7</td><td>198</td><td>3775</td><td>2</td></tr></tbody></table></div>"
      ]
     },
     "metadata": {
      "application/vnd.databricks.v1+output": {
       "addedWidgets": {},
       "aggData": [],
       "aggError": "",
       "aggOverflow": false,
       "aggSchema": [],
       "aggSeriesLimitReached": false,
       "aggType": "",
       "arguments": {},
       "columnCustomDisplayInfos": {},
       "data": [
        [
         "Torgersen",
         "39.1",
         "18.7",
         "181",
         "3750",
         "0"
        ],
        [
         "Torgersen",
         "39.5",
         "17.4",
         "186",
         "3800",
         "0"
        ],
        [
         "Torgersen",
         "40.3",
         "18",
         "195",
         "3250",
         "0"
        ],
        [
         "Torgersen",
         null,
         null,
         null,
         null,
         "0"
        ],
        [
         "Torgersen",
         "36.7",
         "19.3",
         "193",
         "3450",
         "0"
        ],
        [
         "Torgersen",
         "39.3",
         "20.6",
         "190",
         "3650",
         "0"
        ],
        [
         "Torgersen",
         "38.9",
         "17.8",
         "181",
         "3625",
         "0"
        ],
        [
         "Torgersen",
         "39.2",
         "19.6",
         "195",
         "4675",
         "0"
        ],
        [
         "Torgersen",
         "34.1",
         "18.1",
         "193",
         "3475",
         "0"
        ],
        [
         "Torgersen",
         "42",
         "20.2",
         "190",
         "4250",
         "0"
        ],
        [
         "Torgersen",
         "37.8",
         "17.1",
         "186",
         "3300",
         "0"
        ],
        [
         "Torgersen",
         "37.8",
         "17.3",
         "180",
         "3700",
         "0"
        ],
        [
         "Torgersen",
         "41.1",
         "17.6",
         "182",
         "3200",
         "0"
        ],
        [
         "Torgersen",
         "38.6",
         "21.2",
         "191",
         "3800",
         "0"
        ],
        [
         "Torgersen",
         "34.6",
         "21.1",
         "198",
         "4400",
         "0"
        ],
        [
         "Torgersen",
         "36.6",
         "17.8",
         "185",
         "3700",
         "0"
        ],
        [
         "Torgersen",
         "38.7",
         "19",
         "195",
         "3450",
         "0"
        ],
        [
         "Torgersen",
         "42.5",
         "20.7",
         "197",
         "4500",
         "0"
        ],
        [
         "Torgersen",
         "34.4",
         "18.4",
         "184",
         "3325",
         "0"
        ],
        [
         "Torgersen",
         "46",
         "21.5",
         "194",
         "4200",
         "0"
        ],
        [
         "Biscoe",
         "37.8",
         "18.3",
         "174",
         "3400",
         "0"
        ],
        [
         "Biscoe",
         "37.7",
         "18.7",
         "180",
         "3600",
         "0"
        ],
        [
         "Biscoe",
         "35.9",
         "19.2",
         "189",
         "3800",
         "0"
        ],
        [
         "Biscoe",
         "38.2",
         "18.1",
         "185",
         "3950",
         "0"
        ],
        [
         "Biscoe",
         "38.8",
         "17.2",
         "180",
         "3800",
         "0"
        ],
        [
         "Biscoe",
         "35.3",
         "18.9",
         "187",
         "3800",
         "0"
        ],
        [
         "Biscoe",
         "40.6",
         "18.6",
         "183",
         "3550",
         "0"
        ],
        [
         "Biscoe",
         "40.5",
         "17.9",
         "187",
         "3200",
         "0"
        ],
        [
         "Biscoe",
         "37.9",
         "18.6",
         "172",
         "3150",
         "0"
        ],
        [
         "Biscoe",
         "40.5",
         "18.9",
         "180",
         "3950",
         "0"
        ],
        [
         "Dream",
         "39.5",
         "16.7",
         "178",
         "3250",
         "0"
        ],
        [
         "Dream",
         "37.2",
         "18.1",
         "178",
         "3900",
         "0"
        ],
        [
         "Dream",
         "39.5",
         "17.8",
         "188",
         "3300",
         "0"
        ],
        [
         "Dream",
         "40.9",
         "18.9",
         "184",
         "3900",
         "0"
        ],
        [
         "Dream",
         "36.4",
         "17",
         "195",
         "3325",
         "0"
        ],
        [
         "Dream",
         "39.2",
         "21.1",
         "196",
         "4150",
         "0"
        ],
        [
         "Dream",
         "38.8",
         "20",
         "190",
         "3950",
         "0"
        ],
        [
         "Dream",
         "42.2",
         "18.5",
         "180",
         "3550",
         "0"
        ],
        [
         "Dream",
         "37.6",
         "19.3",
         "181",
         "3300",
         "0"
        ],
        [
         "Dream",
         "39.8",
         "19.1",
         "184",
         "4650",
         "0"
        ],
        [
         "Dream",
         "36.5",
         "18",
         "182",
         "3150",
         "0"
        ],
        [
         "Dream",
         "40.8",
         "18.4",
         "195",
         "3900",
         "0"
        ],
        [
         "Dream",
         "36",
         "18.5",
         "186",
         "3100",
         "0"
        ],
        [
         "Dream",
         "44.1",
         "19.7",
         "196",
         "4400",
         "0"
        ],
        [
         "Dream",
         "37",
         "16.9",
         "185",
         "3000",
         "0"
        ],
        [
         "Dream",
         "39.6",
         "18.8",
         "190",
         "4600",
         "0"
        ],
        [
         "Dream",
         "41.1",
         "19",
         "182",
         "3425",
         "0"
        ],
        [
         "Dream",
         "37.5",
         "18.9",
         "179",
         "2975",
         "0"
        ],
        [
         "Dream",
         "36",
         "17.9",
         "190",
         "3450",
         "0"
        ],
        [
         "Dream",
         "42.3",
         "21.2",
         "191",
         "4150",
         "0"
        ],
        [
         "Biscoe",
         "39.6",
         "17.7",
         "186",
         "3500",
         "0"
        ],
        [
         "Biscoe",
         "40.1",
         "18.9",
         "188",
         "4300",
         "0"
        ],
        [
         "Biscoe",
         "35",
         "17.9",
         "190",
         "3450",
         "0"
        ],
        [
         "Biscoe",
         "42",
         "19.5",
         "200",
         "4050",
         "0"
        ],
        [
         "Biscoe",
         "34.5",
         "18.1",
         "187",
         "2900",
         "0"
        ],
        [
         "Biscoe",
         "41.4",
         "18.6",
         "191",
         "3700",
         "0"
        ],
        [
         "Biscoe",
         "39",
         "17.5",
         "186",
         "3550",
         "0"
        ],
        [
         "Biscoe",
         "40.6",
         "18.8",
         "193",
         "3800",
         "0"
        ],
        [
         "Biscoe",
         "36.5",
         "16.6",
         "181",
         "2850",
         "0"
        ],
        [
         "Biscoe",
         "37.6",
         "19.1",
         "194",
         "3750",
         "0"
        ],
        [
         "Biscoe",
         "35.7",
         "16.9",
         "185",
         "3150",
         "0"
        ],
        [
         "Biscoe",
         "41.3",
         "21.1",
         "195",
         "4400",
         "0"
        ],
        [
         "Biscoe",
         "37.6",
         "17",
         "185",
         "3600",
         "0"
        ],
        [
         "Biscoe",
         "41.1",
         "18.2",
         "192",
         "4050",
         "0"
        ],
        [
         "Biscoe",
         "36.4",
         "17.1",
         "184",
         "2850",
         "0"
        ],
        [
         "Biscoe",
         "41.6",
         "18",
         "192",
         "3950",
         "0"
        ],
        [
         "Biscoe",
         "35.5",
         "16.2",
         "195",
         "3350",
         "0"
        ],
        [
         "Biscoe",
         "41.1",
         "19.1",
         "188",
         "4100",
         "0"
        ],
        [
         "Torgersen",
         "35.9",
         "16.6",
         "190",
         "3050",
         "0"
        ],
        [
         "Torgersen",
         "41.8",
         "19.4",
         "198",
         "4450",
         "0"
        ],
        [
         "Torgersen",
         "33.5",
         "19",
         "190",
         "3600",
         "0"
        ],
        [
         "Torgersen",
         "39.7",
         "18.4",
         "190",
         "3900",
         "0"
        ],
        [
         "Torgersen",
         "39.6",
         "17.2",
         "196",
         "3550",
         "0"
        ],
        [
         "Torgersen",
         "45.8",
         "18.9",
         "197",
         "4150",
         "0"
        ],
        [
         "Torgersen",
         "35.5",
         "17.5",
         "190",
         "3700",
         "0"
        ],
        [
         "Torgersen",
         "42.8",
         "18.5",
         "195",
         "4250",
         "0"
        ],
        [
         "Torgersen",
         "40.9",
         "16.8",
         "191",
         "3700",
         "0"
        ],
        [
         "Torgersen",
         "37.2",
         "19.4",
         "184",
         "3900",
         "0"
        ],
        [
         "Torgersen",
         "36.2",
         "16.1",
         "187",
         "3550",
         "0"
        ],
        [
         "Torgersen",
         "42.1",
         "19.1",
         "195",
         "4000",
         "0"
        ],
        [
         "Torgersen",
         "34.6",
         "17.2",
         "189",
         "3200",
         "0"
        ],
        [
         "Torgersen",
         "42.9",
         "17.6",
         "196",
         "4700",
         "0"
        ],
        [
         "Torgersen",
         "36.7",
         "18.8",
         "187",
         "3800",
         "0"
        ],
        [
         "Torgersen",
         "35.1",
         "19.4",
         "193",
         "4200",
         "0"
        ],
        [
         "Dream",
         "37.3",
         "17.8",
         "191",
         "3350",
         "0"
        ],
        [
         "Dream",
         "41.3",
         "20.3",
         "194",
         "3550",
         "0"
        ],
        [
         "Dream",
         "36.3",
         "19.5",
         "190",
         "3800",
         "0"
        ],
        [
         "Dream",
         "36.9",
         "18.6",
         "189",
         "3500",
         "0"
        ],
        [
         "Dream",
         "38.3",
         "19.2",
         "189",
         "3950",
         "0"
        ],
        [
         "Dream",
         "38.9",
         "18.8",
         "190",
         "3600",
         "0"
        ],
        [
         "Dream",
         "35.7",
         "18",
         "202",
         "3550",
         "0"
        ],
        [
         "Dream",
         "41.1",
         "18.1",
         "205",
         "4300",
         "0"
        ],
        [
         "Dream",
         "34",
         "17.1",
         "185",
         "3400",
         "0"
        ],
        [
         "Dream",
         "39.6",
         "18.1",
         "186",
         "4450",
         "0"
        ],
        [
         "Dream",
         "36.2",
         "17.3",
         "187",
         "3300",
         "0"
        ],
        [
         "Dream",
         "40.8",
         "18.9",
         "208",
         "4300",
         "0"
        ],
        [
         "Dream",
         "38.1",
         "18.6",
         "190",
         "3700",
         "0"
        ],
        [
         "Dream",
         "40.3",
         "18.5",
         "196",
         "4350",
         "0"
        ],
        [
         "Dream",
         "33.1",
         "16.1",
         "178",
         "2900",
         "0"
        ],
        [
         "Dream",
         "43.2",
         "18.5",
         "192",
         "4100",
         "0"
        ],
        [
         "Biscoe",
         "35",
         "17.9",
         "192",
         "3725",
         "0"
        ],
        [
         "Biscoe",
         "41",
         "20",
         "203",
         "4725",
         "0"
        ],
        [
         "Biscoe",
         "37.7",
         "16",
         "183",
         "3075",
         "0"
        ],
        [
         "Biscoe",
         "37.8",
         "20",
         "190",
         "4250",
         "0"
        ],
        [
         "Biscoe",
         "37.9",
         "18.6",
         "193",
         "2925",
         "0"
        ],
        [
         "Biscoe",
         "39.7",
         "18.9",
         "184",
         "3550",
         "0"
        ],
        [
         "Biscoe",
         "38.6",
         "17.2",
         "199",
         "3750",
         "0"
        ],
        [
         "Biscoe",
         "38.2",
         "20",
         "190",
         "3900",
         "0"
        ],
        [
         "Biscoe",
         "38.1",
         "17",
         "181",
         "3175",
         "0"
        ],
        [
         "Biscoe",
         "43.2",
         "19",
         "197",
         "4775",
         "0"
        ],
        [
         "Biscoe",
         "38.1",
         "16.5",
         "198",
         "3825",
         "0"
        ],
        [
         "Biscoe",
         "45.6",
         "20.3",
         "191",
         "4600",
         "0"
        ],
        [
         "Biscoe",
         "39.7",
         "17.7",
         "193",
         "3200",
         "0"
        ],
        [
         "Biscoe",
         "42.2",
         "19.5",
         "197",
         "4275",
         "0"
        ],
        [
         "Biscoe",
         "39.6",
         "20.7",
         "191",
         "3900",
         "0"
        ],
        [
         "Biscoe",
         "42.7",
         "18.3",
         "196",
         "4075",
         "0"
        ],
        [
         "Torgersen",
         "38.6",
         "17",
         "188",
         "2900",
         "0"
        ],
        [
         "Torgersen",
         "37.3",
         "20.5",
         "199",
         "3775",
         "0"
        ],
        [
         "Torgersen",
         "35.7",
         "17",
         "189",
         "3350",
         "0"
        ],
        [
         "Torgersen",
         "41.1",
         "18.6",
         "189",
         "3325",
         "0"
        ],
        [
         "Torgersen",
         "36.2",
         "17.2",
         "187",
         "3150",
         "0"
        ],
        [
         "Torgersen",
         "37.7",
         "19.8",
         "198",
         "3500",
         "0"
        ],
        [
         "Torgersen",
         "40.2",
         "17",
         "176",
         "3450",
         "0"
        ],
        [
         "Torgersen",
         "41.4",
         "18.5",
         "202",
         "3875",
         "0"
        ],
        [
         "Torgersen",
         "35.2",
         "15.9",
         "186",
         "3050",
         "0"
        ],
        [
         "Torgersen",
         "40.6",
         "19",
         "199",
         "4000",
         "0"
        ],
        [
         "Torgersen",
         "38.8",
         "17.6",
         "191",
         "3275",
         "0"
        ],
        [
         "Torgersen",
         "41.5",
         "18.3",
         "195",
         "4300",
         "0"
        ],
        [
         "Torgersen",
         "39",
         "17.1",
         "191",
         "3050",
         "0"
        ],
        [
         "Torgersen",
         "44.1",
         "18",
         "210",
         "4000",
         "0"
        ],
        [
         "Torgersen",
         "38.5",
         "17.9",
         "190",
         "3325",
         "0"
        ],
        [
         "Torgersen",
         "43.1",
         "19.2",
         "197",
         "3500",
         "0"
        ],
        [
         "Dream",
         "36.8",
         "18.5",
         "193",
         "3500",
         "0"
        ],
        [
         "Dream",
         "37.5",
         "18.5",
         "199",
         "4475",
         "0"
        ],
        [
         "Dream",
         "38.1",
         "17.6",
         "187",
         "3425",
         "0"
        ],
        [
         "Dream",
         "41.1",
         "17.5",
         "190",
         "3900",
         "0"
        ],
        [
         "Dream",
         "35.6",
         "17.5",
         "191",
         "3175",
         "0"
        ],
        [
         "Dream",
         "40.2",
         "20.1",
         "200",
         "3975",
         "0"
        ],
        [
         "Dream",
         "37",
         "16.5",
         "185",
         "3400",
         "0"
        ],
        [
         "Dream",
         "39.7",
         "17.9",
         "193",
         "4250",
         "0"
        ],
        [
         "Dream",
         "40.2",
         "17.1",
         "193",
         "3400",
         "0"
        ],
        [
         "Dream",
         "40.6",
         "17.2",
         "187",
         "3475",
         "0"
        ],
        [
         "Dream",
         "32.1",
         "15.5",
         "188",
         "3050",
         "0"
        ],
        [
         "Dream",
         "40.7",
         "17",
         "190",
         "3725",
         "0"
        ],
        [
         "Dream",
         "37.3",
         "16.8",
         "192",
         "3000",
         "0"
        ],
        [
         "Dream",
         "39",
         "18.7",
         "185",
         "3650",
         "0"
        ],
        [
         "Dream",
         "39.2",
         "18.6",
         "190",
         "4250",
         "0"
        ],
        [
         "Dream",
         "36.6",
         "18.4",
         "184",
         "3475",
         "0"
        ],
        [
         "Dream",
         "36",
         "17.8",
         "195",
         "3450",
         "0"
        ],
        [
         "Dream",
         "37.8",
         "18.1",
         "193",
         "3750",
         "0"
        ],
        [
         "Dream",
         "36",
         "17.1",
         "187",
         "3700",
         "0"
        ],
        [
         "Dream",
         "41.5",
         "18.5",
         "201",
         "4000",
         "0"
        ],
        [
         "Biscoe",
         "46.1",
         "13.2",
         "211",
         "4500",
         "1"
        ],
        [
         "Biscoe",
         "50",
         "16.3",
         "230",
         "5700",
         "1"
        ],
        [
         "Biscoe",
         "48.7",
         "14.1",
         "210",
         "4450",
         "1"
        ],
        [
         "Biscoe",
         "50",
         "15.2",
         "218",
         "5700",
         "1"
        ],
        [
         "Biscoe",
         "47.6",
         "14.5",
         "215",
         "5400",
         "1"
        ],
        [
         "Biscoe",
         "46.5",
         "13.5",
         "210",
         "4550",
         "1"
        ],
        [
         "Biscoe",
         "45.4",
         "14.6",
         "211",
         "4800",
         "1"
        ],
        [
         "Biscoe",
         "46.7",
         "15.3",
         "219",
         "5200",
         "1"
        ],
        [
         "Biscoe",
         "43.3",
         "13.4",
         "209",
         "4400",
         "1"
        ],
        [
         "Biscoe",
         "46.8",
         "15.4",
         "215",
         "5150",
         "1"
        ],
        [
         "Biscoe",
         "40.9",
         "13.7",
         "214",
         "4650",
         "1"
        ],
        [
         "Biscoe",
         "49",
         "16.1",
         "216",
         "5550",
         "1"
        ],
        [
         "Biscoe",
         "45.5",
         "13.7",
         "214",
         "4650",
         "1"
        ],
        [
         "Biscoe",
         "48.4",
         "14.6",
         "213",
         "5850",
         "1"
        ],
        [
         "Biscoe",
         "45.8",
         "14.6",
         "210",
         "4200",
         "1"
        ],
        [
         "Biscoe",
         "49.3",
         "15.7",
         "217",
         "5850",
         "1"
        ],
        [
         "Biscoe",
         "42",
         "13.5",
         "210",
         "4150",
         "1"
        ],
        [
         "Biscoe",
         "49.2",
         "15.2",
         "221",
         "6300",
         "1"
        ],
        [
         "Biscoe",
         "46.2",
         "14.5",
         "209",
         "4800",
         "1"
        ],
        [
         "Biscoe",
         "48.7",
         "15.1",
         "222",
         "5350",
         "1"
        ],
        [
         "Biscoe",
         "50.2",
         "14.3",
         "218",
         "5700",
         "1"
        ],
        [
         "Biscoe",
         "45.1",
         "14.5",
         "215",
         "5000",
         "1"
        ],
        [
         "Biscoe",
         "46.5",
         "14.5",
         "213",
         "4400",
         "1"
        ],
        [
         "Biscoe",
         "46.3",
         "15.8",
         "215",
         "5050",
         "1"
        ],
        [
         "Biscoe",
         "42.9",
         "13.1",
         "215",
         "5000",
         "1"
        ],
        [
         "Biscoe",
         "46.1",
         "15.1",
         "215",
         "5100",
         "1"
        ],
        [
         "Biscoe",
         "44.5",
         "14.3",
         "216",
         "4100",
         "1"
        ],
        [
         "Biscoe",
         "47.8",
         "15",
         "215",
         "5650",
         "1"
        ],
        [
         "Biscoe",
         "48.2",
         "14.3",
         "210",
         "4600",
         "1"
        ],
        [
         "Biscoe",
         "50",
         "15.3",
         "220",
         "5550",
         "1"
        ],
        [
         "Biscoe",
         "47.3",
         "15.3",
         "222",
         "5250",
         "1"
        ],
        [
         "Biscoe",
         "42.8",
         "14.2",
         "209",
         "4700",
         "1"
        ],
        [
         "Biscoe",
         "45.1",
         "14.5",
         "207",
         "5050",
         "1"
        ],
        [
         "Biscoe",
         "59.6",
         "17",
         "230",
         "6050",
         "1"
        ],
        [
         "Biscoe",
         "49.1",
         "14.8",
         "220",
         "5150",
         "1"
        ],
        [
         "Biscoe",
         "48.4",
         "16.3",
         "220",
         "5400",
         "1"
        ],
        [
         "Biscoe",
         "42.6",
         "13.7",
         "213",
         "4950",
         "1"
        ],
        [
         "Biscoe",
         "44.4",
         "17.3",
         "219",
         "5250",
         "1"
        ],
        [
         "Biscoe",
         "44",
         "13.6",
         "208",
         "4350",
         "1"
        ],
        [
         "Biscoe",
         "48.7",
         "15.7",
         "208",
         "5350",
         "1"
        ],
        [
         "Biscoe",
         "42.7",
         "13.7",
         "208",
         "3950",
         "1"
        ],
        [
         "Biscoe",
         "49.6",
         "16",
         "225",
         "5700",
         "1"
        ],
        [
         "Biscoe",
         "45.3",
         "13.7",
         "210",
         "4300",
         "1"
        ],
        [
         "Biscoe",
         "49.6",
         "15",
         "216",
         "4750",
         "1"
        ],
        [
         "Biscoe",
         "50.5",
         "15.9",
         "222",
         "5550",
         "1"
        ],
        [
         "Biscoe",
         "43.6",
         "13.9",
         "217",
         "4900",
         "1"
        ],
        [
         "Biscoe",
         "45.5",
         "13.9",
         "210",
         "4200",
         "1"
        ],
        [
         "Biscoe",
         "50.5",
         "15.9",
         "225",
         "5400",
         "1"
        ],
        [
         "Biscoe",
         "44.9",
         "13.3",
         "213",
         "5100",
         "1"
        ],
        [
         "Biscoe",
         "45.2",
         "15.8",
         "215",
         "5300",
         "1"
        ],
        [
         "Biscoe",
         "46.6",
         "14.2",
         "210",
         "4850",
         "1"
        ],
        [
         "Biscoe",
         "48.5",
         "14.1",
         "220",
         "5300",
         "1"
        ],
        [
         "Biscoe",
         "45.1",
         "14.4",
         "210",
         "4400",
         "1"
        ],
        [
         "Biscoe",
         "50.1",
         "15",
         "225",
         "5000",
         "1"
        ],
        [
         "Biscoe",
         "46.5",
         "14.4",
         "217",
         "4900",
         "1"
        ],
        [
         "Biscoe",
         "45",
         "15.4",
         "220",
         "5050",
         "1"
        ],
        [
         "Biscoe",
         "43.8",
         "13.9",
         "208",
         "4300",
         "1"
        ],
        [
         "Biscoe",
         "45.5",
         "15",
         "220",
         "5000",
         "1"
        ],
        [
         "Biscoe",
         "43.2",
         "14.5",
         "208",
         "4450",
         "1"
        ],
        [
         "Biscoe",
         "50.4",
         "15.3",
         "224",
         "5550",
         "1"
        ],
        [
         "Biscoe",
         "45.3",
         "13.8",
         "208",
         "4200",
         "1"
        ],
        [
         "Biscoe",
         "46.2",
         "14.9",
         "221",
         "5300",
         "1"
        ],
        [
         "Biscoe",
         "45.7",
         "13.9",
         "214",
         "4400",
         "1"
        ],
        [
         "Biscoe",
         "54.3",
         "15.7",
         "231",
         "5650",
         "1"
        ],
        [
         "Biscoe",
         "45.8",
         "14.2",
         "219",
         "4700",
         "1"
        ],
        [
         "Biscoe",
         "49.8",
         "16.8",
         "230",
         "5700",
         "1"
        ],
        [
         "Biscoe",
         "46.2",
         "14.4",
         "214",
         "4650",
         "1"
        ],
        [
         "Biscoe",
         "49.5",
         "16.2",
         "229",
         "5800",
         "1"
        ],
        [
         "Biscoe",
         "43.5",
         "14.2",
         "220",
         "4700",
         "1"
        ],
        [
         "Biscoe",
         "50.7",
         "15",
         "223",
         "5550",
         "1"
        ],
        [
         "Biscoe",
         "47.7",
         "15",
         "216",
         "4750",
         "1"
        ],
        [
         "Biscoe",
         "46.4",
         "15.6",
         "221",
         "5000",
         "1"
        ],
        [
         "Biscoe",
         "48.2",
         "15.6",
         "221",
         "5100",
         "1"
        ],
        [
         "Biscoe",
         "46.5",
         "14.8",
         "217",
         "5200",
         "1"
        ],
        [
         "Biscoe",
         "46.4",
         "15",
         "216",
         "4700",
         "1"
        ],
        [
         "Biscoe",
         "48.6",
         "16",
         "230",
         "5800",
         "1"
        ],
        [
         "Biscoe",
         "47.5",
         "14.2",
         "209",
         "4600",
         "1"
        ],
        [
         "Biscoe",
         "51.1",
         "16.3",
         "220",
         "6000",
         "1"
        ],
        [
         "Biscoe",
         "45.2",
         "13.8",
         "215",
         "4750",
         "1"
        ],
        [
         "Biscoe",
         "45.2",
         "16.4",
         "223",
         "5950",
         "1"
        ],
        [
         "Biscoe",
         "49.1",
         "14.5",
         "212",
         "4625",
         "1"
        ],
        [
         "Biscoe",
         "52.5",
         "15.6",
         "221",
         "5450",
         "1"
        ],
        [
         "Biscoe",
         "47.4",
         "14.6",
         "212",
         "4725",
         "1"
        ],
        [
         "Biscoe",
         "50",
         "15.9",
         "224",
         "5350",
         "1"
        ],
        [
         "Biscoe",
         "44.9",
         "13.8",
         "212",
         "4750",
         "1"
        ],
        [
         "Biscoe",
         "50.8",
         "17.3",
         "228",
         "5600",
         "1"
        ],
        [
         "Biscoe",
         "43.4",
         "14.4",
         "218",
         "4600",
         "1"
        ],
        [
         "Biscoe",
         "51.3",
         "14.2",
         "218",
         "5300",
         "1"
        ],
        [
         "Biscoe",
         "47.5",
         "14",
         "212",
         "4875",
         "1"
        ],
        [
         "Biscoe",
         "52.1",
         "17",
         "230",
         "5550",
         "1"
        ],
        [
         "Biscoe",
         "47.5",
         "15",
         "218",
         "4950",
         "1"
        ],
        [
         "Biscoe",
         "52.2",
         "17.1",
         "228",
         "5400",
         "1"
        ],
        [
         "Biscoe",
         "45.5",
         "14.5",
         "212",
         "4750",
         "1"
        ],
        [
         "Biscoe",
         "49.5",
         "16.1",
         "224",
         "5650",
         "1"
        ],
        [
         "Biscoe",
         "44.5",
         "14.7",
         "214",
         "4850",
         "1"
        ],
        [
         "Biscoe",
         "50.8",
         "15.7",
         "226",
         "5200",
         "1"
        ],
        [
         "Biscoe",
         "49.4",
         "15.8",
         "216",
         "4925",
         "1"
        ],
        [
         "Biscoe",
         "46.9",
         "14.6",
         "222",
         "4875",
         "1"
        ],
        [
         "Biscoe",
         "48.4",
         "14.4",
         "203",
         "4625",
         "1"
        ],
        [
         "Biscoe",
         "51.1",
         "16.5",
         "225",
         "5250",
         "1"
        ],
        [
         "Biscoe",
         "48.5",
         "15",
         "219",
         "4850",
         "1"
        ],
        [
         "Biscoe",
         "55.9",
         "17",
         "228",
         "5600",
         "1"
        ],
        [
         "Biscoe",
         "47.2",
         "15.5",
         "215",
         "4975",
         "1"
        ],
        [
         "Biscoe",
         "49.1",
         "15",
         "228",
         "5500",
         "1"
        ],
        [
         "Biscoe",
         "47.3",
         "13.8",
         "216",
         "4725",
         "1"
        ],
        [
         "Biscoe",
         "46.8",
         "16.1",
         "215",
         "5500",
         "1"
        ],
        [
         "Biscoe",
         "41.7",
         "14.7",
         "210",
         "4700",
         "1"
        ],
        [
         "Biscoe",
         "53.4",
         "15.8",
         "219",
         "5500",
         "1"
        ],
        [
         "Biscoe",
         "43.3",
         "14",
         "208",
         "4575",
         "1"
        ],
        [
         "Biscoe",
         "48.1",
         "15.1",
         "209",
         "5500",
         "1"
        ],
        [
         "Biscoe",
         "50.5",
         "15.2",
         "216",
         "5000",
         "1"
        ],
        [
         "Biscoe",
         "49.8",
         "15.9",
         "229",
         "5950",
         "1"
        ],
        [
         "Biscoe",
         "43.5",
         "15.2",
         "213",
         "4650",
         "1"
        ],
        [
         "Biscoe",
         "51.5",
         "16.3",
         "230",
         "5500",
         "1"
        ],
        [
         "Biscoe",
         "46.2",
         "14.1",
         "217",
         "4375",
         "1"
        ],
        [
         "Biscoe",
         "55.1",
         "16",
         "230",
         "5850",
         "1"
        ],
        [
         "Biscoe",
         "44.5",
         "15.7",
         "217",
         "4875",
         "1"
        ],
        [
         "Biscoe",
         "48.8",
         "16.2",
         "222",
         "6000",
         "1"
        ],
        [
         "Biscoe",
         "47.2",
         "13.7",
         "214",
         "4925",
         "1"
        ],
        [
         "Biscoe",
         null,
         null,
         null,
         null,
         "1"
        ],
        [
         "Biscoe",
         "46.8",
         "14.3",
         "215",
         "4850",
         "1"
        ],
        [
         "Biscoe",
         "50.4",
         "15.7",
         "222",
         "5750",
         "1"
        ],
        [
         "Biscoe",
         "45.2",
         "14.8",
         "212",
         "5200",
         "1"
        ],
        [
         "Biscoe",
         "49.9",
         "16.1",
         "213",
         "5400",
         "1"
        ],
        [
         "Dream",
         "46.5",
         "17.9",
         "192",
         "3500",
         "2"
        ],
        [
         "Dream",
         "50",
         "19.5",
         "196",
         "3900",
         "2"
        ],
        [
         "Dream",
         "51.3",
         "19.2",
         "193",
         "3650",
         "2"
        ],
        [
         "Dream",
         "45.4",
         "18.7",
         "188",
         "3525",
         "2"
        ],
        [
         "Dream",
         "52.7",
         "19.8",
         "197",
         "3725",
         "2"
        ],
        [
         "Dream",
         "45.2",
         "17.8",
         "198",
         "3950",
         "2"
        ],
        [
         "Dream",
         "46.1",
         "18.2",
         "178",
         "3250",
         "2"
        ],
        [
         "Dream",
         "51.3",
         "18.2",
         "197",
         "3750",
         "2"
        ],
        [
         "Dream",
         "46",
         "18.9",
         "195",
         "4150",
         "2"
        ],
        [
         "Dream",
         "51.3",
         "19.9",
         "198",
         "3700",
         "2"
        ],
        [
         "Dream",
         "46.6",
         "17.8",
         "193",
         "3800",
         "2"
        ],
        [
         "Dream",
         "51.7",
         "20.3",
         "194",
         "3775",
         "2"
        ],
        [
         "Dream",
         "47",
         "17.3",
         "185",
         "3700",
         "2"
        ],
        [
         "Dream",
         "52",
         "18.1",
         "201",
         "4050",
         "2"
        ],
        [
         "Dream",
         "45.9",
         "17.1",
         "190",
         "3575",
         "2"
        ],
        [
         "Dream",
         "50.5",
         "19.6",
         "201",
         "4050",
         "2"
        ],
        [
         "Dream",
         "50.3",
         "20",
         "197",
         "3300",
         "2"
        ],
        [
         "Dream",
         "58",
         "17.8",
         "181",
         "3700",
         "2"
        ],
        [
         "Dream",
         "46.4",
         "18.6",
         "190",
         "3450",
         "2"
        ],
        [
         "Dream",
         "49.2",
         "18.2",
         "195",
         "4400",
         "2"
        ],
        [
         "Dream",
         "42.4",
         "17.3",
         "181",
         "3600",
         "2"
        ],
        [
         "Dream",
         "48.5",
         "17.5",
         "191",
         "3400",
         "2"
        ],
        [
         "Dream",
         "43.2",
         "16.6",
         "187",
         "2900",
         "2"
        ],
        [
         "Dream",
         "50.6",
         "19.4",
         "193",
         "3800",
         "2"
        ],
        [
         "Dream",
         "46.7",
         "17.9",
         "195",
         "3300",
         "2"
        ],
        [
         "Dream",
         "52",
         "19",
         "197",
         "4150",
         "2"
        ],
        [
         "Dream",
         "50.5",
         "18.4",
         "200",
         "3400",
         "2"
        ],
        [
         "Dream",
         "49.5",
         "19",
         "200",
         "3800",
         "2"
        ],
        [
         "Dream",
         "46.4",
         "17.8",
         "191",
         "3700",
         "2"
        ],
        [
         "Dream",
         "52.8",
         "20",
         "205",
         "4550",
         "2"
        ],
        [
         "Dream",
         "40.9",
         "16.6",
         "187",
         "3200",
         "2"
        ],
        [
         "Dream",
         "54.2",
         "20.8",
         "201",
         "4300",
         "2"
        ],
        [
         "Dream",
         "42.5",
         "16.7",
         "187",
         "3350",
         "2"
        ],
        [
         "Dream",
         "51",
         "18.8",
         "203",
         "4100",
         "2"
        ],
        [
         "Dream",
         "49.7",
         "18.6",
         "195",
         "3600",
         "2"
        ],
        [
         "Dream",
         "47.5",
         "16.8",
         "199",
         "3900",
         "2"
        ],
        [
         "Dream",
         "47.6",
         "18.3",
         "195",
         "3850",
         "2"
        ],
        [
         "Dream",
         "52",
         "20.7",
         "210",
         "4800",
         "2"
        ],
        [
         "Dream",
         "46.9",
         "16.6",
         "192",
         "2700",
         "2"
        ],
        [
         "Dream",
         "53.5",
         "19.9",
         "205",
         "4500",
         "2"
        ],
        [
         "Dream",
         "49",
         "19.5",
         "210",
         "3950",
         "2"
        ],
        [
         "Dream",
         "46.2",
         "17.5",
         "187",
         "3650",
         "2"
        ],
        [
         "Dream",
         "50.9",
         "19.1",
         "196",
         "3550",
         "2"
        ],
        [
         "Dream",
         "45.5",
         "17",
         "196",
         "3500",
         "2"
        ],
        [
         "Dream",
         "50.9",
         "17.9",
         "196",
         "3675",
         "2"
        ],
        [
         "Dream",
         "50.8",
         "18.5",
         "201",
         "4450",
         "2"
        ],
        [
         "Dream",
         "50.1",
         "17.9",
         "190",
         "3400",
         "2"
        ],
        [
         "Dream",
         "49",
         "19.6",
         "212",
         "4300",
         "2"
        ],
        [
         "Dream",
         "51.5",
         "18.7",
         "187",
         "3250",
         "2"
        ],
        [
         "Dream",
         "49.8",
         "17.3",
         "198",
         "3675",
         "2"
        ],
        [
         "Dream",
         "48.1",
         "16.4",
         "199",
         "3325",
         "2"
        ],
        [
         "Dream",
         "51.4",
         "19",
         "201",
         "3950",
         "2"
        ],
        [
         "Dream",
         "45.7",
         "17.3",
         "193",
         "3600",
         "2"
        ],
        [
         "Dream",
         "50.7",
         "19.7",
         "203",
         "4050",
         "2"
        ],
        [
         "Dream",
         "42.5",
         "17.3",
         "187",
         "3350",
         "2"
        ],
        [
         "Dream",
         "52.2",
         "18.8",
         "197",
         "3450",
         "2"
        ],
        [
         "Dream",
         "45.2",
         "16.6",
         "191",
         "3250",
         "2"
        ],
        [
         "Dream",
         "49.3",
         "19.9",
         "203",
         "4050",
         "2"
        ],
        [
         "Dream",
         "50.2",
         "18.8",
         "202",
         "3800",
         "2"
        ],
        [
         "Dream",
         "45.6",
         "19.4",
         "194",
         "3525",
         "2"
        ],
        [
         "Dream",
         "51.9",
         "19.5",
         "206",
         "3950",
         "2"
        ],
        [
         "Dream",
         "46.8",
         "16.5",
         "189",
         "3650",
         "2"
        ],
        [
         "Dream",
         "45.7",
         "17",
         "195",
         "3650",
         "2"
        ],
        [
         "Dream",
         "55.8",
         "19.8",
         "207",
         "4000",
         "2"
        ],
        [
         "Dream",
         "43.5",
         "18.1",
         "202",
         "3400",
         "2"
        ],
        [
         "Dream",
         "49.6",
         "18.2",
         "193",
         "3775",
         "2"
        ],
        [
         "Dream",
         "50.8",
         "19",
         "210",
         "4100",
         "2"
        ],
        [
         "Dream",
         "50.2",
         "18.7",
         "198",
         "3775",
         "2"
        ]
       ],
       "datasetInfos": [],
       "dbfsResultPath": null,
       "isJsonSchema": true,
       "metadata": {},
       "overflow": false,
       "plotOptions": {
        "customPlotOptions": {},
        "displayType": "table",
        "pivotAggregation": null,
        "pivotColumns": null,
        "xColumns": null,
        "yColumns": null
       },
       "removedWidgets": [],
       "schema": [
        {
         "metadata": "{}",
         "name": "Island",
         "type": "\"string\""
        },
        {
         "metadata": "{}",
         "name": "CulmenLength",
         "type": "\"string\""
        },
        {
         "metadata": "{}",
         "name": "CulmenDepth",
         "type": "\"string\""
        },
        {
         "metadata": "{}",
         "name": "FlipperLength",
         "type": "\"string\""
        },
        {
         "metadata": "{}",
         "name": "BodyMass",
         "type": "\"string\""
        },
        {
         "metadata": "{}",
         "name": "Species",
         "type": "\"string\""
        }
       ],
       "type": "table"
      }
     },
     "output_type": "display_data"
    }
   ],
   "source": [
    "df = spark.read.format(\"csv\").option(\"header\", \"true\").load(\"/ml_lab/penguins.csv\")\n",
    "display(df)"
   ]
  },
  {
   "cell_type": "code",
   "execution_count": 0,
   "metadata": {
    "application/vnd.databricks.v1+cell": {
     "cellMetadata": {
      "byteLimit": 2048000,
      "rowLimit": 10000
     },
     "inputWidgets": {},
     "nuid": "f24ccbd2-779c-4dea-b22c-abfe4b74b387",
     "showTitle": false,
     "tableResultSettingsMap": {},
     "title": ""
    }
   },
   "outputs": [
    {
     "output_type": "display_data",
     "data": {
      "text/html": [
       "<style scoped>\n",
       "  .table-result-container {\n",
       "    max-height: 300px;\n",
       "    overflow: auto;\n",
       "  }\n",
       "  table, th, td {\n",
       "    border: 1px solid black;\n",
       "    border-collapse: collapse;\n",
       "  }\n",
       "  th, td {\n",
       "    padding: 5px;\n",
       "  }\n",
       "  th {\n",
       "    text-align: left;\n",
       "  }\n",
       "</style><div class='table-result-container'><table class='table-result'><thead style='background-color: white'><tr><th>Island</th><th>CulmenLength</th><th>CulmenDepth</th><th>FlipperLength</th><th>BodyMass</th><th>Species</th></tr></thead><tbody><tr><td>Torgersen</td><td>39.1</td><td>18.7</td><td>181.0</td><td>3750.0</td><td>0</td></tr><tr><td>Torgersen</td><td>39.5</td><td>17.4</td><td>186.0</td><td>3800.0</td><td>0</td></tr><tr><td>Torgersen</td><td>40.3</td><td>18.0</td><td>195.0</td><td>3250.0</td><td>0</td></tr><tr><td>Torgersen</td><td>36.7</td><td>19.3</td><td>193.0</td><td>3450.0</td><td>0</td></tr><tr><td>Torgersen</td><td>39.3</td><td>20.6</td><td>190.0</td><td>3650.0</td><td>0</td></tr><tr><td>Torgersen</td><td>38.9</td><td>17.8</td><td>181.0</td><td>3625.0</td><td>0</td></tr><tr><td>Torgersen</td><td>39.2</td><td>19.6</td><td>195.0</td><td>4675.0</td><td>0</td></tr><tr><td>Torgersen</td><td>34.1</td><td>18.1</td><td>193.0</td><td>3475.0</td><td>0</td></tr><tr><td>Torgersen</td><td>42.0</td><td>20.2</td><td>190.0</td><td>4250.0</td><td>0</td></tr><tr><td>Torgersen</td><td>37.8</td><td>17.1</td><td>186.0</td><td>3300.0</td><td>0</td></tr><tr><td>Torgersen</td><td>37.8</td><td>17.3</td><td>180.0</td><td>3700.0</td><td>0</td></tr><tr><td>Torgersen</td><td>41.1</td><td>17.6</td><td>182.0</td><td>3200.0</td><td>0</td></tr><tr><td>Torgersen</td><td>38.6</td><td>21.2</td><td>191.0</td><td>3800.0</td><td>0</td></tr><tr><td>Torgersen</td><td>34.6</td><td>21.1</td><td>198.0</td><td>4400.0</td><td>0</td></tr><tr><td>Torgersen</td><td>36.6</td><td>17.8</td><td>185.0</td><td>3700.0</td><td>0</td></tr><tr><td>Torgersen</td><td>38.7</td><td>19.0</td><td>195.0</td><td>3450.0</td><td>0</td></tr><tr><td>Torgersen</td><td>42.5</td><td>20.7</td><td>197.0</td><td>4500.0</td><td>0</td></tr><tr><td>Torgersen</td><td>34.4</td><td>18.4</td><td>184.0</td><td>3325.0</td><td>0</td></tr><tr><td>Torgersen</td><td>46.0</td><td>21.5</td><td>194.0</td><td>4200.0</td><td>0</td></tr><tr><td>Biscoe</td><td>37.8</td><td>18.3</td><td>174.0</td><td>3400.0</td><td>0</td></tr><tr><td>Biscoe</td><td>37.7</td><td>18.7</td><td>180.0</td><td>3600.0</td><td>0</td></tr><tr><td>Biscoe</td><td>35.9</td><td>19.2</td><td>189.0</td><td>3800.0</td><td>0</td></tr><tr><td>Biscoe</td><td>38.2</td><td>18.1</td><td>185.0</td><td>3950.0</td><td>0</td></tr><tr><td>Biscoe</td><td>38.8</td><td>17.2</td><td>180.0</td><td>3800.0</td><td>0</td></tr><tr><td>Biscoe</td><td>35.3</td><td>18.9</td><td>187.0</td><td>3800.0</td><td>0</td></tr><tr><td>Biscoe</td><td>40.6</td><td>18.6</td><td>183.0</td><td>3550.0</td><td>0</td></tr><tr><td>Biscoe</td><td>40.5</td><td>17.9</td><td>187.0</td><td>3200.0</td><td>0</td></tr><tr><td>Biscoe</td><td>37.9</td><td>18.6</td><td>172.0</td><td>3150.0</td><td>0</td></tr><tr><td>Biscoe</td><td>40.5</td><td>18.9</td><td>180.0</td><td>3950.0</td><td>0</td></tr><tr><td>Dream</td><td>39.5</td><td>16.7</td><td>178.0</td><td>3250.0</td><td>0</td></tr><tr><td>Dream</td><td>37.2</td><td>18.1</td><td>178.0</td><td>3900.0</td><td>0</td></tr><tr><td>Dream</td><td>39.5</td><td>17.8</td><td>188.0</td><td>3300.0</td><td>0</td></tr><tr><td>Dream</td><td>40.9</td><td>18.9</td><td>184.0</td><td>3900.0</td><td>0</td></tr><tr><td>Dream</td><td>36.4</td><td>17.0</td><td>195.0</td><td>3325.0</td><td>0</td></tr><tr><td>Dream</td><td>39.2</td><td>21.1</td><td>196.0</td><td>4150.0</td><td>0</td></tr><tr><td>Dream</td><td>38.8</td><td>20.0</td><td>190.0</td><td>3950.0</td><td>0</td></tr><tr><td>Dream</td><td>42.2</td><td>18.5</td><td>180.0</td><td>3550.0</td><td>0</td></tr><tr><td>Dream</td><td>37.6</td><td>19.3</td><td>181.0</td><td>3300.0</td><td>0</td></tr><tr><td>Dream</td><td>39.8</td><td>19.1</td><td>184.0</td><td>4650.0</td><td>0</td></tr><tr><td>Dream</td><td>36.5</td><td>18.0</td><td>182.0</td><td>3150.0</td><td>0</td></tr><tr><td>Dream</td><td>40.8</td><td>18.4</td><td>195.0</td><td>3900.0</td><td>0</td></tr><tr><td>Dream</td><td>36.0</td><td>18.5</td><td>186.0</td><td>3100.0</td><td>0</td></tr><tr><td>Dream</td><td>44.1</td><td>19.7</td><td>196.0</td><td>4400.0</td><td>0</td></tr><tr><td>Dream</td><td>37.0</td><td>16.9</td><td>185.0</td><td>3000.0</td><td>0</td></tr><tr><td>Dream</td><td>39.6</td><td>18.8</td><td>190.0</td><td>4600.0</td><td>0</td></tr><tr><td>Dream</td><td>41.1</td><td>19.0</td><td>182.0</td><td>3425.0</td><td>0</td></tr><tr><td>Dream</td><td>37.5</td><td>18.9</td><td>179.0</td><td>2975.0</td><td>0</td></tr><tr><td>Dream</td><td>36.0</td><td>17.9</td><td>190.0</td><td>3450.0</td><td>0</td></tr><tr><td>Dream</td><td>42.3</td><td>21.2</td><td>191.0</td><td>4150.0</td><td>0</td></tr><tr><td>Biscoe</td><td>39.6</td><td>17.7</td><td>186.0</td><td>3500.0</td><td>0</td></tr><tr><td>Biscoe</td><td>40.1</td><td>18.9</td><td>188.0</td><td>4300.0</td><td>0</td></tr><tr><td>Biscoe</td><td>35.0</td><td>17.9</td><td>190.0</td><td>3450.0</td><td>0</td></tr><tr><td>Biscoe</td><td>42.0</td><td>19.5</td><td>200.0</td><td>4050.0</td><td>0</td></tr><tr><td>Biscoe</td><td>34.5</td><td>18.1</td><td>187.0</td><td>2900.0</td><td>0</td></tr><tr><td>Biscoe</td><td>41.4</td><td>18.6</td><td>191.0</td><td>3700.0</td><td>0</td></tr><tr><td>Biscoe</td><td>39.0</td><td>17.5</td><td>186.0</td><td>3550.0</td><td>0</td></tr><tr><td>Biscoe</td><td>40.6</td><td>18.8</td><td>193.0</td><td>3800.0</td><td>0</td></tr><tr><td>Biscoe</td><td>36.5</td><td>16.6</td><td>181.0</td><td>2850.0</td><td>0</td></tr><tr><td>Biscoe</td><td>37.6</td><td>19.1</td><td>194.0</td><td>3750.0</td><td>0</td></tr><tr><td>Biscoe</td><td>35.7</td><td>16.9</td><td>185.0</td><td>3150.0</td><td>0</td></tr><tr><td>Biscoe</td><td>41.3</td><td>21.1</td><td>195.0</td><td>4400.0</td><td>0</td></tr><tr><td>Biscoe</td><td>37.6</td><td>17.0</td><td>185.0</td><td>3600.0</td><td>0</td></tr><tr><td>Biscoe</td><td>41.1</td><td>18.2</td><td>192.0</td><td>4050.0</td><td>0</td></tr><tr><td>Biscoe</td><td>36.4</td><td>17.1</td><td>184.0</td><td>2850.0</td><td>0</td></tr><tr><td>Biscoe</td><td>41.6</td><td>18.0</td><td>192.0</td><td>3950.0</td><td>0</td></tr><tr><td>Biscoe</td><td>35.5</td><td>16.2</td><td>195.0</td><td>3350.0</td><td>0</td></tr><tr><td>Biscoe</td><td>41.1</td><td>19.1</td><td>188.0</td><td>4100.0</td><td>0</td></tr><tr><td>Torgersen</td><td>35.9</td><td>16.6</td><td>190.0</td><td>3050.0</td><td>0</td></tr><tr><td>Torgersen</td><td>41.8</td><td>19.4</td><td>198.0</td><td>4450.0</td><td>0</td></tr><tr><td>Torgersen</td><td>33.5</td><td>19.0</td><td>190.0</td><td>3600.0</td><td>0</td></tr><tr><td>Torgersen</td><td>39.7</td><td>18.4</td><td>190.0</td><td>3900.0</td><td>0</td></tr><tr><td>Torgersen</td><td>39.6</td><td>17.2</td><td>196.0</td><td>3550.0</td><td>0</td></tr><tr><td>Torgersen</td><td>45.8</td><td>18.9</td><td>197.0</td><td>4150.0</td><td>0</td></tr><tr><td>Torgersen</td><td>35.5</td><td>17.5</td><td>190.0</td><td>3700.0</td><td>0</td></tr><tr><td>Torgersen</td><td>42.8</td><td>18.5</td><td>195.0</td><td>4250.0</td><td>0</td></tr><tr><td>Torgersen</td><td>40.9</td><td>16.8</td><td>191.0</td><td>3700.0</td><td>0</td></tr><tr><td>Torgersen</td><td>37.2</td><td>19.4</td><td>184.0</td><td>3900.0</td><td>0</td></tr><tr><td>Torgersen</td><td>36.2</td><td>16.1</td><td>187.0</td><td>3550.0</td><td>0</td></tr><tr><td>Torgersen</td><td>42.1</td><td>19.1</td><td>195.0</td><td>4000.0</td><td>0</td></tr><tr><td>Torgersen</td><td>34.6</td><td>17.2</td><td>189.0</td><td>3200.0</td><td>0</td></tr><tr><td>Torgersen</td><td>42.9</td><td>17.6</td><td>196.0</td><td>4700.0</td><td>0</td></tr><tr><td>Torgersen</td><td>36.7</td><td>18.8</td><td>187.0</td><td>3800.0</td><td>0</td></tr><tr><td>Torgersen</td><td>35.1</td><td>19.4</td><td>193.0</td><td>4200.0</td><td>0</td></tr><tr><td>Dream</td><td>37.3</td><td>17.8</td><td>191.0</td><td>3350.0</td><td>0</td></tr><tr><td>Dream</td><td>41.3</td><td>20.3</td><td>194.0</td><td>3550.0</td><td>0</td></tr><tr><td>Dream</td><td>36.3</td><td>19.5</td><td>190.0</td><td>3800.0</td><td>0</td></tr><tr><td>Dream</td><td>36.9</td><td>18.6</td><td>189.0</td><td>3500.0</td><td>0</td></tr><tr><td>Dream</td><td>38.3</td><td>19.2</td><td>189.0</td><td>3950.0</td><td>0</td></tr><tr><td>Dream</td><td>38.9</td><td>18.8</td><td>190.0</td><td>3600.0</td><td>0</td></tr><tr><td>Dream</td><td>35.7</td><td>18.0</td><td>202.0</td><td>3550.0</td><td>0</td></tr><tr><td>Dream</td><td>41.1</td><td>18.1</td><td>205.0</td><td>4300.0</td><td>0</td></tr><tr><td>Dream</td><td>34.0</td><td>17.1</td><td>185.0</td><td>3400.0</td><td>0</td></tr><tr><td>Dream</td><td>39.6</td><td>18.1</td><td>186.0</td><td>4450.0</td><td>0</td></tr><tr><td>Dream</td><td>36.2</td><td>17.3</td><td>187.0</td><td>3300.0</td><td>0</td></tr><tr><td>Dream</td><td>40.8</td><td>18.9</td><td>208.0</td><td>4300.0</td><td>0</td></tr><tr><td>Dream</td><td>38.1</td><td>18.6</td><td>190.0</td><td>3700.0</td><td>0</td></tr><tr><td>Dream</td><td>40.3</td><td>18.5</td><td>196.0</td><td>4350.0</td><td>0</td></tr><tr><td>Dream</td><td>33.1</td><td>16.1</td><td>178.0</td><td>2900.0</td><td>0</td></tr><tr><td>Dream</td><td>43.2</td><td>18.5</td><td>192.0</td><td>4100.0</td><td>0</td></tr><tr><td>Biscoe</td><td>35.0</td><td>17.9</td><td>192.0</td><td>3725.0</td><td>0</td></tr><tr><td>Biscoe</td><td>41.0</td><td>20.0</td><td>203.0</td><td>4725.0</td><td>0</td></tr><tr><td>Biscoe</td><td>37.7</td><td>16.0</td><td>183.0</td><td>3075.0</td><td>0</td></tr><tr><td>Biscoe</td><td>37.8</td><td>20.0</td><td>190.0</td><td>4250.0</td><td>0</td></tr><tr><td>Biscoe</td><td>37.9</td><td>18.6</td><td>193.0</td><td>2925.0</td><td>0</td></tr><tr><td>Biscoe</td><td>39.7</td><td>18.9</td><td>184.0</td><td>3550.0</td><td>0</td></tr><tr><td>Biscoe</td><td>38.6</td><td>17.2</td><td>199.0</td><td>3750.0</td><td>0</td></tr><tr><td>Biscoe</td><td>38.2</td><td>20.0</td><td>190.0</td><td>3900.0</td><td>0</td></tr><tr><td>Biscoe</td><td>38.1</td><td>17.0</td><td>181.0</td><td>3175.0</td><td>0</td></tr><tr><td>Biscoe</td><td>43.2</td><td>19.0</td><td>197.0</td><td>4775.0</td><td>0</td></tr><tr><td>Biscoe</td><td>38.1</td><td>16.5</td><td>198.0</td><td>3825.0</td><td>0</td></tr><tr><td>Biscoe</td><td>45.6</td><td>20.3</td><td>191.0</td><td>4600.0</td><td>0</td></tr><tr><td>Biscoe</td><td>39.7</td><td>17.7</td><td>193.0</td><td>3200.0</td><td>0</td></tr><tr><td>Biscoe</td><td>42.2</td><td>19.5</td><td>197.0</td><td>4275.0</td><td>0</td></tr><tr><td>Biscoe</td><td>39.6</td><td>20.7</td><td>191.0</td><td>3900.0</td><td>0</td></tr><tr><td>Biscoe</td><td>42.7</td><td>18.3</td><td>196.0</td><td>4075.0</td><td>0</td></tr><tr><td>Torgersen</td><td>38.6</td><td>17.0</td><td>188.0</td><td>2900.0</td><td>0</td></tr><tr><td>Torgersen</td><td>37.3</td><td>20.5</td><td>199.0</td><td>3775.0</td><td>0</td></tr><tr><td>Torgersen</td><td>35.7</td><td>17.0</td><td>189.0</td><td>3350.0</td><td>0</td></tr><tr><td>Torgersen</td><td>41.1</td><td>18.6</td><td>189.0</td><td>3325.0</td><td>0</td></tr><tr><td>Torgersen</td><td>36.2</td><td>17.2</td><td>187.0</td><td>3150.0</td><td>0</td></tr><tr><td>Torgersen</td><td>37.7</td><td>19.8</td><td>198.0</td><td>3500.0</td><td>0</td></tr><tr><td>Torgersen</td><td>40.2</td><td>17.0</td><td>176.0</td><td>3450.0</td><td>0</td></tr><tr><td>Torgersen</td><td>41.4</td><td>18.5</td><td>202.0</td><td>3875.0</td><td>0</td></tr><tr><td>Torgersen</td><td>35.2</td><td>15.9</td><td>186.0</td><td>3050.0</td><td>0</td></tr><tr><td>Torgersen</td><td>40.6</td><td>19.0</td><td>199.0</td><td>4000.0</td><td>0</td></tr><tr><td>Torgersen</td><td>38.8</td><td>17.6</td><td>191.0</td><td>3275.0</td><td>0</td></tr><tr><td>Torgersen</td><td>41.5</td><td>18.3</td><td>195.0</td><td>4300.0</td><td>0</td></tr><tr><td>Torgersen</td><td>39.0</td><td>17.1</td><td>191.0</td><td>3050.0</td><td>0</td></tr><tr><td>Torgersen</td><td>44.1</td><td>18.0</td><td>210.0</td><td>4000.0</td><td>0</td></tr><tr><td>Torgersen</td><td>38.5</td><td>17.9</td><td>190.0</td><td>3325.0</td><td>0</td></tr><tr><td>Torgersen</td><td>43.1</td><td>19.2</td><td>197.0</td><td>3500.0</td><td>0</td></tr><tr><td>Dream</td><td>36.8</td><td>18.5</td><td>193.0</td><td>3500.0</td><td>0</td></tr><tr><td>Dream</td><td>37.5</td><td>18.5</td><td>199.0</td><td>4475.0</td><td>0</td></tr><tr><td>Dream</td><td>38.1</td><td>17.6</td><td>187.0</td><td>3425.0</td><td>0</td></tr><tr><td>Dream</td><td>41.1</td><td>17.5</td><td>190.0</td><td>3900.0</td><td>0</td></tr><tr><td>Dream</td><td>35.6</td><td>17.5</td><td>191.0</td><td>3175.0</td><td>0</td></tr><tr><td>Dream</td><td>40.2</td><td>20.1</td><td>200.0</td><td>3975.0</td><td>0</td></tr><tr><td>Dream</td><td>37.0</td><td>16.5</td><td>185.0</td><td>3400.0</td><td>0</td></tr><tr><td>Dream</td><td>39.7</td><td>17.9</td><td>193.0</td><td>4250.0</td><td>0</td></tr><tr><td>Dream</td><td>40.2</td><td>17.1</td><td>193.0</td><td>3400.0</td><td>0</td></tr><tr><td>Dream</td><td>40.6</td><td>17.2</td><td>187.0</td><td>3475.0</td><td>0</td></tr><tr><td>Dream</td><td>32.1</td><td>15.5</td><td>188.0</td><td>3050.0</td><td>0</td></tr><tr><td>Dream</td><td>40.7</td><td>17.0</td><td>190.0</td><td>3725.0</td><td>0</td></tr><tr><td>Dream</td><td>37.3</td><td>16.8</td><td>192.0</td><td>3000.0</td><td>0</td></tr><tr><td>Dream</td><td>39.0</td><td>18.7</td><td>185.0</td><td>3650.0</td><td>0</td></tr><tr><td>Dream</td><td>39.2</td><td>18.6</td><td>190.0</td><td>4250.0</td><td>0</td></tr><tr><td>Dream</td><td>36.6</td><td>18.4</td><td>184.0</td><td>3475.0</td><td>0</td></tr><tr><td>Dream</td><td>36.0</td><td>17.8</td><td>195.0</td><td>3450.0</td><td>0</td></tr><tr><td>Dream</td><td>37.8</td><td>18.1</td><td>193.0</td><td>3750.0</td><td>0</td></tr><tr><td>Dream</td><td>36.0</td><td>17.1</td><td>187.0</td><td>3700.0</td><td>0</td></tr><tr><td>Dream</td><td>41.5</td><td>18.5</td><td>201.0</td><td>4000.0</td><td>0</td></tr><tr><td>Biscoe</td><td>46.1</td><td>13.2</td><td>211.0</td><td>4500.0</td><td>1</td></tr><tr><td>Biscoe</td><td>50.0</td><td>16.3</td><td>230.0</td><td>5700.0</td><td>1</td></tr><tr><td>Biscoe</td><td>48.7</td><td>14.1</td><td>210.0</td><td>4450.0</td><td>1</td></tr><tr><td>Biscoe</td><td>50.0</td><td>15.2</td><td>218.0</td><td>5700.0</td><td>1</td></tr><tr><td>Biscoe</td><td>47.6</td><td>14.5</td><td>215.0</td><td>5400.0</td><td>1</td></tr><tr><td>Biscoe</td><td>46.5</td><td>13.5</td><td>210.0</td><td>4550.0</td><td>1</td></tr><tr><td>Biscoe</td><td>45.4</td><td>14.6</td><td>211.0</td><td>4800.0</td><td>1</td></tr><tr><td>Biscoe</td><td>46.7</td><td>15.3</td><td>219.0</td><td>5200.0</td><td>1</td></tr><tr><td>Biscoe</td><td>43.3</td><td>13.4</td><td>209.0</td><td>4400.0</td><td>1</td></tr><tr><td>Biscoe</td><td>46.8</td><td>15.4</td><td>215.0</td><td>5150.0</td><td>1</td></tr><tr><td>Biscoe</td><td>40.9</td><td>13.7</td><td>214.0</td><td>4650.0</td><td>1</td></tr><tr><td>Biscoe</td><td>49.0</td><td>16.1</td><td>216.0</td><td>5550.0</td><td>1</td></tr><tr><td>Biscoe</td><td>45.5</td><td>13.7</td><td>214.0</td><td>4650.0</td><td>1</td></tr><tr><td>Biscoe</td><td>48.4</td><td>14.6</td><td>213.0</td><td>5850.0</td><td>1</td></tr><tr><td>Biscoe</td><td>45.8</td><td>14.6</td><td>210.0</td><td>4200.0</td><td>1</td></tr><tr><td>Biscoe</td><td>49.3</td><td>15.7</td><td>217.0</td><td>5850.0</td><td>1</td></tr><tr><td>Biscoe</td><td>42.0</td><td>13.5</td><td>210.0</td><td>4150.0</td><td>1</td></tr><tr><td>Biscoe</td><td>49.2</td><td>15.2</td><td>221.0</td><td>6300.0</td><td>1</td></tr><tr><td>Biscoe</td><td>46.2</td><td>14.5</td><td>209.0</td><td>4800.0</td><td>1</td></tr><tr><td>Biscoe</td><td>48.7</td><td>15.1</td><td>222.0</td><td>5350.0</td><td>1</td></tr><tr><td>Biscoe</td><td>50.2</td><td>14.3</td><td>218.0</td><td>5700.0</td><td>1</td></tr><tr><td>Biscoe</td><td>45.1</td><td>14.5</td><td>215.0</td><td>5000.0</td><td>1</td></tr><tr><td>Biscoe</td><td>46.5</td><td>14.5</td><td>213.0</td><td>4400.0</td><td>1</td></tr><tr><td>Biscoe</td><td>46.3</td><td>15.8</td><td>215.0</td><td>5050.0</td><td>1</td></tr><tr><td>Biscoe</td><td>42.9</td><td>13.1</td><td>215.0</td><td>5000.0</td><td>1</td></tr><tr><td>Biscoe</td><td>46.1</td><td>15.1</td><td>215.0</td><td>5100.0</td><td>1</td></tr><tr><td>Biscoe</td><td>44.5</td><td>14.3</td><td>216.0</td><td>4100.0</td><td>1</td></tr><tr><td>Biscoe</td><td>47.8</td><td>15.0</td><td>215.0</td><td>5650.0</td><td>1</td></tr><tr><td>Biscoe</td><td>48.2</td><td>14.3</td><td>210.0</td><td>4600.0</td><td>1</td></tr><tr><td>Biscoe</td><td>50.0</td><td>15.3</td><td>220.0</td><td>5550.0</td><td>1</td></tr><tr><td>Biscoe</td><td>47.3</td><td>15.3</td><td>222.0</td><td>5250.0</td><td>1</td></tr><tr><td>Biscoe</td><td>42.8</td><td>14.2</td><td>209.0</td><td>4700.0</td><td>1</td></tr><tr><td>Biscoe</td><td>45.1</td><td>14.5</td><td>207.0</td><td>5050.0</td><td>1</td></tr><tr><td>Biscoe</td><td>59.6</td><td>17.0</td><td>230.0</td><td>6050.0</td><td>1</td></tr><tr><td>Biscoe</td><td>49.1</td><td>14.8</td><td>220.0</td><td>5150.0</td><td>1</td></tr><tr><td>Biscoe</td><td>48.4</td><td>16.3</td><td>220.0</td><td>5400.0</td><td>1</td></tr><tr><td>Biscoe</td><td>42.6</td><td>13.7</td><td>213.0</td><td>4950.0</td><td>1</td></tr><tr><td>Biscoe</td><td>44.4</td><td>17.3</td><td>219.0</td><td>5250.0</td><td>1</td></tr><tr><td>Biscoe</td><td>44.0</td><td>13.6</td><td>208.0</td><td>4350.0</td><td>1</td></tr><tr><td>Biscoe</td><td>48.7</td><td>15.7</td><td>208.0</td><td>5350.0</td><td>1</td></tr><tr><td>Biscoe</td><td>42.7</td><td>13.7</td><td>208.0</td><td>3950.0</td><td>1</td></tr><tr><td>Biscoe</td><td>49.6</td><td>16.0</td><td>225.0</td><td>5700.0</td><td>1</td></tr><tr><td>Biscoe</td><td>45.3</td><td>13.7</td><td>210.0</td><td>4300.0</td><td>1</td></tr><tr><td>Biscoe</td><td>49.6</td><td>15.0</td><td>216.0</td><td>4750.0</td><td>1</td></tr><tr><td>Biscoe</td><td>50.5</td><td>15.9</td><td>222.0</td><td>5550.0</td><td>1</td></tr><tr><td>Biscoe</td><td>43.6</td><td>13.9</td><td>217.0</td><td>4900.0</td><td>1</td></tr><tr><td>Biscoe</td><td>45.5</td><td>13.9</td><td>210.0</td><td>4200.0</td><td>1</td></tr><tr><td>Biscoe</td><td>50.5</td><td>15.9</td><td>225.0</td><td>5400.0</td><td>1</td></tr><tr><td>Biscoe</td><td>44.9</td><td>13.3</td><td>213.0</td><td>5100.0</td><td>1</td></tr><tr><td>Biscoe</td><td>45.2</td><td>15.8</td><td>215.0</td><td>5300.0</td><td>1</td></tr><tr><td>Biscoe</td><td>46.6</td><td>14.2</td><td>210.0</td><td>4850.0</td><td>1</td></tr><tr><td>Biscoe</td><td>48.5</td><td>14.1</td><td>220.0</td><td>5300.0</td><td>1</td></tr><tr><td>Biscoe</td><td>45.1</td><td>14.4</td><td>210.0</td><td>4400.0</td><td>1</td></tr><tr><td>Biscoe</td><td>50.1</td><td>15.0</td><td>225.0</td><td>5000.0</td><td>1</td></tr><tr><td>Biscoe</td><td>46.5</td><td>14.4</td><td>217.0</td><td>4900.0</td><td>1</td></tr><tr><td>Biscoe</td><td>45.0</td><td>15.4</td><td>220.0</td><td>5050.0</td><td>1</td></tr><tr><td>Biscoe</td><td>43.8</td><td>13.9</td><td>208.0</td><td>4300.0</td><td>1</td></tr><tr><td>Biscoe</td><td>45.5</td><td>15.0</td><td>220.0</td><td>5000.0</td><td>1</td></tr><tr><td>Biscoe</td><td>43.2</td><td>14.5</td><td>208.0</td><td>4450.0</td><td>1</td></tr><tr><td>Biscoe</td><td>50.4</td><td>15.3</td><td>224.0</td><td>5550.0</td><td>1</td></tr><tr><td>Biscoe</td><td>45.3</td><td>13.8</td><td>208.0</td><td>4200.0</td><td>1</td></tr><tr><td>Biscoe</td><td>46.2</td><td>14.9</td><td>221.0</td><td>5300.0</td><td>1</td></tr><tr><td>Biscoe</td><td>45.7</td><td>13.9</td><td>214.0</td><td>4400.0</td><td>1</td></tr><tr><td>Biscoe</td><td>54.3</td><td>15.7</td><td>231.0</td><td>5650.0</td><td>1</td></tr><tr><td>Biscoe</td><td>45.8</td><td>14.2</td><td>219.0</td><td>4700.0</td><td>1</td></tr><tr><td>Biscoe</td><td>49.8</td><td>16.8</td><td>230.0</td><td>5700.0</td><td>1</td></tr><tr><td>Biscoe</td><td>46.2</td><td>14.4</td><td>214.0</td><td>4650.0</td><td>1</td></tr><tr><td>Biscoe</td><td>49.5</td><td>16.2</td><td>229.0</td><td>5800.0</td><td>1</td></tr><tr><td>Biscoe</td><td>43.5</td><td>14.2</td><td>220.0</td><td>4700.0</td><td>1</td></tr><tr><td>Biscoe</td><td>50.7</td><td>15.0</td><td>223.0</td><td>5550.0</td><td>1</td></tr><tr><td>Biscoe</td><td>47.7</td><td>15.0</td><td>216.0</td><td>4750.0</td><td>1</td></tr><tr><td>Biscoe</td><td>46.4</td><td>15.6</td><td>221.0</td><td>5000.0</td><td>1</td></tr><tr><td>Biscoe</td><td>48.2</td><td>15.6</td><td>221.0</td><td>5100.0</td><td>1</td></tr><tr><td>Biscoe</td><td>46.5</td><td>14.8</td><td>217.0</td><td>5200.0</td><td>1</td></tr><tr><td>Biscoe</td><td>46.4</td><td>15.0</td><td>216.0</td><td>4700.0</td><td>1</td></tr><tr><td>Biscoe</td><td>48.6</td><td>16.0</td><td>230.0</td><td>5800.0</td><td>1</td></tr><tr><td>Biscoe</td><td>47.5</td><td>14.2</td><td>209.0</td><td>4600.0</td><td>1</td></tr><tr><td>Biscoe</td><td>51.1</td><td>16.3</td><td>220.0</td><td>6000.0</td><td>1</td></tr><tr><td>Biscoe</td><td>45.2</td><td>13.8</td><td>215.0</td><td>4750.0</td><td>1</td></tr><tr><td>Biscoe</td><td>45.2</td><td>16.4</td><td>223.0</td><td>5950.0</td><td>1</td></tr><tr><td>Biscoe</td><td>49.1</td><td>14.5</td><td>212.0</td><td>4625.0</td><td>1</td></tr><tr><td>Biscoe</td><td>52.5</td><td>15.6</td><td>221.0</td><td>5450.0</td><td>1</td></tr><tr><td>Biscoe</td><td>47.4</td><td>14.6</td><td>212.0</td><td>4725.0</td><td>1</td></tr><tr><td>Biscoe</td><td>50.0</td><td>15.9</td><td>224.0</td><td>5350.0</td><td>1</td></tr><tr><td>Biscoe</td><td>44.9</td><td>13.8</td><td>212.0</td><td>4750.0</td><td>1</td></tr><tr><td>Biscoe</td><td>50.8</td><td>17.3</td><td>228.0</td><td>5600.0</td><td>1</td></tr><tr><td>Biscoe</td><td>43.4</td><td>14.4</td><td>218.0</td><td>4600.0</td><td>1</td></tr><tr><td>Biscoe</td><td>51.3</td><td>14.2</td><td>218.0</td><td>5300.0</td><td>1</td></tr><tr><td>Biscoe</td><td>47.5</td><td>14.0</td><td>212.0</td><td>4875.0</td><td>1</td></tr><tr><td>Biscoe</td><td>52.1</td><td>17.0</td><td>230.0</td><td>5550.0</td><td>1</td></tr><tr><td>Biscoe</td><td>47.5</td><td>15.0</td><td>218.0</td><td>4950.0</td><td>1</td></tr><tr><td>Biscoe</td><td>52.2</td><td>17.1</td><td>228.0</td><td>5400.0</td><td>1</td></tr><tr><td>Biscoe</td><td>45.5</td><td>14.5</td><td>212.0</td><td>4750.0</td><td>1</td></tr><tr><td>Biscoe</td><td>49.5</td><td>16.1</td><td>224.0</td><td>5650.0</td><td>1</td></tr><tr><td>Biscoe</td><td>44.5</td><td>14.7</td><td>214.0</td><td>4850.0</td><td>1</td></tr><tr><td>Biscoe</td><td>50.8</td><td>15.7</td><td>226.0</td><td>5200.0</td><td>1</td></tr><tr><td>Biscoe</td><td>49.4</td><td>15.8</td><td>216.0</td><td>4925.0</td><td>1</td></tr><tr><td>Biscoe</td><td>46.9</td><td>14.6</td><td>222.0</td><td>4875.0</td><td>1</td></tr><tr><td>Biscoe</td><td>48.4</td><td>14.4</td><td>203.0</td><td>4625.0</td><td>1</td></tr><tr><td>Biscoe</td><td>51.1</td><td>16.5</td><td>225.0</td><td>5250.0</td><td>1</td></tr><tr><td>Biscoe</td><td>48.5</td><td>15.0</td><td>219.0</td><td>4850.0</td><td>1</td></tr><tr><td>Biscoe</td><td>55.9</td><td>17.0</td><td>228.0</td><td>5600.0</td><td>1</td></tr><tr><td>Biscoe</td><td>47.2</td><td>15.5</td><td>215.0</td><td>4975.0</td><td>1</td></tr><tr><td>Biscoe</td><td>49.1</td><td>15.0</td><td>228.0</td><td>5500.0</td><td>1</td></tr><tr><td>Biscoe</td><td>47.3</td><td>13.8</td><td>216.0</td><td>4725.0</td><td>1</td></tr><tr><td>Biscoe</td><td>46.8</td><td>16.1</td><td>215.0</td><td>5500.0</td><td>1</td></tr><tr><td>Biscoe</td><td>41.7</td><td>14.7</td><td>210.0</td><td>4700.0</td><td>1</td></tr><tr><td>Biscoe</td><td>53.4</td><td>15.8</td><td>219.0</td><td>5500.0</td><td>1</td></tr><tr><td>Biscoe</td><td>43.3</td><td>14.0</td><td>208.0</td><td>4575.0</td><td>1</td></tr><tr><td>Biscoe</td><td>48.1</td><td>15.1</td><td>209.0</td><td>5500.0</td><td>1</td></tr><tr><td>Biscoe</td><td>50.5</td><td>15.2</td><td>216.0</td><td>5000.0</td><td>1</td></tr><tr><td>Biscoe</td><td>49.8</td><td>15.9</td><td>229.0</td><td>5950.0</td><td>1</td></tr><tr><td>Biscoe</td><td>43.5</td><td>15.2</td><td>213.0</td><td>4650.0</td><td>1</td></tr><tr><td>Biscoe</td><td>51.5</td><td>16.3</td><td>230.0</td><td>5500.0</td><td>1</td></tr><tr><td>Biscoe</td><td>46.2</td><td>14.1</td><td>217.0</td><td>4375.0</td><td>1</td></tr><tr><td>Biscoe</td><td>55.1</td><td>16.0</td><td>230.0</td><td>5850.0</td><td>1</td></tr><tr><td>Biscoe</td><td>44.5</td><td>15.7</td><td>217.0</td><td>4875.0</td><td>1</td></tr><tr><td>Biscoe</td><td>48.8</td><td>16.2</td><td>222.0</td><td>6000.0</td><td>1</td></tr><tr><td>Biscoe</td><td>47.2</td><td>13.7</td><td>214.0</td><td>4925.0</td><td>1</td></tr><tr><td>Biscoe</td><td>46.8</td><td>14.3</td><td>215.0</td><td>4850.0</td><td>1</td></tr><tr><td>Biscoe</td><td>50.4</td><td>15.7</td><td>222.0</td><td>5750.0</td><td>1</td></tr><tr><td>Biscoe</td><td>45.2</td><td>14.8</td><td>212.0</td><td>5200.0</td><td>1</td></tr><tr><td>Biscoe</td><td>49.9</td><td>16.1</td><td>213.0</td><td>5400.0</td><td>1</td></tr><tr><td>Dream</td><td>46.5</td><td>17.9</td><td>192.0</td><td>3500.0</td><td>2</td></tr><tr><td>Dream</td><td>50.0</td><td>19.5</td><td>196.0</td><td>3900.0</td><td>2</td></tr><tr><td>Dream</td><td>51.3</td><td>19.2</td><td>193.0</td><td>3650.0</td><td>2</td></tr><tr><td>Dream</td><td>45.4</td><td>18.7</td><td>188.0</td><td>3525.0</td><td>2</td></tr><tr><td>Dream</td><td>52.7</td><td>19.8</td><td>197.0</td><td>3725.0</td><td>2</td></tr><tr><td>Dream</td><td>45.2</td><td>17.8</td><td>198.0</td><td>3950.0</td><td>2</td></tr><tr><td>Dream</td><td>46.1</td><td>18.2</td><td>178.0</td><td>3250.0</td><td>2</td></tr><tr><td>Dream</td><td>51.3</td><td>18.2</td><td>197.0</td><td>3750.0</td><td>2</td></tr><tr><td>Dream</td><td>46.0</td><td>18.9</td><td>195.0</td><td>4150.0</td><td>2</td></tr><tr><td>Dream</td><td>51.3</td><td>19.9</td><td>198.0</td><td>3700.0</td><td>2</td></tr><tr><td>Dream</td><td>46.6</td><td>17.8</td><td>193.0</td><td>3800.0</td><td>2</td></tr><tr><td>Dream</td><td>51.7</td><td>20.3</td><td>194.0</td><td>3775.0</td><td>2</td></tr><tr><td>Dream</td><td>47.0</td><td>17.3</td><td>185.0</td><td>3700.0</td><td>2</td></tr><tr><td>Dream</td><td>52.0</td><td>18.1</td><td>201.0</td><td>4050.0</td><td>2</td></tr><tr><td>Dream</td><td>45.9</td><td>17.1</td><td>190.0</td><td>3575.0</td><td>2</td></tr><tr><td>Dream</td><td>50.5</td><td>19.6</td><td>201.0</td><td>4050.0</td><td>2</td></tr><tr><td>Dream</td><td>50.3</td><td>20.0</td><td>197.0</td><td>3300.0</td><td>2</td></tr><tr><td>Dream</td><td>58.0</td><td>17.8</td><td>181.0</td><td>3700.0</td><td>2</td></tr><tr><td>Dream</td><td>46.4</td><td>18.6</td><td>190.0</td><td>3450.0</td><td>2</td></tr><tr><td>Dream</td><td>49.2</td><td>18.2</td><td>195.0</td><td>4400.0</td><td>2</td></tr><tr><td>Dream</td><td>42.4</td><td>17.3</td><td>181.0</td><td>3600.0</td><td>2</td></tr><tr><td>Dream</td><td>48.5</td><td>17.5</td><td>191.0</td><td>3400.0</td><td>2</td></tr><tr><td>Dream</td><td>43.2</td><td>16.6</td><td>187.0</td><td>2900.0</td><td>2</td></tr><tr><td>Dream</td><td>50.6</td><td>19.4</td><td>193.0</td><td>3800.0</td><td>2</td></tr><tr><td>Dream</td><td>46.7</td><td>17.9</td><td>195.0</td><td>3300.0</td><td>2</td></tr><tr><td>Dream</td><td>52.0</td><td>19.0</td><td>197.0</td><td>4150.0</td><td>2</td></tr><tr><td>Dream</td><td>50.5</td><td>18.4</td><td>200.0</td><td>3400.0</td><td>2</td></tr><tr><td>Dream</td><td>49.5</td><td>19.0</td><td>200.0</td><td>3800.0</td><td>2</td></tr><tr><td>Dream</td><td>46.4</td><td>17.8</td><td>191.0</td><td>3700.0</td><td>2</td></tr><tr><td>Dream</td><td>52.8</td><td>20.0</td><td>205.0</td><td>4550.0</td><td>2</td></tr><tr><td>Dream</td><td>40.9</td><td>16.6</td><td>187.0</td><td>3200.0</td><td>2</td></tr><tr><td>Dream</td><td>54.2</td><td>20.8</td><td>201.0</td><td>4300.0</td><td>2</td></tr><tr><td>Dream</td><td>42.5</td><td>16.7</td><td>187.0</td><td>3350.0</td><td>2</td></tr><tr><td>Dream</td><td>51.0</td><td>18.8</td><td>203.0</td><td>4100.0</td><td>2</td></tr><tr><td>Dream</td><td>49.7</td><td>18.6</td><td>195.0</td><td>3600.0</td><td>2</td></tr><tr><td>Dream</td><td>47.5</td><td>16.8</td><td>199.0</td><td>3900.0</td><td>2</td></tr><tr><td>Dream</td><td>47.6</td><td>18.3</td><td>195.0</td><td>3850.0</td><td>2</td></tr><tr><td>Dream</td><td>52.0</td><td>20.7</td><td>210.0</td><td>4800.0</td><td>2</td></tr><tr><td>Dream</td><td>46.9</td><td>16.6</td><td>192.0</td><td>2700.0</td><td>2</td></tr><tr><td>Dream</td><td>53.5</td><td>19.9</td><td>205.0</td><td>4500.0</td><td>2</td></tr><tr><td>Dream</td><td>49.0</td><td>19.5</td><td>210.0</td><td>3950.0</td><td>2</td></tr><tr><td>Dream</td><td>46.2</td><td>17.5</td><td>187.0</td><td>3650.0</td><td>2</td></tr><tr><td>Dream</td><td>50.9</td><td>19.1</td><td>196.0</td><td>3550.0</td><td>2</td></tr><tr><td>Dream</td><td>45.5</td><td>17.0</td><td>196.0</td><td>3500.0</td><td>2</td></tr><tr><td>Dream</td><td>50.9</td><td>17.9</td><td>196.0</td><td>3675.0</td><td>2</td></tr><tr><td>Dream</td><td>50.8</td><td>18.5</td><td>201.0</td><td>4450.0</td><td>2</td></tr><tr><td>Dream</td><td>50.1</td><td>17.9</td><td>190.0</td><td>3400.0</td><td>2</td></tr><tr><td>Dream</td><td>49.0</td><td>19.6</td><td>212.0</td><td>4300.0</td><td>2</td></tr><tr><td>Dream</td><td>51.5</td><td>18.7</td><td>187.0</td><td>3250.0</td><td>2</td></tr><tr><td>Dream</td><td>49.8</td><td>17.3</td><td>198.0</td><td>3675.0</td><td>2</td></tr><tr><td>Dream</td><td>48.1</td><td>16.4</td><td>199.0</td><td>3325.0</td><td>2</td></tr><tr><td>Dream</td><td>51.4</td><td>19.0</td><td>201.0</td><td>3950.0</td><td>2</td></tr><tr><td>Dream</td><td>45.7</td><td>17.3</td><td>193.0</td><td>3600.0</td><td>2</td></tr><tr><td>Dream</td><td>50.7</td><td>19.7</td><td>203.0</td><td>4050.0</td><td>2</td></tr><tr><td>Dream</td><td>42.5</td><td>17.3</td><td>187.0</td><td>3350.0</td><td>2</td></tr><tr><td>Dream</td><td>52.2</td><td>18.8</td><td>197.0</td><td>3450.0</td><td>2</td></tr><tr><td>Dream</td><td>45.2</td><td>16.6</td><td>191.0</td><td>3250.0</td><td>2</td></tr><tr><td>Dream</td><td>49.3</td><td>19.9</td><td>203.0</td><td>4050.0</td><td>2</td></tr><tr><td>Dream</td><td>50.2</td><td>18.8</td><td>202.0</td><td>3800.0</td><td>2</td></tr><tr><td>Dream</td><td>45.6</td><td>19.4</td><td>194.0</td><td>3525.0</td><td>2</td></tr><tr><td>Dream</td><td>51.9</td><td>19.5</td><td>206.0</td><td>3950.0</td><td>2</td></tr><tr><td>Dream</td><td>46.8</td><td>16.5</td><td>189.0</td><td>3650.0</td><td>2</td></tr><tr><td>Dream</td><td>45.7</td><td>17.0</td><td>195.0</td><td>3650.0</td><td>2</td></tr><tr><td>Dream</td><td>55.8</td><td>19.8</td><td>207.0</td><td>4000.0</td><td>2</td></tr><tr><td>Dream</td><td>43.5</td><td>18.1</td><td>202.0</td><td>3400.0</td><td>2</td></tr><tr><td>Dream</td><td>49.6</td><td>18.2</td><td>193.0</td><td>3775.0</td><td>2</td></tr><tr><td>Dream</td><td>50.8</td><td>19.0</td><td>210.0</td><td>4100.0</td><td>2</td></tr><tr><td>Dream</td><td>50.2</td><td>18.7</td><td>198.0</td><td>3775.0</td><td>2</td></tr></tbody></table></div>"
      ]
     },
     "metadata": {
      "application/vnd.databricks.v1+output": {
       "addedWidgets": {},
       "aggData": [],
       "aggError": "",
       "aggOverflow": false,
       "aggSchema": [],
       "aggSeriesLimitReached": false,
       "aggType": "",
       "arguments": {},
       "columnCustomDisplayInfos": {},
       "data": [
        [
         "Torgersen",
         39.1,
         18.7,
         181.0,
         3750.0,
         0
        ],
        [
         "Torgersen",
         39.5,
         17.4,
         186.0,
         3800.0,
         0
        ],
        [
         "Torgersen",
         40.3,
         18.0,
         195.0,
         3250.0,
         0
        ],
        [
         "Torgersen",
         36.7,
         19.3,
         193.0,
         3450.0,
         0
        ],
        [
         "Torgersen",
         39.3,
         20.6,
         190.0,
         3650.0,
         0
        ],
        [
         "Torgersen",
         38.9,
         17.8,
         181.0,
         3625.0,
         0
        ],
        [
         "Torgersen",
         39.2,
         19.6,
         195.0,
         4675.0,
         0
        ],
        [
         "Torgersen",
         34.1,
         18.1,
         193.0,
         3475.0,
         0
        ],
        [
         "Torgersen",
         42.0,
         20.2,
         190.0,
         4250.0,
         0
        ],
        [
         "Torgersen",
         37.8,
         17.1,
         186.0,
         3300.0,
         0
        ],
        [
         "Torgersen",
         37.8,
         17.3,
         180.0,
         3700.0,
         0
        ],
        [
         "Torgersen",
         41.1,
         17.6,
         182.0,
         3200.0,
         0
        ],
        [
         "Torgersen",
         38.6,
         21.2,
         191.0,
         3800.0,
         0
        ],
        [
         "Torgersen",
         34.6,
         21.1,
         198.0,
         4400.0,
         0
        ],
        [
         "Torgersen",
         36.6,
         17.8,
         185.0,
         3700.0,
         0
        ],
        [
         "Torgersen",
         38.7,
         19.0,
         195.0,
         3450.0,
         0
        ],
        [
         "Torgersen",
         42.5,
         20.7,
         197.0,
         4500.0,
         0
        ],
        [
         "Torgersen",
         34.4,
         18.4,
         184.0,
         3325.0,
         0
        ],
        [
         "Torgersen",
         46.0,
         21.5,
         194.0,
         4200.0,
         0
        ],
        [
         "Biscoe",
         37.8,
         18.3,
         174.0,
         3400.0,
         0
        ],
        [
         "Biscoe",
         37.7,
         18.7,
         180.0,
         3600.0,
         0
        ],
        [
         "Biscoe",
         35.9,
         19.2,
         189.0,
         3800.0,
         0
        ],
        [
         "Biscoe",
         38.2,
         18.1,
         185.0,
         3950.0,
         0
        ],
        [
         "Biscoe",
         38.8,
         17.2,
         180.0,
         3800.0,
         0
        ],
        [
         "Biscoe",
         35.3,
         18.9,
         187.0,
         3800.0,
         0
        ],
        [
         "Biscoe",
         40.6,
         18.6,
         183.0,
         3550.0,
         0
        ],
        [
         "Biscoe",
         40.5,
         17.9,
         187.0,
         3200.0,
         0
        ],
        [
         "Biscoe",
         37.9,
         18.6,
         172.0,
         3150.0,
         0
        ],
        [
         "Biscoe",
         40.5,
         18.9,
         180.0,
         3950.0,
         0
        ],
        [
         "Dream",
         39.5,
         16.7,
         178.0,
         3250.0,
         0
        ],
        [
         "Dream",
         37.2,
         18.1,
         178.0,
         3900.0,
         0
        ],
        [
         "Dream",
         39.5,
         17.8,
         188.0,
         3300.0,
         0
        ],
        [
         "Dream",
         40.9,
         18.9,
         184.0,
         3900.0,
         0
        ],
        [
         "Dream",
         36.4,
         17.0,
         195.0,
         3325.0,
         0
        ],
        [
         "Dream",
         39.2,
         21.1,
         196.0,
         4150.0,
         0
        ],
        [
         "Dream",
         38.8,
         20.0,
         190.0,
         3950.0,
         0
        ],
        [
         "Dream",
         42.2,
         18.5,
         180.0,
         3550.0,
         0
        ],
        [
         "Dream",
         37.6,
         19.3,
         181.0,
         3300.0,
         0
        ],
        [
         "Dream",
         39.8,
         19.1,
         184.0,
         4650.0,
         0
        ],
        [
         "Dream",
         36.5,
         18.0,
         182.0,
         3150.0,
         0
        ],
        [
         "Dream",
         40.8,
         18.4,
         195.0,
         3900.0,
         0
        ],
        [
         "Dream",
         36.0,
         18.5,
         186.0,
         3100.0,
         0
        ],
        [
         "Dream",
         44.1,
         19.7,
         196.0,
         4400.0,
         0
        ],
        [
         "Dream",
         37.0,
         16.9,
         185.0,
         3000.0,
         0
        ],
        [
         "Dream",
         39.6,
         18.8,
         190.0,
         4600.0,
         0
        ],
        [
         "Dream",
         41.1,
         19.0,
         182.0,
         3425.0,
         0
        ],
        [
         "Dream",
         37.5,
         18.9,
         179.0,
         2975.0,
         0
        ],
        [
         "Dream",
         36.0,
         17.9,
         190.0,
         3450.0,
         0
        ],
        [
         "Dream",
         42.3,
         21.2,
         191.0,
         4150.0,
         0
        ],
        [
         "Biscoe",
         39.6,
         17.7,
         186.0,
         3500.0,
         0
        ],
        [
         "Biscoe",
         40.1,
         18.9,
         188.0,
         4300.0,
         0
        ],
        [
         "Biscoe",
         35.0,
         17.9,
         190.0,
         3450.0,
         0
        ],
        [
         "Biscoe",
         42.0,
         19.5,
         200.0,
         4050.0,
         0
        ],
        [
         "Biscoe",
         34.5,
         18.1,
         187.0,
         2900.0,
         0
        ],
        [
         "Biscoe",
         41.4,
         18.6,
         191.0,
         3700.0,
         0
        ],
        [
         "Biscoe",
         39.0,
         17.5,
         186.0,
         3550.0,
         0
        ],
        [
         "Biscoe",
         40.6,
         18.8,
         193.0,
         3800.0,
         0
        ],
        [
         "Biscoe",
         36.5,
         16.6,
         181.0,
         2850.0,
         0
        ],
        [
         "Biscoe",
         37.6,
         19.1,
         194.0,
         3750.0,
         0
        ],
        [
         "Biscoe",
         35.7,
         16.9,
         185.0,
         3150.0,
         0
        ],
        [
         "Biscoe",
         41.3,
         21.1,
         195.0,
         4400.0,
         0
        ],
        [
         "Biscoe",
         37.6,
         17.0,
         185.0,
         3600.0,
         0
        ],
        [
         "Biscoe",
         41.1,
         18.2,
         192.0,
         4050.0,
         0
        ],
        [
         "Biscoe",
         36.4,
         17.1,
         184.0,
         2850.0,
         0
        ],
        [
         "Biscoe",
         41.6,
         18.0,
         192.0,
         3950.0,
         0
        ],
        [
         "Biscoe",
         35.5,
         16.2,
         195.0,
         3350.0,
         0
        ],
        [
         "Biscoe",
         41.1,
         19.1,
         188.0,
         4100.0,
         0
        ],
        [
         "Torgersen",
         35.9,
         16.6,
         190.0,
         3050.0,
         0
        ],
        [
         "Torgersen",
         41.8,
         19.4,
         198.0,
         4450.0,
         0
        ],
        [
         "Torgersen",
         33.5,
         19.0,
         190.0,
         3600.0,
         0
        ],
        [
         "Torgersen",
         39.7,
         18.4,
         190.0,
         3900.0,
         0
        ],
        [
         "Torgersen",
         39.6,
         17.2,
         196.0,
         3550.0,
         0
        ],
        [
         "Torgersen",
         45.8,
         18.9,
         197.0,
         4150.0,
         0
        ],
        [
         "Torgersen",
         35.5,
         17.5,
         190.0,
         3700.0,
         0
        ],
        [
         "Torgersen",
         42.8,
         18.5,
         195.0,
         4250.0,
         0
        ],
        [
         "Torgersen",
         40.9,
         16.8,
         191.0,
         3700.0,
         0
        ],
        [
         "Torgersen",
         37.2,
         19.4,
         184.0,
         3900.0,
         0
        ],
        [
         "Torgersen",
         36.2,
         16.1,
         187.0,
         3550.0,
         0
        ],
        [
         "Torgersen",
         42.1,
         19.1,
         195.0,
         4000.0,
         0
        ],
        [
         "Torgersen",
         34.6,
         17.2,
         189.0,
         3200.0,
         0
        ],
        [
         "Torgersen",
         42.9,
         17.6,
         196.0,
         4700.0,
         0
        ],
        [
         "Torgersen",
         36.7,
         18.8,
         187.0,
         3800.0,
         0
        ],
        [
         "Torgersen",
         35.1,
         19.4,
         193.0,
         4200.0,
         0
        ],
        [
         "Dream",
         37.3,
         17.8,
         191.0,
         3350.0,
         0
        ],
        [
         "Dream",
         41.3,
         20.3,
         194.0,
         3550.0,
         0
        ],
        [
         "Dream",
         36.3,
         19.5,
         190.0,
         3800.0,
         0
        ],
        [
         "Dream",
         36.9,
         18.6,
         189.0,
         3500.0,
         0
        ],
        [
         "Dream",
         38.3,
         19.2,
         189.0,
         3950.0,
         0
        ],
        [
         "Dream",
         38.9,
         18.8,
         190.0,
         3600.0,
         0
        ],
        [
         "Dream",
         35.7,
         18.0,
         202.0,
         3550.0,
         0
        ],
        [
         "Dream",
         41.1,
         18.1,
         205.0,
         4300.0,
         0
        ],
        [
         "Dream",
         34.0,
         17.1,
         185.0,
         3400.0,
         0
        ],
        [
         "Dream",
         39.6,
         18.1,
         186.0,
         4450.0,
         0
        ],
        [
         "Dream",
         36.2,
         17.3,
         187.0,
         3300.0,
         0
        ],
        [
         "Dream",
         40.8,
         18.9,
         208.0,
         4300.0,
         0
        ],
        [
         "Dream",
         38.1,
         18.6,
         190.0,
         3700.0,
         0
        ],
        [
         "Dream",
         40.3,
         18.5,
         196.0,
         4350.0,
         0
        ],
        [
         "Dream",
         33.1,
         16.1,
         178.0,
         2900.0,
         0
        ],
        [
         "Dream",
         43.2,
         18.5,
         192.0,
         4100.0,
         0
        ],
        [
         "Biscoe",
         35.0,
         17.9,
         192.0,
         3725.0,
         0
        ],
        [
         "Biscoe",
         41.0,
         20.0,
         203.0,
         4725.0,
         0
        ],
        [
         "Biscoe",
         37.7,
         16.0,
         183.0,
         3075.0,
         0
        ],
        [
         "Biscoe",
         37.8,
         20.0,
         190.0,
         4250.0,
         0
        ],
        [
         "Biscoe",
         37.9,
         18.6,
         193.0,
         2925.0,
         0
        ],
        [
         "Biscoe",
         39.7,
         18.9,
         184.0,
         3550.0,
         0
        ],
        [
         "Biscoe",
         38.6,
         17.2,
         199.0,
         3750.0,
         0
        ],
        [
         "Biscoe",
         38.2,
         20.0,
         190.0,
         3900.0,
         0
        ],
        [
         "Biscoe",
         38.1,
         17.0,
         181.0,
         3175.0,
         0
        ],
        [
         "Biscoe",
         43.2,
         19.0,
         197.0,
         4775.0,
         0
        ],
        [
         "Biscoe",
         38.1,
         16.5,
         198.0,
         3825.0,
         0
        ],
        [
         "Biscoe",
         45.6,
         20.3,
         191.0,
         4600.0,
         0
        ],
        [
         "Biscoe",
         39.7,
         17.7,
         193.0,
         3200.0,
         0
        ],
        [
         "Biscoe",
         42.2,
         19.5,
         197.0,
         4275.0,
         0
        ],
        [
         "Biscoe",
         39.6,
         20.7,
         191.0,
         3900.0,
         0
        ],
        [
         "Biscoe",
         42.7,
         18.3,
         196.0,
         4075.0,
         0
        ],
        [
         "Torgersen",
         38.6,
         17.0,
         188.0,
         2900.0,
         0
        ],
        [
         "Torgersen",
         37.3,
         20.5,
         199.0,
         3775.0,
         0
        ],
        [
         "Torgersen",
         35.7,
         17.0,
         189.0,
         3350.0,
         0
        ],
        [
         "Torgersen",
         41.1,
         18.6,
         189.0,
         3325.0,
         0
        ],
        [
         "Torgersen",
         36.2,
         17.2,
         187.0,
         3150.0,
         0
        ],
        [
         "Torgersen",
         37.7,
         19.8,
         198.0,
         3500.0,
         0
        ],
        [
         "Torgersen",
         40.2,
         17.0,
         176.0,
         3450.0,
         0
        ],
        [
         "Torgersen",
         41.4,
         18.5,
         202.0,
         3875.0,
         0
        ],
        [
         "Torgersen",
         35.2,
         15.9,
         186.0,
         3050.0,
         0
        ],
        [
         "Torgersen",
         40.6,
         19.0,
         199.0,
         4000.0,
         0
        ],
        [
         "Torgersen",
         38.8,
         17.6,
         191.0,
         3275.0,
         0
        ],
        [
         "Torgersen",
         41.5,
         18.3,
         195.0,
         4300.0,
         0
        ],
        [
         "Torgersen",
         39.0,
         17.1,
         191.0,
         3050.0,
         0
        ],
        [
         "Torgersen",
         44.1,
         18.0,
         210.0,
         4000.0,
         0
        ],
        [
         "Torgersen",
         38.5,
         17.9,
         190.0,
         3325.0,
         0
        ],
        [
         "Torgersen",
         43.1,
         19.2,
         197.0,
         3500.0,
         0
        ],
        [
         "Dream",
         36.8,
         18.5,
         193.0,
         3500.0,
         0
        ],
        [
         "Dream",
         37.5,
         18.5,
         199.0,
         4475.0,
         0
        ],
        [
         "Dream",
         38.1,
         17.6,
         187.0,
         3425.0,
         0
        ],
        [
         "Dream",
         41.1,
         17.5,
         190.0,
         3900.0,
         0
        ],
        [
         "Dream",
         35.6,
         17.5,
         191.0,
         3175.0,
         0
        ],
        [
         "Dream",
         40.2,
         20.1,
         200.0,
         3975.0,
         0
        ],
        [
         "Dream",
         37.0,
         16.5,
         185.0,
         3400.0,
         0
        ],
        [
         "Dream",
         39.7,
         17.9,
         193.0,
         4250.0,
         0
        ],
        [
         "Dream",
         40.2,
         17.1,
         193.0,
         3400.0,
         0
        ],
        [
         "Dream",
         40.6,
         17.2,
         187.0,
         3475.0,
         0
        ],
        [
         "Dream",
         32.1,
         15.5,
         188.0,
         3050.0,
         0
        ],
        [
         "Dream",
         40.7,
         17.0,
         190.0,
         3725.0,
         0
        ],
        [
         "Dream",
         37.3,
         16.8,
         192.0,
         3000.0,
         0
        ],
        [
         "Dream",
         39.0,
         18.7,
         185.0,
         3650.0,
         0
        ],
        [
         "Dream",
         39.2,
         18.6,
         190.0,
         4250.0,
         0
        ],
        [
         "Dream",
         36.6,
         18.4,
         184.0,
         3475.0,
         0
        ],
        [
         "Dream",
         36.0,
         17.8,
         195.0,
         3450.0,
         0
        ],
        [
         "Dream",
         37.8,
         18.1,
         193.0,
         3750.0,
         0
        ],
        [
         "Dream",
         36.0,
         17.1,
         187.0,
         3700.0,
         0
        ],
        [
         "Dream",
         41.5,
         18.5,
         201.0,
         4000.0,
         0
        ],
        [
         "Biscoe",
         46.1,
         13.2,
         211.0,
         4500.0,
         1
        ],
        [
         "Biscoe",
         50.0,
         16.3,
         230.0,
         5700.0,
         1
        ],
        [
         "Biscoe",
         48.7,
         14.1,
         210.0,
         4450.0,
         1
        ],
        [
         "Biscoe",
         50.0,
         15.2,
         218.0,
         5700.0,
         1
        ],
        [
         "Biscoe",
         47.6,
         14.5,
         215.0,
         5400.0,
         1
        ],
        [
         "Biscoe",
         46.5,
         13.5,
         210.0,
         4550.0,
         1
        ],
        [
         "Biscoe",
         45.4,
         14.6,
         211.0,
         4800.0,
         1
        ],
        [
         "Biscoe",
         46.7,
         15.3,
         219.0,
         5200.0,
         1
        ],
        [
         "Biscoe",
         43.3,
         13.4,
         209.0,
         4400.0,
         1
        ],
        [
         "Biscoe",
         46.8,
         15.4,
         215.0,
         5150.0,
         1
        ],
        [
         "Biscoe",
         40.9,
         13.7,
         214.0,
         4650.0,
         1
        ],
        [
         "Biscoe",
         49.0,
         16.1,
         216.0,
         5550.0,
         1
        ],
        [
         "Biscoe",
         45.5,
         13.7,
         214.0,
         4650.0,
         1
        ],
        [
         "Biscoe",
         48.4,
         14.6,
         213.0,
         5850.0,
         1
        ],
        [
         "Biscoe",
         45.8,
         14.6,
         210.0,
         4200.0,
         1
        ],
        [
         "Biscoe",
         49.3,
         15.7,
         217.0,
         5850.0,
         1
        ],
        [
         "Biscoe",
         42.0,
         13.5,
         210.0,
         4150.0,
         1
        ],
        [
         "Biscoe",
         49.2,
         15.2,
         221.0,
         6300.0,
         1
        ],
        [
         "Biscoe",
         46.2,
         14.5,
         209.0,
         4800.0,
         1
        ],
        [
         "Biscoe",
         48.7,
         15.1,
         222.0,
         5350.0,
         1
        ],
        [
         "Biscoe",
         50.2,
         14.3,
         218.0,
         5700.0,
         1
        ],
        [
         "Biscoe",
         45.1,
         14.5,
         215.0,
         5000.0,
         1
        ],
        [
         "Biscoe",
         46.5,
         14.5,
         213.0,
         4400.0,
         1
        ],
        [
         "Biscoe",
         46.3,
         15.8,
         215.0,
         5050.0,
         1
        ],
        [
         "Biscoe",
         42.9,
         13.1,
         215.0,
         5000.0,
         1
        ],
        [
         "Biscoe",
         46.1,
         15.1,
         215.0,
         5100.0,
         1
        ],
        [
         "Biscoe",
         44.5,
         14.3,
         216.0,
         4100.0,
         1
        ],
        [
         "Biscoe",
         47.8,
         15.0,
         215.0,
         5650.0,
         1
        ],
        [
         "Biscoe",
         48.2,
         14.3,
         210.0,
         4600.0,
         1
        ],
        [
         "Biscoe",
         50.0,
         15.3,
         220.0,
         5550.0,
         1
        ],
        [
         "Biscoe",
         47.3,
         15.3,
         222.0,
         5250.0,
         1
        ],
        [
         "Biscoe",
         42.8,
         14.2,
         209.0,
         4700.0,
         1
        ],
        [
         "Biscoe",
         45.1,
         14.5,
         207.0,
         5050.0,
         1
        ],
        [
         "Biscoe",
         59.6,
         17.0,
         230.0,
         6050.0,
         1
        ],
        [
         "Biscoe",
         49.1,
         14.8,
         220.0,
         5150.0,
         1
        ],
        [
         "Biscoe",
         48.4,
         16.3,
         220.0,
         5400.0,
         1
        ],
        [
         "Biscoe",
         42.6,
         13.7,
         213.0,
         4950.0,
         1
        ],
        [
         "Biscoe",
         44.4,
         17.3,
         219.0,
         5250.0,
         1
        ],
        [
         "Biscoe",
         44.0,
         13.6,
         208.0,
         4350.0,
         1
        ],
        [
         "Biscoe",
         48.7,
         15.7,
         208.0,
         5350.0,
         1
        ],
        [
         "Biscoe",
         42.7,
         13.7,
         208.0,
         3950.0,
         1
        ],
        [
         "Biscoe",
         49.6,
         16.0,
         225.0,
         5700.0,
         1
        ],
        [
         "Biscoe",
         45.3,
         13.7,
         210.0,
         4300.0,
         1
        ],
        [
         "Biscoe",
         49.6,
         15.0,
         216.0,
         4750.0,
         1
        ],
        [
         "Biscoe",
         50.5,
         15.9,
         222.0,
         5550.0,
         1
        ],
        [
         "Biscoe",
         43.6,
         13.9,
         217.0,
         4900.0,
         1
        ],
        [
         "Biscoe",
         45.5,
         13.9,
         210.0,
         4200.0,
         1
        ],
        [
         "Biscoe",
         50.5,
         15.9,
         225.0,
         5400.0,
         1
        ],
        [
         "Biscoe",
         44.9,
         13.3,
         213.0,
         5100.0,
         1
        ],
        [
         "Biscoe",
         45.2,
         15.8,
         215.0,
         5300.0,
         1
        ],
        [
         "Biscoe",
         46.6,
         14.2,
         210.0,
         4850.0,
         1
        ],
        [
         "Biscoe",
         48.5,
         14.1,
         220.0,
         5300.0,
         1
        ],
        [
         "Biscoe",
         45.1,
         14.4,
         210.0,
         4400.0,
         1
        ],
        [
         "Biscoe",
         50.1,
         15.0,
         225.0,
         5000.0,
         1
        ],
        [
         "Biscoe",
         46.5,
         14.4,
         217.0,
         4900.0,
         1
        ],
        [
         "Biscoe",
         45.0,
         15.4,
         220.0,
         5050.0,
         1
        ],
        [
         "Biscoe",
         43.8,
         13.9,
         208.0,
         4300.0,
         1
        ],
        [
         "Biscoe",
         45.5,
         15.0,
         220.0,
         5000.0,
         1
        ],
        [
         "Biscoe",
         43.2,
         14.5,
         208.0,
         4450.0,
         1
        ],
        [
         "Biscoe",
         50.4,
         15.3,
         224.0,
         5550.0,
         1
        ],
        [
         "Biscoe",
         45.3,
         13.8,
         208.0,
         4200.0,
         1
        ],
        [
         "Biscoe",
         46.2,
         14.9,
         221.0,
         5300.0,
         1
        ],
        [
         "Biscoe",
         45.7,
         13.9,
         214.0,
         4400.0,
         1
        ],
        [
         "Biscoe",
         54.3,
         15.7,
         231.0,
         5650.0,
         1
        ],
        [
         "Biscoe",
         45.8,
         14.2,
         219.0,
         4700.0,
         1
        ],
        [
         "Biscoe",
         49.8,
         16.8,
         230.0,
         5700.0,
         1
        ],
        [
         "Biscoe",
         46.2,
         14.4,
         214.0,
         4650.0,
         1
        ],
        [
         "Biscoe",
         49.5,
         16.2,
         229.0,
         5800.0,
         1
        ],
        [
         "Biscoe",
         43.5,
         14.2,
         220.0,
         4700.0,
         1
        ],
        [
         "Biscoe",
         50.7,
         15.0,
         223.0,
         5550.0,
         1
        ],
        [
         "Biscoe",
         47.7,
         15.0,
         216.0,
         4750.0,
         1
        ],
        [
         "Biscoe",
         46.4,
         15.6,
         221.0,
         5000.0,
         1
        ],
        [
         "Biscoe",
         48.2,
         15.6,
         221.0,
         5100.0,
         1
        ],
        [
         "Biscoe",
         46.5,
         14.8,
         217.0,
         5200.0,
         1
        ],
        [
         "Biscoe",
         46.4,
         15.0,
         216.0,
         4700.0,
         1
        ],
        [
         "Biscoe",
         48.6,
         16.0,
         230.0,
         5800.0,
         1
        ],
        [
         "Biscoe",
         47.5,
         14.2,
         209.0,
         4600.0,
         1
        ],
        [
         "Biscoe",
         51.1,
         16.3,
         220.0,
         6000.0,
         1
        ],
        [
         "Biscoe",
         45.2,
         13.8,
         215.0,
         4750.0,
         1
        ],
        [
         "Biscoe",
         45.2,
         16.4,
         223.0,
         5950.0,
         1
        ],
        [
         "Biscoe",
         49.1,
         14.5,
         212.0,
         4625.0,
         1
        ],
        [
         "Biscoe",
         52.5,
         15.6,
         221.0,
         5450.0,
         1
        ],
        [
         "Biscoe",
         47.4,
         14.6,
         212.0,
         4725.0,
         1
        ],
        [
         "Biscoe",
         50.0,
         15.9,
         224.0,
         5350.0,
         1
        ],
        [
         "Biscoe",
         44.9,
         13.8,
         212.0,
         4750.0,
         1
        ],
        [
         "Biscoe",
         50.8,
         17.3,
         228.0,
         5600.0,
         1
        ],
        [
         "Biscoe",
         43.4,
         14.4,
         218.0,
         4600.0,
         1
        ],
        [
         "Biscoe",
         51.3,
         14.2,
         218.0,
         5300.0,
         1
        ],
        [
         "Biscoe",
         47.5,
         14.0,
         212.0,
         4875.0,
         1
        ],
        [
         "Biscoe",
         52.1,
         17.0,
         230.0,
         5550.0,
         1
        ],
        [
         "Biscoe",
         47.5,
         15.0,
         218.0,
         4950.0,
         1
        ],
        [
         "Biscoe",
         52.2,
         17.1,
         228.0,
         5400.0,
         1
        ],
        [
         "Biscoe",
         45.5,
         14.5,
         212.0,
         4750.0,
         1
        ],
        [
         "Biscoe",
         49.5,
         16.1,
         224.0,
         5650.0,
         1
        ],
        [
         "Biscoe",
         44.5,
         14.7,
         214.0,
         4850.0,
         1
        ],
        [
         "Biscoe",
         50.8,
         15.7,
         226.0,
         5200.0,
         1
        ],
        [
         "Biscoe",
         49.4,
         15.8,
         216.0,
         4925.0,
         1
        ],
        [
         "Biscoe",
         46.9,
         14.6,
         222.0,
         4875.0,
         1
        ],
        [
         "Biscoe",
         48.4,
         14.4,
         203.0,
         4625.0,
         1
        ],
        [
         "Biscoe",
         51.1,
         16.5,
         225.0,
         5250.0,
         1
        ],
        [
         "Biscoe",
         48.5,
         15.0,
         219.0,
         4850.0,
         1
        ],
        [
         "Biscoe",
         55.9,
         17.0,
         228.0,
         5600.0,
         1
        ],
        [
         "Biscoe",
         47.2,
         15.5,
         215.0,
         4975.0,
         1
        ],
        [
         "Biscoe",
         49.1,
         15.0,
         228.0,
         5500.0,
         1
        ],
        [
         "Biscoe",
         47.3,
         13.8,
         216.0,
         4725.0,
         1
        ],
        [
         "Biscoe",
         46.8,
         16.1,
         215.0,
         5500.0,
         1
        ],
        [
         "Biscoe",
         41.7,
         14.7,
         210.0,
         4700.0,
         1
        ],
        [
         "Biscoe",
         53.4,
         15.8,
         219.0,
         5500.0,
         1
        ],
        [
         "Biscoe",
         43.3,
         14.0,
         208.0,
         4575.0,
         1
        ],
        [
         "Biscoe",
         48.1,
         15.1,
         209.0,
         5500.0,
         1
        ],
        [
         "Biscoe",
         50.5,
         15.2,
         216.0,
         5000.0,
         1
        ],
        [
         "Biscoe",
         49.8,
         15.9,
         229.0,
         5950.0,
         1
        ],
        [
         "Biscoe",
         43.5,
         15.2,
         213.0,
         4650.0,
         1
        ],
        [
         "Biscoe",
         51.5,
         16.3,
         230.0,
         5500.0,
         1
        ],
        [
         "Biscoe",
         46.2,
         14.1,
         217.0,
         4375.0,
         1
        ],
        [
         "Biscoe",
         55.1,
         16.0,
         230.0,
         5850.0,
         1
        ],
        [
         "Biscoe",
         44.5,
         15.7,
         217.0,
         4875.0,
         1
        ],
        [
         "Biscoe",
         48.8,
         16.2,
         222.0,
         6000.0,
         1
        ],
        [
         "Biscoe",
         47.2,
         13.7,
         214.0,
         4925.0,
         1
        ],
        [
         "Biscoe",
         46.8,
         14.3,
         215.0,
         4850.0,
         1
        ],
        [
         "Biscoe",
         50.4,
         15.7,
         222.0,
         5750.0,
         1
        ],
        [
         "Biscoe",
         45.2,
         14.8,
         212.0,
         5200.0,
         1
        ],
        [
         "Biscoe",
         49.9,
         16.1,
         213.0,
         5400.0,
         1
        ],
        [
         "Dream",
         46.5,
         17.9,
         192.0,
         3500.0,
         2
        ],
        [
         "Dream",
         50.0,
         19.5,
         196.0,
         3900.0,
         2
        ],
        [
         "Dream",
         51.3,
         19.2,
         193.0,
         3650.0,
         2
        ],
        [
         "Dream",
         45.4,
         18.7,
         188.0,
         3525.0,
         2
        ],
        [
         "Dream",
         52.7,
         19.8,
         197.0,
         3725.0,
         2
        ],
        [
         "Dream",
         45.2,
         17.8,
         198.0,
         3950.0,
         2
        ],
        [
         "Dream",
         46.1,
         18.2,
         178.0,
         3250.0,
         2
        ],
        [
         "Dream",
         51.3,
         18.2,
         197.0,
         3750.0,
         2
        ],
        [
         "Dream",
         46.0,
         18.9,
         195.0,
         4150.0,
         2
        ],
        [
         "Dream",
         51.3,
         19.9,
         198.0,
         3700.0,
         2
        ],
        [
         "Dream",
         46.6,
         17.8,
         193.0,
         3800.0,
         2
        ],
        [
         "Dream",
         51.7,
         20.3,
         194.0,
         3775.0,
         2
        ],
        [
         "Dream",
         47.0,
         17.3,
         185.0,
         3700.0,
         2
        ],
        [
         "Dream",
         52.0,
         18.1,
         201.0,
         4050.0,
         2
        ],
        [
         "Dream",
         45.9,
         17.1,
         190.0,
         3575.0,
         2
        ],
        [
         "Dream",
         50.5,
         19.6,
         201.0,
         4050.0,
         2
        ],
        [
         "Dream",
         50.3,
         20.0,
         197.0,
         3300.0,
         2
        ],
        [
         "Dream",
         58.0,
         17.8,
         181.0,
         3700.0,
         2
        ],
        [
         "Dream",
         46.4,
         18.6,
         190.0,
         3450.0,
         2
        ],
        [
         "Dream",
         49.2,
         18.2,
         195.0,
         4400.0,
         2
        ],
        [
         "Dream",
         42.4,
         17.3,
         181.0,
         3600.0,
         2
        ],
        [
         "Dream",
         48.5,
         17.5,
         191.0,
         3400.0,
         2
        ],
        [
         "Dream",
         43.2,
         16.6,
         187.0,
         2900.0,
         2
        ],
        [
         "Dream",
         50.6,
         19.4,
         193.0,
         3800.0,
         2
        ],
        [
         "Dream",
         46.7,
         17.9,
         195.0,
         3300.0,
         2
        ],
        [
         "Dream",
         52.0,
         19.0,
         197.0,
         4150.0,
         2
        ],
        [
         "Dream",
         50.5,
         18.4,
         200.0,
         3400.0,
         2
        ],
        [
         "Dream",
         49.5,
         19.0,
         200.0,
         3800.0,
         2
        ],
        [
         "Dream",
         46.4,
         17.8,
         191.0,
         3700.0,
         2
        ],
        [
         "Dream",
         52.8,
         20.0,
         205.0,
         4550.0,
         2
        ],
        [
         "Dream",
         40.9,
         16.6,
         187.0,
         3200.0,
         2
        ],
        [
         "Dream",
         54.2,
         20.8,
         201.0,
         4300.0,
         2
        ],
        [
         "Dream",
         42.5,
         16.7,
         187.0,
         3350.0,
         2
        ],
        [
         "Dream",
         51.0,
         18.8,
         203.0,
         4100.0,
         2
        ],
        [
         "Dream",
         49.7,
         18.6,
         195.0,
         3600.0,
         2
        ],
        [
         "Dream",
         47.5,
         16.8,
         199.0,
         3900.0,
         2
        ],
        [
         "Dream",
         47.6,
         18.3,
         195.0,
         3850.0,
         2
        ],
        [
         "Dream",
         52.0,
         20.7,
         210.0,
         4800.0,
         2
        ],
        [
         "Dream",
         46.9,
         16.6,
         192.0,
         2700.0,
         2
        ],
        [
         "Dream",
         53.5,
         19.9,
         205.0,
         4500.0,
         2
        ],
        [
         "Dream",
         49.0,
         19.5,
         210.0,
         3950.0,
         2
        ],
        [
         "Dream",
         46.2,
         17.5,
         187.0,
         3650.0,
         2
        ],
        [
         "Dream",
         50.9,
         19.1,
         196.0,
         3550.0,
         2
        ],
        [
         "Dream",
         45.5,
         17.0,
         196.0,
         3500.0,
         2
        ],
        [
         "Dream",
         50.9,
         17.9,
         196.0,
         3675.0,
         2
        ],
        [
         "Dream",
         50.8,
         18.5,
         201.0,
         4450.0,
         2
        ],
        [
         "Dream",
         50.1,
         17.9,
         190.0,
         3400.0,
         2
        ],
        [
         "Dream",
         49.0,
         19.6,
         212.0,
         4300.0,
         2
        ],
        [
         "Dream",
         51.5,
         18.7,
         187.0,
         3250.0,
         2
        ],
        [
         "Dream",
         49.8,
         17.3,
         198.0,
         3675.0,
         2
        ],
        [
         "Dream",
         48.1,
         16.4,
         199.0,
         3325.0,
         2
        ],
        [
         "Dream",
         51.4,
         19.0,
         201.0,
         3950.0,
         2
        ],
        [
         "Dream",
         45.7,
         17.3,
         193.0,
         3600.0,
         2
        ],
        [
         "Dream",
         50.7,
         19.7,
         203.0,
         4050.0,
         2
        ],
        [
         "Dream",
         42.5,
         17.3,
         187.0,
         3350.0,
         2
        ],
        [
         "Dream",
         52.2,
         18.8,
         197.0,
         3450.0,
         2
        ],
        [
         "Dream",
         45.2,
         16.6,
         191.0,
         3250.0,
         2
        ],
        [
         "Dream",
         49.3,
         19.9,
         203.0,
         4050.0,
         2
        ],
        [
         "Dream",
         50.2,
         18.8,
         202.0,
         3800.0,
         2
        ],
        [
         "Dream",
         45.6,
         19.4,
         194.0,
         3525.0,
         2
        ],
        [
         "Dream",
         51.9,
         19.5,
         206.0,
         3950.0,
         2
        ],
        [
         "Dream",
         46.8,
         16.5,
         189.0,
         3650.0,
         2
        ],
        [
         "Dream",
         45.7,
         17.0,
         195.0,
         3650.0,
         2
        ],
        [
         "Dream",
         55.8,
         19.8,
         207.0,
         4000.0,
         2
        ],
        [
         "Dream",
         43.5,
         18.1,
         202.0,
         3400.0,
         2
        ],
        [
         "Dream",
         49.6,
         18.2,
         193.0,
         3775.0,
         2
        ],
        [
         "Dream",
         50.8,
         19.0,
         210.0,
         4100.0,
         2
        ],
        [
         "Dream",
         50.2,
         18.7,
         198.0,
         3775.0,
         2
        ]
       ],
       "datasetInfos": [],
       "dbfsResultPath": null,
       "isJsonSchema": true,
       "metadata": {},
       "overflow": false,
       "plotOptions": {
        "customPlotOptions": {},
        "displayType": "table",
        "pivotAggregation": null,
        "pivotColumns": null,
        "xColumns": null,
        "yColumns": null
       },
       "removedWidgets": [],
       "schema": [
        {
         "metadata": "{}",
         "name": "Island",
         "type": "\"string\""
        },
        {
         "metadata": "{}",
         "name": "CulmenLength",
         "type": "\"float\""
        },
        {
         "metadata": "{}",
         "name": "CulmenDepth",
         "type": "\"float\""
        },
        {
         "metadata": "{}",
         "name": "FlipperLength",
         "type": "\"float\""
        },
        {
         "metadata": "{}",
         "name": "BodyMass",
         "type": "\"float\""
        },
        {
         "metadata": "{}",
         "name": "Species",
         "type": "\"integer\""
        }
       ],
       "type": "table"
      }
     },
     "output_type": "display_data"
    }
   ],
   "source": [
    "from pyspark.sql.types import *\n",
    "from pyspark.sql.functions import *\n",
    "\n",
    "data = df.dropna().select(col(\"Island\").astype(\"string\"),\n",
    "                          col(\"CulmenLength\").astype(\"float\"),\n",
    "                         col(\"CulmenDepth\").astype(\"float\"),\n",
    "                         col(\"FlipperLength\").astype(\"float\"),\n",
    "                         col(\"BodyMass\").astype(\"float\"),\n",
    "                         col(\"Species\").astype(\"int\")\n",
    "                         )\n",
    "display(data)"
   ]
  },
  {
   "cell_type": "code",
   "execution_count": 0,
   "metadata": {
    "application/vnd.databricks.v1+cell": {
     "cellMetadata": {
      "byteLimit": 2048000,
      "rowLimit": 10000
     },
     "inputWidgets": {},
     "nuid": "8e1b23e3-0e69-4267-9c05-68bb7335dabe",
     "showTitle": false,
     "tableResultSettingsMap": {},
     "title": ""
    }
   },
   "outputs": [
    {
     "output_type": "stream",
     "name": "stdout",
     "output_type": "stream",
     "text": [
      "Training Rows: 244  Testing Rows: 98\n"
     ]
    }
   ],
   "source": [
    "splits = data.randomSplit([0.7, 0.3])\n",
    "train = splits[0]\n",
    "test = splits[1]\n",
    "print (\"Training Rows:\", train.count(), \" Testing Rows:\", test.count())"
   ]
  },
  {
   "cell_type": "code",
   "execution_count": 0,
   "metadata": {
    "application/vnd.databricks.v1+cell": {
     "cellMetadata": {
      "byteLimit": 2048000,
      "rowLimit": 10000
     },
     "inputWidgets": {},
     "nuid": "16ea4651-f829-4109-a72d-5afe4cbf2312",
     "showTitle": false,
     "tableResultSettingsMap": {},
     "title": ""
    }
   },
   "outputs": [
    {
     "output_type": "stream",
     "name": "stdout",
     "output_type": "stream",
     "text": [
      "\uD83C\uDFC3 View run caring-whale-837 at: https://adb-417837659617408.8.azuredatabricks.net/ml/experiments/2521787647535717/runs/edeac86514334600bd395944cacc3f35\n\uD83E\uDDEA View experiment at: https://adb-417837659617408.8.azuredatabricks.net/ml/experiments/2521787647535717\n"
     ]
    },
    {
     "output_type": "display_data",
     "data": {
      "text/html": [
       "<style scoped>\n",
       "  .table-result-container {\n",
       "    max-height: 300px;\n",
       "    overflow: auto;\n",
       "  }\n",
       "  table, th, td {\n",
       "    border: 1px solid black;\n",
       "    border-collapse: collapse;\n",
       "  }\n",
       "  th, td {\n",
       "    padding: 5px;\n",
       "  }\n",
       "  th {\n",
       "    text-align: left;\n",
       "  }\n",
       "</style><div class='table-result-container'><table class='table-result'><thead style='background-color: white'><tr><th>CulmenLength</th><th>CulmenDepth</th><th>FlipperLength</th><th>BodyMass</th><th>Species</th><th>IslandIdx</th></tr></thead><tbody><tr><td>35.3</td><td>18.9</td><td>187.0</td><td>3800.0</td><td>0</td><td>0.0</td></tr><tr><td>35.5</td><td>16.2</td><td>195.0</td><td>3350.0</td><td>0</td><td>0.0</td></tr><tr><td>36.4</td><td>17.1</td><td>184.0</td><td>2850.0</td><td>0</td><td>0.0</td></tr><tr><td>36.5</td><td>16.6</td><td>181.0</td><td>2850.0</td><td>0</td><td>0.0</td></tr><tr><td>37.6</td><td>17.0</td><td>185.0</td><td>3600.0</td><td>0</td><td>0.0</td></tr><tr><td>37.6</td><td>19.1</td><td>194.0</td><td>3750.0</td><td>0</td><td>0.0</td></tr><tr><td>37.7</td><td>18.7</td><td>180.0</td><td>3600.0</td><td>0</td><td>0.0</td></tr><tr><td>37.8</td><td>18.3</td><td>174.0</td><td>3400.0</td><td>0</td><td>0.0</td></tr><tr><td>37.8</td><td>20.0</td><td>190.0</td><td>4250.0</td><td>0</td><td>0.0</td></tr><tr><td>37.9</td><td>18.6</td><td>193.0</td><td>2925.0</td><td>0</td><td>0.0</td></tr><tr><td>38.1</td><td>16.5</td><td>198.0</td><td>3825.0</td><td>0</td><td>0.0</td></tr><tr><td>38.1</td><td>17.0</td><td>181.0</td><td>3175.0</td><td>0</td><td>0.0</td></tr><tr><td>38.2</td><td>18.1</td><td>185.0</td><td>3950.0</td><td>0</td><td>0.0</td></tr><tr><td>38.6</td><td>17.2</td><td>199.0</td><td>3750.0</td><td>0</td><td>0.0</td></tr><tr><td>39.0</td><td>17.5</td><td>186.0</td><td>3550.0</td><td>0</td><td>0.0</td></tr><tr><td>39.6</td><td>17.7</td><td>186.0</td><td>3500.0</td><td>0</td><td>0.0</td></tr><tr><td>39.7</td><td>17.7</td><td>193.0</td><td>3200.0</td><td>0</td><td>0.0</td></tr><tr><td>40.1</td><td>18.9</td><td>188.0</td><td>4300.0</td><td>0</td><td>0.0</td></tr><tr><td>40.5</td><td>17.9</td><td>187.0</td><td>3200.0</td><td>0</td><td>0.0</td></tr><tr><td>40.5</td><td>18.9</td><td>180.0</td><td>3950.0</td><td>0</td><td>0.0</td></tr><tr><td>41.1</td><td>18.2</td><td>192.0</td><td>4050.0</td><td>0</td><td>0.0</td></tr><tr><td>41.1</td><td>19.1</td><td>188.0</td><td>4100.0</td><td>0</td><td>0.0</td></tr><tr><td>41.3</td><td>21.1</td><td>195.0</td><td>4400.0</td><td>0</td><td>0.0</td></tr><tr><td>41.4</td><td>18.6</td><td>191.0</td><td>3700.0</td><td>0</td><td>0.0</td></tr><tr><td>42.0</td><td>13.5</td><td>210.0</td><td>4150.0</td><td>1</td><td>0.0</td></tr><tr><td>42.0</td><td>19.5</td><td>200.0</td><td>4050.0</td><td>0</td><td>0.0</td></tr><tr><td>42.6</td><td>13.7</td><td>213.0</td><td>4950.0</td><td>1</td><td>0.0</td></tr><tr><td>42.7</td><td>13.7</td><td>208.0</td><td>3950.0</td><td>1</td><td>0.0</td></tr><tr><td>42.7</td><td>18.3</td><td>196.0</td><td>4075.0</td><td>0</td><td>0.0</td></tr><tr><td>42.8</td><td>14.2</td><td>209.0</td><td>4700.0</td><td>1</td><td>0.0</td></tr><tr><td>42.9</td><td>13.1</td><td>215.0</td><td>5000.0</td><td>1</td><td>0.0</td></tr><tr><td>43.2</td><td>14.5</td><td>208.0</td><td>4450.0</td><td>1</td><td>0.0</td></tr><tr><td>43.2</td><td>19.0</td><td>197.0</td><td>4775.0</td><td>0</td><td>0.0</td></tr><tr><td>43.3</td><td>13.4</td><td>209.0</td><td>4400.0</td><td>1</td><td>0.0</td></tr><tr><td>43.4</td><td>14.4</td><td>218.0</td><td>4600.0</td><td>1</td><td>0.0</td></tr><tr><td>43.5</td><td>14.2</td><td>220.0</td><td>4700.0</td><td>1</td><td>0.0</td></tr><tr><td>43.5</td><td>15.2</td><td>213.0</td><td>4650.0</td><td>1</td><td>0.0</td></tr><tr><td>43.6</td><td>13.9</td><td>217.0</td><td>4900.0</td><td>1</td><td>0.0</td></tr><tr><td>43.8</td><td>13.9</td><td>208.0</td><td>4300.0</td><td>1</td><td>0.0</td></tr><tr><td>44.0</td><td>13.6</td><td>208.0</td><td>4350.0</td><td>1</td><td>0.0</td></tr><tr><td>44.5</td><td>14.7</td><td>214.0</td><td>4850.0</td><td>1</td><td>0.0</td></tr><tr><td>44.5</td><td>15.7</td><td>217.0</td><td>4875.0</td><td>1</td><td>0.0</td></tr><tr><td>44.9</td><td>13.3</td><td>213.0</td><td>5100.0</td><td>1</td><td>0.0</td></tr><tr><td>44.9</td><td>13.8</td><td>212.0</td><td>4750.0</td><td>1</td><td>0.0</td></tr><tr><td>45.0</td><td>15.4</td><td>220.0</td><td>5050.0</td><td>1</td><td>0.0</td></tr><tr><td>45.1</td><td>14.4</td><td>210.0</td><td>4400.0</td><td>1</td><td>0.0</td></tr><tr><td>45.1</td><td>14.5</td><td>207.0</td><td>5050.0</td><td>1</td><td>0.0</td></tr><tr><td>45.1</td><td>14.5</td><td>215.0</td><td>5000.0</td><td>1</td><td>0.0</td></tr><tr><td>45.2</td><td>13.8</td><td>215.0</td><td>4750.0</td><td>1</td><td>0.0</td></tr><tr><td>45.2</td><td>14.8</td><td>212.0</td><td>5200.0</td><td>1</td><td>0.0</td></tr><tr><td>45.2</td><td>15.8</td><td>215.0</td><td>5300.0</td><td>1</td><td>0.0</td></tr><tr><td>45.2</td><td>16.4</td><td>223.0</td><td>5950.0</td><td>1</td><td>0.0</td></tr><tr><td>45.3</td><td>13.7</td><td>210.0</td><td>4300.0</td><td>1</td><td>0.0</td></tr><tr><td>45.3</td><td>13.8</td><td>208.0</td><td>4200.0</td><td>1</td><td>0.0</td></tr><tr><td>45.4</td><td>14.6</td><td>211.0</td><td>4800.0</td><td>1</td><td>0.0</td></tr><tr><td>45.5</td><td>13.7</td><td>214.0</td><td>4650.0</td><td>1</td><td>0.0</td></tr><tr><td>45.5</td><td>14.5</td><td>212.0</td><td>4750.0</td><td>1</td><td>0.0</td></tr><tr><td>45.5</td><td>15.0</td><td>220.0</td><td>5000.0</td><td>1</td><td>0.0</td></tr><tr><td>45.7</td><td>13.9</td><td>214.0</td><td>4400.0</td><td>1</td><td>0.0</td></tr><tr><td>45.8</td><td>14.2</td><td>219.0</td><td>4700.0</td><td>1</td><td>0.0</td></tr><tr><td>45.8</td><td>14.6</td><td>210.0</td><td>4200.0</td><td>1</td><td>0.0</td></tr><tr><td>46.1</td><td>13.2</td><td>211.0</td><td>4500.0</td><td>1</td><td>0.0</td></tr><tr><td>46.2</td><td>14.4</td><td>214.0</td><td>4650.0</td><td>1</td><td>0.0</td></tr><tr><td>46.2</td><td>14.5</td><td>209.0</td><td>4800.0</td><td>1</td><td>0.0</td></tr><tr><td>46.2</td><td>14.9</td><td>221.0</td><td>5300.0</td><td>1</td><td>0.0</td></tr><tr><td>46.4</td><td>15.0</td><td>216.0</td><td>4700.0</td><td>1</td><td>0.0</td></tr><tr><td>46.5</td><td>13.5</td><td>210.0</td><td>4550.0</td><td>1</td><td>0.0</td></tr><tr><td>46.5</td><td>14.4</td><td>217.0</td><td>4900.0</td><td>1</td><td>0.0</td></tr><tr><td>46.5</td><td>14.5</td><td>213.0</td><td>4400.0</td><td>1</td><td>0.0</td></tr><tr><td>46.6</td><td>14.2</td><td>210.0</td><td>4850.0</td><td>1</td><td>0.0</td></tr><tr><td>46.8</td><td>15.4</td><td>215.0</td><td>5150.0</td><td>1</td><td>0.0</td></tr><tr><td>46.8</td><td>16.1</td><td>215.0</td><td>5500.0</td><td>1</td><td>0.0</td></tr><tr><td>47.2</td><td>15.5</td><td>215.0</td><td>4975.0</td><td>1</td><td>0.0</td></tr><tr><td>47.3</td><td>13.8</td><td>216.0</td><td>4725.0</td><td>1</td><td>0.0</td></tr><tr><td>47.5</td><td>14.0</td><td>212.0</td><td>4875.0</td><td>1</td><td>0.0</td></tr><tr><td>47.5</td><td>14.2</td><td>209.0</td><td>4600.0</td><td>1</td><td>0.0</td></tr><tr><td>47.5</td><td>15.0</td><td>218.0</td><td>4950.0</td><td>1</td><td>0.0</td></tr><tr><td>47.6</td><td>14.5</td><td>215.0</td><td>5400.0</td><td>1</td><td>0.0</td></tr><tr><td>47.7</td><td>15.0</td><td>216.0</td><td>4750.0</td><td>1</td><td>0.0</td></tr><tr><td>47.8</td><td>15.0</td><td>215.0</td><td>5650.0</td><td>1</td><td>0.0</td></tr><tr><td>48.1</td><td>15.1</td><td>209.0</td><td>5500.0</td><td>1</td><td>0.0</td></tr><tr><td>48.2</td><td>14.3</td><td>210.0</td><td>4600.0</td><td>1</td><td>0.0</td></tr><tr><td>48.4</td><td>14.4</td><td>203.0</td><td>4625.0</td><td>1</td><td>0.0</td></tr><tr><td>48.4</td><td>14.6</td><td>213.0</td><td>5850.0</td><td>1</td><td>0.0</td></tr><tr><td>48.4</td><td>16.3</td><td>220.0</td><td>5400.0</td><td>1</td><td>0.0</td></tr><tr><td>48.5</td><td>14.1</td><td>220.0</td><td>5300.0</td><td>1</td><td>0.0</td></tr><tr><td>48.5</td><td>15.0</td><td>219.0</td><td>4850.0</td><td>1</td><td>0.0</td></tr><tr><td>48.7</td><td>14.1</td><td>210.0</td><td>4450.0</td><td>1</td><td>0.0</td></tr><tr><td>48.7</td><td>15.1</td><td>222.0</td><td>5350.0</td><td>1</td><td>0.0</td></tr><tr><td>49.0</td><td>16.1</td><td>216.0</td><td>5550.0</td><td>1</td><td>0.0</td></tr><tr><td>49.1</td><td>14.5</td><td>212.0</td><td>4625.0</td><td>1</td><td>0.0</td></tr><tr><td>49.1</td><td>14.8</td><td>220.0</td><td>5150.0</td><td>1</td><td>0.0</td></tr><tr><td>49.1</td><td>15.0</td><td>228.0</td><td>5500.0</td><td>1</td><td>0.0</td></tr><tr><td>49.2</td><td>15.2</td><td>221.0</td><td>6300.0</td><td>1</td><td>0.0</td></tr><tr><td>49.3</td><td>15.7</td><td>217.0</td><td>5850.0</td><td>1</td><td>0.0</td></tr><tr><td>49.4</td><td>15.8</td><td>216.0</td><td>4925.0</td><td>1</td><td>0.0</td></tr><tr><td>49.5</td><td>16.1</td><td>224.0</td><td>5650.0</td><td>1</td><td>0.0</td></tr><tr><td>49.5</td><td>16.2</td><td>229.0</td><td>5800.0</td><td>1</td><td>0.0</td></tr><tr><td>49.6</td><td>15.0</td><td>216.0</td><td>4750.0</td><td>1</td><td>0.0</td></tr><tr><td>49.6</td><td>16.0</td><td>225.0</td><td>5700.0</td><td>1</td><td>0.0</td></tr><tr><td>49.8</td><td>15.9</td><td>229.0</td><td>5950.0</td><td>1</td><td>0.0</td></tr><tr><td>49.9</td><td>16.1</td><td>213.0</td><td>5400.0</td><td>1</td><td>0.0</td></tr><tr><td>50.0</td><td>15.2</td><td>218.0</td><td>5700.0</td><td>1</td><td>0.0</td></tr><tr><td>50.0</td><td>15.9</td><td>224.0</td><td>5350.0</td><td>1</td><td>0.0</td></tr><tr><td>50.0</td><td>16.3</td><td>230.0</td><td>5700.0</td><td>1</td><td>0.0</td></tr><tr><td>50.1</td><td>15.0</td><td>225.0</td><td>5000.0</td><td>1</td><td>0.0</td></tr><tr><td>50.2</td><td>14.3</td><td>218.0</td><td>5700.0</td><td>1</td><td>0.0</td></tr><tr><td>50.5</td><td>15.2</td><td>216.0</td><td>5000.0</td><td>1</td><td>0.0</td></tr><tr><td>50.5</td><td>15.9</td><td>222.0</td><td>5550.0</td><td>1</td><td>0.0</td></tr><tr><td>50.5</td><td>15.9</td><td>225.0</td><td>5400.0</td><td>1</td><td>0.0</td></tr><tr><td>50.8</td><td>17.3</td><td>228.0</td><td>5600.0</td><td>1</td><td>0.0</td></tr><tr><td>51.1</td><td>16.3</td><td>220.0</td><td>6000.0</td><td>1</td><td>0.0</td></tr><tr><td>52.2</td><td>17.1</td><td>228.0</td><td>5400.0</td><td>1</td><td>0.0</td></tr><tr><td>52.5</td><td>15.6</td><td>221.0</td><td>5450.0</td><td>1</td><td>0.0</td></tr><tr><td>53.4</td><td>15.8</td><td>219.0</td><td>5500.0</td><td>1</td><td>0.0</td></tr><tr><td>54.3</td><td>15.7</td><td>231.0</td><td>5650.0</td><td>1</td><td>0.0</td></tr><tr><td>55.9</td><td>17.0</td><td>228.0</td><td>5600.0</td><td>1</td><td>0.0</td></tr><tr><td>59.6</td><td>17.0</td><td>230.0</td><td>6050.0</td><td>1</td><td>0.0</td></tr><tr><td>32.1</td><td>15.5</td><td>188.0</td><td>3050.0</td><td>0</td><td>1.0</td></tr><tr><td>33.1</td><td>16.1</td><td>178.0</td><td>2900.0</td><td>0</td><td>1.0</td></tr><tr><td>34.0</td><td>17.1</td><td>185.0</td><td>3400.0</td><td>0</td><td>1.0</td></tr><tr><td>35.6</td><td>17.5</td><td>191.0</td><td>3175.0</td><td>0</td><td>1.0</td></tr><tr><td>35.7</td><td>18.0</td><td>202.0</td><td>3550.0</td><td>0</td><td>1.0</td></tr><tr><td>36.0</td><td>17.1</td><td>187.0</td><td>3700.0</td><td>0</td><td>1.0</td></tr><tr><td>36.0</td><td>17.8</td><td>195.0</td><td>3450.0</td><td>0</td><td>1.0</td></tr><tr><td>36.0</td><td>17.9</td><td>190.0</td><td>3450.0</td><td>0</td><td>1.0</td></tr><tr><td>36.0</td><td>18.5</td><td>186.0</td><td>3100.0</td><td>0</td><td>1.0</td></tr><tr><td>36.3</td><td>19.5</td><td>190.0</td><td>3800.0</td><td>0</td><td>1.0</td></tr><tr><td>36.5</td><td>18.0</td><td>182.0</td><td>3150.0</td><td>0</td><td>1.0</td></tr><tr><td>36.8</td><td>18.5</td><td>193.0</td><td>3500.0</td><td>0</td><td>1.0</td></tr><tr><td>37.0</td><td>16.5</td><td>185.0</td><td>3400.0</td><td>0</td><td>1.0</td></tr><tr><td>37.2</td><td>18.1</td><td>178.0</td><td>3900.0</td><td>0</td><td>1.0</td></tr><tr><td>37.3</td><td>17.8</td><td>191.0</td><td>3350.0</td><td>0</td><td>1.0</td></tr><tr><td>37.5</td><td>18.5</td><td>199.0</td><td>4475.0</td><td>0</td><td>1.0</td></tr><tr><td>37.5</td><td>18.9</td><td>179.0</td><td>2975.0</td><td>0</td><td>1.0</td></tr><tr><td>37.6</td><td>19.3</td><td>181.0</td><td>3300.0</td><td>0</td><td>1.0</td></tr><tr><td>38.3</td><td>19.2</td><td>189.0</td><td>3950.0</td><td>0</td><td>1.0</td></tr><tr><td>38.8</td><td>20.0</td><td>190.0</td><td>3950.0</td><td>0</td><td>1.0</td></tr><tr><td>38.9</td><td>18.8</td><td>190.0</td><td>3600.0</td><td>0</td><td>1.0</td></tr><tr><td>39.0</td><td>18.7</td><td>185.0</td><td>3650.0</td><td>0</td><td>1.0</td></tr><tr><td>39.2</td><td>18.6</td><td>190.0</td><td>4250.0</td><td>0</td><td>1.0</td></tr><tr><td>39.5</td><td>16.7</td><td>178.0</td><td>3250.0</td><td>0</td><td>1.0</td></tr><tr><td>39.5</td><td>17.8</td><td>188.0</td><td>3300.0</td><td>0</td><td>1.0</td></tr><tr><td>39.6</td><td>18.1</td><td>186.0</td><td>4450.0</td><td>0</td><td>1.0</td></tr><tr><td>39.6</td><td>18.8</td><td>190.0</td><td>4600.0</td><td>0</td><td>1.0</td></tr><tr><td>39.8</td><td>19.1</td><td>184.0</td><td>4650.0</td><td>0</td><td>1.0</td></tr><tr><td>40.2</td><td>17.1</td><td>193.0</td><td>3400.0</td><td>0</td><td>1.0</td></tr><tr><td>40.2</td><td>20.1</td><td>200.0</td><td>3975.0</td><td>0</td><td>1.0</td></tr><tr><td>40.3</td><td>18.5</td><td>196.0</td><td>4350.0</td><td>0</td><td>1.0</td></tr><tr><td>40.6</td><td>17.2</td><td>187.0</td><td>3475.0</td><td>0</td><td>1.0</td></tr><tr><td>40.8</td><td>18.4</td><td>195.0</td><td>3900.0</td><td>0</td><td>1.0</td></tr><tr><td>40.9</td><td>16.6</td><td>187.0</td><td>3200.0</td><td>2</td><td>1.0</td></tr><tr><td>40.9</td><td>18.9</td><td>184.0</td><td>3900.0</td><td>0</td><td>1.0</td></tr><tr><td>41.1</td><td>17.5</td><td>190.0</td><td>3900.0</td><td>0</td><td>1.0</td></tr><tr><td>41.1</td><td>18.1</td><td>205.0</td><td>4300.0</td><td>0</td><td>1.0</td></tr><tr><td>41.1</td><td>19.0</td><td>182.0</td><td>3425.0</td><td>0</td><td>1.0</td></tr><tr><td>41.5</td><td>18.5</td><td>201.0</td><td>4000.0</td><td>0</td><td>1.0</td></tr><tr><td>42.2</td><td>18.5</td><td>180.0</td><td>3550.0</td><td>0</td><td>1.0</td></tr><tr><td>42.4</td><td>17.3</td><td>181.0</td><td>3600.0</td><td>2</td><td>1.0</td></tr><tr><td>42.5</td><td>16.7</td><td>187.0</td><td>3350.0</td><td>2</td><td>1.0</td></tr><tr><td>42.5</td><td>17.3</td><td>187.0</td><td>3350.0</td><td>2</td><td>1.0</td></tr><tr><td>43.2</td><td>16.6</td><td>187.0</td><td>2900.0</td><td>2</td><td>1.0</td></tr><tr><td>43.5</td><td>18.1</td><td>202.0</td><td>3400.0</td><td>2</td><td>1.0</td></tr><tr><td>45.2</td><td>16.6</td><td>191.0</td><td>3250.0</td><td>2</td><td>1.0</td></tr><tr><td>45.2</td><td>17.8</td><td>198.0</td><td>3950.0</td><td>2</td><td>1.0</td></tr><tr><td>45.4</td><td>18.7</td><td>188.0</td><td>3525.0</td><td>2</td><td>1.0</td></tr><tr><td>45.5</td><td>17.0</td><td>196.0</td><td>3500.0</td><td>2</td><td>1.0</td></tr><tr><td>45.6</td><td>19.4</td><td>194.0</td><td>3525.0</td><td>2</td><td>1.0</td></tr><tr><td>45.7</td><td>17.0</td><td>195.0</td><td>3650.0</td><td>2</td><td>1.0</td></tr><tr><td>45.9</td><td>17.1</td><td>190.0</td><td>3575.0</td><td>2</td><td>1.0</td></tr><tr><td>46.1</td><td>18.2</td><td>178.0</td><td>3250.0</td><td>2</td><td>1.0</td></tr><tr><td>46.2</td><td>17.5</td><td>187.0</td><td>3650.0</td><td>2</td><td>1.0</td></tr><tr><td>46.5</td><td>17.9</td><td>192.0</td><td>3500.0</td><td>2</td><td>1.0</td></tr><tr><td>46.6</td><td>17.8</td><td>193.0</td><td>3800.0</td><td>2</td><td>1.0</td></tr><tr><td>46.8</td><td>16.5</td><td>189.0</td><td>3650.0</td><td>2</td><td>1.0</td></tr><tr><td>47.6</td><td>18.3</td><td>195.0</td><td>3850.0</td><td>2</td><td>1.0</td></tr><tr><td>48.1</td><td>16.4</td><td>199.0</td><td>3325.0</td><td>2</td><td>1.0</td></tr><tr><td>48.5</td><td>17.5</td><td>191.0</td><td>3400.0</td><td>2</td><td>1.0</td></tr><tr><td>49.0</td><td>19.5</td><td>210.0</td><td>3950.0</td><td>2</td><td>1.0</td></tr><tr><td>49.0</td><td>19.6</td><td>212.0</td><td>4300.0</td><td>2</td><td>1.0</td></tr><tr><td>50.0</td><td>19.5</td><td>196.0</td><td>3900.0</td><td>2</td><td>1.0</td></tr><tr><td>50.1</td><td>17.9</td><td>190.0</td><td>3400.0</td><td>2</td><td>1.0</td></tr><tr><td>50.2</td><td>18.7</td><td>198.0</td><td>3775.0</td><td>2</td><td>1.0</td></tr><tr><td>50.2</td><td>18.8</td><td>202.0</td><td>3800.0</td><td>2</td><td>1.0</td></tr><tr><td>50.3</td><td>20.0</td><td>197.0</td><td>3300.0</td><td>2</td><td>1.0</td></tr><tr><td>50.5</td><td>18.4</td><td>200.0</td><td>3400.0</td><td>2</td><td>1.0</td></tr><tr><td>50.5</td><td>19.6</td><td>201.0</td><td>4050.0</td><td>2</td><td>1.0</td></tr><tr><td>50.6</td><td>19.4</td><td>193.0</td><td>3800.0</td><td>2</td><td>1.0</td></tr><tr><td>50.7</td><td>19.7</td><td>203.0</td><td>4050.0</td><td>2</td><td>1.0</td></tr><tr><td>50.8</td><td>19.0</td><td>210.0</td><td>4100.0</td><td>2</td><td>1.0</td></tr><tr><td>50.9</td><td>17.9</td><td>196.0</td><td>3675.0</td><td>2</td><td>1.0</td></tr><tr><td>50.9</td><td>19.1</td><td>196.0</td><td>3550.0</td><td>2</td><td>1.0</td></tr><tr><td>51.3</td><td>19.2</td><td>193.0</td><td>3650.0</td><td>2</td><td>1.0</td></tr><tr><td>51.3</td><td>19.9</td><td>198.0</td><td>3700.0</td><td>2</td><td>1.0</td></tr><tr><td>51.4</td><td>19.0</td><td>201.0</td><td>3950.0</td><td>2</td><td>1.0</td></tr><tr><td>51.5</td><td>18.7</td><td>187.0</td><td>3250.0</td><td>2</td><td>1.0</td></tr><tr><td>51.7</td><td>20.3</td><td>194.0</td><td>3775.0</td><td>2</td><td>1.0</td></tr><tr><td>51.9</td><td>19.5</td><td>206.0</td><td>3950.0</td><td>2</td><td>1.0</td></tr><tr><td>52.0</td><td>18.1</td><td>201.0</td><td>4050.0</td><td>2</td><td>1.0</td></tr><tr><td>52.0</td><td>19.0</td><td>197.0</td><td>4150.0</td><td>2</td><td>1.0</td></tr><tr><td>52.0</td><td>20.7</td><td>210.0</td><td>4800.0</td><td>2</td><td>1.0</td></tr><tr><td>52.2</td><td>18.8</td><td>197.0</td><td>3450.0</td><td>2</td><td>1.0</td></tr><tr><td>52.7</td><td>19.8</td><td>197.0</td><td>3725.0</td><td>2</td><td>1.0</td></tr><tr><td>52.8</td><td>20.0</td><td>205.0</td><td>4550.0</td><td>2</td><td>1.0</td></tr><tr><td>53.5</td><td>19.9</td><td>205.0</td><td>4500.0</td><td>2</td><td>1.0</td></tr><tr><td>54.2</td><td>20.8</td><td>201.0</td><td>4300.0</td><td>2</td><td>1.0</td></tr><tr><td>55.8</td><td>19.8</td><td>207.0</td><td>4000.0</td><td>2</td><td>1.0</td></tr><tr><td>58.0</td><td>17.8</td><td>181.0</td><td>3700.0</td><td>2</td><td>1.0</td></tr><tr><td>34.4</td><td>18.4</td><td>184.0</td><td>3325.0</td><td>0</td><td>2.0</td></tr><tr><td>35.1</td><td>19.4</td><td>193.0</td><td>4200.0</td><td>0</td><td>2.0</td></tr><tr><td>35.2</td><td>15.9</td><td>186.0</td><td>3050.0</td><td>0</td><td>2.0</td></tr><tr><td>35.5</td><td>17.5</td><td>190.0</td><td>3700.0</td><td>0</td><td>2.0</td></tr><tr><td>35.7</td><td>17.0</td><td>189.0</td><td>3350.0</td><td>0</td><td>2.0</td></tr><tr><td>35.9</td><td>16.6</td><td>190.0</td><td>3050.0</td><td>0</td><td>2.0</td></tr><tr><td>36.2</td><td>16.1</td><td>187.0</td><td>3550.0</td><td>0</td><td>2.0</td></tr><tr><td>36.6</td><td>17.8</td><td>185.0</td><td>3700.0</td><td>0</td><td>2.0</td></tr><tr><td>36.7</td><td>18.8</td><td>187.0</td><td>3800.0</td><td>0</td><td>2.0</td></tr><tr><td>36.7</td><td>19.3</td><td>193.0</td><td>3450.0</td><td>0</td><td>2.0</td></tr><tr><td>37.2</td><td>19.4</td><td>184.0</td><td>3900.0</td><td>0</td><td>2.0</td></tr><tr><td>37.7</td><td>19.8</td><td>198.0</td><td>3500.0</td><td>0</td><td>2.0</td></tr><tr><td>37.8</td><td>17.1</td><td>186.0</td><td>3300.0</td><td>0</td><td>2.0</td></tr><tr><td>38.6</td><td>17.0</td><td>188.0</td><td>2900.0</td><td>0</td><td>2.0</td></tr><tr><td>38.6</td><td>21.2</td><td>191.0</td><td>3800.0</td><td>0</td><td>2.0</td></tr><tr><td>38.7</td><td>19.0</td><td>195.0</td><td>3450.0</td><td>0</td><td>2.0</td></tr><tr><td>38.8</td><td>17.6</td><td>191.0</td><td>3275.0</td><td>0</td><td>2.0</td></tr><tr><td>38.9</td><td>17.8</td><td>181.0</td><td>3625.0</td><td>0</td><td>2.0</td></tr><tr><td>39.0</td><td>17.1</td><td>191.0</td><td>3050.0</td><td>0</td><td>2.0</td></tr><tr><td>39.1</td><td>18.7</td><td>181.0</td><td>3750.0</td><td>0</td><td>2.0</td></tr><tr><td>39.5</td><td>17.4</td><td>186.0</td><td>3800.0</td><td>0</td><td>2.0</td></tr><tr><td>39.6</td><td>17.2</td><td>196.0</td><td>3550.0</td><td>0</td><td>2.0</td></tr><tr><td>40.3</td><td>18.0</td><td>195.0</td><td>3250.0</td><td>0</td><td>2.0</td></tr><tr><td>40.6</td><td>19.0</td><td>199.0</td><td>4000.0</td><td>0</td><td>2.0</td></tr><tr><td>40.9</td><td>16.8</td><td>191.0</td><td>3700.0</td><td>0</td><td>2.0</td></tr><tr><td>41.1</td><td>17.6</td><td>182.0</td><td>3200.0</td><td>0</td><td>2.0</td></tr><tr><td>41.1</td><td>18.6</td><td>189.0</td><td>3325.0</td><td>0</td><td>2.0</td></tr><tr><td>41.5</td><td>18.3</td><td>195.0</td><td>4300.0</td><td>0</td><td>2.0</td></tr><tr><td>41.8</td><td>19.4</td><td>198.0</td><td>4450.0</td><td>0</td><td>2.0</td></tr><tr><td>42.0</td><td>20.2</td><td>190.0</td><td>4250.0</td><td>0</td><td>2.0</td></tr><tr><td>42.1</td><td>19.1</td><td>195.0</td><td>4000.0</td><td>0</td><td>2.0</td></tr><tr><td>42.9</td><td>17.6</td><td>196.0</td><td>4700.0</td><td>0</td><td>2.0</td></tr><tr><td>43.1</td><td>19.2</td><td>197.0</td><td>3500.0</td><td>0</td><td>2.0</td></tr><tr><td>44.1</td><td>18.0</td><td>210.0</td><td>4000.0</td><td>0</td><td>2.0</td></tr><tr><td>45.8</td><td>18.9</td><td>197.0</td><td>4150.0</td><td>0</td><td>2.0</td></tr><tr><td>46.0</td><td>21.5</td><td>194.0</td><td>4200.0</td><td>0</td><td>2.0</td></tr></tbody></table></div>"
      ]
     },
     "metadata": {
      "application/vnd.databricks.v1+output": {
       "addedWidgets": {},
       "aggData": [],
       "aggError": "",
       "aggOverflow": false,
       "aggSchema": [],
       "aggSeriesLimitReached": false,
       "aggType": "",
       "arguments": {},
       "columnCustomDisplayInfos": {},
       "data": [
        [
         35.3,
         18.9,
         187.0,
         3800.0,
         0,
         0.0
        ],
        [
         35.5,
         16.2,
         195.0,
         3350.0,
         0,
         0.0
        ],
        [
         36.4,
         17.1,
         184.0,
         2850.0,
         0,
         0.0
        ],
        [
         36.5,
         16.6,
         181.0,
         2850.0,
         0,
         0.0
        ],
        [
         37.6,
         17.0,
         185.0,
         3600.0,
         0,
         0.0
        ],
        [
         37.6,
         19.1,
         194.0,
         3750.0,
         0,
         0.0
        ],
        [
         37.7,
         18.7,
         180.0,
         3600.0,
         0,
         0.0
        ],
        [
         37.8,
         18.3,
         174.0,
         3400.0,
         0,
         0.0
        ],
        [
         37.8,
         20.0,
         190.0,
         4250.0,
         0,
         0.0
        ],
        [
         37.9,
         18.6,
         193.0,
         2925.0,
         0,
         0.0
        ],
        [
         38.1,
         16.5,
         198.0,
         3825.0,
         0,
         0.0
        ],
        [
         38.1,
         17.0,
         181.0,
         3175.0,
         0,
         0.0
        ],
        [
         38.2,
         18.1,
         185.0,
         3950.0,
         0,
         0.0
        ],
        [
         38.6,
         17.2,
         199.0,
         3750.0,
         0,
         0.0
        ],
        [
         39.0,
         17.5,
         186.0,
         3550.0,
         0,
         0.0
        ],
        [
         39.6,
         17.7,
         186.0,
         3500.0,
         0,
         0.0
        ],
        [
         39.7,
         17.7,
         193.0,
         3200.0,
         0,
         0.0
        ],
        [
         40.1,
         18.9,
         188.0,
         4300.0,
         0,
         0.0
        ],
        [
         40.5,
         17.9,
         187.0,
         3200.0,
         0,
         0.0
        ],
        [
         40.5,
         18.9,
         180.0,
         3950.0,
         0,
         0.0
        ],
        [
         41.1,
         18.2,
         192.0,
         4050.0,
         0,
         0.0
        ],
        [
         41.1,
         19.1,
         188.0,
         4100.0,
         0,
         0.0
        ],
        [
         41.3,
         21.1,
         195.0,
         4400.0,
         0,
         0.0
        ],
        [
         41.4,
         18.6,
         191.0,
         3700.0,
         0,
         0.0
        ],
        [
         42.0,
         13.5,
         210.0,
         4150.0,
         1,
         0.0
        ],
        [
         42.0,
         19.5,
         200.0,
         4050.0,
         0,
         0.0
        ],
        [
         42.6,
         13.7,
         213.0,
         4950.0,
         1,
         0.0
        ],
        [
         42.7,
         13.7,
         208.0,
         3950.0,
         1,
         0.0
        ],
        [
         42.7,
         18.3,
         196.0,
         4075.0,
         0,
         0.0
        ],
        [
         42.8,
         14.2,
         209.0,
         4700.0,
         1,
         0.0
        ],
        [
         42.9,
         13.1,
         215.0,
         5000.0,
         1,
         0.0
        ],
        [
         43.2,
         14.5,
         208.0,
         4450.0,
         1,
         0.0
        ],
        [
         43.2,
         19.0,
         197.0,
         4775.0,
         0,
         0.0
        ],
        [
         43.3,
         13.4,
         209.0,
         4400.0,
         1,
         0.0
        ],
        [
         43.4,
         14.4,
         218.0,
         4600.0,
         1,
         0.0
        ],
        [
         43.5,
         14.2,
         220.0,
         4700.0,
         1,
         0.0
        ],
        [
         43.5,
         15.2,
         213.0,
         4650.0,
         1,
         0.0
        ],
        [
         43.6,
         13.9,
         217.0,
         4900.0,
         1,
         0.0
        ],
        [
         43.8,
         13.9,
         208.0,
         4300.0,
         1,
         0.0
        ],
        [
         44.0,
         13.6,
         208.0,
         4350.0,
         1,
         0.0
        ],
        [
         44.5,
         14.7,
         214.0,
         4850.0,
         1,
         0.0
        ],
        [
         44.5,
         15.7,
         217.0,
         4875.0,
         1,
         0.0
        ],
        [
         44.9,
         13.3,
         213.0,
         5100.0,
         1,
         0.0
        ],
        [
         44.9,
         13.8,
         212.0,
         4750.0,
         1,
         0.0
        ],
        [
         45.0,
         15.4,
         220.0,
         5050.0,
         1,
         0.0
        ],
        [
         45.1,
         14.4,
         210.0,
         4400.0,
         1,
         0.0
        ],
        [
         45.1,
         14.5,
         207.0,
         5050.0,
         1,
         0.0
        ],
        [
         45.1,
         14.5,
         215.0,
         5000.0,
         1,
         0.0
        ],
        [
         45.2,
         13.8,
         215.0,
         4750.0,
         1,
         0.0
        ],
        [
         45.2,
         14.8,
         212.0,
         5200.0,
         1,
         0.0
        ],
        [
         45.2,
         15.8,
         215.0,
         5300.0,
         1,
         0.0
        ],
        [
         45.2,
         16.4,
         223.0,
         5950.0,
         1,
         0.0
        ],
        [
         45.3,
         13.7,
         210.0,
         4300.0,
         1,
         0.0
        ],
        [
         45.3,
         13.8,
         208.0,
         4200.0,
         1,
         0.0
        ],
        [
         45.4,
         14.6,
         211.0,
         4800.0,
         1,
         0.0
        ],
        [
         45.5,
         13.7,
         214.0,
         4650.0,
         1,
         0.0
        ],
        [
         45.5,
         14.5,
         212.0,
         4750.0,
         1,
         0.0
        ],
        [
         45.5,
         15.0,
         220.0,
         5000.0,
         1,
         0.0
        ],
        [
         45.7,
         13.9,
         214.0,
         4400.0,
         1,
         0.0
        ],
        [
         45.8,
         14.2,
         219.0,
         4700.0,
         1,
         0.0
        ],
        [
         45.8,
         14.6,
         210.0,
         4200.0,
         1,
         0.0
        ],
        [
         46.1,
         13.2,
         211.0,
         4500.0,
         1,
         0.0
        ],
        [
         46.2,
         14.4,
         214.0,
         4650.0,
         1,
         0.0
        ],
        [
         46.2,
         14.5,
         209.0,
         4800.0,
         1,
         0.0
        ],
        [
         46.2,
         14.9,
         221.0,
         5300.0,
         1,
         0.0
        ],
        [
         46.4,
         15.0,
         216.0,
         4700.0,
         1,
         0.0
        ],
        [
         46.5,
         13.5,
         210.0,
         4550.0,
         1,
         0.0
        ],
        [
         46.5,
         14.4,
         217.0,
         4900.0,
         1,
         0.0
        ],
        [
         46.5,
         14.5,
         213.0,
         4400.0,
         1,
         0.0
        ],
        [
         46.6,
         14.2,
         210.0,
         4850.0,
         1,
         0.0
        ],
        [
         46.8,
         15.4,
         215.0,
         5150.0,
         1,
         0.0
        ],
        [
         46.8,
         16.1,
         215.0,
         5500.0,
         1,
         0.0
        ],
        [
         47.2,
         15.5,
         215.0,
         4975.0,
         1,
         0.0
        ],
        [
         47.3,
         13.8,
         216.0,
         4725.0,
         1,
         0.0
        ],
        [
         47.5,
         14.0,
         212.0,
         4875.0,
         1,
         0.0
        ],
        [
         47.5,
         14.2,
         209.0,
         4600.0,
         1,
         0.0
        ],
        [
         47.5,
         15.0,
         218.0,
         4950.0,
         1,
         0.0
        ],
        [
         47.6,
         14.5,
         215.0,
         5400.0,
         1,
         0.0
        ],
        [
         47.7,
         15.0,
         216.0,
         4750.0,
         1,
         0.0
        ],
        [
         47.8,
         15.0,
         215.0,
         5650.0,
         1,
         0.0
        ],
        [
         48.1,
         15.1,
         209.0,
         5500.0,
         1,
         0.0
        ],
        [
         48.2,
         14.3,
         210.0,
         4600.0,
         1,
         0.0
        ],
        [
         48.4,
         14.4,
         203.0,
         4625.0,
         1,
         0.0
        ],
        [
         48.4,
         14.6,
         213.0,
         5850.0,
         1,
         0.0
        ],
        [
         48.4,
         16.3,
         220.0,
         5400.0,
         1,
         0.0
        ],
        [
         48.5,
         14.1,
         220.0,
         5300.0,
         1,
         0.0
        ],
        [
         48.5,
         15.0,
         219.0,
         4850.0,
         1,
         0.0
        ],
        [
         48.7,
         14.1,
         210.0,
         4450.0,
         1,
         0.0
        ],
        [
         48.7,
         15.1,
         222.0,
         5350.0,
         1,
         0.0
        ],
        [
         49.0,
         16.1,
         216.0,
         5550.0,
         1,
         0.0
        ],
        [
         49.1,
         14.5,
         212.0,
         4625.0,
         1,
         0.0
        ],
        [
         49.1,
         14.8,
         220.0,
         5150.0,
         1,
         0.0
        ],
        [
         49.1,
         15.0,
         228.0,
         5500.0,
         1,
         0.0
        ],
        [
         49.2,
         15.2,
         221.0,
         6300.0,
         1,
         0.0
        ],
        [
         49.3,
         15.7,
         217.0,
         5850.0,
         1,
         0.0
        ],
        [
         49.4,
         15.8,
         216.0,
         4925.0,
         1,
         0.0
        ],
        [
         49.5,
         16.1,
         224.0,
         5650.0,
         1,
         0.0
        ],
        [
         49.5,
         16.2,
         229.0,
         5800.0,
         1,
         0.0
        ],
        [
         49.6,
         15.0,
         216.0,
         4750.0,
         1,
         0.0
        ],
        [
         49.6,
         16.0,
         225.0,
         5700.0,
         1,
         0.0
        ],
        [
         49.8,
         15.9,
         229.0,
         5950.0,
         1,
         0.0
        ],
        [
         49.9,
         16.1,
         213.0,
         5400.0,
         1,
         0.0
        ],
        [
         50.0,
         15.2,
         218.0,
         5700.0,
         1,
         0.0
        ],
        [
         50.0,
         15.9,
         224.0,
         5350.0,
         1,
         0.0
        ],
        [
         50.0,
         16.3,
         230.0,
         5700.0,
         1,
         0.0
        ],
        [
         50.1,
         15.0,
         225.0,
         5000.0,
         1,
         0.0
        ],
        [
         50.2,
         14.3,
         218.0,
         5700.0,
         1,
         0.0
        ],
        [
         50.5,
         15.2,
         216.0,
         5000.0,
         1,
         0.0
        ],
        [
         50.5,
         15.9,
         222.0,
         5550.0,
         1,
         0.0
        ],
        [
         50.5,
         15.9,
         225.0,
         5400.0,
         1,
         0.0
        ],
        [
         50.8,
         17.3,
         228.0,
         5600.0,
         1,
         0.0
        ],
        [
         51.1,
         16.3,
         220.0,
         6000.0,
         1,
         0.0
        ],
        [
         52.2,
         17.1,
         228.0,
         5400.0,
         1,
         0.0
        ],
        [
         52.5,
         15.6,
         221.0,
         5450.0,
         1,
         0.0
        ],
        [
         53.4,
         15.8,
         219.0,
         5500.0,
         1,
         0.0
        ],
        [
         54.3,
         15.7,
         231.0,
         5650.0,
         1,
         0.0
        ],
        [
         55.9,
         17.0,
         228.0,
         5600.0,
         1,
         0.0
        ],
        [
         59.6,
         17.0,
         230.0,
         6050.0,
         1,
         0.0
        ],
        [
         32.1,
         15.5,
         188.0,
         3050.0,
         0,
         1.0
        ],
        [
         33.1,
         16.1,
         178.0,
         2900.0,
         0,
         1.0
        ],
        [
         34.0,
         17.1,
         185.0,
         3400.0,
         0,
         1.0
        ],
        [
         35.6,
         17.5,
         191.0,
         3175.0,
         0,
         1.0
        ],
        [
         35.7,
         18.0,
         202.0,
         3550.0,
         0,
         1.0
        ],
        [
         36.0,
         17.1,
         187.0,
         3700.0,
         0,
         1.0
        ],
        [
         36.0,
         17.8,
         195.0,
         3450.0,
         0,
         1.0
        ],
        [
         36.0,
         17.9,
         190.0,
         3450.0,
         0,
         1.0
        ],
        [
         36.0,
         18.5,
         186.0,
         3100.0,
         0,
         1.0
        ],
        [
         36.3,
         19.5,
         190.0,
         3800.0,
         0,
         1.0
        ],
        [
         36.5,
         18.0,
         182.0,
         3150.0,
         0,
         1.0
        ],
        [
         36.8,
         18.5,
         193.0,
         3500.0,
         0,
         1.0
        ],
        [
         37.0,
         16.5,
         185.0,
         3400.0,
         0,
         1.0
        ],
        [
         37.2,
         18.1,
         178.0,
         3900.0,
         0,
         1.0
        ],
        [
         37.3,
         17.8,
         191.0,
         3350.0,
         0,
         1.0
        ],
        [
         37.5,
         18.5,
         199.0,
         4475.0,
         0,
         1.0
        ],
        [
         37.5,
         18.9,
         179.0,
         2975.0,
         0,
         1.0
        ],
        [
         37.6,
         19.3,
         181.0,
         3300.0,
         0,
         1.0
        ],
        [
         38.3,
         19.2,
         189.0,
         3950.0,
         0,
         1.0
        ],
        [
         38.8,
         20.0,
         190.0,
         3950.0,
         0,
         1.0
        ],
        [
         38.9,
         18.8,
         190.0,
         3600.0,
         0,
         1.0
        ],
        [
         39.0,
         18.7,
         185.0,
         3650.0,
         0,
         1.0
        ],
        [
         39.2,
         18.6,
         190.0,
         4250.0,
         0,
         1.0
        ],
        [
         39.5,
         16.7,
         178.0,
         3250.0,
         0,
         1.0
        ],
        [
         39.5,
         17.8,
         188.0,
         3300.0,
         0,
         1.0
        ],
        [
         39.6,
         18.1,
         186.0,
         4450.0,
         0,
         1.0
        ],
        [
         39.6,
         18.8,
         190.0,
         4600.0,
         0,
         1.0
        ],
        [
         39.8,
         19.1,
         184.0,
         4650.0,
         0,
         1.0
        ],
        [
         40.2,
         17.1,
         193.0,
         3400.0,
         0,
         1.0
        ],
        [
         40.2,
         20.1,
         200.0,
         3975.0,
         0,
         1.0
        ],
        [
         40.3,
         18.5,
         196.0,
         4350.0,
         0,
         1.0
        ],
        [
         40.6,
         17.2,
         187.0,
         3475.0,
         0,
         1.0
        ],
        [
         40.8,
         18.4,
         195.0,
         3900.0,
         0,
         1.0
        ],
        [
         40.9,
         16.6,
         187.0,
         3200.0,
         2,
         1.0
        ],
        [
         40.9,
         18.9,
         184.0,
         3900.0,
         0,
         1.0
        ],
        [
         41.1,
         17.5,
         190.0,
         3900.0,
         0,
         1.0
        ],
        [
         41.1,
         18.1,
         205.0,
         4300.0,
         0,
         1.0
        ],
        [
         41.1,
         19.0,
         182.0,
         3425.0,
         0,
         1.0
        ],
        [
         41.5,
         18.5,
         201.0,
         4000.0,
         0,
         1.0
        ],
        [
         42.2,
         18.5,
         180.0,
         3550.0,
         0,
         1.0
        ],
        [
         42.4,
         17.3,
         181.0,
         3600.0,
         2,
         1.0
        ],
        [
         42.5,
         16.7,
         187.0,
         3350.0,
         2,
         1.0
        ],
        [
         42.5,
         17.3,
         187.0,
         3350.0,
         2,
         1.0
        ],
        [
         43.2,
         16.6,
         187.0,
         2900.0,
         2,
         1.0
        ],
        [
         43.5,
         18.1,
         202.0,
         3400.0,
         2,
         1.0
        ],
        [
         45.2,
         16.6,
         191.0,
         3250.0,
         2,
         1.0
        ],
        [
         45.2,
         17.8,
         198.0,
         3950.0,
         2,
         1.0
        ],
        [
         45.4,
         18.7,
         188.0,
         3525.0,
         2,
         1.0
        ],
        [
         45.5,
         17.0,
         196.0,
         3500.0,
         2,
         1.0
        ],
        [
         45.6,
         19.4,
         194.0,
         3525.0,
         2,
         1.0
        ],
        [
         45.7,
         17.0,
         195.0,
         3650.0,
         2,
         1.0
        ],
        [
         45.9,
         17.1,
         190.0,
         3575.0,
         2,
         1.0
        ],
        [
         46.1,
         18.2,
         178.0,
         3250.0,
         2,
         1.0
        ],
        [
         46.2,
         17.5,
         187.0,
         3650.0,
         2,
         1.0
        ],
        [
         46.5,
         17.9,
         192.0,
         3500.0,
         2,
         1.0
        ],
        [
         46.6,
         17.8,
         193.0,
         3800.0,
         2,
         1.0
        ],
        [
         46.8,
         16.5,
         189.0,
         3650.0,
         2,
         1.0
        ],
        [
         47.6,
         18.3,
         195.0,
         3850.0,
         2,
         1.0
        ],
        [
         48.1,
         16.4,
         199.0,
         3325.0,
         2,
         1.0
        ],
        [
         48.5,
         17.5,
         191.0,
         3400.0,
         2,
         1.0
        ],
        [
         49.0,
         19.5,
         210.0,
         3950.0,
         2,
         1.0
        ],
        [
         49.0,
         19.6,
         212.0,
         4300.0,
         2,
         1.0
        ],
        [
         50.0,
         19.5,
         196.0,
         3900.0,
         2,
         1.0
        ],
        [
         50.1,
         17.9,
         190.0,
         3400.0,
         2,
         1.0
        ],
        [
         50.2,
         18.7,
         198.0,
         3775.0,
         2,
         1.0
        ],
        [
         50.2,
         18.8,
         202.0,
         3800.0,
         2,
         1.0
        ],
        [
         50.3,
         20.0,
         197.0,
         3300.0,
         2,
         1.0
        ],
        [
         50.5,
         18.4,
         200.0,
         3400.0,
         2,
         1.0
        ],
        [
         50.5,
         19.6,
         201.0,
         4050.0,
         2,
         1.0
        ],
        [
         50.6,
         19.4,
         193.0,
         3800.0,
         2,
         1.0
        ],
        [
         50.7,
         19.7,
         203.0,
         4050.0,
         2,
         1.0
        ],
        [
         50.8,
         19.0,
         210.0,
         4100.0,
         2,
         1.0
        ],
        [
         50.9,
         17.9,
         196.0,
         3675.0,
         2,
         1.0
        ],
        [
         50.9,
         19.1,
         196.0,
         3550.0,
         2,
         1.0
        ],
        [
         51.3,
         19.2,
         193.0,
         3650.0,
         2,
         1.0
        ],
        [
         51.3,
         19.9,
         198.0,
         3700.0,
         2,
         1.0
        ],
        [
         51.4,
         19.0,
         201.0,
         3950.0,
         2,
         1.0
        ],
        [
         51.5,
         18.7,
         187.0,
         3250.0,
         2,
         1.0
        ],
        [
         51.7,
         20.3,
         194.0,
         3775.0,
         2,
         1.0
        ],
        [
         51.9,
         19.5,
         206.0,
         3950.0,
         2,
         1.0
        ],
        [
         52.0,
         18.1,
         201.0,
         4050.0,
         2,
         1.0
        ],
        [
         52.0,
         19.0,
         197.0,
         4150.0,
         2,
         1.0
        ],
        [
         52.0,
         20.7,
         210.0,
         4800.0,
         2,
         1.0
        ],
        [
         52.2,
         18.8,
         197.0,
         3450.0,
         2,
         1.0
        ],
        [
         52.7,
         19.8,
         197.0,
         3725.0,
         2,
         1.0
        ],
        [
         52.8,
         20.0,
         205.0,
         4550.0,
         2,
         1.0
        ],
        [
         53.5,
         19.9,
         205.0,
         4500.0,
         2,
         1.0
        ],
        [
         54.2,
         20.8,
         201.0,
         4300.0,
         2,
         1.0
        ],
        [
         55.8,
         19.8,
         207.0,
         4000.0,
         2,
         1.0
        ],
        [
         58.0,
         17.8,
         181.0,
         3700.0,
         2,
         1.0
        ],
        [
         34.4,
         18.4,
         184.0,
         3325.0,
         0,
         2.0
        ],
        [
         35.1,
         19.4,
         193.0,
         4200.0,
         0,
         2.0
        ],
        [
         35.2,
         15.9,
         186.0,
         3050.0,
         0,
         2.0
        ],
        [
         35.5,
         17.5,
         190.0,
         3700.0,
         0,
         2.0
        ],
        [
         35.7,
         17.0,
         189.0,
         3350.0,
         0,
         2.0
        ],
        [
         35.9,
         16.6,
         190.0,
         3050.0,
         0,
         2.0
        ],
        [
         36.2,
         16.1,
         187.0,
         3550.0,
         0,
         2.0
        ],
        [
         36.6,
         17.8,
         185.0,
         3700.0,
         0,
         2.0
        ],
        [
         36.7,
         18.8,
         187.0,
         3800.0,
         0,
         2.0
        ],
        [
         36.7,
         19.3,
         193.0,
         3450.0,
         0,
         2.0
        ],
        [
         37.2,
         19.4,
         184.0,
         3900.0,
         0,
         2.0
        ],
        [
         37.7,
         19.8,
         198.0,
         3500.0,
         0,
         2.0
        ],
        [
         37.8,
         17.1,
         186.0,
         3300.0,
         0,
         2.0
        ],
        [
         38.6,
         17.0,
         188.0,
         2900.0,
         0,
         2.0
        ],
        [
         38.6,
         21.2,
         191.0,
         3800.0,
         0,
         2.0
        ],
        [
         38.7,
         19.0,
         195.0,
         3450.0,
         0,
         2.0
        ],
        [
         38.8,
         17.6,
         191.0,
         3275.0,
         0,
         2.0
        ],
        [
         38.9,
         17.8,
         181.0,
         3625.0,
         0,
         2.0
        ],
        [
         39.0,
         17.1,
         191.0,
         3050.0,
         0,
         2.0
        ],
        [
         39.1,
         18.7,
         181.0,
         3750.0,
         0,
         2.0
        ],
        [
         39.5,
         17.4,
         186.0,
         3800.0,
         0,
         2.0
        ],
        [
         39.6,
         17.2,
         196.0,
         3550.0,
         0,
         2.0
        ],
        [
         40.3,
         18.0,
         195.0,
         3250.0,
         0,
         2.0
        ],
        [
         40.6,
         19.0,
         199.0,
         4000.0,
         0,
         2.0
        ],
        [
         40.9,
         16.8,
         191.0,
         3700.0,
         0,
         2.0
        ],
        [
         41.1,
         17.6,
         182.0,
         3200.0,
         0,
         2.0
        ],
        [
         41.1,
         18.6,
         189.0,
         3325.0,
         0,
         2.0
        ],
        [
         41.5,
         18.3,
         195.0,
         4300.0,
         0,
         2.0
        ],
        [
         41.8,
         19.4,
         198.0,
         4450.0,
         0,
         2.0
        ],
        [
         42.0,
         20.2,
         190.0,
         4250.0,
         0,
         2.0
        ],
        [
         42.1,
         19.1,
         195.0,
         4000.0,
         0,
         2.0
        ],
        [
         42.9,
         17.6,
         196.0,
         4700.0,
         0,
         2.0
        ],
        [
         43.1,
         19.2,
         197.0,
         3500.0,
         0,
         2.0
        ],
        [
         44.1,
         18.0,
         210.0,
         4000.0,
         0,
         2.0
        ],
        [
         45.8,
         18.9,
         197.0,
         4150.0,
         0,
         2.0
        ],
        [
         46.0,
         21.5,
         194.0,
         4200.0,
         0,
         2.0
        ]
       ],
       "datasetInfos": [],
       "dbfsResultPath": null,
       "isJsonSchema": true,
       "metadata": {},
       "overflow": false,
       "plotOptions": {
        "customPlotOptions": {},
        "displayType": "table",
        "pivotAggregation": null,
        "pivotColumns": null,
        "xColumns": null,
        "yColumns": null
       },
       "removedWidgets": [],
       "schema": [
        {
         "metadata": "{}",
         "name": "CulmenLength",
         "type": "\"float\""
        },
        {
         "metadata": "{}",
         "name": "CulmenDepth",
         "type": "\"float\""
        },
        {
         "metadata": "{}",
         "name": "FlipperLength",
         "type": "\"float\""
        },
        {
         "metadata": "{}",
         "name": "BodyMass",
         "type": "\"float\""
        },
        {
         "metadata": "{}",
         "name": "Species",
         "type": "\"integer\""
        },
        {
         "metadata": "{\"ml_attr\":{\"vals\":[\"Biscoe\",\"Dream\",\"Torgersen\"],\"type\":\"nominal\",\"name\":\"IslandIdx\"}}",
         "name": "IslandIdx",
         "type": "\"double\""
        }
       ],
       "type": "table"
      }
     },
     "output_type": "display_data"
    }
   ],
   "source": [
    "from pyspark.ml.feature import StringIndexer\n",
    "\n",
    "indexer = StringIndexer(inputCol=\"Island\", outputCol=\"IslandIdx\")\n",
    "indexedData = indexer.fit(train).transform(train).drop(\"Island\")\n",
    "display(indexedData)"
   ]
  },
  {
   "cell_type": "code",
   "execution_count": 0,
   "metadata": {
    "application/vnd.databricks.v1+cell": {
     "cellMetadata": {
      "byteLimit": 2048000,
      "rowLimit": 10000
     },
     "inputWidgets": {},
     "nuid": "fb114b87-f219-4060-abc1-632421b279de",
     "showTitle": false,
     "tableResultSettingsMap": {},
     "title": ""
    }
   },
   "outputs": [
    {
     "output_type": "stream",
     "name": "stdout",
     "output_type": "stream",
     "text": [
      "\uD83C\uDFC3 View run honorable-mule-234 at: https://adb-417837659617408.8.azuredatabricks.net/ml/experiments/2521787647535717/runs/155beba322cc440a8a699c7110f43ad9\n\uD83E\uDDEA View experiment at: https://adb-417837659617408.8.azuredatabricks.net/ml/experiments/2521787647535717\n"
     ]
    },
    {
     "output_type": "display_data",
     "data": {
      "text/html": [
       "<style scoped>\n",
       "  .table-result-container {\n",
       "    max-height: 300px;\n",
       "    overflow: auto;\n",
       "  }\n",
       "  table, th, td {\n",
       "    border: 1px solid black;\n",
       "    border-collapse: collapse;\n",
       "  }\n",
       "  th, td {\n",
       "    padding: 5px;\n",
       "  }\n",
       "  th {\n",
       "    text-align: left;\n",
       "  }\n",
       "</style><div class='table-result-container'><table class='table-result'><thead style='background-color: white'><tr><th>numericFeatures</th><th>normalizedFeatures</th></tr></thead><tbody><tr><td>Map(vectorType -> dense, length -> 4, values -> List(35.29999923706055, 18.899999618530273, 187.0, 3800.0))</td><td>Map(vectorType -> dense, length -> 4, values -> List(0.1163636641068892, 0.6904761310067009, 0.22807017543859648, 0.2753623188405797))</td></tr><tr><td>Map(vectorType -> dense, length -> 4, values -> List(35.5, 16.200000762939453, 195.0, 3350.0))</td><td>Map(vectorType -> dense, length -> 4, values -> List(0.12363641912286931, 0.3690476812202672, 0.3684210526315789, 0.14492753623188406))</td></tr><tr><td>Map(vectorType -> dense, length -> 4, values -> List(36.400001525878906, 17.100000381469727, 184.0, 2850.0))</td><td>Map(vectorType -> dense, length -> 4, values -> List(0.1563637473366477, 0.47619049781574513, 0.17543859649122806, 0.0))</td></tr><tr><td>Map(vectorType -> dense, length -> 4, values -> List(36.5, 16.600000381469727, 181.0, 2850.0))</td><td>Map(vectorType -> dense, length -> 4, values -> List(0.16000005548650567, 0.416666685588777, 0.12280701754385964, 0.0))</td></tr><tr><td>Map(vectorType -> dense, length -> 4, values -> List(37.599998474121094, 17.0, 185.0, 3600.0))</td><td>Map(vectorType -> dense, length -> 4, values -> List(0.19999999999999998, 0.46428568995728675, 0.19298245614035087, 0.21739130434782608))</td></tr><tr><td>Map(vectorType -> dense, length -> 4, values -> List(37.599998474121094, 19.100000381469727, 194.0, 3750.0))</td><td>Map(vectorType -> dense, length -> 4, values -> List(0.19999999999999998, 0.7142857467236177, 0.3508771929824561, 0.2608695652173913))</td></tr><tr><td>Map(vectorType -> dense, length -> 4, values -> List(37.70000076293945, 18.700000762939453, 180.0, 3600.0))</td><td>Map(vectorType -> dense, length -> 4, values -> List(0.20363644686612214, 0.6666667423551079, 0.10526315789473684, 0.21739130434782608))</td></tr><tr><td>Map(vectorType -> dense, length -> 4, values -> List(37.79999923706055, 18.299999237060547, 174.0, 3400.0))</td><td>Map(vectorType -> dense, length -> 4, values -> List(0.2072727550159801, 0.6190475109212744, 0.0, 0.15942028985507245))</td></tr><tr><td>Map(vectorType -> dense, length -> 4, values -> List(37.79999923706055, 20.0, 190.0, 4250.0))</td><td>Map(vectorType -> dense, length -> 4, values -> List(0.2072727550159801, 0.8214285633190956, 0.2807017543859649, 0.40579710144927533))</td></tr><tr><td>Map(vectorType -> dense, length -> 4, values -> List(37.900001525878906, 18.600000381469727, 193.0, 2925.0))</td><td>Map(vectorType -> dense, length -> 4, values -> List(0.21090920188210227, 0.6547619344966495, 0.3333333333333333, 0.021739130434782608))</td></tr><tr><td>Map(vectorType -> dense, length -> 4, values -> List(38.099998474121094, 16.5, 198.0, 3825.0))</td><td>Map(vectorType -> dense, length -> 4, values -> List(0.21818181818181817, 0.40476187773031863, 0.42105263157894735, 0.2826086956521739))</td></tr><tr><td>Map(vectorType -> dense, length -> 4, values -> List(38.099998474121094, 17.0, 181.0, 3175.0))</td><td>Map(vectorType -> dense, length -> 4, values -> List(0.21818181818181817, 0.46428568995728675, 0.12280701754385964, 0.09420289855072464))</td></tr><tr><td>Map(vectorType -> dense, length -> 4, values -> List(38.20000076293945, 18.100000381469727, 185.0, 3950.0))</td><td>Map(vectorType -> dense, length -> 4, values -> List(0.22181826504794033, 0.5952381222696814, 0.19298245614035087, 0.3188405797101449))</td></tr><tr><td>Map(vectorType -> dense, length -> 4, values -> List(38.599998474121094, 17.200000762939453, 199.0, 3750.0))</td><td>Map(vectorType -> dense, length -> 4, values -> List(0.23636363636363636, 0.4880953056742035, 0.43859649122807015, 0.2608695652173913))</td></tr><tr><td>Map(vectorType -> dense, length -> 4, values -> List(39.0, 17.5, 186.0, 3550.0))</td><td>Map(vectorType -> dense, length -> 4, values -> List(0.2509091463955966, 0.5238095021842549, 0.21052631578947367, 0.20289855072463767))</td></tr><tr><td>Map(vectorType -> dense, length -> 4, values -> List(39.599998474121094, 17.700000762939453, 186.0, 3500.0))</td><td>Map(vectorType -> dense, length -> 4, values -> List(0.2727272727272727, 0.5476191179011717, 0.21052631578947367, 0.18840579710144928))</td></tr><tr><td>Map(vectorType -> dense, length -> 4, values -> List(39.70000076293945, 17.700000762939453, 193.0, 3200.0))</td><td>Map(vectorType -> dense, length -> 4, values -> List(0.2763637195933949, 0.5476191179011717, 0.3333333333333333, 0.10144927536231883))</td></tr><tr><td>Map(vectorType -> dense, length -> 4, values -> List(40.099998474121094, 18.899999618530273, 188.0, 4300.0))</td><td>Map(vectorType -> dense, length -> 4, values -> List(0.2909090909090909, 0.6904761310067009, 0.24561403508771928, 0.42028985507246375))</td></tr><tr><td>Map(vectorType -> dense, length -> 4, values -> List(40.5, 17.899999618530273, 187.0, 3200.0))</td><td>Map(vectorType -> dense, length -> 4, values -> List(0.30545460094105115, 0.5714285065527647, 0.22807017543859648, 0.10144927536231883))</td></tr><tr><td>Map(vectorType -> dense, length -> 4, values -> List(40.5, 18.899999618530273, 180.0, 3950.0))</td><td>Map(vectorType -> dense, length -> 4, values -> List(0.30545460094105115, 0.6904761310067009, 0.10526315789473684, 0.3188405797101449))</td></tr><tr><td>Map(vectorType -> dense, length -> 4, values -> List(41.099998474121094, 18.200000762939453, 192.0, 4050.0))</td><td>Map(vectorType -> dense, length -> 4, values -> List(0.32727272727272727, 0.6071429301281398, 0.3157894736842105, 0.34782608695652173))</td></tr><tr><td>Map(vectorType -> dense, length -> 4, values -> List(41.099998474121094, 19.100000381469727, 188.0, 4100.0))</td><td>Map(vectorType -> dense, length -> 4, values -> List(0.32727272727272727, 0.7142857467236177, 0.24561403508771928, 0.36231884057971014))</td></tr><tr><td>Map(vectorType -> dense, length -> 4, values -> List(41.29999923706055, 21.100000381469727, 195.0, 4400.0))</td><td>Map(vectorType -> dense, length -> 4, values -> List(0.3345454822887074, 0.9523809956314903, 0.3684210526315789, 0.4492753623188406))</td></tr><tr><td>Map(vectorType -> dense, length -> 4, values -> List(41.400001525878906, 18.600000381469727, 191.0, 3700.0))</td><td>Map(vectorType -> dense, length -> 4, values -> List(0.33818192915482953, 0.6547619344966495, 0.2982456140350877, 0.24637681159420288))</td></tr><tr><td>Map(vectorType -> dense, length -> 4, values -> List(42.0, 13.5, 210.0, 4150.0))</td><td>Map(vectorType -> dense, length -> 4, values -> List(0.36000005548650565, 0.047619004368509764, 0.631578947368421, 0.37681159420289856))</td></tr><tr><td>Map(vectorType -> dense, length -> 4, values -> List(42.0, 19.5, 200.0, 4050.0))</td><td>Map(vectorType -> dense, length -> 4, values -> List(0.36000005548650565, 0.7619047510921274, 0.45614035087719296, 0.34782608695652173))</td></tr><tr><td>Map(vectorType -> dense, length -> 4, values -> List(42.599998474121094, 13.699999809265137, 213.0, 4950.0))</td><td>Map(vectorType -> dense, length -> 4, values -> List(0.3818181818181818, 0.07142850655276464, 0.6842105263157894, 0.6086956521739131))</td></tr><tr><td>Map(vectorType -> dense, length -> 4, values -> List(42.70000076293945, 13.699999809265137, 208.0, 3950.0))</td><td>Map(vectorType -> dense, length -> 4, values -> List(0.38545462868430397, 0.07142850655276464, 0.5964912280701754, 0.3188405797101449))</td></tr><tr><td>Map(vectorType -> dense, length -> 4, values -> List(42.70000076293945, 18.299999237060547, 196.0, 4075.0))</td><td>Map(vectorType -> dense, length -> 4, values -> List(0.38545462868430397, 0.6190475109212744, 0.38596491228070173, 0.3550724637681159))</td></tr><tr><td>Map(vectorType -> dense, length -> 4, values -> List(42.79999923706055, 14.199999809265137, 209.0, 4700.0))</td><td>Map(vectorType -> dense, length -> 4, values -> List(0.3890909368341619, 0.1309523187797328, 0.6140350877192982, 0.536231884057971))</td></tr><tr><td>Map(vectorType -> dense, length -> 4, values -> List(42.900001525878906, 13.100000381469727, 215.0, 5000.0))</td><td>Map(vectorType -> dense, length -> 4, values -> List(0.3927273837002841, 0.0, 0.7192982456140351, 0.6231884057971014))</td></tr><tr><td>Map(vectorType -> dense, length -> 4, values -> List(43.20000076293945, 14.5, 208.0, 4450.0))</td><td>Map(vectorType -> dense, length -> 4, values -> List(0.40363644686612216, 0.16666662882244604, 0.5964912280701754, 0.463768115942029))</td></tr><tr><td>Map(vectorType -> dense, length -> 4, values -> List(43.20000076293945, 19.0, 197.0, 4775.0))</td><td>Map(vectorType -> dense, length -> 4, values -> List(0.40363644686612216, 0.7023809388651593, 0.40350877192982454, 0.5579710144927537))</td></tr><tr><td>Map(vectorType -> dense, length -> 4, values -> List(43.29999923706055, 13.399999618530273, 209.0, 4400.0))</td><td>Map(vectorType -> dense, length -> 4, values -> List(0.4072727550159801, 0.03571419651005139, 0.6140350877192982, 0.4492753623188406))</td></tr><tr><td>Map(vectorType -> dense, length -> 4, values -> List(43.400001525878906, 14.399999618530273, 218.0, 4600.0))</td><td>Map(vectorType -> dense, length -> 4, values -> List(0.4109092018821022, 0.15476182096398766, 0.7719298245614035, 0.5072463768115942))</td></tr><tr><td>Map(vectorType -> dense, length -> 4, values -> List(43.5, 14.199999809265137, 220.0, 4700.0))</td><td>Map(vectorType -> dense, length -> 4, values -> List(0.4145455100319602, 0.1309523187797328, 0.8070175438596491, 0.536231884057971))</td></tr><tr><td>Map(vectorType -> dense, length -> 4, values -> List(43.5, 15.199999809265137, 213.0, 4650.0))</td><td>Map(vectorType -> dense, length -> 4, values -> List(0.4145455100319602, 0.24999994323366906, 0.6842105263157894, 0.5217391304347826))</td></tr><tr><td>Map(vectorType -> dense, length -> 4, values -> List(43.599998474121094, 13.899999618530273, 217.0, 4900.0))</td><td>Map(vectorType -> dense, length -> 4, values -> List(0.41818181818181815, 0.09523800873701953, 0.7543859649122806, 0.5942028985507246))</td></tr><tr><td>Map(vectorType -> dense, length -> 4, values -> List(43.79999923706055, 13.899999618530273, 208.0, 4300.0))</td><td>Map(vectorType -> dense, length -> 4, values -> List(0.4254545731977983, 0.09523800873701953, 0.5964912280701754, 0.42028985507246375))</td></tr><tr><td>Map(vectorType -> dense, length -> 4, values -> List(44.0, 13.600000381469727, 208.0, 4350.0))</td><td>Map(vectorType -> dense, length -> 4, values -> List(0.4327273282137784, 0.05952381222696814, 0.5964912280701754, 0.43478260869565216))</td></tr><tr><td>Map(vectorType -> dense, length -> 4, values -> List(44.5, 14.699999809265137, 214.0, 4850.0))</td><td>Map(vectorType -> dense, length -> 4, values -> List(0.4509091463955966, 0.19047613100670094, 0.7017543859649122, 0.5797101449275363))</td></tr><tr><td>Map(vectorType -> dense, length -> 4, values -> List(44.5, 15.699999809265137, 217.0, 4875.0))</td><td>Map(vectorType -> dense, length -> 4, values -> List(0.4509091463955966, 0.3095237554606372, 0.7543859649122806, 0.5869565217391304))</td></tr><tr><td>Map(vectorType -> dense, length -> 4, values -> List(44.900001525878906, 13.300000190734863, 213.0, 5100.0))</td><td>Map(vectorType -> dense, length -> 4, values -> List(0.4654546564275568, 0.023809502184254882, 0.6842105263157894, 0.6521739130434783))</td></tr><tr><td>Map(vectorType -> dense, length -> 4, values -> List(44.900001525878906, 13.800000190734863, 212.0, 4750.0))</td><td>Map(vectorType -> dense, length -> 4, values -> List(0.4654546564275568, 0.08333331441122302, 0.6666666666666666, 0.5507246376811594))</td></tr><tr><td>Map(vectorType -> dense, length -> 4, values -> List(45.0, 15.399999618530273, 220.0, 5050.0))</td><td>Map(vectorType -> dense, length -> 4, values -> List(0.4690909645774147, 0.27380944541792396, 0.8070175438596491, 0.6376811594202898))</td></tr><tr><td>Map(vectorType -> dense, length -> 4, values -> List(45.099998474121094, 14.399999618530273, 210.0, 4400.0))</td><td>Map(vectorType -> dense, length -> 4, values -> List(0.4727272727272727, 0.15476182096398766, 0.631578947368421, 0.4492753623188406))</td></tr><tr><td>Map(vectorType -> dense, length -> 4, values -> List(45.099998474121094, 14.5, 207.0, 5050.0))</td><td>Map(vectorType -> dense, length -> 4, values -> List(0.4727272727272727, 0.16666662882244604, 0.5789473684210527, 0.6376811594202898))</td></tr><tr><td>Map(vectorType -> dense, length -> 4, values -> List(45.099998474121094, 14.5, 215.0, 5000.0))</td><td>Map(vectorType -> dense, length -> 4, values -> List(0.4727272727272727, 0.16666662882244604, 0.7192982456140351, 0.6231884057971014))</td></tr><tr><td>Map(vectorType -> dense, length -> 4, values -> List(45.20000076293945, 13.800000190734863, 215.0, 4750.0))</td><td>Map(vectorType -> dense, length -> 4, values -> List(0.47636371959339485, 0.08333331441122302, 0.7192982456140351, 0.5507246376811594))</td></tr><tr><td>Map(vectorType -> dense, length -> 4, values -> List(45.20000076293945, 14.800000190734863, 212.0, 5200.0))</td><td>Map(vectorType -> dense, length -> 4, values -> List(0.47636371959339485, 0.20238093886515932, 0.6666666666666666, 0.6811594202898551))</td></tr><tr><td>Map(vectorType -> dense, length -> 4, values -> List(45.20000076293945, 15.800000190734863, 215.0, 5300.0))</td><td>Map(vectorType -> dense, length -> 4, values -> List(0.47636371959339485, 0.3214285633190956, 0.7192982456140351, 0.7101449275362318))</td></tr><tr><td>Map(vectorType -> dense, length -> 4, values -> List(45.20000076293945, 16.399999618530273, 223.0, 5950.0))</td><td>Map(vectorType -> dense, length -> 4, values -> List(0.47636371959339485, 0.39285706987186025, 0.8596491228070176, 0.8985507246376812))</td></tr><tr><td>Map(vectorType -> dense, length -> 4, values -> List(45.29999923706055, 13.699999809265137, 210.0, 4300.0))</td><td>Map(vectorType -> dense, length -> 4, values -> List(0.48000002774325284, 0.07142850655276464, 0.631578947368421, 0.42028985507246375))</td></tr><tr><td>Map(vectorType -> dense, length -> 4, values -> List(45.29999923706055, 13.800000190734863, 208.0, 4200.0))</td><td>Map(vectorType -> dense, length -> 4, values -> List(0.48000002774325284, 0.08333331441122302, 0.5964912280701754, 0.391304347826087))</td></tr><tr><td>Map(vectorType -> dense, length -> 4, values -> List(45.400001525878906, 14.600000381469727, 211.0, 4800.0))</td><td>Map(vectorType -> dense, length -> 4, values -> List(0.483636474609375, 0.17857143668090442, 0.6491228070175439, 0.5652173913043478))</td></tr><tr><td>Map(vectorType -> dense, length -> 4, values -> List(45.5, 13.699999809265137, 214.0, 4650.0))</td><td>Map(vectorType -> dense, length -> 4, values -> List(0.4872727827592329, 0.07142850655276464, 0.7017543859649122, 0.5217391304347826))</td></tr><tr><td>Map(vectorType -> dense, length -> 4, values -> List(45.5, 14.5, 212.0, 4750.0))</td><td>Map(vectorType -> dense, length -> 4, values -> List(0.4872727827592329, 0.16666662882244604, 0.6666666666666666, 0.5507246376811594))</td></tr><tr><td>Map(vectorType -> dense, length -> 4, values -> List(45.5, 15.0, 220.0, 5000.0))</td><td>Map(vectorType -> dense, length -> 4, values -> List(0.4872727827592329, 0.2261904410494142, 0.8070175438596491, 0.6231884057971014))</td></tr><tr><td>Map(vectorType -> dense, length -> 4, values -> List(45.70000076293945, 13.899999618530273, 214.0, 4400.0))</td><td>Map(vectorType -> dense, length -> 4, values -> List(0.49454553777521304, 0.09523800873701953, 0.7017543859649122, 0.4492753623188406))</td></tr><tr><td>Map(vectorType -> dense, length -> 4, values -> List(45.79999923706055, 14.199999809265137, 219.0, 4700.0))</td><td>Map(vectorType -> dense, length -> 4, values -> List(0.498181845925071, 0.1309523187797328, 0.7894736842105263, 0.536231884057971))</td></tr><tr><td>Map(vectorType -> dense, length -> 4, values -> List(45.79999923706055, 14.600000381469727, 210.0, 4200.0))</td><td>Map(vectorType -> dense, length -> 4, values -> List(0.498181845925071, 0.17857143668090442, 0.631578947368421, 0.391304347826087))</td></tr><tr><td>Map(vectorType -> dense, length -> 4, values -> List(46.099998474121094, 13.199999809265137, 211.0, 4500.0))</td><td>Map(vectorType -> dense, length -> 4, values -> List(0.509090909090909, 0.011904694325796506, 0.6491228070175439, 0.4782608695652174))</td></tr><tr><td>Map(vectorType -> dense, length -> 4, values -> List(46.20000076293945, 14.399999618530273, 214.0, 4650.0))</td><td>Map(vectorType -> dense, length -> 4, values -> List(0.5127273559570312, 0.15476182096398766, 0.7017543859649122, 0.5217391304347826))</td></tr><tr><td>Map(vectorType -> dense, length -> 4, values -> List(46.20000076293945, 14.5, 209.0, 4800.0))</td><td>Map(vectorType -> dense, length -> 4, values -> List(0.5127273559570312, 0.16666662882244604, 0.6140350877192982, 0.5652173913043478))</td></tr><tr><td>Map(vectorType -> dense, length -> 4, values -> List(46.20000076293945, 14.899999618530273, 221.0, 5300.0))</td><td>Map(vectorType -> dense, length -> 4, values -> List(0.5127273559570312, 0.2142856331909558, 0.8245614035087718, 0.7101449275362318))</td></tr><tr><td>Map(vectorType -> dense, length -> 4, values -> List(46.400001525878906, 15.0, 216.0, 4700.0))</td><td>Map(vectorType -> dense, length -> 4, values -> List(0.5200001109730114, 0.2261904410494142, 0.7368421052631579, 0.536231884057971))</td></tr><tr><td>Map(vectorType -> dense, length -> 4, values -> List(46.5, 13.5, 210.0, 4550.0))</td><td>Map(vectorType -> dense, length -> 4, values -> List(0.5236364191228693, 0.047619004368509764, 0.631578947368421, 0.49275362318840576))</td></tr><tr><td>Map(vectorType -> dense, length -> 4, values -> List(46.5, 14.399999618530273, 217.0, 4900.0))</td><td>Map(vectorType -> dense, length -> 4, values -> List(0.5236364191228693, 0.15476182096398766, 0.7543859649122806, 0.5942028985507246))</td></tr><tr><td>Map(vectorType -> dense, length -> 4, values -> List(46.5, 14.5, 213.0, 4400.0))</td><td>Map(vectorType -> dense, length -> 4, values -> List(0.5236364191228693, 0.16666662882244604, 0.6842105263157894, 0.4492753623188406))</td></tr><tr><td>Map(vectorType -> dense, length -> 4, values -> List(46.599998474121094, 14.199999809265137, 210.0, 4850.0))</td><td>Map(vectorType -> dense, length -> 4, values -> List(0.5272727272727272, 0.1309523187797328, 0.631578947368421, 0.5797101449275363))</td></tr><tr><td>Map(vectorType -> dense, length -> 4, values -> List(46.79999923706055, 15.399999618530273, 215.0, 5150.0))</td><td>Map(vectorType -> dense, length -> 4, values -> List(0.5345454822887074, 0.27380944541792396, 0.7192982456140351, 0.6666666666666666))</td></tr><tr><td>Map(vectorType -> dense, length -> 4, values -> List(46.79999923706055, 16.100000381469727, 215.0, 5500.0))</td><td>Map(vectorType -> dense, length -> 4, values -> List(0.5345454822887074, 0.35714287336180883, 0.7192982456140351, 0.7681159420289855))</td></tr><tr><td>Map(vectorType -> dense, length -> 4, values -> List(47.20000076293945, 15.5, 215.0, 4975.0))</td><td>Map(vectorType -> dense, length -> 4, values -> List(0.5490909923206676, 0.28571425327638234, 0.7192982456140351, 0.6159420289855072))</td></tr><tr><td>Map(vectorType -> dense, length -> 4, values -> List(47.29999923706055, 13.800000190734863, 216.0, 4725.0))</td><td>Map(vectorType -> dense, length -> 4, values -> List(0.5527273004705255, 0.08333331441122302, 0.7368421052631579, 0.5434782608695652))</td></tr><tr><td>Map(vectorType -> dense, length -> 4, values -> List(47.5, 14.0, 212.0, 4875.0))</td><td>Map(vectorType -> dense, length -> 4, values -> List(0.5600000554865057, 0.1071428165954779, 0.6666666666666666, 0.5869565217391304))</td></tr><tr><td>Map(vectorType -> dense, length -> 4, values -> List(47.5, 14.199999809265137, 209.0, 4600.0))</td><td>Map(vectorType -> dense, length -> 4, values -> List(0.5600000554865057, 0.1309523187797328, 0.6140350877192982, 0.5072463768115942))</td></tr><tr><td>Map(vectorType -> dense, length -> 4, values -> List(47.5, 15.0, 218.0, 4950.0))</td><td>Map(vectorType -> dense, length -> 4, values -> List(0.5600000554865057, 0.2261904410494142, 0.7719298245614035, 0.6086956521739131))</td></tr><tr><td>Map(vectorType -> dense, length -> 4, values -> List(47.599998474121094, 14.5, 215.0, 5400.0))</td><td>Map(vectorType -> dense, length -> 4, values -> List(0.5636363636363636, 0.16666662882244604, 0.7192982456140351, 0.7391304347826086))</td></tr><tr><td>Map(vectorType -> dense, length -> 4, values -> List(47.70000076293945, 15.0, 216.0, 4750.0))</td><td>Map(vectorType -> dense, length -> 4, values -> List(0.5672728105024858, 0.2261904410494142, 0.7368421052631579, 0.5507246376811594))</td></tr><tr><td>Map(vectorType -> dense, length -> 4, values -> List(47.79999923706055, 15.0, 215.0, 5650.0))</td><td>Map(vectorType -> dense, length -> 4, values -> List(0.5709091186523437, 0.2261904410494142, 0.7192982456140351, 0.8115942028985507))</td></tr><tr><td>Map(vectorType -> dense, length -> 4, values -> List(48.099998474121094, 15.100000381469727, 209.0, 5500.0))</td><td>Map(vectorType -> dense, length -> 4, values -> List(0.5818181818181818, 0.23809524890787256, 0.6140350877192982, 0.7681159420289855))</td></tr><tr><td>Map(vectorType -> dense, length -> 4, values -> List(48.20000076293945, 14.300000190734863, 210.0, 4600.0))</td><td>Map(vectorType -> dense, length -> 4, values -> List(0.585454628684304, 0.14285712663819117, 0.631578947368421, 0.5072463768115942))</td></tr><tr><td>Map(vectorType -> dense, length -> 4, values -> List(48.400001525878906, 14.399999618530273, 203.0, 4625.0))</td><td>Map(vectorType -> dense, length -> 4, values -> List(0.5927273837002841, 0.15476182096398766, 0.5087719298245614, 0.5144927536231884))</td></tr><tr><td>Map(vectorType -> dense, length -> 4, values -> List(48.400001525878906, 14.600000381469727, 213.0, 5850.0))</td><td>Map(vectorType -> dense, length -> 4, values -> List(0.5927273837002841, 0.17857143668090442, 0.6842105263157894, 0.8695652173913043))</td></tr><tr><td>Map(vectorType -> dense, length -> 4, values -> List(48.400001525878906, 16.299999237060547, 220.0, 5400.0))</td><td>Map(vectorType -> dense, length -> 4, values -> List(0.5927273837002841, 0.3809522620134019, 0.8070175438596491, 0.7391304347826086))</td></tr><tr><td>Map(vectorType -> dense, length -> 4, values -> List(48.5, 14.100000381469727, 220.0, 5300.0))</td><td>Map(vectorType -> dense, length -> 4, values -> List(0.596363691850142, 0.11904762445393628, 0.8070175438596491, 0.7101449275362318))</td></tr><tr><td>Map(vectorType -> dense, length -> 4, values -> List(48.5, 15.0, 219.0, 4850.0))</td><td>Map(vectorType -> dense, length -> 4, values -> List(0.596363691850142, 0.2261904410494142, 0.7894736842105263, 0.5797101449275363))</td></tr><tr><td>Map(vectorType -> dense, length -> 4, values -> List(48.70000076293945, 14.100000381469727, 210.0, 4450.0))</td><td>Map(vectorType -> dense, length -> 4, values -> List(0.6036364468661222, 0.11904762445393628, 0.631578947368421, 0.463768115942029))</td></tr><tr><td>Map(vectorType -> dense, length -> 4, values -> List(48.70000076293945, 15.100000381469727, 222.0, 5350.0))</td><td>Map(vectorType -> dense, length -> 4, values -> List(0.6036364468661222, 0.23809524890787256, 0.8421052631578947, 0.7246376811594203))</td></tr><tr><td>Map(vectorType -> dense, length -> 4, values -> List(49.0, 16.100000381469727, 216.0, 5550.0))</td><td>Map(vectorType -> dense, length -> 4, values -> List(0.6145455100319602, 0.35714287336180883, 0.7368421052631579, 0.782608695652174))</td></tr><tr><td>Map(vectorType -> dense, length -> 4, values -> List(49.099998474121094, 14.5, 212.0, 4625.0))</td><td>Map(vectorType -> dense, length -> 4, values -> List(0.6181818181818182, 0.16666662882244604, 0.6666666666666666, 0.5144927536231884))</td></tr><tr><td>Map(vectorType -> dense, length -> 4, values -> List(49.099998474121094, 14.800000190734863, 220.0, 5150.0))</td><td>Map(vectorType -> dense, length -> 4, values -> List(0.6181818181818182, 0.20238093886515932, 0.8070175438596491, 0.6666666666666666))</td></tr><tr><td>Map(vectorType -> dense, length -> 4, values -> List(49.099998474121094, 15.0, 228.0, 5500.0))</td><td>Map(vectorType -> dense, length -> 4, values -> List(0.6181818181818182, 0.2261904410494142, 0.9473684210526315, 0.7681159420289855))</td></tr><tr><td>Map(vectorType -> dense, length -> 4, values -> List(49.20000076293945, 15.199999809265137, 221.0, 6300.0))</td><td>Map(vectorType -> dense, length -> 4, values -> List(0.6218182650479404, 0.24999994323366906, 0.8245614035087718, 1.0))</td></tr><tr><td>Map(vectorType -> dense, length -> 4, values -> List(49.29999923706055, 15.699999809265137, 217.0, 5850.0))</td><td>Map(vectorType -> dense, length -> 4, values -> List(0.6254545731977983, 0.3095237554606372, 0.7543859649122806, 0.8695652173913043))</td></tr><tr><td>Map(vectorType -> dense, length -> 4, values -> List(49.400001525878906, 15.800000190734863, 216.0, 4925.0))</td><td>Map(vectorType -> dense, length -> 4, values -> List(0.6290910200639204, 0.3214285633190956, 0.7368421052631579, 0.6014492753623188))</td></tr><tr><td>Map(vectorType -> dense, length -> 4, values -> List(49.5, 16.100000381469727, 224.0, 5650.0))</td><td>Map(vectorType -> dense, length -> 4, values -> List(0.6327273282137784, 0.35714287336180883, 0.8771929824561403, 0.8115942028985507))</td></tr><tr><td>Map(vectorType -> dense, length -> 4, values -> List(49.5, 16.200000762939453, 229.0, 5800.0))</td><td>Map(vectorType -> dense, length -> 4, values -> List(0.6327273282137784, 0.3690476812202672, 0.9649122807017543, 0.855072463768116))</td></tr><tr><td>Map(vectorType -> dense, length -> 4, values -> List(49.599998474121094, 15.0, 216.0, 4750.0))</td><td>Map(vectorType -> dense, length -> 4, values -> List(0.6363636363636364, 0.2261904410494142, 0.7368421052631579, 0.5507246376811594))</td></tr><tr><td>Map(vectorType -> dense, length -> 4, values -> List(49.599998474121094, 16.0, 225.0, 5700.0))</td><td>Map(vectorType -> dense, length -> 4, values -> List(0.6363636363636364, 0.34523806550335046, 0.894736842105263, 0.8260869565217391))</td></tr><tr><td>Map(vectorType -> dense, length -> 4, values -> List(49.79999923706055, 15.899999618530273, 229.0, 5950.0))</td><td>Map(vectorType -> dense, length -> 4, values -> List(0.6436363913796165, 0.3333332576448921, 0.9649122807017543, 0.8985507246376812))</td></tr><tr><td>Map(vectorType -> dense, length -> 4, values -> List(49.900001525878906, 16.100000381469727, 213.0, 5400.0))</td><td>Map(vectorType -> dense, length -> 4, values -> List(0.6472728382457386, 0.35714287336180883, 0.6842105263157894, 0.7391304347826086))</td></tr><tr><td>Map(vectorType -> dense, length -> 4, values -> List(50.0, 15.199999809265137, 218.0, 5700.0))</td><td>Map(vectorType -> dense, length -> 4, values -> List(0.6509091463955966, 0.24999994323366906, 0.7719298245614035, 0.8260869565217391))</td></tr><tr><td>Map(vectorType -> dense, length -> 4, values -> List(50.0, 15.899999618530273, 224.0, 5350.0))</td><td>Map(vectorType -> dense, length -> 4, values -> List(0.6509091463955966, 0.3333332576448921, 0.8771929824561403, 0.7246376811594203))</td></tr><tr><td>Map(vectorType -> dense, length -> 4, values -> List(50.0, 16.299999237060547, 230.0, 5700.0))</td><td>Map(vectorType -> dense, length -> 4, values -> List(0.6509091463955966, 0.3809522620134019, 0.9824561403508771, 0.8260869565217391))</td></tr><tr><td>Map(vectorType -> dense, length -> 4, values -> List(50.099998474121094, 15.0, 225.0, 5000.0))</td><td>Map(vectorType -> dense, length -> 4, values -> List(0.6545454545454545, 0.2261904410494142, 0.894736842105263, 0.6231884057971014))</td></tr><tr><td>Map(vectorType -> dense, length -> 4, values -> List(50.20000076293945, 14.300000190734863, 218.0, 5700.0))</td><td>Map(vectorType -> dense, length -> 4, values -> List(0.6581819014115766, 0.14285712663819117, 0.7719298245614035, 0.8260869565217391))</td></tr><tr><td>Map(vectorType -> dense, length -> 4, values -> List(50.5, 15.199999809265137, 216.0, 5000.0))</td><td>Map(vectorType -> dense, length -> 4, values -> List(0.6690909645774148, 0.24999994323366906, 0.7368421052631579, 0.6231884057971014))</td></tr><tr><td>Map(vectorType -> dense, length -> 4, values -> List(50.5, 15.899999618530273, 222.0, 5550.0))</td><td>Map(vectorType -> dense, length -> 4, values -> List(0.6690909645774148, 0.3333332576448921, 0.8421052631578947, 0.782608695652174))</td></tr><tr><td>Map(vectorType -> dense, length -> 4, values -> List(50.5, 15.899999618530273, 225.0, 5400.0))</td><td>Map(vectorType -> dense, length -> 4, values -> List(0.6690909645774148, 0.3333332576448921, 0.894736842105263, 0.7391304347826086))</td></tr><tr><td>Map(vectorType -> dense, length -> 4, values -> List(50.79999923706055, 17.299999237060547, 228.0, 5600.0))</td><td>Map(vectorType -> dense, length -> 4, values -> List(0.6800000277432529, 0.4999998864673381, 0.9473684210526315, 0.7971014492753623))</td></tr><tr><td>Map(vectorType -> dense, length -> 4, values -> List(51.099998474121094, 16.299999237060547, 220.0, 6000.0))</td><td>Map(vectorType -> dense, length -> 4, values -> List(0.6909090909090909, 0.3809522620134019, 0.8070175438596491, 0.9130434782608695))</td></tr><tr><td>Map(vectorType -> dense, length -> 4, values -> List(52.20000076293945, 17.100000381469727, 228.0, 5400.0))</td><td>Map(vectorType -> dense, length -> 4, values -> List(0.7309091741388494, 0.47619049781574513, 0.9473684210526315, 0.7391304347826086))</td></tr><tr><td>Map(vectorType -> dense, length -> 4, values -> List(52.5, 15.600000381469727, 221.0, 5450.0))</td><td>Map(vectorType -> dense, length -> 4, values -> List(0.7418182373046874, 0.2976190611348407, 0.8245614035087718, 0.7536231884057971))</td></tr><tr><td>Map(vectorType -> dense, length -> 4, values -> List(53.400001525878906, 15.800000190734863, 219.0, 5500.0))</td><td>Map(vectorType -> dense, length -> 4, values -> List(0.7745455655184659, 0.3214285633190956, 0.7894736842105263, 0.7681159420289855))</td></tr><tr><td>Map(vectorType -> dense, length -> 4, values -> List(54.29999923706055, 15.699999809265137, 231.0, 5650.0))</td><td>Map(vectorType -> dense, length -> 4, values -> List(0.8072727550159801, 0.3095237554606372, 1.0, 0.8115942028985507))</td></tr><tr><td>Map(vectorType -> dense, length -> 4, values -> List(55.900001525878906, 17.0, 228.0, 5600.0))</td><td>Map(vectorType -> dense, length -> 4, values -> List(0.8654546564275568, 0.46428568995728675, 0.9473684210526315, 0.7971014492753623))</td></tr><tr><td>Map(vectorType -> dense, length -> 4, values -> List(59.599998474121094, 17.0, 230.0, 6050.0))</td><td>Map(vectorType -> dense, length -> 4, values -> List(1.0, 0.46428568995728675, 0.9824561403508771, 0.927536231884058))</td></tr><tr><td>Map(vectorType -> dense, length -> 4, values -> List(32.099998474121094, 15.5, 188.0, 3050.0))</td><td>Map(vectorType -> dense, length -> 4, values -> List(0.0, 0.28571425327638234, 0.24561403508771928, 0.057971014492753624))</td></tr><tr><td>Map(vectorType -> dense, length -> 4, values -> List(33.099998474121094, 16.100000381469727, 178.0, 2900.0))</td><td>Map(vectorType -> dense, length -> 4, values -> List(0.03636363636363636, 0.35714287336180883, 0.07017543859649122, 0.014492753623188406))</td></tr><tr><td>Map(vectorType -> dense, length -> 4, values -> List(34.0, 17.100000381469727, 185.0, 3400.0))</td><td>Map(vectorType -> dense, length -> 4, values -> List(0.06909096457741477, 0.47619049781574513, 0.19298245614035087, 0.15942028985507245))</td></tr><tr><td>Map(vectorType -> dense, length -> 4, values -> List(35.599998474121094, 17.5, 191.0, 3175.0))</td><td>Map(vectorType -> dense, length -> 4, values -> List(0.12727272727272726, 0.5238095021842549, 0.2982456140350877, 0.09420289855072464))</td></tr><tr><td>Map(vectorType -> dense, length -> 4, values -> List(35.70000076293945, 18.0, 202.0, 3550.0))</td><td>Map(vectorType -> dense, length -> 4, values -> List(0.13090917413884942, 0.583333314411223, 0.49122807017543857, 0.20289855072463767))</td></tr><tr><td>Map(vectorType -> dense, length -> 4, values -> List(36.0, 17.100000381469727, 187.0, 3700.0))</td><td>Map(vectorType -> dense, length -> 4, values -> List(0.14181823730468748, 0.47619049781574513, 0.22807017543859648, 0.24637681159420288))</td></tr><tr><td>Map(vectorType -> dense, length -> 4, values -> List(36.0, 17.799999237060547, 195.0, 3450.0))</td><td>Map(vectorType -> dense, length -> 4, values -> List(0.14181823730468748, 0.5595236986943063, 0.3684210526315789, 0.17391304347826086))</td></tr><tr><td>Map(vectorType -> dense, length -> 4, values -> List(36.0, 17.899999618530273, 190.0, 3450.0))</td><td>Map(vectorType -> dense, length -> 4, values -> List(0.14181823730468748, 0.5714285065527647, 0.2807017543859649, 0.17391304347826086))</td></tr><tr><td>Map(vectorType -> dense, length -> 4, values -> List(36.0, 18.5, 186.0, 3100.0))</td><td>Map(vectorType -> dense, length -> 4, values -> List(0.14181823730468748, 0.6428571266381912, 0.21052631578947367, 0.07246376811594203))</td></tr><tr><td>Map(vectorType -> dense, length -> 4, values -> List(36.29999923706055, 19.5, 190.0, 3800.0))</td><td>Map(vectorType -> dense, length -> 4, values -> List(0.15272730047052557, 0.7619047510921274, 0.2807017543859649, 0.2753623188405797))</td></tr><tr><td>Map(vectorType -> dense, length -> 4, values -> List(36.5, 18.0, 182.0, 3150.0))</td><td>Map(vectorType -> dense, length -> 4, values -> List(0.16000005548650567, 0.583333314411223, 0.14035087719298245, 0.08695652173913043))</td></tr><tr><td>Map(vectorType -> dense, length -> 4, values -> List(36.79999923706055, 18.5, 193.0, 3500.0))</td><td>Map(vectorType -> dense, length -> 4, values -> List(0.17090911865234373, 0.6428571266381912, 0.3333333333333333, 0.18840579710144928))</td></tr><tr><td>Map(vectorType -> dense, length -> 4, values -> List(37.0, 16.5, 185.0, 3400.0))</td><td>Map(vectorType -> dense, length -> 4, values -> List(0.17818187366832386, 0.40476187773031863, 0.19298245614035087, 0.15942028985507245))</td></tr><tr><td>Map(vectorType -> dense, length -> 4, values -> List(37.20000076293945, 18.100000381469727, 178.0, 3900.0))</td><td>Map(vectorType -> dense, length -> 4, values -> List(0.18545462868430396, 0.5952381222696814, 0.07017543859649122, 0.30434782608695654))</td></tr><tr><td>Map(vectorType -> dense, length -> 4, values -> List(37.29999923706055, 17.799999237060547, 191.0, 3350.0))</td><td>Map(vectorType -> dense, length -> 4, values -> List(0.18909093683416192, 0.5595236986943063, 0.2982456140350877, 0.14492753623188406))</td></tr><tr><td>Map(vectorType -> dense, length -> 4, values -> List(37.5, 18.5, 199.0, 4475.0))</td><td>Map(vectorType -> dense, length -> 4, values -> List(0.19636369185014205, 0.6428571266381912, 0.43859649122807015, 0.47101449275362317))</td></tr><tr><td>Map(vectorType -> dense, length -> 4, values -> List(37.5, 18.899999618530273, 179.0, 2975.0))</td><td>Map(vectorType -> dense, length -> 4, values -> List(0.19636369185014205, 0.6904761310067009, 0.08771929824561403, 0.036231884057971016))</td></tr><tr><td>Map(vectorType -> dense, length -> 4, values -> List(37.599998474121094, 19.299999237060547, 181.0, 3300.0))</td><td>Map(vectorType -> dense, length -> 4, values -> List(0.19999999999999998, 0.7380951353752107, 0.12280701754385964, 0.13043478260869565))</td></tr><tr><td>Map(vectorType -> dense, length -> 4, values -> List(38.29999923706055, 19.200000762939453, 189.0, 3950.0))</td><td>Map(vectorType -> dense, length -> 4, values -> List(0.2254545731977983, 0.726190554582076, 0.2631578947368421, 0.3188405797101449))</td></tr><tr><td>Map(vectorType -> dense, length -> 4, values -> List(38.79999923706055, 20.0, 190.0, 3950.0))</td><td>Map(vectorType -> dense, length -> 4, values -> List(0.24363639137961646, 0.8214285633190956, 0.2807017543859649, 0.3188405797101449))</td></tr><tr><td>Map(vectorType -> dense, length -> 4, values -> List(38.900001525878906, 18.799999237060547, 190.0, 3600.0))</td><td>Map(vectorType -> dense, length -> 4, values -> List(0.24727283824573862, 0.6785713231482425, 0.2807017543859649, 0.21739130434782608))</td></tr><tr><td>Map(vectorType -> dense, length -> 4, values -> List(39.0, 18.700000762939453, 185.0, 3650.0))</td><td>Map(vectorType -> dense, length -> 4, values -> List(0.2509091463955966, 0.6666667423551079, 0.19298245614035087, 0.2318840579710145))</td></tr><tr><td>Map(vectorType -> dense, length -> 4, values -> List(39.20000076293945, 18.600000381469727, 190.0, 4250.0))</td><td>Map(vectorType -> dense, length -> 4, values -> List(0.2581819014115767, 0.6547619344966495, 0.2807017543859649, 0.40579710144927533))</td></tr><tr><td>Map(vectorType -> dense, length -> 4, values -> List(39.5, 16.700000762939453, 178.0, 3250.0))</td><td>Map(vectorType -> dense, length -> 4, values -> List(0.26909096457741477, 0.4285714934472354, 0.07017543859649122, 0.11594202898550725))</td></tr><tr><td>Map(vectorType -> dense, length -> 4, values -> List(39.5, 17.799999237060547, 188.0, 3300.0))</td><td>Map(vectorType -> dense, length -> 4, values -> List(0.26909096457741477, 0.5595236986943063, 0.24561403508771928, 0.13043478260869565))</td></tr><tr><td>Map(vectorType -> dense, length -> 4, values -> List(39.599998474121094, 18.100000381469727, 186.0, 4450.0))</td><td>Map(vectorType -> dense, length -> 4, values -> List(0.2727272727272727, 0.5952381222696814, 0.21052631578947367, 0.463768115942029))</td></tr><tr><td>Map(vectorType -> dense, length -> 4, values -> List(39.599998474121094, 18.799999237060547, 190.0, 4600.0))</td><td>Map(vectorType -> dense, length -> 4, values -> List(0.2727272727272727, 0.6785713231482425, 0.2807017543859649, 0.5072463768115942))</td></tr><tr><td>Map(vectorType -> dense, length -> 4, values -> List(39.79999923706055, 19.100000381469727, 184.0, 4650.0))</td><td>Map(vectorType -> dense, length -> 4, values -> List(0.28000002774325283, 0.7142857467236177, 0.17543859649122806, 0.5217391304347826))</td></tr><tr><td>Map(vectorType -> dense, length -> 4, values -> List(40.20000076293945, 17.100000381469727, 193.0, 3400.0))</td><td>Map(vectorType -> dense, length -> 4, values -> List(0.29454553777521303, 0.47619049781574513, 0.3333333333333333, 0.15942028985507245))</td></tr><tr><td>Map(vectorType -> dense, length -> 4, values -> List(40.20000076293945, 20.100000381469727, 200.0, 3975.0))</td><td>Map(vectorType -> dense, length -> 4, values -> List(0.29454553777521303, 0.833333371177554, 0.45614035087719296, 0.32608695652173914))</td></tr><tr><td>Map(vectorType -> dense, length -> 4, values -> List(40.29999923706055, 18.5, 196.0, 4350.0))</td><td>Map(vectorType -> dense, length -> 4, values -> List(0.298181845925071, 0.6428571266381912, 0.38596491228070173, 0.43478260869565216))</td></tr><tr><td>Map(vectorType -> dense, length -> 4, values -> List(40.599998474121094, 17.200000762939453, 187.0, 3475.0))</td><td>Map(vectorType -> dense, length -> 4, values -> List(0.3090909090909091, 0.4880953056742035, 0.22807017543859648, 0.18115942028985507))</td></tr><tr><td>Map(vectorType -> dense, length -> 4, values -> List(40.79999923706055, 18.399999618530273, 195.0, 3900.0))</td><td>Map(vectorType -> dense, length -> 4, values -> List(0.3163636641068892, 0.6309523187797328, 0.3684210526315789, 0.30434782608695654))</td></tr><tr><td>Map(vectorType -> dense, length -> 4, values -> List(40.900001525878906, 16.600000381469727, 187.0, 3200.0))</td><td>Map(vectorType -> dense, length -> 4, values -> List(0.32000011097301134, 0.416666685588777, 0.22807017543859648, 0.10144927536231883))</td></tr><tr><td>Map(vectorType -> dense, length -> 4, values -> List(40.900001525878906, 18.899999618530273, 184.0, 3900.0))</td><td>Map(vectorType -> dense, length -> 4, values -> List(0.32000011097301134, 0.6904761310067009, 0.17543859649122806, 0.30434782608695654))</td></tr><tr><td>Map(vectorType -> dense, length -> 4, values -> List(41.099998474121094, 17.5, 190.0, 3900.0))</td><td>Map(vectorType -> dense, length -> 4, values -> List(0.32727272727272727, 0.5238095021842549, 0.2807017543859649, 0.30434782608695654))</td></tr><tr><td>Map(vectorType -> dense, length -> 4, values -> List(41.099998474121094, 18.100000381469727, 205.0, 4300.0))</td><td>Map(vectorType -> dense, length -> 4, values -> List(0.32727272727272727, 0.5952381222696814, 0.5438596491228069, 0.42028985507246375))</td></tr><tr><td>Map(vectorType -> dense, length -> 4, values -> List(41.099998474121094, 19.0, 182.0, 3425.0))</td><td>Map(vectorType -> dense, length -> 4, values -> List(0.32727272727272727, 0.7023809388651593, 0.14035087719298245, 0.16666666666666666))</td></tr><tr><td>Map(vectorType -> dense, length -> 4, values -> List(41.5, 18.5, 201.0, 4000.0))</td><td>Map(vectorType -> dense, length -> 4, values -> List(0.34181823730468747, 0.6428571266381912, 0.47368421052631576, 0.3333333333333333))</td></tr><tr><td>Map(vectorType -> dense, length -> 4, values -> List(42.20000076293945, 18.5, 180.0, 3550.0))</td><td>Map(vectorType -> dense, length -> 4, values -> List(0.3672728105024858, 0.6428571266381912, 0.10526315789473684, 0.20289855072463767))</td></tr><tr><td>Map(vectorType -> dense, length -> 4, values -> List(42.400001525878906, 17.299999237060547, 181.0, 3600.0))</td><td>Map(vectorType -> dense, length -> 4, values -> List(0.3745455655184659, 0.4999998864673381, 0.12280701754385964, 0.21739130434782608))</td></tr><tr><td>Map(vectorType -> dense, length -> 4, values -> List(42.5, 16.700000762939453, 187.0, 3350.0))</td><td>Map(vectorType -> dense, length -> 4, values -> List(0.37818187366832384, 0.4285714934472354, 0.22807017543859648, 0.14492753623188406))</td></tr><tr><td>Map(vectorType -> dense, length -> 4, values -> List(42.5, 17.299999237060547, 187.0, 3350.0))</td><td>Map(vectorType -> dense, length -> 4, values -> List(0.37818187366832384, 0.4999998864673381, 0.22807017543859648, 0.14492753623188406))</td></tr><tr><td>Map(vectorType -> dense, length -> 4, values -> List(43.20000076293945, 16.600000381469727, 187.0, 2900.0))</td><td>Map(vectorType -> dense, length -> 4, values -> List(0.40363644686612216, 0.416666685588777, 0.22807017543859648, 0.014492753623188406))</td></tr><tr><td>Map(vectorType -> dense, length -> 4, values -> List(43.5, 18.100000381469727, 202.0, 3400.0))</td><td>Map(vectorType -> dense, length -> 4, values -> List(0.4145455100319602, 0.5952381222696814, 0.49122807017543857, 0.15942028985507245))</td></tr><tr><td>Map(vectorType -> dense, length -> 4, values -> List(45.20000076293945, 16.600000381469727, 191.0, 3250.0))</td><td>Map(vectorType -> dense, length -> 4, values -> List(0.47636371959339485, 0.416666685588777, 0.2982456140350877, 0.11594202898550725))</td></tr><tr><td>Map(vectorType -> dense, length -> 4, values -> List(45.20000076293945, 17.799999237060547, 198.0, 3950.0))</td><td>Map(vectorType -> dense, length -> 4, values -> List(0.47636371959339485, 0.5595236986943063, 0.42105263157894735, 0.3188405797101449))</td></tr><tr><td>Map(vectorType -> dense, length -> 4, values -> List(45.400001525878906, 18.700000762939453, 188.0, 3525.0))</td><td>Map(vectorType -> dense, length -> 4, values -> List(0.483636474609375, 0.6666667423551079, 0.24561403508771928, 0.1956521739130435))</td></tr><tr><td>Map(vectorType -> dense, length -> 4, values -> List(45.5, 17.0, 196.0, 3500.0))</td><td>Map(vectorType -> dense, length -> 4, values -> List(0.4872727827592329, 0.46428568995728675, 0.38596491228070173, 0.18840579710144928))</td></tr><tr><td>Map(vectorType -> dense, length -> 4, values -> List(45.599998474121094, 19.399999618530273, 194.0, 3525.0))</td><td>Map(vectorType -> dense, length -> 4, values -> List(0.4909090909090909, 0.749999943233669, 0.3508771929824561, 0.1956521739130435))</td></tr><tr><td>Map(vectorType -> dense, length -> 4, values -> List(45.70000076293945, 17.0, 195.0, 3650.0))</td><td>Map(vectorType -> dense, length -> 4, values -> List(0.49454553777521304, 0.46428568995728675, 0.3684210526315789, 0.2318840579710145))</td></tr><tr><td>Map(vectorType -> dense, length -> 4, values -> List(45.900001525878906, 17.100000381469727, 190.0, 3575.0))</td><td>Map(vectorType -> dense, length -> 4, values -> List(0.5018182927911932, 0.47619049781574513, 0.2807017543859649, 0.21014492753623187))</td></tr><tr><td>Map(vectorType -> dense, length -> 4, values -> List(46.099998474121094, 18.200000762939453, 178.0, 3250.0))</td><td>Map(vectorType -> dense, length -> 4, values -> List(0.509090909090909, 0.6071429301281398, 0.07017543859649122, 0.11594202898550725))</td></tr><tr><td>Map(vectorType -> dense, length -> 4, values -> List(46.20000076293945, 17.5, 187.0, 3650.0))</td><td>Map(vectorType -> dense, length -> 4, values -> List(0.5127273559570312, 0.5238095021842549, 0.22807017543859648, 0.2318840579710145))</td></tr><tr><td>Map(vectorType -> dense, length -> 4, values -> List(46.5, 17.899999618530273, 192.0, 3500.0))</td><td>Map(vectorType -> dense, length -> 4, values -> List(0.5236364191228693, 0.5714285065527647, 0.3157894736842105, 0.18840579710144928))</td></tr><tr><td>Map(vectorType -> dense, length -> 4, values -> List(46.599998474121094, 17.799999237060547, 193.0, 3800.0))</td><td>Map(vectorType -> dense, length -> 4, values -> List(0.5272727272727272, 0.5595236986943063, 0.3333333333333333, 0.2753623188405797))</td></tr><tr><td>Map(vectorType -> dense, length -> 4, values -> List(46.79999923706055, 16.5, 189.0, 3650.0))</td><td>Map(vectorType -> dense, length -> 4, values -> List(0.5345454822887074, 0.40476187773031863, 0.2631578947368421, 0.2318840579710145))</td></tr><tr><td>Map(vectorType -> dense, length -> 4, values -> List(47.599998474121094, 18.299999237060547, 195.0, 3850.0))</td><td>Map(vectorType -> dense, length -> 4, values -> List(0.5636363636363636, 0.6190475109212744, 0.3684210526315789, 0.2898550724637681))</td></tr><tr><td>Map(vectorType -> dense, length -> 4, values -> List(48.099998474121094, 16.399999618530273, 199.0, 3325.0))</td><td>Map(vectorType -> dense, length -> 4, values -> List(0.5818181818181818, 0.39285706987186025, 0.43859649122807015, 0.13768115942028986))</td></tr><tr><td>Map(vectorType -> dense, length -> 4, values -> List(48.5, 17.5, 191.0, 3400.0))</td><td>Map(vectorType -> dense, length -> 4, values -> List(0.596363691850142, 0.5238095021842549, 0.2982456140350877, 0.15942028985507245))</td></tr><tr><td>Map(vectorType -> dense, length -> 4, values -> List(49.0, 19.5, 210.0, 3950.0))</td><td>Map(vectorType -> dense, length -> 4, values -> List(0.6145455100319602, 0.7619047510921274, 0.631578947368421, 0.3188405797101449))</td></tr><tr><td>Map(vectorType -> dense, length -> 4, values -> List(49.0, 19.600000381469727, 212.0, 4300.0))</td><td>Map(vectorType -> dense, length -> 4, values -> List(0.6145455100319602, 0.7738095589505858, 0.6666666666666666, 0.42028985507246375))</td></tr><tr><td>Map(vectorType -> dense, length -> 4, values -> List(50.0, 19.5, 196.0, 3900.0))</td><td>Map(vectorType -> dense, length -> 4, values -> List(0.6509091463955966, 0.7619047510921274, 0.38596491228070173, 0.30434782608695654))</td></tr><tr><td>Map(vectorType -> dense, length -> 4, values -> List(50.099998474121094, 17.899999618530273, 190.0, 3400.0))</td><td>Map(vectorType -> dense, length -> 4, values -> List(0.6545454545454545, 0.5714285065527647, 0.2807017543859649, 0.15942028985507245))</td></tr><tr><td>Map(vectorType -> dense, length -> 4, values -> List(50.20000076293945, 18.700000762939453, 198.0, 3775.0))</td><td>Map(vectorType -> dense, length -> 4, values -> List(0.6581819014115766, 0.6666667423551079, 0.42105263157894735, 0.2681159420289855))</td></tr><tr><td>Map(vectorType -> dense, length -> 4, values -> List(50.20000076293945, 18.799999237060547, 202.0, 3800.0))</td><td>Map(vectorType -> dense, length -> 4, values -> List(0.6581819014115766, 0.6785713231482425, 0.49122807017543857, 0.2753623188405797))</td></tr><tr><td>Map(vectorType -> dense, length -> 4, values -> List(50.29999923706055, 20.0, 197.0, 3300.0))</td><td>Map(vectorType -> dense, length -> 4, values -> List(0.6618182095614347, 0.8214285633190956, 0.40350877192982454, 0.13043478260869565))</td></tr><tr><td>Map(vectorType -> dense, length -> 4, values -> List(50.5, 18.399999618530273, 200.0, 3400.0))</td><td>Map(vectorType -> dense, length -> 4, values -> List(0.6690909645774148, 0.6309523187797328, 0.45614035087719296, 0.15942028985507245))</td></tr><tr><td>Map(vectorType -> dense, length -> 4, values -> List(50.5, 19.600000381469727, 201.0, 4050.0))</td><td>Map(vectorType -> dense, length -> 4, values -> List(0.6690909645774148, 0.7738095589505858, 0.47368421052631576, 0.34782608695652173))</td></tr><tr><td>Map(vectorType -> dense, length -> 4, values -> List(50.599998474121094, 19.399999618530273, 193.0, 3800.0))</td><td>Map(vectorType -> dense, length -> 4, values -> List(0.6727272727272727, 0.749999943233669, 0.3333333333333333, 0.2753623188405797))</td></tr><tr><td>Map(vectorType -> dense, length -> 4, values -> List(50.70000076293945, 19.700000762939453, 203.0, 4050.0))</td><td>Map(vectorType -> dense, length -> 4, values -> List(0.6763637195933948, 0.7857143668090442, 0.5087719298245614, 0.34782608695652173))</td></tr><tr><td>Map(vectorType -> dense, length -> 4, values -> List(50.79999923706055, 19.0, 210.0, 4100.0))</td><td>Map(vectorType -> dense, length -> 4, values -> List(0.6800000277432529, 0.7023809388651593, 0.631578947368421, 0.36231884057971014))</td></tr><tr><td>Map(vectorType -> dense, length -> 4, values -> List(50.900001525878906, 17.899999618530273, 196.0, 3675.0))</td><td>Map(vectorType -> dense, length -> 4, values -> List(0.6836364746093749, 0.5714285065527647, 0.38596491228070173, 0.2391304347826087))</td></tr><tr><td>Map(vectorType -> dense, length -> 4, values -> List(50.900001525878906, 19.100000381469727, 196.0, 3550.0))</td><td>Map(vectorType -> dense, length -> 4, values -> List(0.6836364746093749, 0.7142857467236177, 0.38596491228070173, 0.20289855072463767))</td></tr><tr><td>Map(vectorType -> dense, length -> 4, values -> List(51.29999923706055, 19.200000762939453, 193.0, 3650.0))</td><td>Map(vectorType -> dense, length -> 4, values -> List(0.698181845925071, 0.726190554582076, 0.3333333333333333, 0.2318840579710145))</td></tr><tr><td>Map(vectorType -> dense, length -> 4, values -> List(51.29999923706055, 19.899999618530273, 198.0, 3700.0))</td><td>Map(vectorType -> dense, length -> 4, values -> List(0.698181845925071, 0.8095237554606373, 0.42105263157894735, 0.24637681159420288))</td></tr><tr><td>Map(vectorType -> dense, length -> 4, values -> List(51.400001525878906, 19.0, 201.0, 3950.0))</td><td>Map(vectorType -> dense, length -> 4, values -> List(0.7018182927911931, 0.7023809388651593, 0.47368421052631576, 0.3188405797101449))</td></tr><tr><td>Map(vectorType -> dense, length -> 4, values -> List(51.5, 18.700000762939453, 187.0, 3250.0))</td><td>Map(vectorType -> dense, length -> 4, values -> List(0.7054546009410511, 0.6666667423551079, 0.22807017543859648, 0.11594202898550725))</td></tr><tr><td>Map(vectorType -> dense, length -> 4, values -> List(51.70000076293945, 20.299999237060547, 194.0, 3775.0))</td><td>Map(vectorType -> dense, length -> 4, values -> List(0.7127273559570312, 0.857142759829147, 0.3508771929824561, 0.2681159420289855))</td></tr><tr><td>Map(vectorType -> dense, length -> 4, values -> List(51.900001525878906, 19.5, 206.0, 3950.0))</td><td>Map(vectorType -> dense, length -> 4, values -> List(0.7200001109730113, 0.7619047510921274, 0.5614035087719298, 0.3188405797101449))</td></tr><tr><td>Map(vectorType -> dense, length -> 4, values -> List(52.0, 18.100000381469727, 201.0, 4050.0))</td><td>Map(vectorType -> dense, length -> 4, values -> List(0.7236364191228692, 0.5952381222696814, 0.47368421052631576, 0.34782608695652173))</td></tr><tr><td>Map(vectorType -> dense, length -> 4, values -> List(52.0, 19.0, 197.0, 4150.0))</td><td>Map(vectorType -> dense, length -> 4, values -> List(0.7236364191228692, 0.7023809388651593, 0.40350877192982454, 0.37681159420289856))</td></tr><tr><td>Map(vectorType -> dense, length -> 4, values -> List(52.0, 20.700000762939453, 210.0, 4800.0))</td><td>Map(vectorType -> dense, length -> 4, values -> List(0.7236364191228692, 0.9047619912629805, 0.631578947368421, 0.5652173913043478))</td></tr><tr><td>Map(vectorType -> dense, length -> 4, values -> List(52.20000076293945, 18.799999237060547, 197.0, 3450.0))</td><td>Map(vectorType -> dense, length -> 4, values -> List(0.7309091741388494, 0.6785713231482425, 0.40350877192982454, 0.17391304347826086))</td></tr><tr><td>Map(vectorType -> dense, length -> 4, values -> List(52.70000076293945, 19.799999237060547, 197.0, 3725.0))</td><td>Map(vectorType -> dense, length -> 4, values -> List(0.7490909923206676, 0.7976189476021789, 0.40350877192982454, 0.2536231884057971))</td></tr><tr><td>Map(vectorType -> dense, length -> 4, values -> List(52.79999923706055, 20.0, 205.0, 4550.0))</td><td>Map(vectorType -> dense, length -> 4, values -> List(0.7527273004705255, 0.8214285633190956, 0.5438596491228069, 0.49275362318840576))</td></tr><tr><td>Map(vectorType -> dense, length -> 4, values -> List(53.5, 19.899999618530273, 205.0, 4500.0))</td><td>Map(vectorType -> dense, length -> 4, values -> List(0.7781818736683238, 0.8095237554606373, 0.5438596491228069, 0.4782608695652174))</td></tr><tr><td>Map(vectorType -> dense, length -> 4, values -> List(54.20000076293945, 20.799999237060547, 201.0, 4300.0))</td><td>Map(vectorType -> dense, length -> 4, values -> List(0.8036364468661221, 0.9166665720561151, 0.47368421052631576, 0.42028985507246375))</td></tr><tr><td>Map(vectorType -> dense, length -> 4, values -> List(55.79999923706055, 19.799999237060547, 207.0, 4000.0))</td><td>Map(vectorType -> dense, length -> 4, values -> List(0.8618182095614346, 0.7976189476021789, 0.5789473684210527, 0.3333333333333333))</td></tr><tr><td>Map(vectorType -> dense, length -> 4, values -> List(58.0, 17.799999237060547, 181.0, 3700.0))</td><td>Map(vectorType -> dense, length -> 4, values -> List(0.9418182373046875, 0.5595236986943063, 0.12280701754385964, 0.24637681159420288))</td></tr><tr><td>Map(vectorType -> dense, length -> 4, values -> List(34.400001525878906, 18.399999618530273, 184.0, 3325.0))</td><td>Map(vectorType -> dense, length -> 4, values -> List(0.083636474609375, 0.6309523187797328, 0.17543859649122806, 0.13768115942028986))</td></tr><tr><td>Map(vectorType -> dense, length -> 4, values -> List(35.099998474121094, 19.399999618530273, 193.0, 4200.0))</td><td>Map(vectorType -> dense, length -> 4, values -> List(0.10909090909090909, 0.749999943233669, 0.3333333333333333, 0.391304347826087))</td></tr><tr><td>Map(vectorType -> dense, length -> 4, values -> List(35.20000076293945, 15.899999618530273, 186.0, 3050.0))</td><td>Map(vectorType -> dense, length -> 4, values -> List(0.11272735595703125, 0.3333332576448921, 0.21052631578947367, 0.057971014492753624))</td></tr><tr><td>Map(vectorType -> dense, length -> 4, values -> List(35.5, 17.5, 190.0, 3700.0))</td><td>Map(vectorType -> dense, length -> 4, values -> List(0.12363641912286931, 0.5238095021842549, 0.2807017543859649, 0.24637681159420288))</td></tr><tr><td>Map(vectorType -> dense, length -> 4, values -> List(35.70000076293945, 17.0, 189.0, 3350.0))</td><td>Map(vectorType -> dense, length -> 4, values -> List(0.13090917413884942, 0.46428568995728675, 0.2631578947368421, 0.14492753623188406))</td></tr><tr><td>Map(vectorType -> dense, length -> 4, values -> List(35.900001525878906, 16.600000381469727, 190.0, 3050.0))</td><td>Map(vectorType -> dense, length -> 4, values -> List(0.13818192915482955, 0.416666685588777, 0.2807017543859649, 0.057971014492753624))</td></tr><tr><td>Map(vectorType -> dense, length -> 4, values -> List(36.20000076293945, 16.100000381469727, 187.0, 3550.0))</td><td>Map(vectorType -> dense, length -> 4, values -> List(0.1490909923206676, 0.35714287336180883, 0.22807017543859648, 0.20289855072463767))</td></tr><tr><td>Map(vectorType -> dense, length -> 4, values -> List(36.599998474121094, 17.799999237060547, 185.0, 3700.0))</td><td>Map(vectorType -> dense, length -> 4, values -> List(0.16363636363636364, 0.5595236986943063, 0.19298245614035087, 0.24637681159420288))</td></tr><tr><td>Map(vectorType -> dense, length -> 4, values -> List(36.70000076293945, 18.799999237060547, 187.0, 3800.0))</td><td>Map(vectorType -> dense, length -> 4, values -> List(0.1672728105024858, 0.6785713231482425, 0.22807017543859648, 0.2753623188405797))</td></tr><tr><td>Map(vectorType -> dense, length -> 4, values -> List(36.70000076293945, 19.299999237060547, 193.0, 3450.0))</td><td>Map(vectorType -> dense, length -> 4, values -> List(0.1672728105024858, 0.7380951353752107, 0.3333333333333333, 0.17391304347826086))</td></tr><tr><td>Map(vectorType -> dense, length -> 4, values -> List(37.20000076293945, 19.399999618530273, 184.0, 3900.0))</td><td>Map(vectorType -> dense, length -> 4, values -> List(0.18545462868430396, 0.749999943233669, 0.17543859649122806, 0.30434782608695654))</td></tr><tr><td>Map(vectorType -> dense, length -> 4, values -> List(37.70000076293945, 19.799999237060547, 198.0, 3500.0))</td><td>Map(vectorType -> dense, length -> 4, values -> List(0.20363644686612214, 0.7976189476021789, 0.42105263157894735, 0.18840579710144928))</td></tr><tr><td>Map(vectorType -> dense, length -> 4, values -> List(37.79999923706055, 17.100000381469727, 186.0, 3300.0))</td><td>Map(vectorType -> dense, length -> 4, values -> List(0.2072727550159801, 0.47619049781574513, 0.21052631578947367, 0.13043478260869565))</td></tr><tr><td>Map(vectorType -> dense, length -> 4, values -> List(38.599998474121094, 17.0, 188.0, 2900.0))</td><td>Map(vectorType -> dense, length -> 4, values -> List(0.23636363636363636, 0.46428568995728675, 0.24561403508771928, 0.014492753623188406))</td></tr><tr><td>Map(vectorType -> dense, length -> 4, values -> List(38.599998474121094, 21.200000762939453, 191.0, 3800.0))</td><td>Map(vectorType -> dense, length -> 4, values -> List(0.23636363636363636, 0.9642858034899486, 0.2982456140350877, 0.2753623188405797))</td></tr><tr><td>Map(vectorType -> dense, length -> 4, values -> List(38.70000076293945, 19.0, 195.0, 3450.0))</td><td>Map(vectorType -> dense, length -> 4, values -> List(0.24000008322975852, 0.7023809388651593, 0.3684210526315789, 0.17391304347826086))</td></tr><tr><td>Map(vectorType -> dense, length -> 4, values -> List(38.79999923706055, 17.600000381469727, 191.0, 3275.0))</td><td>Map(vectorType -> dense, length -> 4, values -> List(0.24363639137961646, 0.5357143100427133, 0.2982456140350877, 0.12318840579710144))</td></tr><tr><td>Map(vectorType -> dense, length -> 4, values -> List(38.900001525878906, 17.799999237060547, 181.0, 3625.0))</td><td>Map(vectorType -> dense, length -> 4, values -> List(0.24727283824573862, 0.5595236986943063, 0.12280701754385964, 0.2246376811594203))</td></tr><tr><td>Map(vectorType -> dense, length -> 4, values -> List(39.0, 17.100000381469727, 191.0, 3050.0))</td><td>Map(vectorType -> dense, length -> 4, values -> List(0.2509091463955966, 0.47619049781574513, 0.2982456140350877, 0.057971014492753624))</td></tr><tr><td>Map(vectorType -> dense, length -> 4, values -> List(39.099998474121094, 18.700000762939453, 181.0, 3750.0))</td><td>Map(vectorType -> dense, length -> 4, values -> List(0.2545454545454545, 0.6666667423551079, 0.12280701754385964, 0.2608695652173913))</td></tr><tr><td>Map(vectorType -> dense, length -> 4, values -> List(39.5, 17.399999618530273, 186.0, 3800.0))</td><td>Map(vectorType -> dense, length -> 4, values -> List(0.26909096457741477, 0.5119046943257965, 0.21052631578947367, 0.2753623188405797))</td></tr><tr><td>Map(vectorType -> dense, length -> 4, values -> List(39.599998474121094, 17.200000762939453, 196.0, 3550.0))</td><td>Map(vectorType -> dense, length -> 4, values -> List(0.2727272727272727, 0.4880953056742035, 0.38596491228070173, 0.20289855072463767))</td></tr><tr><td>Map(vectorType -> dense, length -> 4, values -> List(40.29999923706055, 18.0, 195.0, 3250.0))</td><td>Map(vectorType -> dense, length -> 4, values -> List(0.298181845925071, 0.583333314411223, 0.3684210526315789, 0.11594202898550725))</td></tr><tr><td>Map(vectorType -> dense, length -> 4, values -> List(40.599998474121094, 19.0, 199.0, 4000.0))</td><td>Map(vectorType -> dense, length -> 4, values -> List(0.3090909090909091, 0.7023809388651593, 0.43859649122807015, 0.3333333333333333))</td></tr><tr><td>Map(vectorType -> dense, length -> 4, values -> List(40.900001525878906, 16.799999237060547, 191.0, 3700.0))</td><td>Map(vectorType -> dense, length -> 4, values -> List(0.32000011097301134, 0.44047607424037, 0.2982456140350877, 0.24637681159420288))</td></tr><tr><td>Map(vectorType -> dense, length -> 4, values -> List(41.099998474121094, 17.600000381469727, 182.0, 3200.0))</td><td>Map(vectorType -> dense, length -> 4, values -> List(0.32727272727272727, 0.5357143100427133, 0.14035087719298245, 0.10144927536231883))</td></tr><tr><td>Map(vectorType -> dense, length -> 4, values -> List(41.099998474121094, 18.600000381469727, 189.0, 3325.0))</td><td>Map(vectorType -> dense, length -> 4, values -> List(0.32727272727272727, 0.6547619344966495, 0.2631578947368421, 0.13768115942028986))</td></tr><tr><td>Map(vectorType -> dense, length -> 4, values -> List(41.5, 18.299999237060547, 195.0, 4300.0))</td><td>Map(vectorType -> dense, length -> 4, values -> List(0.34181823730468747, 0.6190475109212744, 0.3684210526315789, 0.42028985507246375))</td></tr><tr><td>Map(vectorType -> dense, length -> 4, values -> List(41.79999923706055, 19.399999618530273, 198.0, 4450.0))</td><td>Map(vectorType -> dense, length -> 4, values -> List(0.35272730047052553, 0.749999943233669, 0.42105263157894735, 0.463768115942029))</td></tr><tr><td>Map(vectorType -> dense, length -> 4, values -> List(42.0, 20.200000762939453, 190.0, 4250.0))</td><td>Map(vectorType -> dense, length -> 4, values -> List(0.36000005548650565, 0.8452381790360124, 0.2807017543859649, 0.40579710144927533))</td></tr><tr><td>Map(vectorType -> dense, length -> 4, values -> List(42.099998474121094, 19.100000381469727, 195.0, 4000.0))</td><td>Map(vectorType -> dense, length -> 4, values -> List(0.36363636363636365, 0.7142857467236177, 0.3684210526315789, 0.3333333333333333))</td></tr><tr><td>Map(vectorType -> dense, length -> 4, values -> List(42.900001525878906, 17.600000381469727, 196.0, 4700.0))</td><td>Map(vectorType -> dense, length -> 4, values -> List(0.3927273837002841, 0.5357143100427133, 0.38596491228070173, 0.536231884057971))</td></tr><tr><td>Map(vectorType -> dense, length -> 4, values -> List(43.099998474121094, 19.200000762939453, 197.0, 3500.0))</td><td>Map(vectorType -> dense, length -> 4, values -> List(0.39999999999999997, 0.726190554582076, 0.40350877192982454, 0.18840579710144928))</td></tr><tr><td>Map(vectorType -> dense, length -> 4, values -> List(44.099998474121094, 18.0, 210.0, 4000.0))</td><td>Map(vectorType -> dense, length -> 4, values -> List(0.43636363636363634, 0.583333314411223, 0.631578947368421, 0.3333333333333333))</td></tr><tr><td>Map(vectorType -> dense, length -> 4, values -> List(45.79999923706055, 18.899999618530273, 197.0, 4150.0))</td><td>Map(vectorType -> dense, length -> 4, values -> List(0.498181845925071, 0.6904761310067009, 0.40350877192982454, 0.37681159420289856))</td></tr><tr><td>Map(vectorType -> dense, length -> 4, values -> List(46.0, 21.5, 194.0, 4200.0))</td><td>Map(vectorType -> dense, length -> 4, values -> List(0.5054546009410511, 1.0, 0.3508771929824561, 0.391304347826087))</td></tr></tbody></table></div>"
      ]
     },
     "metadata": {
      "application/vnd.databricks.v1+output": {
       "addedWidgets": {},
       "aggData": [],
       "aggError": "",
       "aggOverflow": false,
       "aggSchema": [],
       "aggSeriesLimitReached": false,
       "aggType": "",
       "arguments": {},
       "columnCustomDisplayInfos": {},
       "data": [
        [
         {
          "length": 4,
          "values": [
           35.29999923706055,
           18.899999618530273,
           187.0,
           3800.0
          ],
          "vectorType": "dense"
         },
         {
          "length": 4,
          "values": [
           0.1163636641068892,
           0.6904761310067009,
           0.22807017543859648,
           0.2753623188405797
          ],
          "vectorType": "dense"
         }
        ],
        [
         {
          "length": 4,
          "values": [
           35.5,
           16.200000762939453,
           195.0,
           3350.0
          ],
          "vectorType": "dense"
         },
         {
          "length": 4,
          "values": [
           0.12363641912286931,
           0.3690476812202672,
           0.3684210526315789,
           0.14492753623188406
          ],
          "vectorType": "dense"
         }
        ],
        [
         {
          "length": 4,
          "values": [
           36.400001525878906,
           17.100000381469727,
           184.0,
           2850.0
          ],
          "vectorType": "dense"
         },
         {
          "length": 4,
          "values": [
           0.1563637473366477,
           0.47619049781574513,
           0.17543859649122806,
           0.0
          ],
          "vectorType": "dense"
         }
        ],
        [
         {
          "length": 4,
          "values": [
           36.5,
           16.600000381469727,
           181.0,
           2850.0
          ],
          "vectorType": "dense"
         },
         {
          "length": 4,
          "values": [
           0.16000005548650567,
           0.416666685588777,
           0.12280701754385964,
           0.0
          ],
          "vectorType": "dense"
         }
        ],
        [
         {
          "length": 4,
          "values": [
           37.599998474121094,
           17.0,
           185.0,
           3600.0
          ],
          "vectorType": "dense"
         },
         {
          "length": 4,
          "values": [
           0.19999999999999998,
           0.46428568995728675,
           0.19298245614035087,
           0.21739130434782608
          ],
          "vectorType": "dense"
         }
        ],
        [
         {
          "length": 4,
          "values": [
           37.599998474121094,
           19.100000381469727,
           194.0,
           3750.0
          ],
          "vectorType": "dense"
         },
         {
          "length": 4,
          "values": [
           0.19999999999999998,
           0.7142857467236177,
           0.3508771929824561,
           0.2608695652173913
          ],
          "vectorType": "dense"
         }
        ],
        [
         {
          "length": 4,
          "values": [
           37.70000076293945,
           18.700000762939453,
           180.0,
           3600.0
          ],
          "vectorType": "dense"
         },
         {
          "length": 4,
          "values": [
           0.20363644686612214,
           0.6666667423551079,
           0.10526315789473684,
           0.21739130434782608
          ],
          "vectorType": "dense"
         }
        ],
        [
         {
          "length": 4,
          "values": [
           37.79999923706055,
           18.299999237060547,
           174.0,
           3400.0
          ],
          "vectorType": "dense"
         },
         {
          "length": 4,
          "values": [
           0.2072727550159801,
           0.6190475109212744,
           0.0,
           0.15942028985507245
          ],
          "vectorType": "dense"
         }
        ],
        [
         {
          "length": 4,
          "values": [
           37.79999923706055,
           20.0,
           190.0,
           4250.0
          ],
          "vectorType": "dense"
         },
         {
          "length": 4,
          "values": [
           0.2072727550159801,
           0.8214285633190956,
           0.2807017543859649,
           0.40579710144927533
          ],
          "vectorType": "dense"
         }
        ],
        [
         {
          "length": 4,
          "values": [
           37.900001525878906,
           18.600000381469727,
           193.0,
           2925.0
          ],
          "vectorType": "dense"
         },
         {
          "length": 4,
          "values": [
           0.21090920188210227,
           0.6547619344966495,
           0.3333333333333333,
           0.021739130434782608
          ],
          "vectorType": "dense"
         }
        ],
        [
         {
          "length": 4,
          "values": [
           38.099998474121094,
           16.5,
           198.0,
           3825.0
          ],
          "vectorType": "dense"
         },
         {
          "length": 4,
          "values": [
           0.21818181818181817,
           0.40476187773031863,
           0.42105263157894735,
           0.2826086956521739
          ],
          "vectorType": "dense"
         }
        ],
        [
         {
          "length": 4,
          "values": [
           38.099998474121094,
           17.0,
           181.0,
           3175.0
          ],
          "vectorType": "dense"
         },
         {
          "length": 4,
          "values": [
           0.21818181818181817,
           0.46428568995728675,
           0.12280701754385964,
           0.09420289855072464
          ],
          "vectorType": "dense"
         }
        ],
        [
         {
          "length": 4,
          "values": [
           38.20000076293945,
           18.100000381469727,
           185.0,
           3950.0
          ],
          "vectorType": "dense"
         },
         {
          "length": 4,
          "values": [
           0.22181826504794033,
           0.5952381222696814,
           0.19298245614035087,
           0.3188405797101449
          ],
          "vectorType": "dense"
         }
        ],
        [
         {
          "length": 4,
          "values": [
           38.599998474121094,
           17.200000762939453,
           199.0,
           3750.0
          ],
          "vectorType": "dense"
         },
         {
          "length": 4,
          "values": [
           0.23636363636363636,
           0.4880953056742035,
           0.43859649122807015,
           0.2608695652173913
          ],
          "vectorType": "dense"
         }
        ],
        [
         {
          "length": 4,
          "values": [
           39.0,
           17.5,
           186.0,
           3550.0
          ],
          "vectorType": "dense"
         },
         {
          "length": 4,
          "values": [
           0.2509091463955966,
           0.5238095021842549,
           0.21052631578947367,
           0.20289855072463767
          ],
          "vectorType": "dense"
         }
        ],
        [
         {
          "length": 4,
          "values": [
           39.599998474121094,
           17.700000762939453,
           186.0,
           3500.0
          ],
          "vectorType": "dense"
         },
         {
          "length": 4,
          "values": [
           0.2727272727272727,
           0.5476191179011717,
           0.21052631578947367,
           0.18840579710144928
          ],
          "vectorType": "dense"
         }
        ],
        [
         {
          "length": 4,
          "values": [
           39.70000076293945,
           17.700000762939453,
           193.0,
           3200.0
          ],
          "vectorType": "dense"
         },
         {
          "length": 4,
          "values": [
           0.2763637195933949,
           0.5476191179011717,
           0.3333333333333333,
           0.10144927536231883
          ],
          "vectorType": "dense"
         }
        ],
        [
         {
          "length": 4,
          "values": [
           40.099998474121094,
           18.899999618530273,
           188.0,
           4300.0
          ],
          "vectorType": "dense"
         },
         {
          "length": 4,
          "values": [
           0.2909090909090909,
           0.6904761310067009,
           0.24561403508771928,
           0.42028985507246375
          ],
          "vectorType": "dense"
         }
        ],
        [
         {
          "length": 4,
          "values": [
           40.5,
           17.899999618530273,
           187.0,
           3200.0
          ],
          "vectorType": "dense"
         },
         {
          "length": 4,
          "values": [
           0.30545460094105115,
           0.5714285065527647,
           0.22807017543859648,
           0.10144927536231883
          ],
          "vectorType": "dense"
         }
        ],
        [
         {
          "length": 4,
          "values": [
           40.5,
           18.899999618530273,
           180.0,
           3950.0
          ],
          "vectorType": "dense"
         },
         {
          "length": 4,
          "values": [
           0.30545460094105115,
           0.6904761310067009,
           0.10526315789473684,
           0.3188405797101449
          ],
          "vectorType": "dense"
         }
        ],
        [
         {
          "length": 4,
          "values": [
           41.099998474121094,
           18.200000762939453,
           192.0,
           4050.0
          ],
          "vectorType": "dense"
         },
         {
          "length": 4,
          "values": [
           0.32727272727272727,
           0.6071429301281398,
           0.3157894736842105,
           0.34782608695652173
          ],
          "vectorType": "dense"
         }
        ],
        [
         {
          "length": 4,
          "values": [
           41.099998474121094,
           19.100000381469727,
           188.0,
           4100.0
          ],
          "vectorType": "dense"
         },
         {
          "length": 4,
          "values": [
           0.32727272727272727,
           0.7142857467236177,
           0.24561403508771928,
           0.36231884057971014
          ],
          "vectorType": "dense"
         }
        ],
        [
         {
          "length": 4,
          "values": [
           41.29999923706055,
           21.100000381469727,
           195.0,
           4400.0
          ],
          "vectorType": "dense"
         },
         {
          "length": 4,
          "values": [
           0.3345454822887074,
           0.9523809956314903,
           0.3684210526315789,
           0.4492753623188406
          ],
          "vectorType": "dense"
         }
        ],
        [
         {
          "length": 4,
          "values": [
           41.400001525878906,
           18.600000381469727,
           191.0,
           3700.0
          ],
          "vectorType": "dense"
         },
         {
          "length": 4,
          "values": [
           0.33818192915482953,
           0.6547619344966495,
           0.2982456140350877,
           0.24637681159420288
          ],
          "vectorType": "dense"
         }
        ],
        [
         {
          "length": 4,
          "values": [
           42.0,
           13.5,
           210.0,
           4150.0
          ],
          "vectorType": "dense"
         },
         {
          "length": 4,
          "values": [
           0.36000005548650565,
           0.047619004368509764,
           0.631578947368421,
           0.37681159420289856
          ],
          "vectorType": "dense"
         }
        ],
        [
         {
          "length": 4,
          "values": [
           42.0,
           19.5,
           200.0,
           4050.0
          ],
          "vectorType": "dense"
         },
         {
          "length": 4,
          "values": [
           0.36000005548650565,
           0.7619047510921274,
           0.45614035087719296,
           0.34782608695652173
          ],
          "vectorType": "dense"
         }
        ],
        [
         {
          "length": 4,
          "values": [
           42.599998474121094,
           13.699999809265137,
           213.0,
           4950.0
          ],
          "vectorType": "dense"
         },
         {
          "length": 4,
          "values": [
           0.3818181818181818,
           0.07142850655276464,
           0.6842105263157894,
           0.6086956521739131
          ],
          "vectorType": "dense"
         }
        ],
        [
         {
          "length": 4,
          "values": [
           42.70000076293945,
           13.699999809265137,
           208.0,
           3950.0
          ],
          "vectorType": "dense"
         },
         {
          "length": 4,
          "values": [
           0.38545462868430397,
           0.07142850655276464,
           0.5964912280701754,
           0.3188405797101449
          ],
          "vectorType": "dense"
         }
        ],
        [
         {
          "length": 4,
          "values": [
           42.70000076293945,
           18.299999237060547,
           196.0,
           4075.0
          ],
          "vectorType": "dense"
         },
         {
          "length": 4,
          "values": [
           0.38545462868430397,
           0.6190475109212744,
           0.38596491228070173,
           0.3550724637681159
          ],
          "vectorType": "dense"
         }
        ],
        [
         {
          "length": 4,
          "values": [
           42.79999923706055,
           14.199999809265137,
           209.0,
           4700.0
          ],
          "vectorType": "dense"
         },
         {
          "length": 4,
          "values": [
           0.3890909368341619,
           0.1309523187797328,
           0.6140350877192982,
           0.536231884057971
          ],
          "vectorType": "dense"
         }
        ],
        [
         {
          "length": 4,
          "values": [
           42.900001525878906,
           13.100000381469727,
           215.0,
           5000.0
          ],
          "vectorType": "dense"
         },
         {
          "length": 4,
          "values": [
           0.3927273837002841,
           0.0,
           0.7192982456140351,
           0.6231884057971014
          ],
          "vectorType": "dense"
         }
        ],
        [
         {
          "length": 4,
          "values": [
           43.20000076293945,
           14.5,
           208.0,
           4450.0
          ],
          "vectorType": "dense"
         },
         {
          "length": 4,
          "values": [
           0.40363644686612216,
           0.16666662882244604,
           0.5964912280701754,
           0.463768115942029
          ],
          "vectorType": "dense"
         }
        ],
        [
         {
          "length": 4,
          "values": [
           43.20000076293945,
           19.0,
           197.0,
           4775.0
          ],
          "vectorType": "dense"
         },
         {
          "length": 4,
          "values": [
           0.40363644686612216,
           0.7023809388651593,
           0.40350877192982454,
           0.5579710144927537
          ],
          "vectorType": "dense"
         }
        ],
        [
         {
          "length": 4,
          "values": [
           43.29999923706055,
           13.399999618530273,
           209.0,
           4400.0
          ],
          "vectorType": "dense"
         },
         {
          "length": 4,
          "values": [
           0.4072727550159801,
           0.03571419651005139,
           0.6140350877192982,
           0.4492753623188406
          ],
          "vectorType": "dense"
         }
        ],
        [
         {
          "length": 4,
          "values": [
           43.400001525878906,
           14.399999618530273,
           218.0,
           4600.0
          ],
          "vectorType": "dense"
         },
         {
          "length": 4,
          "values": [
           0.4109092018821022,
           0.15476182096398766,
           0.7719298245614035,
           0.5072463768115942
          ],
          "vectorType": "dense"
         }
        ],
        [
         {
          "length": 4,
          "values": [
           43.5,
           14.199999809265137,
           220.0,
           4700.0
          ],
          "vectorType": "dense"
         },
         {
          "length": 4,
          "values": [
           0.4145455100319602,
           0.1309523187797328,
           0.8070175438596491,
           0.536231884057971
          ],
          "vectorType": "dense"
         }
        ],
        [
         {
          "length": 4,
          "values": [
           43.5,
           15.199999809265137,
           213.0,
           4650.0
          ],
          "vectorType": "dense"
         },
         {
          "length": 4,
          "values": [
           0.4145455100319602,
           0.24999994323366906,
           0.6842105263157894,
           0.5217391304347826
          ],
          "vectorType": "dense"
         }
        ],
        [
         {
          "length": 4,
          "values": [
           43.599998474121094,
           13.899999618530273,
           217.0,
           4900.0
          ],
          "vectorType": "dense"
         },
         {
          "length": 4,
          "values": [
           0.41818181818181815,
           0.09523800873701953,
           0.7543859649122806,
           0.5942028985507246
          ],
          "vectorType": "dense"
         }
        ],
        [
         {
          "length": 4,
          "values": [
           43.79999923706055,
           13.899999618530273,
           208.0,
           4300.0
          ],
          "vectorType": "dense"
         },
         {
          "length": 4,
          "values": [
           0.4254545731977983,
           0.09523800873701953,
           0.5964912280701754,
           0.42028985507246375
          ],
          "vectorType": "dense"
         }
        ],
        [
         {
          "length": 4,
          "values": [
           44.0,
           13.600000381469727,
           208.0,
           4350.0
          ],
          "vectorType": "dense"
         },
         {
          "length": 4,
          "values": [
           0.4327273282137784,
           0.05952381222696814,
           0.5964912280701754,
           0.43478260869565216
          ],
          "vectorType": "dense"
         }
        ],
        [
         {
          "length": 4,
          "values": [
           44.5,
           14.699999809265137,
           214.0,
           4850.0
          ],
          "vectorType": "dense"
         },
         {
          "length": 4,
          "values": [
           0.4509091463955966,
           0.19047613100670094,
           0.7017543859649122,
           0.5797101449275363
          ],
          "vectorType": "dense"
         }
        ],
        [
         {
          "length": 4,
          "values": [
           44.5,
           15.699999809265137,
           217.0,
           4875.0
          ],
          "vectorType": "dense"
         },
         {
          "length": 4,
          "values": [
           0.4509091463955966,
           0.3095237554606372,
           0.7543859649122806,
           0.5869565217391304
          ],
          "vectorType": "dense"
         }
        ],
        [
         {
          "length": 4,
          "values": [
           44.900001525878906,
           13.300000190734863,
           213.0,
           5100.0
          ],
          "vectorType": "dense"
         },
         {
          "length": 4,
          "values": [
           0.4654546564275568,
           0.023809502184254882,
           0.6842105263157894,
           0.6521739130434783
          ],
          "vectorType": "dense"
         }
        ],
        [
         {
          "length": 4,
          "values": [
           44.900001525878906,
           13.800000190734863,
           212.0,
           4750.0
          ],
          "vectorType": "dense"
         },
         {
          "length": 4,
          "values": [
           0.4654546564275568,
           0.08333331441122302,
           0.6666666666666666,
           0.5507246376811594
          ],
          "vectorType": "dense"
         }
        ],
        [
         {
          "length": 4,
          "values": [
           45.0,
           15.399999618530273,
           220.0,
           5050.0
          ],
          "vectorType": "dense"
         },
         {
          "length": 4,
          "values": [
           0.4690909645774147,
           0.27380944541792396,
           0.8070175438596491,
           0.6376811594202898
          ],
          "vectorType": "dense"
         }
        ],
        [
         {
          "length": 4,
          "values": [
           45.099998474121094,
           14.399999618530273,
           210.0,
           4400.0
          ],
          "vectorType": "dense"
         },
         {
          "length": 4,
          "values": [
           0.4727272727272727,
           0.15476182096398766,
           0.631578947368421,
           0.4492753623188406
          ],
          "vectorType": "dense"
         }
        ],
        [
         {
          "length": 4,
          "values": [
           45.099998474121094,
           14.5,
           207.0,
           5050.0
          ],
          "vectorType": "dense"
         },
         {
          "length": 4,
          "values": [
           0.4727272727272727,
           0.16666662882244604,
           0.5789473684210527,
           0.6376811594202898
          ],
          "vectorType": "dense"
         }
        ],
        [
         {
          "length": 4,
          "values": [
           45.099998474121094,
           14.5,
           215.0,
           5000.0
          ],
          "vectorType": "dense"
         },
         {
          "length": 4,
          "values": [
           0.4727272727272727,
           0.16666662882244604,
           0.7192982456140351,
           0.6231884057971014
          ],
          "vectorType": "dense"
         }
        ],
        [
         {
          "length": 4,
          "values": [
           45.20000076293945,
           13.800000190734863,
           215.0,
           4750.0
          ],
          "vectorType": "dense"
         },
         {
          "length": 4,
          "values": [
           0.47636371959339485,
           0.08333331441122302,
           0.7192982456140351,
           0.5507246376811594
          ],
          "vectorType": "dense"
         }
        ],
        [
         {
          "length": 4,
          "values": [
           45.20000076293945,
           14.800000190734863,
           212.0,
           5200.0
          ],
          "vectorType": "dense"
         },
         {
          "length": 4,
          "values": [
           0.47636371959339485,
           0.20238093886515932,
           0.6666666666666666,
           0.6811594202898551
          ],
          "vectorType": "dense"
         }
        ],
        [
         {
          "length": 4,
          "values": [
           45.20000076293945,
           15.800000190734863,
           215.0,
           5300.0
          ],
          "vectorType": "dense"
         },
         {
          "length": 4,
          "values": [
           0.47636371959339485,
           0.3214285633190956,
           0.7192982456140351,
           0.7101449275362318
          ],
          "vectorType": "dense"
         }
        ],
        [
         {
          "length": 4,
          "values": [
           45.20000076293945,
           16.399999618530273,
           223.0,
           5950.0
          ],
          "vectorType": "dense"
         },
         {
          "length": 4,
          "values": [
           0.47636371959339485,
           0.39285706987186025,
           0.8596491228070176,
           0.8985507246376812
          ],
          "vectorType": "dense"
         }
        ],
        [
         {
          "length": 4,
          "values": [
           45.29999923706055,
           13.699999809265137,
           210.0,
           4300.0
          ],
          "vectorType": "dense"
         },
         {
          "length": 4,
          "values": [
           0.48000002774325284,
           0.07142850655276464,
           0.631578947368421,
           0.42028985507246375
          ],
          "vectorType": "dense"
         }
        ],
        [
         {
          "length": 4,
          "values": [
           45.29999923706055,
           13.800000190734863,
           208.0,
           4200.0
          ],
          "vectorType": "dense"
         },
         {
          "length": 4,
          "values": [
           0.48000002774325284,
           0.08333331441122302,
           0.5964912280701754,
           0.391304347826087
          ],
          "vectorType": "dense"
         }
        ],
        [
         {
          "length": 4,
          "values": [
           45.400001525878906,
           14.600000381469727,
           211.0,
           4800.0
          ],
          "vectorType": "dense"
         },
         {
          "length": 4,
          "values": [
           0.483636474609375,
           0.17857143668090442,
           0.6491228070175439,
           0.5652173913043478
          ],
          "vectorType": "dense"
         }
        ],
        [
         {
          "length": 4,
          "values": [
           45.5,
           13.699999809265137,
           214.0,
           4650.0
          ],
          "vectorType": "dense"
         },
         {
          "length": 4,
          "values": [
           0.4872727827592329,
           0.07142850655276464,
           0.7017543859649122,
           0.5217391304347826
          ],
          "vectorType": "dense"
         }
        ],
        [
         {
          "length": 4,
          "values": [
           45.5,
           14.5,
           212.0,
           4750.0
          ],
          "vectorType": "dense"
         },
         {
          "length": 4,
          "values": [
           0.4872727827592329,
           0.16666662882244604,
           0.6666666666666666,
           0.5507246376811594
          ],
          "vectorType": "dense"
         }
        ],
        [
         {
          "length": 4,
          "values": [
           45.5,
           15.0,
           220.0,
           5000.0
          ],
          "vectorType": "dense"
         },
         {
          "length": 4,
          "values": [
           0.4872727827592329,
           0.2261904410494142,
           0.8070175438596491,
           0.6231884057971014
          ],
          "vectorType": "dense"
         }
        ],
        [
         {
          "length": 4,
          "values": [
           45.70000076293945,
           13.899999618530273,
           214.0,
           4400.0
          ],
          "vectorType": "dense"
         },
         {
          "length": 4,
          "values": [
           0.49454553777521304,
           0.09523800873701953,
           0.7017543859649122,
           0.4492753623188406
          ],
          "vectorType": "dense"
         }
        ],
        [
         {
          "length": 4,
          "values": [
           45.79999923706055,
           14.199999809265137,
           219.0,
           4700.0
          ],
          "vectorType": "dense"
         },
         {
          "length": 4,
          "values": [
           0.498181845925071,
           0.1309523187797328,
           0.7894736842105263,
           0.536231884057971
          ],
          "vectorType": "dense"
         }
        ],
        [
         {
          "length": 4,
          "values": [
           45.79999923706055,
           14.600000381469727,
           210.0,
           4200.0
          ],
          "vectorType": "dense"
         },
         {
          "length": 4,
          "values": [
           0.498181845925071,
           0.17857143668090442,
           0.631578947368421,
           0.391304347826087
          ],
          "vectorType": "dense"
         }
        ],
        [
         {
          "length": 4,
          "values": [
           46.099998474121094,
           13.199999809265137,
           211.0,
           4500.0
          ],
          "vectorType": "dense"
         },
         {
          "length": 4,
          "values": [
           0.509090909090909,
           0.011904694325796506,
           0.6491228070175439,
           0.4782608695652174
          ],
          "vectorType": "dense"
         }
        ],
        [
         {
          "length": 4,
          "values": [
           46.20000076293945,
           14.399999618530273,
           214.0,
           4650.0
          ],
          "vectorType": "dense"
         },
         {
          "length": 4,
          "values": [
           0.5127273559570312,
           0.15476182096398766,
           0.7017543859649122,
           0.5217391304347826
          ],
          "vectorType": "dense"
         }
        ],
        [
         {
          "length": 4,
          "values": [
           46.20000076293945,
           14.5,
           209.0,
           4800.0
          ],
          "vectorType": "dense"
         },
         {
          "length": 4,
          "values": [
           0.5127273559570312,
           0.16666662882244604,
           0.6140350877192982,
           0.5652173913043478
          ],
          "vectorType": "dense"
         }
        ],
        [
         {
          "length": 4,
          "values": [
           46.20000076293945,
           14.899999618530273,
           221.0,
           5300.0
          ],
          "vectorType": "dense"
         },
         {
          "length": 4,
          "values": [
           0.5127273559570312,
           0.2142856331909558,
           0.8245614035087718,
           0.7101449275362318
          ],
          "vectorType": "dense"
         }
        ],
        [
         {
          "length": 4,
          "values": [
           46.400001525878906,
           15.0,
           216.0,
           4700.0
          ],
          "vectorType": "dense"
         },
         {
          "length": 4,
          "values": [
           0.5200001109730114,
           0.2261904410494142,
           0.7368421052631579,
           0.536231884057971
          ],
          "vectorType": "dense"
         }
        ],
        [
         {
          "length": 4,
          "values": [
           46.5,
           13.5,
           210.0,
           4550.0
          ],
          "vectorType": "dense"
         },
         {
          "length": 4,
          "values": [
           0.5236364191228693,
           0.047619004368509764,
           0.631578947368421,
           0.49275362318840576
          ],
          "vectorType": "dense"
         }
        ],
        [
         {
          "length": 4,
          "values": [
           46.5,
           14.399999618530273,
           217.0,
           4900.0
          ],
          "vectorType": "dense"
         },
         {
          "length": 4,
          "values": [
           0.5236364191228693,
           0.15476182096398766,
           0.7543859649122806,
           0.5942028985507246
          ],
          "vectorType": "dense"
         }
        ],
        [
         {
          "length": 4,
          "values": [
           46.5,
           14.5,
           213.0,
           4400.0
          ],
          "vectorType": "dense"
         },
         {
          "length": 4,
          "values": [
           0.5236364191228693,
           0.16666662882244604,
           0.6842105263157894,
           0.4492753623188406
          ],
          "vectorType": "dense"
         }
        ],
        [
         {
          "length": 4,
          "values": [
           46.599998474121094,
           14.199999809265137,
           210.0,
           4850.0
          ],
          "vectorType": "dense"
         },
         {
          "length": 4,
          "values": [
           0.5272727272727272,
           0.1309523187797328,
           0.631578947368421,
           0.5797101449275363
          ],
          "vectorType": "dense"
         }
        ],
        [
         {
          "length": 4,
          "values": [
           46.79999923706055,
           15.399999618530273,
           215.0,
           5150.0
          ],
          "vectorType": "dense"
         },
         {
          "length": 4,
          "values": [
           0.5345454822887074,
           0.27380944541792396,
           0.7192982456140351,
           0.6666666666666666
          ],
          "vectorType": "dense"
         }
        ],
        [
         {
          "length": 4,
          "values": [
           46.79999923706055,
           16.100000381469727,
           215.0,
           5500.0
          ],
          "vectorType": "dense"
         },
         {
          "length": 4,
          "values": [
           0.5345454822887074,
           0.35714287336180883,
           0.7192982456140351,
           0.7681159420289855
          ],
          "vectorType": "dense"
         }
        ],
        [
         {
          "length": 4,
          "values": [
           47.20000076293945,
           15.5,
           215.0,
           4975.0
          ],
          "vectorType": "dense"
         },
         {
          "length": 4,
          "values": [
           0.5490909923206676,
           0.28571425327638234,
           0.7192982456140351,
           0.6159420289855072
          ],
          "vectorType": "dense"
         }
        ],
        [
         {
          "length": 4,
          "values": [
           47.29999923706055,
           13.800000190734863,
           216.0,
           4725.0
          ],
          "vectorType": "dense"
         },
         {
          "length": 4,
          "values": [
           0.5527273004705255,
           0.08333331441122302,
           0.7368421052631579,
           0.5434782608695652
          ],
          "vectorType": "dense"
         }
        ],
        [
         {
          "length": 4,
          "values": [
           47.5,
           14.0,
           212.0,
           4875.0
          ],
          "vectorType": "dense"
         },
         {
          "length": 4,
          "values": [
           0.5600000554865057,
           0.1071428165954779,
           0.6666666666666666,
           0.5869565217391304
          ],
          "vectorType": "dense"
         }
        ],
        [
         {
          "length": 4,
          "values": [
           47.5,
           14.199999809265137,
           209.0,
           4600.0
          ],
          "vectorType": "dense"
         },
         {
          "length": 4,
          "values": [
           0.5600000554865057,
           0.1309523187797328,
           0.6140350877192982,
           0.5072463768115942
          ],
          "vectorType": "dense"
         }
        ],
        [
         {
          "length": 4,
          "values": [
           47.5,
           15.0,
           218.0,
           4950.0
          ],
          "vectorType": "dense"
         },
         {
          "length": 4,
          "values": [
           0.5600000554865057,
           0.2261904410494142,
           0.7719298245614035,
           0.6086956521739131
          ],
          "vectorType": "dense"
         }
        ],
        [
         {
          "length": 4,
          "values": [
           47.599998474121094,
           14.5,
           215.0,
           5400.0
          ],
          "vectorType": "dense"
         },
         {
          "length": 4,
          "values": [
           0.5636363636363636,
           0.16666662882244604,
           0.7192982456140351,
           0.7391304347826086
          ],
          "vectorType": "dense"
         }
        ],
        [
         {
          "length": 4,
          "values": [
           47.70000076293945,
           15.0,
           216.0,
           4750.0
          ],
          "vectorType": "dense"
         },
         {
          "length": 4,
          "values": [
           0.5672728105024858,
           0.2261904410494142,
           0.7368421052631579,
           0.5507246376811594
          ],
          "vectorType": "dense"
         }
        ],
        [
         {
          "length": 4,
          "values": [
           47.79999923706055,
           15.0,
           215.0,
           5650.0
          ],
          "vectorType": "dense"
         },
         {
          "length": 4,
          "values": [
           0.5709091186523437,
           0.2261904410494142,
           0.7192982456140351,
           0.8115942028985507
          ],
          "vectorType": "dense"
         }
        ],
        [
         {
          "length": 4,
          "values": [
           48.099998474121094,
           15.100000381469727,
           209.0,
           5500.0
          ],
          "vectorType": "dense"
         },
         {
          "length": 4,
          "values": [
           0.5818181818181818,
           0.23809524890787256,
           0.6140350877192982,
           0.7681159420289855
          ],
          "vectorType": "dense"
         }
        ],
        [
         {
          "length": 4,
          "values": [
           48.20000076293945,
           14.300000190734863,
           210.0,
           4600.0
          ],
          "vectorType": "dense"
         },
         {
          "length": 4,
          "values": [
           0.585454628684304,
           0.14285712663819117,
           0.631578947368421,
           0.5072463768115942
          ],
          "vectorType": "dense"
         }
        ],
        [
         {
          "length": 4,
          "values": [
           48.400001525878906,
           14.399999618530273,
           203.0,
           4625.0
          ],
          "vectorType": "dense"
         },
         {
          "length": 4,
          "values": [
           0.5927273837002841,
           0.15476182096398766,
           0.5087719298245614,
           0.5144927536231884
          ],
          "vectorType": "dense"
         }
        ],
        [
         {
          "length": 4,
          "values": [
           48.400001525878906,
           14.600000381469727,
           213.0,
           5850.0
          ],
          "vectorType": "dense"
         },
         {
          "length": 4,
          "values": [
           0.5927273837002841,
           0.17857143668090442,
           0.6842105263157894,
           0.8695652173913043
          ],
          "vectorType": "dense"
         }
        ],
        [
         {
          "length": 4,
          "values": [
           48.400001525878906,
           16.299999237060547,
           220.0,
           5400.0
          ],
          "vectorType": "dense"
         },
         {
          "length": 4,
          "values": [
           0.5927273837002841,
           0.3809522620134019,
           0.8070175438596491,
           0.7391304347826086
          ],
          "vectorType": "dense"
         }
        ],
        [
         {
          "length": 4,
          "values": [
           48.5,
           14.100000381469727,
           220.0,
           5300.0
          ],
          "vectorType": "dense"
         },
         {
          "length": 4,
          "values": [
           0.596363691850142,
           0.11904762445393628,
           0.8070175438596491,
           0.7101449275362318
          ],
          "vectorType": "dense"
         }
        ],
        [
         {
          "length": 4,
          "values": [
           48.5,
           15.0,
           219.0,
           4850.0
          ],
          "vectorType": "dense"
         },
         {
          "length": 4,
          "values": [
           0.596363691850142,
           0.2261904410494142,
           0.7894736842105263,
           0.5797101449275363
          ],
          "vectorType": "dense"
         }
        ],
        [
         {
          "length": 4,
          "values": [
           48.70000076293945,
           14.100000381469727,
           210.0,
           4450.0
          ],
          "vectorType": "dense"
         },
         {
          "length": 4,
          "values": [
           0.6036364468661222,
           0.11904762445393628,
           0.631578947368421,
           0.463768115942029
          ],
          "vectorType": "dense"
         }
        ],
        [
         {
          "length": 4,
          "values": [
           48.70000076293945,
           15.100000381469727,
           222.0,
           5350.0
          ],
          "vectorType": "dense"
         },
         {
          "length": 4,
          "values": [
           0.6036364468661222,
           0.23809524890787256,
           0.8421052631578947,
           0.7246376811594203
          ],
          "vectorType": "dense"
         }
        ],
        [
         {
          "length": 4,
          "values": [
           49.0,
           16.100000381469727,
           216.0,
           5550.0
          ],
          "vectorType": "dense"
         },
         {
          "length": 4,
          "values": [
           0.6145455100319602,
           0.35714287336180883,
           0.7368421052631579,
           0.782608695652174
          ],
          "vectorType": "dense"
         }
        ],
        [
         {
          "length": 4,
          "values": [
           49.099998474121094,
           14.5,
           212.0,
           4625.0
          ],
          "vectorType": "dense"
         },
         {
          "length": 4,
          "values": [
           0.6181818181818182,
           0.16666662882244604,
           0.6666666666666666,
           0.5144927536231884
          ],
          "vectorType": "dense"
         }
        ],
        [
         {
          "length": 4,
          "values": [
           49.099998474121094,
           14.800000190734863,
           220.0,
           5150.0
          ],
          "vectorType": "dense"
         },
         {
          "length": 4,
          "values": [
           0.6181818181818182,
           0.20238093886515932,
           0.8070175438596491,
           0.6666666666666666
          ],
          "vectorType": "dense"
         }
        ],
        [
         {
          "length": 4,
          "values": [
           49.099998474121094,
           15.0,
           228.0,
           5500.0
          ],
          "vectorType": "dense"
         },
         {
          "length": 4,
          "values": [
           0.6181818181818182,
           0.2261904410494142,
           0.9473684210526315,
           0.7681159420289855
          ],
          "vectorType": "dense"
         }
        ],
        [
         {
          "length": 4,
          "values": [
           49.20000076293945,
           15.199999809265137,
           221.0,
           6300.0
          ],
          "vectorType": "dense"
         },
         {
          "length": 4,
          "values": [
           0.6218182650479404,
           0.24999994323366906,
           0.8245614035087718,
           1.0
          ],
          "vectorType": "dense"
         }
        ],
        [
         {
          "length": 4,
          "values": [
           49.29999923706055,
           15.699999809265137,
           217.0,
           5850.0
          ],
          "vectorType": "dense"
         },
         {
          "length": 4,
          "values": [
           0.6254545731977983,
           0.3095237554606372,
           0.7543859649122806,
           0.8695652173913043
          ],
          "vectorType": "dense"
         }
        ],
        [
         {
          "length": 4,
          "values": [
           49.400001525878906,
           15.800000190734863,
           216.0,
           4925.0
          ],
          "vectorType": "dense"
         },
         {
          "length": 4,
          "values": [
           0.6290910200639204,
           0.3214285633190956,
           0.7368421052631579,
           0.6014492753623188
          ],
          "vectorType": "dense"
         }
        ],
        [
         {
          "length": 4,
          "values": [
           49.5,
           16.100000381469727,
           224.0,
           5650.0
          ],
          "vectorType": "dense"
         },
         {
          "length": 4,
          "values": [
           0.6327273282137784,
           0.35714287336180883,
           0.8771929824561403,
           0.8115942028985507
          ],
          "vectorType": "dense"
         }
        ],
        [
         {
          "length": 4,
          "values": [
           49.5,
           16.200000762939453,
           229.0,
           5800.0
          ],
          "vectorType": "dense"
         },
         {
          "length": 4,
          "values": [
           0.6327273282137784,
           0.3690476812202672,
           0.9649122807017543,
           0.855072463768116
          ],
          "vectorType": "dense"
         }
        ],
        [
         {
          "length": 4,
          "values": [
           49.599998474121094,
           15.0,
           216.0,
           4750.0
          ],
          "vectorType": "dense"
         },
         {
          "length": 4,
          "values": [
           0.6363636363636364,
           0.2261904410494142,
           0.7368421052631579,
           0.5507246376811594
          ],
          "vectorType": "dense"
         }
        ],
        [
         {
          "length": 4,
          "values": [
           49.599998474121094,
           16.0,
           225.0,
           5700.0
          ],
          "vectorType": "dense"
         },
         {
          "length": 4,
          "values": [
           0.6363636363636364,
           0.34523806550335046,
           0.894736842105263,
           0.8260869565217391
          ],
          "vectorType": "dense"
         }
        ],
        [
         {
          "length": 4,
          "values": [
           49.79999923706055,
           15.899999618530273,
           229.0,
           5950.0
          ],
          "vectorType": "dense"
         },
         {
          "length": 4,
          "values": [
           0.6436363913796165,
           0.3333332576448921,
           0.9649122807017543,
           0.8985507246376812
          ],
          "vectorType": "dense"
         }
        ],
        [
         {
          "length": 4,
          "values": [
           49.900001525878906,
           16.100000381469727,
           213.0,
           5400.0
          ],
          "vectorType": "dense"
         },
         {
          "length": 4,
          "values": [
           0.6472728382457386,
           0.35714287336180883,
           0.6842105263157894,
           0.7391304347826086
          ],
          "vectorType": "dense"
         }
        ],
        [
         {
          "length": 4,
          "values": [
           50.0,
           15.199999809265137,
           218.0,
           5700.0
          ],
          "vectorType": "dense"
         },
         {
          "length": 4,
          "values": [
           0.6509091463955966,
           0.24999994323366906,
           0.7719298245614035,
           0.8260869565217391
          ],
          "vectorType": "dense"
         }
        ],
        [
         {
          "length": 4,
          "values": [
           50.0,
           15.899999618530273,
           224.0,
           5350.0
          ],
          "vectorType": "dense"
         },
         {
          "length": 4,
          "values": [
           0.6509091463955966,
           0.3333332576448921,
           0.8771929824561403,
           0.7246376811594203
          ],
          "vectorType": "dense"
         }
        ],
        [
         {
          "length": 4,
          "values": [
           50.0,
           16.299999237060547,
           230.0,
           5700.0
          ],
          "vectorType": "dense"
         },
         {
          "length": 4,
          "values": [
           0.6509091463955966,
           0.3809522620134019,
           0.9824561403508771,
           0.8260869565217391
          ],
          "vectorType": "dense"
         }
        ],
        [
         {
          "length": 4,
          "values": [
           50.099998474121094,
           15.0,
           225.0,
           5000.0
          ],
          "vectorType": "dense"
         },
         {
          "length": 4,
          "values": [
           0.6545454545454545,
           0.2261904410494142,
           0.894736842105263,
           0.6231884057971014
          ],
          "vectorType": "dense"
         }
        ],
        [
         {
          "length": 4,
          "values": [
           50.20000076293945,
           14.300000190734863,
           218.0,
           5700.0
          ],
          "vectorType": "dense"
         },
         {
          "length": 4,
          "values": [
           0.6581819014115766,
           0.14285712663819117,
           0.7719298245614035,
           0.8260869565217391
          ],
          "vectorType": "dense"
         }
        ],
        [
         {
          "length": 4,
          "values": [
           50.5,
           15.199999809265137,
           216.0,
           5000.0
          ],
          "vectorType": "dense"
         },
         {
          "length": 4,
          "values": [
           0.6690909645774148,
           0.24999994323366906,
           0.7368421052631579,
           0.6231884057971014
          ],
          "vectorType": "dense"
         }
        ],
        [
         {
          "length": 4,
          "values": [
           50.5,
           15.899999618530273,
           222.0,
           5550.0
          ],
          "vectorType": "dense"
         },
         {
          "length": 4,
          "values": [
           0.6690909645774148,
           0.3333332576448921,
           0.8421052631578947,
           0.782608695652174
          ],
          "vectorType": "dense"
         }
        ],
        [
         {
          "length": 4,
          "values": [
           50.5,
           15.899999618530273,
           225.0,
           5400.0
          ],
          "vectorType": "dense"
         },
         {
          "length": 4,
          "values": [
           0.6690909645774148,
           0.3333332576448921,
           0.894736842105263,
           0.7391304347826086
          ],
          "vectorType": "dense"
         }
        ],
        [
         {
          "length": 4,
          "values": [
           50.79999923706055,
           17.299999237060547,
           228.0,
           5600.0
          ],
          "vectorType": "dense"
         },
         {
          "length": 4,
          "values": [
           0.6800000277432529,
           0.4999998864673381,
           0.9473684210526315,
           0.7971014492753623
          ],
          "vectorType": "dense"
         }
        ],
        [
         {
          "length": 4,
          "values": [
           51.099998474121094,
           16.299999237060547,
           220.0,
           6000.0
          ],
          "vectorType": "dense"
         },
         {
          "length": 4,
          "values": [
           0.6909090909090909,
           0.3809522620134019,
           0.8070175438596491,
           0.9130434782608695
          ],
          "vectorType": "dense"
         }
        ],
        [
         {
          "length": 4,
          "values": [
           52.20000076293945,
           17.100000381469727,
           228.0,
           5400.0
          ],
          "vectorType": "dense"
         },
         {
          "length": 4,
          "values": [
           0.7309091741388494,
           0.47619049781574513,
           0.9473684210526315,
           0.7391304347826086
          ],
          "vectorType": "dense"
         }
        ],
        [
         {
          "length": 4,
          "values": [
           52.5,
           15.600000381469727,
           221.0,
           5450.0
          ],
          "vectorType": "dense"
         },
         {
          "length": 4,
          "values": [
           0.7418182373046874,
           0.2976190611348407,
           0.8245614035087718,
           0.7536231884057971
          ],
          "vectorType": "dense"
         }
        ],
        [
         {
          "length": 4,
          "values": [
           53.400001525878906,
           15.800000190734863,
           219.0,
           5500.0
          ],
          "vectorType": "dense"
         },
         {
          "length": 4,
          "values": [
           0.7745455655184659,
           0.3214285633190956,
           0.7894736842105263,
           0.7681159420289855
          ],
          "vectorType": "dense"
         }
        ],
        [
         {
          "length": 4,
          "values": [
           54.29999923706055,
           15.699999809265137,
           231.0,
           5650.0
          ],
          "vectorType": "dense"
         },
         {
          "length": 4,
          "values": [
           0.8072727550159801,
           0.3095237554606372,
           1.0,
           0.8115942028985507
          ],
          "vectorType": "dense"
         }
        ],
        [
         {
          "length": 4,
          "values": [
           55.900001525878906,
           17.0,
           228.0,
           5600.0
          ],
          "vectorType": "dense"
         },
         {
          "length": 4,
          "values": [
           0.8654546564275568,
           0.46428568995728675,
           0.9473684210526315,
           0.7971014492753623
          ],
          "vectorType": "dense"
         }
        ],
        [
         {
          "length": 4,
          "values": [
           59.599998474121094,
           17.0,
           230.0,
           6050.0
          ],
          "vectorType": "dense"
         },
         {
          "length": 4,
          "values": [
           1.0,
           0.46428568995728675,
           0.9824561403508771,
           0.927536231884058
          ],
          "vectorType": "dense"
         }
        ],
        [
         {
          "length": 4,
          "values": [
           32.099998474121094,
           15.5,
           188.0,
           3050.0
          ],
          "vectorType": "dense"
         },
         {
          "length": 4,
          "values": [
           0.0,
           0.28571425327638234,
           0.24561403508771928,
           0.057971014492753624
          ],
          "vectorType": "dense"
         }
        ],
        [
         {
          "length": 4,
          "values": [
           33.099998474121094,
           16.100000381469727,
           178.0,
           2900.0
          ],
          "vectorType": "dense"
         },
         {
          "length": 4,
          "values": [
           0.03636363636363636,
           0.35714287336180883,
           0.07017543859649122,
           0.014492753623188406
          ],
          "vectorType": "dense"
         }
        ],
        [
         {
          "length": 4,
          "values": [
           34.0,
           17.100000381469727,
           185.0,
           3400.0
          ],
          "vectorType": "dense"
         },
         {
          "length": 4,
          "values": [
           0.06909096457741477,
           0.47619049781574513,
           0.19298245614035087,
           0.15942028985507245
          ],
          "vectorType": "dense"
         }
        ],
        [
         {
          "length": 4,
          "values": [
           35.599998474121094,
           17.5,
           191.0,
           3175.0
          ],
          "vectorType": "dense"
         },
         {
          "length": 4,
          "values": [
           0.12727272727272726,
           0.5238095021842549,
           0.2982456140350877,
           0.09420289855072464
          ],
          "vectorType": "dense"
         }
        ],
        [
         {
          "length": 4,
          "values": [
           35.70000076293945,
           18.0,
           202.0,
           3550.0
          ],
          "vectorType": "dense"
         },
         {
          "length": 4,
          "values": [
           0.13090917413884942,
           0.583333314411223,
           0.49122807017543857,
           0.20289855072463767
          ],
          "vectorType": "dense"
         }
        ],
        [
         {
          "length": 4,
          "values": [
           36.0,
           17.100000381469727,
           187.0,
           3700.0
          ],
          "vectorType": "dense"
         },
         {
          "length": 4,
          "values": [
           0.14181823730468748,
           0.47619049781574513,
           0.22807017543859648,
           0.24637681159420288
          ],
          "vectorType": "dense"
         }
        ],
        [
         {
          "length": 4,
          "values": [
           36.0,
           17.799999237060547,
           195.0,
           3450.0
          ],
          "vectorType": "dense"
         },
         {
          "length": 4,
          "values": [
           0.14181823730468748,
           0.5595236986943063,
           0.3684210526315789,
           0.17391304347826086
          ],
          "vectorType": "dense"
         }
        ],
        [
         {
          "length": 4,
          "values": [
           36.0,
           17.899999618530273,
           190.0,
           3450.0
          ],
          "vectorType": "dense"
         },
         {
          "length": 4,
          "values": [
           0.14181823730468748,
           0.5714285065527647,
           0.2807017543859649,
           0.17391304347826086
          ],
          "vectorType": "dense"
         }
        ],
        [
         {
          "length": 4,
          "values": [
           36.0,
           18.5,
           186.0,
           3100.0
          ],
          "vectorType": "dense"
         },
         {
          "length": 4,
          "values": [
           0.14181823730468748,
           0.6428571266381912,
           0.21052631578947367,
           0.07246376811594203
          ],
          "vectorType": "dense"
         }
        ],
        [
         {
          "length": 4,
          "values": [
           36.29999923706055,
           19.5,
           190.0,
           3800.0
          ],
          "vectorType": "dense"
         },
         {
          "length": 4,
          "values": [
           0.15272730047052557,
           0.7619047510921274,
           0.2807017543859649,
           0.2753623188405797
          ],
          "vectorType": "dense"
         }
        ],
        [
         {
          "length": 4,
          "values": [
           36.5,
           18.0,
           182.0,
           3150.0
          ],
          "vectorType": "dense"
         },
         {
          "length": 4,
          "values": [
           0.16000005548650567,
           0.583333314411223,
           0.14035087719298245,
           0.08695652173913043
          ],
          "vectorType": "dense"
         }
        ],
        [
         {
          "length": 4,
          "values": [
           36.79999923706055,
           18.5,
           193.0,
           3500.0
          ],
          "vectorType": "dense"
         },
         {
          "length": 4,
          "values": [
           0.17090911865234373,
           0.6428571266381912,
           0.3333333333333333,
           0.18840579710144928
          ],
          "vectorType": "dense"
         }
        ],
        [
         {
          "length": 4,
          "values": [
           37.0,
           16.5,
           185.0,
           3400.0
          ],
          "vectorType": "dense"
         },
         {
          "length": 4,
          "values": [
           0.17818187366832386,
           0.40476187773031863,
           0.19298245614035087,
           0.15942028985507245
          ],
          "vectorType": "dense"
         }
        ],
        [
         {
          "length": 4,
          "values": [
           37.20000076293945,
           18.100000381469727,
           178.0,
           3900.0
          ],
          "vectorType": "dense"
         },
         {
          "length": 4,
          "values": [
           0.18545462868430396,
           0.5952381222696814,
           0.07017543859649122,
           0.30434782608695654
          ],
          "vectorType": "dense"
         }
        ],
        [
         {
          "length": 4,
          "values": [
           37.29999923706055,
           17.799999237060547,
           191.0,
           3350.0
          ],
          "vectorType": "dense"
         },
         {
          "length": 4,
          "values": [
           0.18909093683416192,
           0.5595236986943063,
           0.2982456140350877,
           0.14492753623188406
          ],
          "vectorType": "dense"
         }
        ],
        [
         {
          "length": 4,
          "values": [
           37.5,
           18.5,
           199.0,
           4475.0
          ],
          "vectorType": "dense"
         },
         {
          "length": 4,
          "values": [
           0.19636369185014205,
           0.6428571266381912,
           0.43859649122807015,
           0.47101449275362317
          ],
          "vectorType": "dense"
         }
        ],
        [
         {
          "length": 4,
          "values": [
           37.5,
           18.899999618530273,
           179.0,
           2975.0
          ],
          "vectorType": "dense"
         },
         {
          "length": 4,
          "values": [
           0.19636369185014205,
           0.6904761310067009,
           0.08771929824561403,
           0.036231884057971016
          ],
          "vectorType": "dense"
         }
        ],
        [
         {
          "length": 4,
          "values": [
           37.599998474121094,
           19.299999237060547,
           181.0,
           3300.0
          ],
          "vectorType": "dense"
         },
         {
          "length": 4,
          "values": [
           0.19999999999999998,
           0.7380951353752107,
           0.12280701754385964,
           0.13043478260869565
          ],
          "vectorType": "dense"
         }
        ],
        [
         {
          "length": 4,
          "values": [
           38.29999923706055,
           19.200000762939453,
           189.0,
           3950.0
          ],
          "vectorType": "dense"
         },
         {
          "length": 4,
          "values": [
           0.2254545731977983,
           0.726190554582076,
           0.2631578947368421,
           0.3188405797101449
          ],
          "vectorType": "dense"
         }
        ],
        [
         {
          "length": 4,
          "values": [
           38.79999923706055,
           20.0,
           190.0,
           3950.0
          ],
          "vectorType": "dense"
         },
         {
          "length": 4,
          "values": [
           0.24363639137961646,
           0.8214285633190956,
           0.2807017543859649,
           0.3188405797101449
          ],
          "vectorType": "dense"
         }
        ],
        [
         {
          "length": 4,
          "values": [
           38.900001525878906,
           18.799999237060547,
           190.0,
           3600.0
          ],
          "vectorType": "dense"
         },
         {
          "length": 4,
          "values": [
           0.24727283824573862,
           0.6785713231482425,
           0.2807017543859649,
           0.21739130434782608
          ],
          "vectorType": "dense"
         }
        ],
        [
         {
          "length": 4,
          "values": [
           39.0,
           18.700000762939453,
           185.0,
           3650.0
          ],
          "vectorType": "dense"
         },
         {
          "length": 4,
          "values": [
           0.2509091463955966,
           0.6666667423551079,
           0.19298245614035087,
           0.2318840579710145
          ],
          "vectorType": "dense"
         }
        ],
        [
         {
          "length": 4,
          "values": [
           39.20000076293945,
           18.600000381469727,
           190.0,
           4250.0
          ],
          "vectorType": "dense"
         },
         {
          "length": 4,
          "values": [
           0.2581819014115767,
           0.6547619344966495,
           0.2807017543859649,
           0.40579710144927533
          ],
          "vectorType": "dense"
         }
        ],
        [
         {
          "length": 4,
          "values": [
           39.5,
           16.700000762939453,
           178.0,
           3250.0
          ],
          "vectorType": "dense"
         },
         {
          "length": 4,
          "values": [
           0.26909096457741477,
           0.4285714934472354,
           0.07017543859649122,
           0.11594202898550725
          ],
          "vectorType": "dense"
         }
        ],
        [
         {
          "length": 4,
          "values": [
           39.5,
           17.799999237060547,
           188.0,
           3300.0
          ],
          "vectorType": "dense"
         },
         {
          "length": 4,
          "values": [
           0.26909096457741477,
           0.5595236986943063,
           0.24561403508771928,
           0.13043478260869565
          ],
          "vectorType": "dense"
         }
        ],
        [
         {
          "length": 4,
          "values": [
           39.599998474121094,
           18.100000381469727,
           186.0,
           4450.0
          ],
          "vectorType": "dense"
         },
         {
          "length": 4,
          "values": [
           0.2727272727272727,
           0.5952381222696814,
           0.21052631578947367,
           0.463768115942029
          ],
          "vectorType": "dense"
         }
        ],
        [
         {
          "length": 4,
          "values": [
           39.599998474121094,
           18.799999237060547,
           190.0,
           4600.0
          ],
          "vectorType": "dense"
         },
         {
          "length": 4,
          "values": [
           0.2727272727272727,
           0.6785713231482425,
           0.2807017543859649,
           0.5072463768115942
          ],
          "vectorType": "dense"
         }
        ],
        [
         {
          "length": 4,
          "values": [
           39.79999923706055,
           19.100000381469727,
           184.0,
           4650.0
          ],
          "vectorType": "dense"
         },
         {
          "length": 4,
          "values": [
           0.28000002774325283,
           0.7142857467236177,
           0.17543859649122806,
           0.5217391304347826
          ],
          "vectorType": "dense"
         }
        ],
        [
         {
          "length": 4,
          "values": [
           40.20000076293945,
           17.100000381469727,
           193.0,
           3400.0
          ],
          "vectorType": "dense"
         },
         {
          "length": 4,
          "values": [
           0.29454553777521303,
           0.47619049781574513,
           0.3333333333333333,
           0.15942028985507245
          ],
          "vectorType": "dense"
         }
        ],
        [
         {
          "length": 4,
          "values": [
           40.20000076293945,
           20.100000381469727,
           200.0,
           3975.0
          ],
          "vectorType": "dense"
         },
         {
          "length": 4,
          "values": [
           0.29454553777521303,
           0.833333371177554,
           0.45614035087719296,
           0.32608695652173914
          ],
          "vectorType": "dense"
         }
        ],
        [
         {
          "length": 4,
          "values": [
           40.29999923706055,
           18.5,
           196.0,
           4350.0
          ],
          "vectorType": "dense"
         },
         {
          "length": 4,
          "values": [
           0.298181845925071,
           0.6428571266381912,
           0.38596491228070173,
           0.43478260869565216
          ],
          "vectorType": "dense"
         }
        ],
        [
         {
          "length": 4,
          "values": [
           40.599998474121094,
           17.200000762939453,
           187.0,
           3475.0
          ],
          "vectorType": "dense"
         },
         {
          "length": 4,
          "values": [
           0.3090909090909091,
           0.4880953056742035,
           0.22807017543859648,
           0.18115942028985507
          ],
          "vectorType": "dense"
         }
        ],
        [
         {
          "length": 4,
          "values": [
           40.79999923706055,
           18.399999618530273,
           195.0,
           3900.0
          ],
          "vectorType": "dense"
         },
         {
          "length": 4,
          "values": [
           0.3163636641068892,
           0.6309523187797328,
           0.3684210526315789,
           0.30434782608695654
          ],
          "vectorType": "dense"
         }
        ],
        [
         {
          "length": 4,
          "values": [
           40.900001525878906,
           16.600000381469727,
           187.0,
           3200.0
          ],
          "vectorType": "dense"
         },
         {
          "length": 4,
          "values": [
           0.32000011097301134,
           0.416666685588777,
           0.22807017543859648,
           0.10144927536231883
          ],
          "vectorType": "dense"
         }
        ],
        [
         {
          "length": 4,
          "values": [
           40.900001525878906,
           18.899999618530273,
           184.0,
           3900.0
          ],
          "vectorType": "dense"
         },
         {
          "length": 4,
          "values": [
           0.32000011097301134,
           0.6904761310067009,
           0.17543859649122806,
           0.30434782608695654
          ],
          "vectorType": "dense"
         }
        ],
        [
         {
          "length": 4,
          "values": [
           41.099998474121094,
           17.5,
           190.0,
           3900.0
          ],
          "vectorType": "dense"
         },
         {
          "length": 4,
          "values": [
           0.32727272727272727,
           0.5238095021842549,
           0.2807017543859649,
           0.30434782608695654
          ],
          "vectorType": "dense"
         }
        ],
        [
         {
          "length": 4,
          "values": [
           41.099998474121094,
           18.100000381469727,
           205.0,
           4300.0
          ],
          "vectorType": "dense"
         },
         {
          "length": 4,
          "values": [
           0.32727272727272727,
           0.5952381222696814,
           0.5438596491228069,
           0.42028985507246375
          ],
          "vectorType": "dense"
         }
        ],
        [
         {
          "length": 4,
          "values": [
           41.099998474121094,
           19.0,
           182.0,
           3425.0
          ],
          "vectorType": "dense"
         },
         {
          "length": 4,
          "values": [
           0.32727272727272727,
           0.7023809388651593,
           0.14035087719298245,
           0.16666666666666666
          ],
          "vectorType": "dense"
         }
        ],
        [
         {
          "length": 4,
          "values": [
           41.5,
           18.5,
           201.0,
           4000.0
          ],
          "vectorType": "dense"
         },
         {
          "length": 4,
          "values": [
           0.34181823730468747,
           0.6428571266381912,
           0.47368421052631576,
           0.3333333333333333
          ],
          "vectorType": "dense"
         }
        ],
        [
         {
          "length": 4,
          "values": [
           42.20000076293945,
           18.5,
           180.0,
           3550.0
          ],
          "vectorType": "dense"
         },
         {
          "length": 4,
          "values": [
           0.3672728105024858,
           0.6428571266381912,
           0.10526315789473684,
           0.20289855072463767
          ],
          "vectorType": "dense"
         }
        ],
        [
         {
          "length": 4,
          "values": [
           42.400001525878906,
           17.299999237060547,
           181.0,
           3600.0
          ],
          "vectorType": "dense"
         },
         {
          "length": 4,
          "values": [
           0.3745455655184659,
           0.4999998864673381,
           0.12280701754385964,
           0.21739130434782608
          ],
          "vectorType": "dense"
         }
        ],
        [
         {
          "length": 4,
          "values": [
           42.5,
           16.700000762939453,
           187.0,
           3350.0
          ],
          "vectorType": "dense"
         },
         {
          "length": 4,
          "values": [
           0.37818187366832384,
           0.4285714934472354,
           0.22807017543859648,
           0.14492753623188406
          ],
          "vectorType": "dense"
         }
        ],
        [
         {
          "length": 4,
          "values": [
           42.5,
           17.299999237060547,
           187.0,
           3350.0
          ],
          "vectorType": "dense"
         },
         {
          "length": 4,
          "values": [
           0.37818187366832384,
           0.4999998864673381,
           0.22807017543859648,
           0.14492753623188406
          ],
          "vectorType": "dense"
         }
        ],
        [
         {
          "length": 4,
          "values": [
           43.20000076293945,
           16.600000381469727,
           187.0,
           2900.0
          ],
          "vectorType": "dense"
         },
         {
          "length": 4,
          "values": [
           0.40363644686612216,
           0.416666685588777,
           0.22807017543859648,
           0.014492753623188406
          ],
          "vectorType": "dense"
         }
        ],
        [
         {
          "length": 4,
          "values": [
           43.5,
           18.100000381469727,
           202.0,
           3400.0
          ],
          "vectorType": "dense"
         },
         {
          "length": 4,
          "values": [
           0.4145455100319602,
           0.5952381222696814,
           0.49122807017543857,
           0.15942028985507245
          ],
          "vectorType": "dense"
         }
        ],
        [
         {
          "length": 4,
          "values": [
           45.20000076293945,
           16.600000381469727,
           191.0,
           3250.0
          ],
          "vectorType": "dense"
         },
         {
          "length": 4,
          "values": [
           0.47636371959339485,
           0.416666685588777,
           0.2982456140350877,
           0.11594202898550725
          ],
          "vectorType": "dense"
         }
        ],
        [
         {
          "length": 4,
          "values": [
           45.20000076293945,
           17.799999237060547,
           198.0,
           3950.0
          ],
          "vectorType": "dense"
         },
         {
          "length": 4,
          "values": [
           0.47636371959339485,
           0.5595236986943063,
           0.42105263157894735,
           0.3188405797101449
          ],
          "vectorType": "dense"
         }
        ],
        [
         {
          "length": 4,
          "values": [
           45.400001525878906,
           18.700000762939453,
           188.0,
           3525.0
          ],
          "vectorType": "dense"
         },
         {
          "length": 4,
          "values": [
           0.483636474609375,
           0.6666667423551079,
           0.24561403508771928,
           0.1956521739130435
          ],
          "vectorType": "dense"
         }
        ],
        [
         {
          "length": 4,
          "values": [
           45.5,
           17.0,
           196.0,
           3500.0
          ],
          "vectorType": "dense"
         },
         {
          "length": 4,
          "values": [
           0.4872727827592329,
           0.46428568995728675,
           0.38596491228070173,
           0.18840579710144928
          ],
          "vectorType": "dense"
         }
        ],
        [
         {
          "length": 4,
          "values": [
           45.599998474121094,
           19.399999618530273,
           194.0,
           3525.0
          ],
          "vectorType": "dense"
         },
         {
          "length": 4,
          "values": [
           0.4909090909090909,
           0.749999943233669,
           0.3508771929824561,
           0.1956521739130435
          ],
          "vectorType": "dense"
         }
        ],
        [
         {
          "length": 4,
          "values": [
           45.70000076293945,
           17.0,
           195.0,
           3650.0
          ],
          "vectorType": "dense"
         },
         {
          "length": 4,
          "values": [
           0.49454553777521304,
           0.46428568995728675,
           0.3684210526315789,
           0.2318840579710145
          ],
          "vectorType": "dense"
         }
        ],
        [
         {
          "length": 4,
          "values": [
           45.900001525878906,
           17.100000381469727,
           190.0,
           3575.0
          ],
          "vectorType": "dense"
         },
         {
          "length": 4,
          "values": [
           0.5018182927911932,
           0.47619049781574513,
           0.2807017543859649,
           0.21014492753623187
          ],
          "vectorType": "dense"
         }
        ],
        [
         {
          "length": 4,
          "values": [
           46.099998474121094,
           18.200000762939453,
           178.0,
           3250.0
          ],
          "vectorType": "dense"
         },
         {
          "length": 4,
          "values": [
           0.509090909090909,
           0.6071429301281398,
           0.07017543859649122,
           0.11594202898550725
          ],
          "vectorType": "dense"
         }
        ],
        [
         {
          "length": 4,
          "values": [
           46.20000076293945,
           17.5,
           187.0,
           3650.0
          ],
          "vectorType": "dense"
         },
         {
          "length": 4,
          "values": [
           0.5127273559570312,
           0.5238095021842549,
           0.22807017543859648,
           0.2318840579710145
          ],
          "vectorType": "dense"
         }
        ],
        [
         {
          "length": 4,
          "values": [
           46.5,
           17.899999618530273,
           192.0,
           3500.0
          ],
          "vectorType": "dense"
         },
         {
          "length": 4,
          "values": [
           0.5236364191228693,
           0.5714285065527647,
           0.3157894736842105,
           0.18840579710144928
          ],
          "vectorType": "dense"
         }
        ],
        [
         {
          "length": 4,
          "values": [
           46.599998474121094,
           17.799999237060547,
           193.0,
           3800.0
          ],
          "vectorType": "dense"
         },
         {
          "length": 4,
          "values": [
           0.5272727272727272,
           0.5595236986943063,
           0.3333333333333333,
           0.2753623188405797
          ],
          "vectorType": "dense"
         }
        ],
        [
         {
          "length": 4,
          "values": [
           46.79999923706055,
           16.5,
           189.0,
           3650.0
          ],
          "vectorType": "dense"
         },
         {
          "length": 4,
          "values": [
           0.5345454822887074,
           0.40476187773031863,
           0.2631578947368421,
           0.2318840579710145
          ],
          "vectorType": "dense"
         }
        ],
        [
         {
          "length": 4,
          "values": [
           47.599998474121094,
           18.299999237060547,
           195.0,
           3850.0
          ],
          "vectorType": "dense"
         },
         {
          "length": 4,
          "values": [
           0.5636363636363636,
           0.6190475109212744,
           0.3684210526315789,
           0.2898550724637681
          ],
          "vectorType": "dense"
         }
        ],
        [
         {
          "length": 4,
          "values": [
           48.099998474121094,
           16.399999618530273,
           199.0,
           3325.0
          ],
          "vectorType": "dense"
         },
         {
          "length": 4,
          "values": [
           0.5818181818181818,
           0.39285706987186025,
           0.43859649122807015,
           0.13768115942028986
          ],
          "vectorType": "dense"
         }
        ],
        [
         {
          "length": 4,
          "values": [
           48.5,
           17.5,
           191.0,
           3400.0
          ],
          "vectorType": "dense"
         },
         {
          "length": 4,
          "values": [
           0.596363691850142,
           0.5238095021842549,
           0.2982456140350877,
           0.15942028985507245
          ],
          "vectorType": "dense"
         }
        ],
        [
         {
          "length": 4,
          "values": [
           49.0,
           19.5,
           210.0,
           3950.0
          ],
          "vectorType": "dense"
         },
         {
          "length": 4,
          "values": [
           0.6145455100319602,
           0.7619047510921274,
           0.631578947368421,
           0.3188405797101449
          ],
          "vectorType": "dense"
         }
        ],
        [
         {
          "length": 4,
          "values": [
           49.0,
           19.600000381469727,
           212.0,
           4300.0
          ],
          "vectorType": "dense"
         },
         {
          "length": 4,
          "values": [
           0.6145455100319602,
           0.7738095589505858,
           0.6666666666666666,
           0.42028985507246375
          ],
          "vectorType": "dense"
         }
        ],
        [
         {
          "length": 4,
          "values": [
           50.0,
           19.5,
           196.0,
           3900.0
          ],
          "vectorType": "dense"
         },
         {
          "length": 4,
          "values": [
           0.6509091463955966,
           0.7619047510921274,
           0.38596491228070173,
           0.30434782608695654
          ],
          "vectorType": "dense"
         }
        ],
        [
         {
          "length": 4,
          "values": [
           50.099998474121094,
           17.899999618530273,
           190.0,
           3400.0
          ],
          "vectorType": "dense"
         },
         {
          "length": 4,
          "values": [
           0.6545454545454545,
           0.5714285065527647,
           0.2807017543859649,
           0.15942028985507245
          ],
          "vectorType": "dense"
         }
        ],
        [
         {
          "length": 4,
          "values": [
           50.20000076293945,
           18.700000762939453,
           198.0,
           3775.0
          ],
          "vectorType": "dense"
         },
         {
          "length": 4,
          "values": [
           0.6581819014115766,
           0.6666667423551079,
           0.42105263157894735,
           0.2681159420289855
          ],
          "vectorType": "dense"
         }
        ],
        [
         {
          "length": 4,
          "values": [
           50.20000076293945,
           18.799999237060547,
           202.0,
           3800.0
          ],
          "vectorType": "dense"
         },
         {
          "length": 4,
          "values": [
           0.6581819014115766,
           0.6785713231482425,
           0.49122807017543857,
           0.2753623188405797
          ],
          "vectorType": "dense"
         }
        ],
        [
         {
          "length": 4,
          "values": [
           50.29999923706055,
           20.0,
           197.0,
           3300.0
          ],
          "vectorType": "dense"
         },
         {
          "length": 4,
          "values": [
           0.6618182095614347,
           0.8214285633190956,
           0.40350877192982454,
           0.13043478260869565
          ],
          "vectorType": "dense"
         }
        ],
        [
         {
          "length": 4,
          "values": [
           50.5,
           18.399999618530273,
           200.0,
           3400.0
          ],
          "vectorType": "dense"
         },
         {
          "length": 4,
          "values": [
           0.6690909645774148,
           0.6309523187797328,
           0.45614035087719296,
           0.15942028985507245
          ],
          "vectorType": "dense"
         }
        ],
        [
         {
          "length": 4,
          "values": [
           50.5,
           19.600000381469727,
           201.0,
           4050.0
          ],
          "vectorType": "dense"
         },
         {
          "length": 4,
          "values": [
           0.6690909645774148,
           0.7738095589505858,
           0.47368421052631576,
           0.34782608695652173
          ],
          "vectorType": "dense"
         }
        ],
        [
         {
          "length": 4,
          "values": [
           50.599998474121094,
           19.399999618530273,
           193.0,
           3800.0
          ],
          "vectorType": "dense"
         },
         {
          "length": 4,
          "values": [
           0.6727272727272727,
           0.749999943233669,
           0.3333333333333333,
           0.2753623188405797
          ],
          "vectorType": "dense"
         }
        ],
        [
         {
          "length": 4,
          "values": [
           50.70000076293945,
           19.700000762939453,
           203.0,
           4050.0
          ],
          "vectorType": "dense"
         },
         {
          "length": 4,
          "values": [
           0.6763637195933948,
           0.7857143668090442,
           0.5087719298245614,
           0.34782608695652173
          ],
          "vectorType": "dense"
         }
        ],
        [
         {
          "length": 4,
          "values": [
           50.79999923706055,
           19.0,
           210.0,
           4100.0
          ],
          "vectorType": "dense"
         },
         {
          "length": 4,
          "values": [
           0.6800000277432529,
           0.7023809388651593,
           0.631578947368421,
           0.36231884057971014
          ],
          "vectorType": "dense"
         }
        ],
        [
         {
          "length": 4,
          "values": [
           50.900001525878906,
           17.899999618530273,
           196.0,
           3675.0
          ],
          "vectorType": "dense"
         },
         {
          "length": 4,
          "values": [
           0.6836364746093749,
           0.5714285065527647,
           0.38596491228070173,
           0.2391304347826087
          ],
          "vectorType": "dense"
         }
        ],
        [
         {
          "length": 4,
          "values": [
           50.900001525878906,
           19.100000381469727,
           196.0,
           3550.0
          ],
          "vectorType": "dense"
         },
         {
          "length": 4,
          "values": [
           0.6836364746093749,
           0.7142857467236177,
           0.38596491228070173,
           0.20289855072463767
          ],
          "vectorType": "dense"
         }
        ],
        [
         {
          "length": 4,
          "values": [
           51.29999923706055,
           19.200000762939453,
           193.0,
           3650.0
          ],
          "vectorType": "dense"
         },
         {
          "length": 4,
          "values": [
           0.698181845925071,
           0.726190554582076,
           0.3333333333333333,
           0.2318840579710145
          ],
          "vectorType": "dense"
         }
        ],
        [
         {
          "length": 4,
          "values": [
           51.29999923706055,
           19.899999618530273,
           198.0,
           3700.0
          ],
          "vectorType": "dense"
         },
         {
          "length": 4,
          "values": [
           0.698181845925071,
           0.8095237554606373,
           0.42105263157894735,
           0.24637681159420288
          ],
          "vectorType": "dense"
         }
        ],
        [
         {
          "length": 4,
          "values": [
           51.400001525878906,
           19.0,
           201.0,
           3950.0
          ],
          "vectorType": "dense"
         },
         {
          "length": 4,
          "values": [
           0.7018182927911931,
           0.7023809388651593,
           0.47368421052631576,
           0.3188405797101449
          ],
          "vectorType": "dense"
         }
        ],
        [
         {
          "length": 4,
          "values": [
           51.5,
           18.700000762939453,
           187.0,
           3250.0
          ],
          "vectorType": "dense"
         },
         {
          "length": 4,
          "values": [
           0.7054546009410511,
           0.6666667423551079,
           0.22807017543859648,
           0.11594202898550725
          ],
          "vectorType": "dense"
         }
        ],
        [
         {
          "length": 4,
          "values": [
           51.70000076293945,
           20.299999237060547,
           194.0,
           3775.0
          ],
          "vectorType": "dense"
         },
         {
          "length": 4,
          "values": [
           0.7127273559570312,
           0.857142759829147,
           0.3508771929824561,
           0.2681159420289855
          ],
          "vectorType": "dense"
         }
        ],
        [
         {
          "length": 4,
          "values": [
           51.900001525878906,
           19.5,
           206.0,
           3950.0
          ],
          "vectorType": "dense"
         },
         {
          "length": 4,
          "values": [
           0.7200001109730113,
           0.7619047510921274,
           0.5614035087719298,
           0.3188405797101449
          ],
          "vectorType": "dense"
         }
        ],
        [
         {
          "length": 4,
          "values": [
           52.0,
           18.100000381469727,
           201.0,
           4050.0
          ],
          "vectorType": "dense"
         },
         {
          "length": 4,
          "values": [
           0.7236364191228692,
           0.5952381222696814,
           0.47368421052631576,
           0.34782608695652173
          ],
          "vectorType": "dense"
         }
        ],
        [
         {
          "length": 4,
          "values": [
           52.0,
           19.0,
           197.0,
           4150.0
          ],
          "vectorType": "dense"
         },
         {
          "length": 4,
          "values": [
           0.7236364191228692,
           0.7023809388651593,
           0.40350877192982454,
           0.37681159420289856
          ],
          "vectorType": "dense"
         }
        ],
        [
         {
          "length": 4,
          "values": [
           52.0,
           20.700000762939453,
           210.0,
           4800.0
          ],
          "vectorType": "dense"
         },
         {
          "length": 4,
          "values": [
           0.7236364191228692,
           0.9047619912629805,
           0.631578947368421,
           0.5652173913043478
          ],
          "vectorType": "dense"
         }
        ],
        [
         {
          "length": 4,
          "values": [
           52.20000076293945,
           18.799999237060547,
           197.0,
           3450.0
          ],
          "vectorType": "dense"
         },
         {
          "length": 4,
          "values": [
           0.7309091741388494,
           0.6785713231482425,
           0.40350877192982454,
           0.17391304347826086
          ],
          "vectorType": "dense"
         }
        ],
        [
         {
          "length": 4,
          "values": [
           52.70000076293945,
           19.799999237060547,
           197.0,
           3725.0
          ],
          "vectorType": "dense"
         },
         {
          "length": 4,
          "values": [
           0.7490909923206676,
           0.7976189476021789,
           0.40350877192982454,
           0.2536231884057971
          ],
          "vectorType": "dense"
         }
        ],
        [
         {
          "length": 4,
          "values": [
           52.79999923706055,
           20.0,
           205.0,
           4550.0
          ],
          "vectorType": "dense"
         },
         {
          "length": 4,
          "values": [
           0.7527273004705255,
           0.8214285633190956,
           0.5438596491228069,
           0.49275362318840576
          ],
          "vectorType": "dense"
         }
        ],
        [
         {
          "length": 4,
          "values": [
           53.5,
           19.899999618530273,
           205.0,
           4500.0
          ],
          "vectorType": "dense"
         },
         {
          "length": 4,
          "values": [
           0.7781818736683238,
           0.8095237554606373,
           0.5438596491228069,
           0.4782608695652174
          ],
          "vectorType": "dense"
         }
        ],
        [
         {
          "length": 4,
          "values": [
           54.20000076293945,
           20.799999237060547,
           201.0,
           4300.0
          ],
          "vectorType": "dense"
         },
         {
          "length": 4,
          "values": [
           0.8036364468661221,
           0.9166665720561151,
           0.47368421052631576,
           0.42028985507246375
          ],
          "vectorType": "dense"
         }
        ],
        [
         {
          "length": 4,
          "values": [
           55.79999923706055,
           19.799999237060547,
           207.0,
           4000.0
          ],
          "vectorType": "dense"
         },
         {
          "length": 4,
          "values": [
           0.8618182095614346,
           0.7976189476021789,
           0.5789473684210527,
           0.3333333333333333
          ],
          "vectorType": "dense"
         }
        ],
        [
         {
          "length": 4,
          "values": [
           58.0,
           17.799999237060547,
           181.0,
           3700.0
          ],
          "vectorType": "dense"
         },
         {
          "length": 4,
          "values": [
           0.9418182373046875,
           0.5595236986943063,
           0.12280701754385964,
           0.24637681159420288
          ],
          "vectorType": "dense"
         }
        ],
        [
         {
          "length": 4,
          "values": [
           34.400001525878906,
           18.399999618530273,
           184.0,
           3325.0
          ],
          "vectorType": "dense"
         },
         {
          "length": 4,
          "values": [
           0.083636474609375,
           0.6309523187797328,
           0.17543859649122806,
           0.13768115942028986
          ],
          "vectorType": "dense"
         }
        ],
        [
         {
          "length": 4,
          "values": [
           35.099998474121094,
           19.399999618530273,
           193.0,
           4200.0
          ],
          "vectorType": "dense"
         },
         {
          "length": 4,
          "values": [
           0.10909090909090909,
           0.749999943233669,
           0.3333333333333333,
           0.391304347826087
          ],
          "vectorType": "dense"
         }
        ],
        [
         {
          "length": 4,
          "values": [
           35.20000076293945,
           15.899999618530273,
           186.0,
           3050.0
          ],
          "vectorType": "dense"
         },
         {
          "length": 4,
          "values": [
           0.11272735595703125,
           0.3333332576448921,
           0.21052631578947367,
           0.057971014492753624
          ],
          "vectorType": "dense"
         }
        ],
        [
         {
          "length": 4,
          "values": [
           35.5,
           17.5,
           190.0,
           3700.0
          ],
          "vectorType": "dense"
         },
         {
          "length": 4,
          "values": [
           0.12363641912286931,
           0.5238095021842549,
           0.2807017543859649,
           0.24637681159420288
          ],
          "vectorType": "dense"
         }
        ],
        [
         {
          "length": 4,
          "values": [
           35.70000076293945,
           17.0,
           189.0,
           3350.0
          ],
          "vectorType": "dense"
         },
         {
          "length": 4,
          "values": [
           0.13090917413884942,
           0.46428568995728675,
           0.2631578947368421,
           0.14492753623188406
          ],
          "vectorType": "dense"
         }
        ],
        [
         {
          "length": 4,
          "values": [
           35.900001525878906,
           16.600000381469727,
           190.0,
           3050.0
          ],
          "vectorType": "dense"
         },
         {
          "length": 4,
          "values": [
           0.13818192915482955,
           0.416666685588777,
           0.2807017543859649,
           0.057971014492753624
          ],
          "vectorType": "dense"
         }
        ],
        [
         {
          "length": 4,
          "values": [
           36.20000076293945,
           16.100000381469727,
           187.0,
           3550.0
          ],
          "vectorType": "dense"
         },
         {
          "length": 4,
          "values": [
           0.1490909923206676,
           0.35714287336180883,
           0.22807017543859648,
           0.20289855072463767
          ],
          "vectorType": "dense"
         }
        ],
        [
         {
          "length": 4,
          "values": [
           36.599998474121094,
           17.799999237060547,
           185.0,
           3700.0
          ],
          "vectorType": "dense"
         },
         {
          "length": 4,
          "values": [
           0.16363636363636364,
           0.5595236986943063,
           0.19298245614035087,
           0.24637681159420288
          ],
          "vectorType": "dense"
         }
        ],
        [
         {
          "length": 4,
          "values": [
           36.70000076293945,
           18.799999237060547,
           187.0,
           3800.0
          ],
          "vectorType": "dense"
         },
         {
          "length": 4,
          "values": [
           0.1672728105024858,
           0.6785713231482425,
           0.22807017543859648,
           0.2753623188405797
          ],
          "vectorType": "dense"
         }
        ],
        [
         {
          "length": 4,
          "values": [
           36.70000076293945,
           19.299999237060547,
           193.0,
           3450.0
          ],
          "vectorType": "dense"
         },
         {
          "length": 4,
          "values": [
           0.1672728105024858,
           0.7380951353752107,
           0.3333333333333333,
           0.17391304347826086
          ],
          "vectorType": "dense"
         }
        ],
        [
         {
          "length": 4,
          "values": [
           37.20000076293945,
           19.399999618530273,
           184.0,
           3900.0
          ],
          "vectorType": "dense"
         },
         {
          "length": 4,
          "values": [
           0.18545462868430396,
           0.749999943233669,
           0.17543859649122806,
           0.30434782608695654
          ],
          "vectorType": "dense"
         }
        ],
        [
         {
          "length": 4,
          "values": [
           37.70000076293945,
           19.799999237060547,
           198.0,
           3500.0
          ],
          "vectorType": "dense"
         },
         {
          "length": 4,
          "values": [
           0.20363644686612214,
           0.7976189476021789,
           0.42105263157894735,
           0.18840579710144928
          ],
          "vectorType": "dense"
         }
        ],
        [
         {
          "length": 4,
          "values": [
           37.79999923706055,
           17.100000381469727,
           186.0,
           3300.0
          ],
          "vectorType": "dense"
         },
         {
          "length": 4,
          "values": [
           0.2072727550159801,
           0.47619049781574513,
           0.21052631578947367,
           0.13043478260869565
          ],
          "vectorType": "dense"
         }
        ],
        [
         {
          "length": 4,
          "values": [
           38.599998474121094,
           17.0,
           188.0,
           2900.0
          ],
          "vectorType": "dense"
         },
         {
          "length": 4,
          "values": [
           0.23636363636363636,
           0.46428568995728675,
           0.24561403508771928,
           0.014492753623188406
          ],
          "vectorType": "dense"
         }
        ],
        [
         {
          "length": 4,
          "values": [
           38.599998474121094,
           21.200000762939453,
           191.0,
           3800.0
          ],
          "vectorType": "dense"
         },
         {
          "length": 4,
          "values": [
           0.23636363636363636,
           0.9642858034899486,
           0.2982456140350877,
           0.2753623188405797
          ],
          "vectorType": "dense"
         }
        ],
        [
         {
          "length": 4,
          "values": [
           38.70000076293945,
           19.0,
           195.0,
           3450.0
          ],
          "vectorType": "dense"
         },
         {
          "length": 4,
          "values": [
           0.24000008322975852,
           0.7023809388651593,
           0.3684210526315789,
           0.17391304347826086
          ],
          "vectorType": "dense"
         }
        ],
        [
         {
          "length": 4,
          "values": [
           38.79999923706055,
           17.600000381469727,
           191.0,
           3275.0
          ],
          "vectorType": "dense"
         },
         {
          "length": 4,
          "values": [
           0.24363639137961646,
           0.5357143100427133,
           0.2982456140350877,
           0.12318840579710144
          ],
          "vectorType": "dense"
         }
        ],
        [
         {
          "length": 4,
          "values": [
           38.900001525878906,
           17.799999237060547,
           181.0,
           3625.0
          ],
          "vectorType": "dense"
         },
         {
          "length": 4,
          "values": [
           0.24727283824573862,
           0.5595236986943063,
           0.12280701754385964,
           0.2246376811594203
          ],
          "vectorType": "dense"
         }
        ],
        [
         {
          "length": 4,
          "values": [
           39.0,
           17.100000381469727,
           191.0,
           3050.0
          ],
          "vectorType": "dense"
         },
         {
          "length": 4,
          "values": [
           0.2509091463955966,
           0.47619049781574513,
           0.2982456140350877,
           0.057971014492753624
          ],
          "vectorType": "dense"
         }
        ],
        [
         {
          "length": 4,
          "values": [
           39.099998474121094,
           18.700000762939453,
           181.0,
           3750.0
          ],
          "vectorType": "dense"
         },
         {
          "length": 4,
          "values": [
           0.2545454545454545,
           0.6666667423551079,
           0.12280701754385964,
           0.2608695652173913
          ],
          "vectorType": "dense"
         }
        ],
        [
         {
          "length": 4,
          "values": [
           39.5,
           17.399999618530273,
           186.0,
           3800.0
          ],
          "vectorType": "dense"
         },
         {
          "length": 4,
          "values": [
           0.26909096457741477,
           0.5119046943257965,
           0.21052631578947367,
           0.2753623188405797
          ],
          "vectorType": "dense"
         }
        ],
        [
         {
          "length": 4,
          "values": [
           39.599998474121094,
           17.200000762939453,
           196.0,
           3550.0
          ],
          "vectorType": "dense"
         },
         {
          "length": 4,
          "values": [
           0.2727272727272727,
           0.4880953056742035,
           0.38596491228070173,
           0.20289855072463767
          ],
          "vectorType": "dense"
         }
        ],
        [
         {
          "length": 4,
          "values": [
           40.29999923706055,
           18.0,
           195.0,
           3250.0
          ],
          "vectorType": "dense"
         },
         {
          "length": 4,
          "values": [
           0.298181845925071,
           0.583333314411223,
           0.3684210526315789,
           0.11594202898550725
          ],
          "vectorType": "dense"
         }
        ],
        [
         {
          "length": 4,
          "values": [
           40.599998474121094,
           19.0,
           199.0,
           4000.0
          ],
          "vectorType": "dense"
         },
         {
          "length": 4,
          "values": [
           0.3090909090909091,
           0.7023809388651593,
           0.43859649122807015,
           0.3333333333333333
          ],
          "vectorType": "dense"
         }
        ],
        [
         {
          "length": 4,
          "values": [
           40.900001525878906,
           16.799999237060547,
           191.0,
           3700.0
          ],
          "vectorType": "dense"
         },
         {
          "length": 4,
          "values": [
           0.32000011097301134,
           0.44047607424037,
           0.2982456140350877,
           0.24637681159420288
          ],
          "vectorType": "dense"
         }
        ],
        [
         {
          "length": 4,
          "values": [
           41.099998474121094,
           17.600000381469727,
           182.0,
           3200.0
          ],
          "vectorType": "dense"
         },
         {
          "length": 4,
          "values": [
           0.32727272727272727,
           0.5357143100427133,
           0.14035087719298245,
           0.10144927536231883
          ],
          "vectorType": "dense"
         }
        ],
        [
         {
          "length": 4,
          "values": [
           41.099998474121094,
           18.600000381469727,
           189.0,
           3325.0
          ],
          "vectorType": "dense"
         },
         {
          "length": 4,
          "values": [
           0.32727272727272727,
           0.6547619344966495,
           0.2631578947368421,
           0.13768115942028986
          ],
          "vectorType": "dense"
         }
        ],
        [
         {
          "length": 4,
          "values": [
           41.5,
           18.299999237060547,
           195.0,
           4300.0
          ],
          "vectorType": "dense"
         },
         {
          "length": 4,
          "values": [
           0.34181823730468747,
           0.6190475109212744,
           0.3684210526315789,
           0.42028985507246375
          ],
          "vectorType": "dense"
         }
        ],
        [
         {
          "length": 4,
          "values": [
           41.79999923706055,
           19.399999618530273,
           198.0,
           4450.0
          ],
          "vectorType": "dense"
         },
         {
          "length": 4,
          "values": [
           0.35272730047052553,
           0.749999943233669,
           0.42105263157894735,
           0.463768115942029
          ],
          "vectorType": "dense"
         }
        ],
        [
         {
          "length": 4,
          "values": [
           42.0,
           20.200000762939453,
           190.0,
           4250.0
          ],
          "vectorType": "dense"
         },
         {
          "length": 4,
          "values": [
           0.36000005548650565,
           0.8452381790360124,
           0.2807017543859649,
           0.40579710144927533
          ],
          "vectorType": "dense"
         }
        ],
        [
         {
          "length": 4,
          "values": [
           42.099998474121094,
           19.100000381469727,
           195.0,
           4000.0
          ],
          "vectorType": "dense"
         },
         {
          "length": 4,
          "values": [
           0.36363636363636365,
           0.7142857467236177,
           0.3684210526315789,
           0.3333333333333333
          ],
          "vectorType": "dense"
         }
        ],
        [
         {
          "length": 4,
          "values": [
           42.900001525878906,
           17.600000381469727,
           196.0,
           4700.0
          ],
          "vectorType": "dense"
         },
         {
          "length": 4,
          "values": [
           0.3927273837002841,
           0.5357143100427133,
           0.38596491228070173,
           0.536231884057971
          ],
          "vectorType": "dense"
         }
        ],
        [
         {
          "length": 4,
          "values": [
           43.099998474121094,
           19.200000762939453,
           197.0,
           3500.0
          ],
          "vectorType": "dense"
         },
         {
          "length": 4,
          "values": [
           0.39999999999999997,
           0.726190554582076,
           0.40350877192982454,
           0.18840579710144928
          ],
          "vectorType": "dense"
         }
        ],
        [
         {
          "length": 4,
          "values": [
           44.099998474121094,
           18.0,
           210.0,
           4000.0
          ],
          "vectorType": "dense"
         },
         {
          "length": 4,
          "values": [
           0.43636363636363634,
           0.583333314411223,
           0.631578947368421,
           0.3333333333333333
          ],
          "vectorType": "dense"
         }
        ],
        [
         {
          "length": 4,
          "values": [
           45.79999923706055,
           18.899999618530273,
           197.0,
           4150.0
          ],
          "vectorType": "dense"
         },
         {
          "length": 4,
          "values": [
           0.498181845925071,
           0.6904761310067009,
           0.40350877192982454,
           0.37681159420289856
          ],
          "vectorType": "dense"
         }
        ],
        [
         {
          "length": 4,
          "values": [
           46.0,
           21.5,
           194.0,
           4200.0
          ],
          "vectorType": "dense"
         },
         {
          "length": 4,
          "values": [
           0.5054546009410511,
           1.0,
           0.3508771929824561,
           0.391304347826087
          ],
          "vectorType": "dense"
         }
        ]
       ],
       "datasetInfos": [],
       "dbfsResultPath": null,
       "isJsonSchema": true,
       "metadata": {},
       "overflow": false,
       "plotOptions": {
        "customPlotOptions": {},
        "displayType": "table",
        "pivotAggregation": null,
        "pivotColumns": null,
        "xColumns": null,
        "yColumns": null
       },
       "removedWidgets": [],
       "schema": [
        {
         "metadata": "{\"ml_attr\":{\"attrs\":{\"numeric\":[{\"idx\":0,\"name\":\"CulmenLength\"},{\"idx\":1,\"name\":\"CulmenDepth\"},{\"idx\":2,\"name\":\"FlipperLength\"},{\"idx\":3,\"name\":\"BodyMass\"}]},\"num_attrs\":4}}",
         "name": "numericFeatures",
         "type": "{\"type\":\"udt\",\"class\":\"org.apache.spark.ml.linalg.VectorUDT\",\"pyClass\":\"pyspark.ml.linalg.VectorUDT\",\"sqlType\":{\"type\":\"struct\",\"fields\":[{\"name\":\"type\",\"type\":\"byte\",\"nullable\":false,\"metadata\":{}},{\"name\":\"size\",\"type\":\"integer\",\"nullable\":true,\"metadata\":{}},{\"name\":\"indices\",\"type\":{\"type\":\"array\",\"elementType\":\"integer\",\"containsNull\":false},\"nullable\":true,\"metadata\":{}},{\"name\":\"values\",\"type\":{\"type\":\"array\",\"elementType\":\"double\",\"containsNull\":false},\"nullable\":true,\"metadata\":{}}]}}"
        },
        {
         "metadata": "{\"ml_attr\":{\"num_attrs\":4}}",
         "name": "normalizedFeatures",
         "type": "{\"type\":\"udt\",\"class\":\"org.apache.spark.ml.linalg.VectorUDT\",\"pyClass\":\"pyspark.ml.linalg.VectorUDT\",\"sqlType\":{\"type\":\"struct\",\"fields\":[{\"name\":\"type\",\"type\":\"byte\",\"nullable\":false,\"metadata\":{}},{\"name\":\"size\",\"type\":\"integer\",\"nullable\":true,\"metadata\":{}},{\"name\":\"indices\",\"type\":{\"type\":\"array\",\"elementType\":\"integer\",\"containsNull\":false},\"nullable\":true,\"metadata\":{}},{\"name\":\"values\",\"type\":{\"type\":\"array\",\"elementType\":\"double\",\"containsNull\":false},\"nullable\":true,\"metadata\":{}}]}}"
        }
       ],
       "type": "table"
      }
     },
     "output_type": "display_data"
    }
   ],
   "source": [
    "from pyspark.ml.feature import VectorAssembler, MinMaxScaler\n",
    "\n",
    "# Create a vector column containing all numeric features\n",
    "numericFeatures = [\"CulmenLength\", \"CulmenDepth\", \"FlipperLength\", \"BodyMass\"]\n",
    "numericColVector = VectorAssembler(inputCols=numericFeatures, outputCol=\"numericFeatures\")\n",
    "vectorizedData = numericColVector.transform(indexedData)\n",
    "\n",
    "# Use a MinMax scaler to normalize the numeric values in the vector\n",
    "minMax = MinMaxScaler(inputCol = numericColVector.getOutputCol(), outputCol=\"normalizedFeatures\")\n",
    "scaledData = minMax.fit(vectorizedData).transform(vectorizedData)\n",
    "\n",
    "# Display the data with numeric feature vectors (before and after scaling)\n",
    "compareNumerics = scaledData.select(\"numericFeatures\", \"normalizedFeatures\")\n",
    "display(compareNumerics)"
   ]
  },
  {
   "cell_type": "code",
   "execution_count": 0,
   "metadata": {
    "application/vnd.databricks.v1+cell": {
     "cellMetadata": {
      "byteLimit": 2048000,
      "rowLimit": 10000
     },
     "inputWidgets": {},
     "nuid": "60beac85-c7f2-4958-a1f2-fb3829307762",
     "showTitle": false,
     "tableResultSettingsMap": {},
     "title": ""
    }
   },
   "outputs": [
    {
     "output_type": "display_data",
     "data": {
      "text/html": [
       "<style scoped>\n",
       "  .table-result-container {\n",
       "    max-height: 300px;\n",
       "    overflow: auto;\n",
       "  }\n",
       "  table, th, td {\n",
       "    border: 1px solid black;\n",
       "    border-collapse: collapse;\n",
       "  }\n",
       "  th, td {\n",
       "    padding: 5px;\n",
       "  }\n",
       "  th {\n",
       "    text-align: left;\n",
       "  }\n",
       "</style><div class='table-result-container'><table class='table-result'><thead style='background-color: white'><tr><th>features</th><th>label</th></tr></thead><tbody><tr><td>Map(vectorType -> dense, length -> 5, values -> List(0.0, 0.1163636641068892, 0.6904761310067009, 0.22807017543859648, 0.2753623188405797))</td><td>0</td></tr><tr><td>Map(vectorType -> dense, length -> 5, values -> List(0.0, 0.12363641912286931, 0.3690476812202672, 0.3684210526315789, 0.14492753623188406))</td><td>0</td></tr><tr><td>Map(vectorType -> dense, length -> 5, values -> List(0.0, 0.1563637473366477, 0.47619049781574513, 0.17543859649122806, 0.0))</td><td>0</td></tr><tr><td>Map(vectorType -> dense, length -> 5, values -> List(0.0, 0.16000005548650567, 0.416666685588777, 0.12280701754385964, 0.0))</td><td>0</td></tr><tr><td>Map(vectorType -> dense, length -> 5, values -> List(0.0, 0.19999999999999998, 0.46428568995728675, 0.19298245614035087, 0.21739130434782608))</td><td>0</td></tr><tr><td>Map(vectorType -> dense, length -> 5, values -> List(0.0, 0.19999999999999998, 0.7142857467236177, 0.3508771929824561, 0.2608695652173913))</td><td>0</td></tr><tr><td>Map(vectorType -> dense, length -> 5, values -> List(0.0, 0.20363644686612214, 0.6666667423551079, 0.10526315789473684, 0.21739130434782608))</td><td>0</td></tr><tr><td>Map(vectorType -> dense, length -> 5, values -> List(0.0, 0.2072727550159801, 0.6190475109212744, 0.0, 0.15942028985507245))</td><td>0</td></tr><tr><td>Map(vectorType -> dense, length -> 5, values -> List(0.0, 0.2072727550159801, 0.8214285633190956, 0.2807017543859649, 0.40579710144927533))</td><td>0</td></tr><tr><td>Map(vectorType -> dense, length -> 5, values -> List(0.0, 0.21090920188210227, 0.6547619344966495, 0.3333333333333333, 0.021739130434782608))</td><td>0</td></tr><tr><td>Map(vectorType -> dense, length -> 5, values -> List(0.0, 0.21818181818181817, 0.40476187773031863, 0.42105263157894735, 0.2826086956521739))</td><td>0</td></tr><tr><td>Map(vectorType -> dense, length -> 5, values -> List(0.0, 0.21818181818181817, 0.46428568995728675, 0.12280701754385964, 0.09420289855072464))</td><td>0</td></tr><tr><td>Map(vectorType -> dense, length -> 5, values -> List(0.0, 0.22181826504794033, 0.5952381222696814, 0.19298245614035087, 0.3188405797101449))</td><td>0</td></tr><tr><td>Map(vectorType -> dense, length -> 5, values -> List(0.0, 0.23636363636363636, 0.4880953056742035, 0.43859649122807015, 0.2608695652173913))</td><td>0</td></tr><tr><td>Map(vectorType -> dense, length -> 5, values -> List(0.0, 0.2509091463955966, 0.5238095021842549, 0.21052631578947367, 0.20289855072463767))</td><td>0</td></tr><tr><td>Map(vectorType -> dense, length -> 5, values -> List(0.0, 0.2727272727272727, 0.5476191179011717, 0.21052631578947367, 0.18840579710144928))</td><td>0</td></tr><tr><td>Map(vectorType -> dense, length -> 5, values -> List(0.0, 0.2763637195933949, 0.5476191179011717, 0.3333333333333333, 0.10144927536231883))</td><td>0</td></tr><tr><td>Map(vectorType -> dense, length -> 5, values -> List(0.0, 0.2909090909090909, 0.6904761310067009, 0.24561403508771928, 0.42028985507246375))</td><td>0</td></tr><tr><td>Map(vectorType -> dense, length -> 5, values -> List(0.0, 0.30545460094105115, 0.5714285065527647, 0.22807017543859648, 0.10144927536231883))</td><td>0</td></tr><tr><td>Map(vectorType -> dense, length -> 5, values -> List(0.0, 0.30545460094105115, 0.6904761310067009, 0.10526315789473684, 0.3188405797101449))</td><td>0</td></tr><tr><td>Map(vectorType -> dense, length -> 5, values -> List(0.0, 0.32727272727272727, 0.6071429301281398, 0.3157894736842105, 0.34782608695652173))</td><td>0</td></tr><tr><td>Map(vectorType -> dense, length -> 5, values -> List(0.0, 0.32727272727272727, 0.7142857467236177, 0.24561403508771928, 0.36231884057971014))</td><td>0</td></tr><tr><td>Map(vectorType -> dense, length -> 5, values -> List(0.0, 0.3345454822887074, 0.9523809956314903, 0.3684210526315789, 0.4492753623188406))</td><td>0</td></tr><tr><td>Map(vectorType -> dense, length -> 5, values -> List(0.0, 0.33818192915482953, 0.6547619344966495, 0.2982456140350877, 0.24637681159420288))</td><td>0</td></tr><tr><td>Map(vectorType -> dense, length -> 5, values -> List(0.0, 0.36000005548650565, 0.047619004368509764, 0.631578947368421, 0.37681159420289856))</td><td>1</td></tr><tr><td>Map(vectorType -> dense, length -> 5, values -> List(0.0, 0.36000005548650565, 0.7619047510921274, 0.45614035087719296, 0.34782608695652173))</td><td>0</td></tr><tr><td>Map(vectorType -> dense, length -> 5, values -> List(0.0, 0.3818181818181818, 0.07142850655276464, 0.6842105263157894, 0.6086956521739131))</td><td>1</td></tr><tr><td>Map(vectorType -> dense, length -> 5, values -> List(0.0, 0.38545462868430397, 0.07142850655276464, 0.5964912280701754, 0.3188405797101449))</td><td>1</td></tr><tr><td>Map(vectorType -> dense, length -> 5, values -> List(0.0, 0.38545462868430397, 0.6190475109212744, 0.38596491228070173, 0.3550724637681159))</td><td>0</td></tr><tr><td>Map(vectorType -> dense, length -> 5, values -> List(0.0, 0.3890909368341619, 0.1309523187797328, 0.6140350877192982, 0.536231884057971))</td><td>1</td></tr><tr><td>Map(vectorType -> dense, length -> 5, values -> List(0.0, 0.3927273837002841, 0.0, 0.7192982456140351, 0.6231884057971014))</td><td>1</td></tr><tr><td>Map(vectorType -> dense, length -> 5, values -> List(0.0, 0.40363644686612216, 0.16666662882244604, 0.5964912280701754, 0.463768115942029))</td><td>1</td></tr><tr><td>Map(vectorType -> dense, length -> 5, values -> List(0.0, 0.40363644686612216, 0.7023809388651593, 0.40350877192982454, 0.5579710144927537))</td><td>0</td></tr><tr><td>Map(vectorType -> dense, length -> 5, values -> List(0.0, 0.4072727550159801, 0.03571419651005139, 0.6140350877192982, 0.4492753623188406))</td><td>1</td></tr><tr><td>Map(vectorType -> dense, length -> 5, values -> List(0.0, 0.4109092018821022, 0.15476182096398766, 0.7719298245614035, 0.5072463768115942))</td><td>1</td></tr><tr><td>Map(vectorType -> dense, length -> 5, values -> List(0.0, 0.4145455100319602, 0.1309523187797328, 0.8070175438596491, 0.536231884057971))</td><td>1</td></tr><tr><td>Map(vectorType -> dense, length -> 5, values -> List(0.0, 0.4145455100319602, 0.24999994323366906, 0.6842105263157894, 0.5217391304347826))</td><td>1</td></tr><tr><td>Map(vectorType -> dense, length -> 5, values -> List(0.0, 0.41818181818181815, 0.09523800873701953, 0.7543859649122806, 0.5942028985507246))</td><td>1</td></tr><tr><td>Map(vectorType -> dense, length -> 5, values -> List(0.0, 0.4254545731977983, 0.09523800873701953, 0.5964912280701754, 0.42028985507246375))</td><td>1</td></tr><tr><td>Map(vectorType -> dense, length -> 5, values -> List(0.0, 0.4327273282137784, 0.05952381222696814, 0.5964912280701754, 0.43478260869565216))</td><td>1</td></tr><tr><td>Map(vectorType -> dense, length -> 5, values -> List(0.0, 0.4509091463955966, 0.19047613100670094, 0.7017543859649122, 0.5797101449275363))</td><td>1</td></tr><tr><td>Map(vectorType -> dense, length -> 5, values -> List(0.0, 0.4509091463955966, 0.3095237554606372, 0.7543859649122806, 0.5869565217391304))</td><td>1</td></tr><tr><td>Map(vectorType -> dense, length -> 5, values -> List(0.0, 0.4654546564275568, 0.023809502184254882, 0.6842105263157894, 0.6521739130434783))</td><td>1</td></tr><tr><td>Map(vectorType -> dense, length -> 5, values -> List(0.0, 0.4654546564275568, 0.08333331441122302, 0.6666666666666666, 0.5507246376811594))</td><td>1</td></tr><tr><td>Map(vectorType -> dense, length -> 5, values -> List(0.0, 0.4690909645774147, 0.27380944541792396, 0.8070175438596491, 0.6376811594202898))</td><td>1</td></tr><tr><td>Map(vectorType -> dense, length -> 5, values -> List(0.0, 0.4727272727272727, 0.15476182096398766, 0.631578947368421, 0.4492753623188406))</td><td>1</td></tr><tr><td>Map(vectorType -> dense, length -> 5, values -> List(0.0, 0.4727272727272727, 0.16666662882244604, 0.5789473684210527, 0.6376811594202898))</td><td>1</td></tr><tr><td>Map(vectorType -> dense, length -> 5, values -> List(0.0, 0.4727272727272727, 0.16666662882244604, 0.7192982456140351, 0.6231884057971014))</td><td>1</td></tr><tr><td>Map(vectorType -> dense, length -> 5, values -> List(0.0, 0.47636371959339485, 0.08333331441122302, 0.7192982456140351, 0.5507246376811594))</td><td>1</td></tr><tr><td>Map(vectorType -> dense, length -> 5, values -> List(0.0, 0.47636371959339485, 0.20238093886515932, 0.6666666666666666, 0.6811594202898551))</td><td>1</td></tr><tr><td>Map(vectorType -> dense, length -> 5, values -> List(0.0, 0.47636371959339485, 0.3214285633190956, 0.7192982456140351, 0.7101449275362318))</td><td>1</td></tr><tr><td>Map(vectorType -> dense, length -> 5, values -> List(0.0, 0.47636371959339485, 0.39285706987186025, 0.8596491228070176, 0.8985507246376812))</td><td>1</td></tr><tr><td>Map(vectorType -> dense, length -> 5, values -> List(0.0, 0.48000002774325284, 0.07142850655276464, 0.631578947368421, 0.42028985507246375))</td><td>1</td></tr><tr><td>Map(vectorType -> dense, length -> 5, values -> List(0.0, 0.48000002774325284, 0.08333331441122302, 0.5964912280701754, 0.391304347826087))</td><td>1</td></tr><tr><td>Map(vectorType -> dense, length -> 5, values -> List(0.0, 0.483636474609375, 0.17857143668090442, 0.6491228070175439, 0.5652173913043478))</td><td>1</td></tr><tr><td>Map(vectorType -> dense, length -> 5, values -> List(0.0, 0.4872727827592329, 0.07142850655276464, 0.7017543859649122, 0.5217391304347826))</td><td>1</td></tr><tr><td>Map(vectorType -> dense, length -> 5, values -> List(0.0, 0.4872727827592329, 0.16666662882244604, 0.6666666666666666, 0.5507246376811594))</td><td>1</td></tr><tr><td>Map(vectorType -> dense, length -> 5, values -> List(0.0, 0.4872727827592329, 0.2261904410494142, 0.8070175438596491, 0.6231884057971014))</td><td>1</td></tr><tr><td>Map(vectorType -> dense, length -> 5, values -> List(0.0, 0.49454553777521304, 0.09523800873701953, 0.7017543859649122, 0.4492753623188406))</td><td>1</td></tr><tr><td>Map(vectorType -> dense, length -> 5, values -> List(0.0, 0.498181845925071, 0.1309523187797328, 0.7894736842105263, 0.536231884057971))</td><td>1</td></tr><tr><td>Map(vectorType -> dense, length -> 5, values -> List(0.0, 0.498181845925071, 0.17857143668090442, 0.631578947368421, 0.391304347826087))</td><td>1</td></tr><tr><td>Map(vectorType -> dense, length -> 5, values -> List(0.0, 0.509090909090909, 0.011904694325796506, 0.6491228070175439, 0.4782608695652174))</td><td>1</td></tr><tr><td>Map(vectorType -> dense, length -> 5, values -> List(0.0, 0.5127273559570312, 0.15476182096398766, 0.7017543859649122, 0.5217391304347826))</td><td>1</td></tr><tr><td>Map(vectorType -> dense, length -> 5, values -> List(0.0, 0.5127273559570312, 0.16666662882244604, 0.6140350877192982, 0.5652173913043478))</td><td>1</td></tr><tr><td>Map(vectorType -> dense, length -> 5, values -> List(0.0, 0.5127273559570312, 0.2142856331909558, 0.8245614035087718, 0.7101449275362318))</td><td>1</td></tr><tr><td>Map(vectorType -> dense, length -> 5, values -> List(0.0, 0.5200001109730114, 0.2261904410494142, 0.7368421052631579, 0.536231884057971))</td><td>1</td></tr><tr><td>Map(vectorType -> dense, length -> 5, values -> List(0.0, 0.5236364191228693, 0.047619004368509764, 0.631578947368421, 0.49275362318840576))</td><td>1</td></tr><tr><td>Map(vectorType -> dense, length -> 5, values -> List(0.0, 0.5236364191228693, 0.15476182096398766, 0.7543859649122806, 0.5942028985507246))</td><td>1</td></tr><tr><td>Map(vectorType -> dense, length -> 5, values -> List(0.0, 0.5236364191228693, 0.16666662882244604, 0.6842105263157894, 0.4492753623188406))</td><td>1</td></tr><tr><td>Map(vectorType -> dense, length -> 5, values -> List(0.0, 0.5272727272727272, 0.1309523187797328, 0.631578947368421, 0.5797101449275363))</td><td>1</td></tr><tr><td>Map(vectorType -> dense, length -> 5, values -> List(0.0, 0.5345454822887074, 0.27380944541792396, 0.7192982456140351, 0.6666666666666666))</td><td>1</td></tr><tr><td>Map(vectorType -> dense, length -> 5, values -> List(0.0, 0.5345454822887074, 0.35714287336180883, 0.7192982456140351, 0.7681159420289855))</td><td>1</td></tr><tr><td>Map(vectorType -> dense, length -> 5, values -> List(0.0, 0.5490909923206676, 0.28571425327638234, 0.7192982456140351, 0.6159420289855072))</td><td>1</td></tr><tr><td>Map(vectorType -> dense, length -> 5, values -> List(0.0, 0.5527273004705255, 0.08333331441122302, 0.7368421052631579, 0.5434782608695652))</td><td>1</td></tr><tr><td>Map(vectorType -> dense, length -> 5, values -> List(0.0, 0.5600000554865057, 0.1071428165954779, 0.6666666666666666, 0.5869565217391304))</td><td>1</td></tr><tr><td>Map(vectorType -> dense, length -> 5, values -> List(0.0, 0.5600000554865057, 0.1309523187797328, 0.6140350877192982, 0.5072463768115942))</td><td>1</td></tr><tr><td>Map(vectorType -> dense, length -> 5, values -> List(0.0, 0.5600000554865057, 0.2261904410494142, 0.7719298245614035, 0.6086956521739131))</td><td>1</td></tr><tr><td>Map(vectorType -> dense, length -> 5, values -> List(0.0, 0.5636363636363636, 0.16666662882244604, 0.7192982456140351, 0.7391304347826086))</td><td>1</td></tr><tr><td>Map(vectorType -> dense, length -> 5, values -> List(0.0, 0.5672728105024858, 0.2261904410494142, 0.7368421052631579, 0.5507246376811594))</td><td>1</td></tr><tr><td>Map(vectorType -> dense, length -> 5, values -> List(0.0, 0.5709091186523437, 0.2261904410494142, 0.7192982456140351, 0.8115942028985507))</td><td>1</td></tr><tr><td>Map(vectorType -> dense, length -> 5, values -> List(0.0, 0.5818181818181818, 0.23809524890787256, 0.6140350877192982, 0.7681159420289855))</td><td>1</td></tr><tr><td>Map(vectorType -> dense, length -> 5, values -> List(0.0, 0.585454628684304, 0.14285712663819117, 0.631578947368421, 0.5072463768115942))</td><td>1</td></tr><tr><td>Map(vectorType -> dense, length -> 5, values -> List(0.0, 0.5927273837002841, 0.15476182096398766, 0.5087719298245614, 0.5144927536231884))</td><td>1</td></tr><tr><td>Map(vectorType -> dense, length -> 5, values -> List(0.0, 0.5927273837002841, 0.17857143668090442, 0.6842105263157894, 0.8695652173913043))</td><td>1</td></tr><tr><td>Map(vectorType -> dense, length -> 5, values -> List(0.0, 0.5927273837002841, 0.3809522620134019, 0.8070175438596491, 0.7391304347826086))</td><td>1</td></tr><tr><td>Map(vectorType -> dense, length -> 5, values -> List(0.0, 0.596363691850142, 0.11904762445393628, 0.8070175438596491, 0.7101449275362318))</td><td>1</td></tr><tr><td>Map(vectorType -> dense, length -> 5, values -> List(0.0, 0.596363691850142, 0.2261904410494142, 0.7894736842105263, 0.5797101449275363))</td><td>1</td></tr><tr><td>Map(vectorType -> dense, length -> 5, values -> List(0.0, 0.6036364468661222, 0.11904762445393628, 0.631578947368421, 0.463768115942029))</td><td>1</td></tr><tr><td>Map(vectorType -> dense, length -> 5, values -> List(0.0, 0.6036364468661222, 0.23809524890787256, 0.8421052631578947, 0.7246376811594203))</td><td>1</td></tr><tr><td>Map(vectorType -> dense, length -> 5, values -> List(0.0, 0.6145455100319602, 0.35714287336180883, 0.7368421052631579, 0.782608695652174))</td><td>1</td></tr><tr><td>Map(vectorType -> dense, length -> 5, values -> List(0.0, 0.6181818181818182, 0.16666662882244604, 0.6666666666666666, 0.5144927536231884))</td><td>1</td></tr><tr><td>Map(vectorType -> dense, length -> 5, values -> List(0.0, 0.6181818181818182, 0.20238093886515932, 0.8070175438596491, 0.6666666666666666))</td><td>1</td></tr><tr><td>Map(vectorType -> dense, length -> 5, values -> List(0.0, 0.6181818181818182, 0.2261904410494142, 0.9473684210526315, 0.7681159420289855))</td><td>1</td></tr><tr><td>Map(vectorType -> dense, length -> 5, values -> List(0.0, 0.6218182650479404, 0.24999994323366906, 0.8245614035087718, 1.0))</td><td>1</td></tr><tr><td>Map(vectorType -> dense, length -> 5, values -> List(0.0, 0.6254545731977983, 0.3095237554606372, 0.7543859649122806, 0.8695652173913043))</td><td>1</td></tr><tr><td>Map(vectorType -> dense, length -> 5, values -> List(0.0, 0.6290910200639204, 0.3214285633190956, 0.7368421052631579, 0.6014492753623188))</td><td>1</td></tr><tr><td>Map(vectorType -> dense, length -> 5, values -> List(0.0, 0.6327273282137784, 0.35714287336180883, 0.8771929824561403, 0.8115942028985507))</td><td>1</td></tr><tr><td>Map(vectorType -> dense, length -> 5, values -> List(0.0, 0.6327273282137784, 0.3690476812202672, 0.9649122807017543, 0.855072463768116))</td><td>1</td></tr><tr><td>Map(vectorType -> dense, length -> 5, values -> List(0.0, 0.6363636363636364, 0.2261904410494142, 0.7368421052631579, 0.5507246376811594))</td><td>1</td></tr><tr><td>Map(vectorType -> dense, length -> 5, values -> List(0.0, 0.6363636363636364, 0.34523806550335046, 0.894736842105263, 0.8260869565217391))</td><td>1</td></tr><tr><td>Map(vectorType -> dense, length -> 5, values -> List(0.0, 0.6436363913796165, 0.3333332576448921, 0.9649122807017543, 0.8985507246376812))</td><td>1</td></tr><tr><td>Map(vectorType -> dense, length -> 5, values -> List(0.0, 0.6472728382457386, 0.35714287336180883, 0.6842105263157894, 0.7391304347826086))</td><td>1</td></tr><tr><td>Map(vectorType -> dense, length -> 5, values -> List(0.0, 0.6509091463955966, 0.24999994323366906, 0.7719298245614035, 0.8260869565217391))</td><td>1</td></tr><tr><td>Map(vectorType -> dense, length -> 5, values -> List(0.0, 0.6509091463955966, 0.3333332576448921, 0.8771929824561403, 0.7246376811594203))</td><td>1</td></tr><tr><td>Map(vectorType -> dense, length -> 5, values -> List(0.0, 0.6509091463955966, 0.3809522620134019, 0.9824561403508771, 0.8260869565217391))</td><td>1</td></tr><tr><td>Map(vectorType -> dense, length -> 5, values -> List(0.0, 0.6545454545454545, 0.2261904410494142, 0.894736842105263, 0.6231884057971014))</td><td>1</td></tr><tr><td>Map(vectorType -> dense, length -> 5, values -> List(0.0, 0.6581819014115766, 0.14285712663819117, 0.7719298245614035, 0.8260869565217391))</td><td>1</td></tr><tr><td>Map(vectorType -> dense, length -> 5, values -> List(0.0, 0.6690909645774148, 0.24999994323366906, 0.7368421052631579, 0.6231884057971014))</td><td>1</td></tr><tr><td>Map(vectorType -> dense, length -> 5, values -> List(0.0, 0.6690909645774148, 0.3333332576448921, 0.8421052631578947, 0.782608695652174))</td><td>1</td></tr><tr><td>Map(vectorType -> dense, length -> 5, values -> List(0.0, 0.6690909645774148, 0.3333332576448921, 0.894736842105263, 0.7391304347826086))</td><td>1</td></tr><tr><td>Map(vectorType -> dense, length -> 5, values -> List(0.0, 0.6800000277432529, 0.4999998864673381, 0.9473684210526315, 0.7971014492753623))</td><td>1</td></tr><tr><td>Map(vectorType -> dense, length -> 5, values -> List(0.0, 0.6909090909090909, 0.3809522620134019, 0.8070175438596491, 0.9130434782608695))</td><td>1</td></tr><tr><td>Map(vectorType -> dense, length -> 5, values -> List(0.0, 0.7309091741388494, 0.47619049781574513, 0.9473684210526315, 0.7391304347826086))</td><td>1</td></tr><tr><td>Map(vectorType -> dense, length -> 5, values -> List(0.0, 0.7418182373046874, 0.2976190611348407, 0.8245614035087718, 0.7536231884057971))</td><td>1</td></tr><tr><td>Map(vectorType -> dense, length -> 5, values -> List(0.0, 0.7745455655184659, 0.3214285633190956, 0.7894736842105263, 0.7681159420289855))</td><td>1</td></tr><tr><td>Map(vectorType -> dense, length -> 5, values -> List(0.0, 0.8072727550159801, 0.3095237554606372, 1.0, 0.8115942028985507))</td><td>1</td></tr><tr><td>Map(vectorType -> dense, length -> 5, values -> List(0.0, 0.8654546564275568, 0.46428568995728675, 0.9473684210526315, 0.7971014492753623))</td><td>1</td></tr><tr><td>Map(vectorType -> dense, length -> 5, values -> List(0.0, 1.0, 0.46428568995728675, 0.9824561403508771, 0.927536231884058))</td><td>1</td></tr><tr><td>Map(vectorType -> dense, length -> 5, values -> List(1.0, 0.0, 0.28571425327638234, 0.24561403508771928, 0.057971014492753624))</td><td>0</td></tr><tr><td>Map(vectorType -> dense, length -> 5, values -> List(1.0, 0.03636363636363636, 0.35714287336180883, 0.07017543859649122, 0.014492753623188406))</td><td>0</td></tr><tr><td>Map(vectorType -> dense, length -> 5, values -> List(1.0, 0.06909096457741477, 0.47619049781574513, 0.19298245614035087, 0.15942028985507245))</td><td>0</td></tr><tr><td>Map(vectorType -> dense, length -> 5, values -> List(1.0, 0.12727272727272726, 0.5238095021842549, 0.2982456140350877, 0.09420289855072464))</td><td>0</td></tr><tr><td>Map(vectorType -> dense, length -> 5, values -> List(1.0, 0.13090917413884942, 0.583333314411223, 0.49122807017543857, 0.20289855072463767))</td><td>0</td></tr><tr><td>Map(vectorType -> dense, length -> 5, values -> List(1.0, 0.14181823730468748, 0.47619049781574513, 0.22807017543859648, 0.24637681159420288))</td><td>0</td></tr><tr><td>Map(vectorType -> dense, length -> 5, values -> List(1.0, 0.14181823730468748, 0.5595236986943063, 0.3684210526315789, 0.17391304347826086))</td><td>0</td></tr><tr><td>Map(vectorType -> dense, length -> 5, values -> List(1.0, 0.14181823730468748, 0.5714285065527647, 0.2807017543859649, 0.17391304347826086))</td><td>0</td></tr><tr><td>Map(vectorType -> dense, length -> 5, values -> List(1.0, 0.14181823730468748, 0.6428571266381912, 0.21052631578947367, 0.07246376811594203))</td><td>0</td></tr><tr><td>Map(vectorType -> dense, length -> 5, values -> List(1.0, 0.15272730047052557, 0.7619047510921274, 0.2807017543859649, 0.2753623188405797))</td><td>0</td></tr><tr><td>Map(vectorType -> dense, length -> 5, values -> List(1.0, 0.16000005548650567, 0.583333314411223, 0.14035087719298245, 0.08695652173913043))</td><td>0</td></tr><tr><td>Map(vectorType -> dense, length -> 5, values -> List(1.0, 0.17090911865234373, 0.6428571266381912, 0.3333333333333333, 0.18840579710144928))</td><td>0</td></tr><tr><td>Map(vectorType -> dense, length -> 5, values -> List(1.0, 0.17818187366832386, 0.40476187773031863, 0.19298245614035087, 0.15942028985507245))</td><td>0</td></tr><tr><td>Map(vectorType -> dense, length -> 5, values -> List(1.0, 0.18545462868430396, 0.5952381222696814, 0.07017543859649122, 0.30434782608695654))</td><td>0</td></tr><tr><td>Map(vectorType -> dense, length -> 5, values -> List(1.0, 0.18909093683416192, 0.5595236986943063, 0.2982456140350877, 0.14492753623188406))</td><td>0</td></tr><tr><td>Map(vectorType -> dense, length -> 5, values -> List(1.0, 0.19636369185014205, 0.6428571266381912, 0.43859649122807015, 0.47101449275362317))</td><td>0</td></tr><tr><td>Map(vectorType -> dense, length -> 5, values -> List(1.0, 0.19636369185014205, 0.6904761310067009, 0.08771929824561403, 0.036231884057971016))</td><td>0</td></tr><tr><td>Map(vectorType -> dense, length -> 5, values -> List(1.0, 0.19999999999999998, 0.7380951353752107, 0.12280701754385964, 0.13043478260869565))</td><td>0</td></tr><tr><td>Map(vectorType -> dense, length -> 5, values -> List(1.0, 0.2254545731977983, 0.726190554582076, 0.2631578947368421, 0.3188405797101449))</td><td>0</td></tr><tr><td>Map(vectorType -> dense, length -> 5, values -> List(1.0, 0.24363639137961646, 0.8214285633190956, 0.2807017543859649, 0.3188405797101449))</td><td>0</td></tr><tr><td>Map(vectorType -> dense, length -> 5, values -> List(1.0, 0.24727283824573862, 0.6785713231482425, 0.2807017543859649, 0.21739130434782608))</td><td>0</td></tr><tr><td>Map(vectorType -> dense, length -> 5, values -> List(1.0, 0.2509091463955966, 0.6666667423551079, 0.19298245614035087, 0.2318840579710145))</td><td>0</td></tr><tr><td>Map(vectorType -> dense, length -> 5, values -> List(1.0, 0.2581819014115767, 0.6547619344966495, 0.2807017543859649, 0.40579710144927533))</td><td>0</td></tr><tr><td>Map(vectorType -> dense, length -> 5, values -> List(1.0, 0.26909096457741477, 0.4285714934472354, 0.07017543859649122, 0.11594202898550725))</td><td>0</td></tr><tr><td>Map(vectorType -> dense, length -> 5, values -> List(1.0, 0.26909096457741477, 0.5595236986943063, 0.24561403508771928, 0.13043478260869565))</td><td>0</td></tr><tr><td>Map(vectorType -> dense, length -> 5, values -> List(1.0, 0.2727272727272727, 0.5952381222696814, 0.21052631578947367, 0.463768115942029))</td><td>0</td></tr><tr><td>Map(vectorType -> dense, length -> 5, values -> List(1.0, 0.2727272727272727, 0.6785713231482425, 0.2807017543859649, 0.5072463768115942))</td><td>0</td></tr><tr><td>Map(vectorType -> dense, length -> 5, values -> List(1.0, 0.28000002774325283, 0.7142857467236177, 0.17543859649122806, 0.5217391304347826))</td><td>0</td></tr><tr><td>Map(vectorType -> dense, length -> 5, values -> List(1.0, 0.29454553777521303, 0.47619049781574513, 0.3333333333333333, 0.15942028985507245))</td><td>0</td></tr><tr><td>Map(vectorType -> dense, length -> 5, values -> List(1.0, 0.29454553777521303, 0.833333371177554, 0.45614035087719296, 0.32608695652173914))</td><td>0</td></tr><tr><td>Map(vectorType -> dense, length -> 5, values -> List(1.0, 0.298181845925071, 0.6428571266381912, 0.38596491228070173, 0.43478260869565216))</td><td>0</td></tr><tr><td>Map(vectorType -> dense, length -> 5, values -> List(1.0, 0.3090909090909091, 0.4880953056742035, 0.22807017543859648, 0.18115942028985507))</td><td>0</td></tr><tr><td>Map(vectorType -> dense, length -> 5, values -> List(1.0, 0.3163636641068892, 0.6309523187797328, 0.3684210526315789, 0.30434782608695654))</td><td>0</td></tr><tr><td>Map(vectorType -> dense, length -> 5, values -> List(1.0, 0.32000011097301134, 0.416666685588777, 0.22807017543859648, 0.10144927536231883))</td><td>2</td></tr><tr><td>Map(vectorType -> dense, length -> 5, values -> List(1.0, 0.32000011097301134, 0.6904761310067009, 0.17543859649122806, 0.30434782608695654))</td><td>0</td></tr><tr><td>Map(vectorType -> dense, length -> 5, values -> List(1.0, 0.32727272727272727, 0.5238095021842549, 0.2807017543859649, 0.30434782608695654))</td><td>0</td></tr><tr><td>Map(vectorType -> dense, length -> 5, values -> List(1.0, 0.32727272727272727, 0.5952381222696814, 0.5438596491228069, 0.42028985507246375))</td><td>0</td></tr><tr><td>Map(vectorType -> dense, length -> 5, values -> List(1.0, 0.32727272727272727, 0.7023809388651593, 0.14035087719298245, 0.16666666666666666))</td><td>0</td></tr><tr><td>Map(vectorType -> dense, length -> 5, values -> List(1.0, 0.34181823730468747, 0.6428571266381912, 0.47368421052631576, 0.3333333333333333))</td><td>0</td></tr><tr><td>Map(vectorType -> dense, length -> 5, values -> List(1.0, 0.3672728105024858, 0.6428571266381912, 0.10526315789473684, 0.20289855072463767))</td><td>0</td></tr><tr><td>Map(vectorType -> dense, length -> 5, values -> List(1.0, 0.3745455655184659, 0.4999998864673381, 0.12280701754385964, 0.21739130434782608))</td><td>2</td></tr><tr><td>Map(vectorType -> dense, length -> 5, values -> List(1.0, 0.37818187366832384, 0.4285714934472354, 0.22807017543859648, 0.14492753623188406))</td><td>2</td></tr><tr><td>Map(vectorType -> dense, length -> 5, values -> List(1.0, 0.37818187366832384, 0.4999998864673381, 0.22807017543859648, 0.14492753623188406))</td><td>2</td></tr><tr><td>Map(vectorType -> dense, length -> 5, values -> List(1.0, 0.40363644686612216, 0.416666685588777, 0.22807017543859648, 0.014492753623188406))</td><td>2</td></tr><tr><td>Map(vectorType -> dense, length -> 5, values -> List(1.0, 0.4145455100319602, 0.5952381222696814, 0.49122807017543857, 0.15942028985507245))</td><td>2</td></tr><tr><td>Map(vectorType -> dense, length -> 5, values -> List(1.0, 0.47636371959339485, 0.416666685588777, 0.2982456140350877, 0.11594202898550725))</td><td>2</td></tr><tr><td>Map(vectorType -> dense, length -> 5, values -> List(1.0, 0.47636371959339485, 0.5595236986943063, 0.42105263157894735, 0.3188405797101449))</td><td>2</td></tr><tr><td>Map(vectorType -> dense, length -> 5, values -> List(1.0, 0.483636474609375, 0.6666667423551079, 0.24561403508771928, 0.1956521739130435))</td><td>2</td></tr><tr><td>Map(vectorType -> dense, length -> 5, values -> List(1.0, 0.4872727827592329, 0.46428568995728675, 0.38596491228070173, 0.18840579710144928))</td><td>2</td></tr><tr><td>Map(vectorType -> dense, length -> 5, values -> List(1.0, 0.4909090909090909, 0.749999943233669, 0.3508771929824561, 0.1956521739130435))</td><td>2</td></tr><tr><td>Map(vectorType -> dense, length -> 5, values -> List(1.0, 0.49454553777521304, 0.46428568995728675, 0.3684210526315789, 0.2318840579710145))</td><td>2</td></tr><tr><td>Map(vectorType -> dense, length -> 5, values -> List(1.0, 0.5018182927911932, 0.47619049781574513, 0.2807017543859649, 0.21014492753623187))</td><td>2</td></tr><tr><td>Map(vectorType -> dense, length -> 5, values -> List(1.0, 0.509090909090909, 0.6071429301281398, 0.07017543859649122, 0.11594202898550725))</td><td>2</td></tr><tr><td>Map(vectorType -> dense, length -> 5, values -> List(1.0, 0.5127273559570312, 0.5238095021842549, 0.22807017543859648, 0.2318840579710145))</td><td>2</td></tr><tr><td>Map(vectorType -> dense, length -> 5, values -> List(1.0, 0.5236364191228693, 0.5714285065527647, 0.3157894736842105, 0.18840579710144928))</td><td>2</td></tr><tr><td>Map(vectorType -> dense, length -> 5, values -> List(1.0, 0.5272727272727272, 0.5595236986943063, 0.3333333333333333, 0.2753623188405797))</td><td>2</td></tr><tr><td>Map(vectorType -> dense, length -> 5, values -> List(1.0, 0.5345454822887074, 0.40476187773031863, 0.2631578947368421, 0.2318840579710145))</td><td>2</td></tr><tr><td>Map(vectorType -> dense, length -> 5, values -> List(1.0, 0.5636363636363636, 0.6190475109212744, 0.3684210526315789, 0.2898550724637681))</td><td>2</td></tr><tr><td>Map(vectorType -> dense, length -> 5, values -> List(1.0, 0.5818181818181818, 0.39285706987186025, 0.43859649122807015, 0.13768115942028986))</td><td>2</td></tr><tr><td>Map(vectorType -> dense, length -> 5, values -> List(1.0, 0.596363691850142, 0.5238095021842549, 0.2982456140350877, 0.15942028985507245))</td><td>2</td></tr><tr><td>Map(vectorType -> dense, length -> 5, values -> List(1.0, 0.6145455100319602, 0.7619047510921274, 0.631578947368421, 0.3188405797101449))</td><td>2</td></tr><tr><td>Map(vectorType -> dense, length -> 5, values -> List(1.0, 0.6145455100319602, 0.7738095589505858, 0.6666666666666666, 0.42028985507246375))</td><td>2</td></tr><tr><td>Map(vectorType -> dense, length -> 5, values -> List(1.0, 0.6509091463955966, 0.7619047510921274, 0.38596491228070173, 0.30434782608695654))</td><td>2</td></tr><tr><td>Map(vectorType -> dense, length -> 5, values -> List(1.0, 0.6545454545454545, 0.5714285065527647, 0.2807017543859649, 0.15942028985507245))</td><td>2</td></tr><tr><td>Map(vectorType -> dense, length -> 5, values -> List(1.0, 0.6581819014115766, 0.6666667423551079, 0.42105263157894735, 0.2681159420289855))</td><td>2</td></tr><tr><td>Map(vectorType -> dense, length -> 5, values -> List(1.0, 0.6581819014115766, 0.6785713231482425, 0.49122807017543857, 0.2753623188405797))</td><td>2</td></tr><tr><td>Map(vectorType -> dense, length -> 5, values -> List(1.0, 0.6618182095614347, 0.8214285633190956, 0.40350877192982454, 0.13043478260869565))</td><td>2</td></tr><tr><td>Map(vectorType -> dense, length -> 5, values -> List(1.0, 0.6690909645774148, 0.6309523187797328, 0.45614035087719296, 0.15942028985507245))</td><td>2</td></tr><tr><td>Map(vectorType -> dense, length -> 5, values -> List(1.0, 0.6690909645774148, 0.7738095589505858, 0.47368421052631576, 0.34782608695652173))</td><td>2</td></tr><tr><td>Map(vectorType -> dense, length -> 5, values -> List(1.0, 0.6727272727272727, 0.749999943233669, 0.3333333333333333, 0.2753623188405797))</td><td>2</td></tr><tr><td>Map(vectorType -> dense, length -> 5, values -> List(1.0, 0.6763637195933948, 0.7857143668090442, 0.5087719298245614, 0.34782608695652173))</td><td>2</td></tr><tr><td>Map(vectorType -> dense, length -> 5, values -> List(1.0, 0.6800000277432529, 0.7023809388651593, 0.631578947368421, 0.36231884057971014))</td><td>2</td></tr><tr><td>Map(vectorType -> dense, length -> 5, values -> List(1.0, 0.6836364746093749, 0.5714285065527647, 0.38596491228070173, 0.2391304347826087))</td><td>2</td></tr><tr><td>Map(vectorType -> dense, length -> 5, values -> List(1.0, 0.6836364746093749, 0.7142857467236177, 0.38596491228070173, 0.20289855072463767))</td><td>2</td></tr><tr><td>Map(vectorType -> dense, length -> 5, values -> List(1.0, 0.698181845925071, 0.726190554582076, 0.3333333333333333, 0.2318840579710145))</td><td>2</td></tr><tr><td>Map(vectorType -> dense, length -> 5, values -> List(1.0, 0.698181845925071, 0.8095237554606373, 0.42105263157894735, 0.24637681159420288))</td><td>2</td></tr><tr><td>Map(vectorType -> dense, length -> 5, values -> List(1.0, 0.7018182927911931, 0.7023809388651593, 0.47368421052631576, 0.3188405797101449))</td><td>2</td></tr><tr><td>Map(vectorType -> dense, length -> 5, values -> List(1.0, 0.7054546009410511, 0.6666667423551079, 0.22807017543859648, 0.11594202898550725))</td><td>2</td></tr><tr><td>Map(vectorType -> dense, length -> 5, values -> List(1.0, 0.7127273559570312, 0.857142759829147, 0.3508771929824561, 0.2681159420289855))</td><td>2</td></tr><tr><td>Map(vectorType -> dense, length -> 5, values -> List(1.0, 0.7200001109730113, 0.7619047510921274, 0.5614035087719298, 0.3188405797101449))</td><td>2</td></tr><tr><td>Map(vectorType -> dense, length -> 5, values -> List(1.0, 0.7236364191228692, 0.5952381222696814, 0.47368421052631576, 0.34782608695652173))</td><td>2</td></tr><tr><td>Map(vectorType -> dense, length -> 5, values -> List(1.0, 0.7236364191228692, 0.7023809388651593, 0.40350877192982454, 0.37681159420289856))</td><td>2</td></tr><tr><td>Map(vectorType -> dense, length -> 5, values -> List(1.0, 0.7236364191228692, 0.9047619912629805, 0.631578947368421, 0.5652173913043478))</td><td>2</td></tr><tr><td>Map(vectorType -> dense, length -> 5, values -> List(1.0, 0.7309091741388494, 0.6785713231482425, 0.40350877192982454, 0.17391304347826086))</td><td>2</td></tr><tr><td>Map(vectorType -> dense, length -> 5, values -> List(1.0, 0.7490909923206676, 0.7976189476021789, 0.40350877192982454, 0.2536231884057971))</td><td>2</td></tr><tr><td>Map(vectorType -> dense, length -> 5, values -> List(1.0, 0.7527273004705255, 0.8214285633190956, 0.5438596491228069, 0.49275362318840576))</td><td>2</td></tr><tr><td>Map(vectorType -> dense, length -> 5, values -> List(1.0, 0.7781818736683238, 0.8095237554606373, 0.5438596491228069, 0.4782608695652174))</td><td>2</td></tr><tr><td>Map(vectorType -> dense, length -> 5, values -> List(1.0, 0.8036364468661221, 0.9166665720561151, 0.47368421052631576, 0.42028985507246375))</td><td>2</td></tr><tr><td>Map(vectorType -> dense, length -> 5, values -> List(1.0, 0.8618182095614346, 0.7976189476021789, 0.5789473684210527, 0.3333333333333333))</td><td>2</td></tr><tr><td>Map(vectorType -> dense, length -> 5, values -> List(1.0, 0.9418182373046875, 0.5595236986943063, 0.12280701754385964, 0.24637681159420288))</td><td>2</td></tr><tr><td>Map(vectorType -> dense, length -> 5, values -> List(2.0, 0.083636474609375, 0.6309523187797328, 0.17543859649122806, 0.13768115942028986))</td><td>0</td></tr><tr><td>Map(vectorType -> dense, length -> 5, values -> List(2.0, 0.10909090909090909, 0.749999943233669, 0.3333333333333333, 0.391304347826087))</td><td>0</td></tr><tr><td>Map(vectorType -> dense, length -> 5, values -> List(2.0, 0.11272735595703125, 0.3333332576448921, 0.21052631578947367, 0.057971014492753624))</td><td>0</td></tr><tr><td>Map(vectorType -> dense, length -> 5, values -> List(2.0, 0.12363641912286931, 0.5238095021842549, 0.2807017543859649, 0.24637681159420288))</td><td>0</td></tr><tr><td>Map(vectorType -> dense, length -> 5, values -> List(2.0, 0.13090917413884942, 0.46428568995728675, 0.2631578947368421, 0.14492753623188406))</td><td>0</td></tr><tr><td>Map(vectorType -> dense, length -> 5, values -> List(2.0, 0.13818192915482955, 0.416666685588777, 0.2807017543859649, 0.057971014492753624))</td><td>0</td></tr><tr><td>Map(vectorType -> dense, length -> 5, values -> List(2.0, 0.1490909923206676, 0.35714287336180883, 0.22807017543859648, 0.20289855072463767))</td><td>0</td></tr><tr><td>Map(vectorType -> dense, length -> 5, values -> List(2.0, 0.16363636363636364, 0.5595236986943063, 0.19298245614035087, 0.24637681159420288))</td><td>0</td></tr><tr><td>Map(vectorType -> dense, length -> 5, values -> List(2.0, 0.1672728105024858, 0.6785713231482425, 0.22807017543859648, 0.2753623188405797))</td><td>0</td></tr><tr><td>Map(vectorType -> dense, length -> 5, values -> List(2.0, 0.1672728105024858, 0.7380951353752107, 0.3333333333333333, 0.17391304347826086))</td><td>0</td></tr><tr><td>Map(vectorType -> dense, length -> 5, values -> List(2.0, 0.18545462868430396, 0.749999943233669, 0.17543859649122806, 0.30434782608695654))</td><td>0</td></tr><tr><td>Map(vectorType -> dense, length -> 5, values -> List(2.0, 0.20363644686612214, 0.7976189476021789, 0.42105263157894735, 0.18840579710144928))</td><td>0</td></tr><tr><td>Map(vectorType -> dense, length -> 5, values -> List(2.0, 0.2072727550159801, 0.47619049781574513, 0.21052631578947367, 0.13043478260869565))</td><td>0</td></tr><tr><td>Map(vectorType -> dense, length -> 5, values -> List(2.0, 0.23636363636363636, 0.46428568995728675, 0.24561403508771928, 0.014492753623188406))</td><td>0</td></tr><tr><td>Map(vectorType -> dense, length -> 5, values -> List(2.0, 0.23636363636363636, 0.9642858034899486, 0.2982456140350877, 0.2753623188405797))</td><td>0</td></tr><tr><td>Map(vectorType -> dense, length -> 5, values -> List(2.0, 0.24000008322975852, 0.7023809388651593, 0.3684210526315789, 0.17391304347826086))</td><td>0</td></tr><tr><td>Map(vectorType -> dense, length -> 5, values -> List(2.0, 0.24363639137961646, 0.5357143100427133, 0.2982456140350877, 0.12318840579710144))</td><td>0</td></tr><tr><td>Map(vectorType -> dense, length -> 5, values -> List(2.0, 0.24727283824573862, 0.5595236986943063, 0.12280701754385964, 0.2246376811594203))</td><td>0</td></tr><tr><td>Map(vectorType -> dense, length -> 5, values -> List(2.0, 0.2509091463955966, 0.47619049781574513, 0.2982456140350877, 0.057971014492753624))</td><td>0</td></tr><tr><td>Map(vectorType -> dense, length -> 5, values -> List(2.0, 0.2545454545454545, 0.6666667423551079, 0.12280701754385964, 0.2608695652173913))</td><td>0</td></tr><tr><td>Map(vectorType -> dense, length -> 5, values -> List(2.0, 0.26909096457741477, 0.5119046943257965, 0.21052631578947367, 0.2753623188405797))</td><td>0</td></tr><tr><td>Map(vectorType -> dense, length -> 5, values -> List(2.0, 0.2727272727272727, 0.4880953056742035, 0.38596491228070173, 0.20289855072463767))</td><td>0</td></tr><tr><td>Map(vectorType -> dense, length -> 5, values -> List(2.0, 0.298181845925071, 0.583333314411223, 0.3684210526315789, 0.11594202898550725))</td><td>0</td></tr><tr><td>Map(vectorType -> dense, length -> 5, values -> List(2.0, 0.3090909090909091, 0.7023809388651593, 0.43859649122807015, 0.3333333333333333))</td><td>0</td></tr><tr><td>Map(vectorType -> dense, length -> 5, values -> List(2.0, 0.32000011097301134, 0.44047607424037, 0.2982456140350877, 0.24637681159420288))</td><td>0</td></tr><tr><td>Map(vectorType -> dense, length -> 5, values -> List(2.0, 0.32727272727272727, 0.5357143100427133, 0.14035087719298245, 0.10144927536231883))</td><td>0</td></tr><tr><td>Map(vectorType -> dense, length -> 5, values -> List(2.0, 0.32727272727272727, 0.6547619344966495, 0.2631578947368421, 0.13768115942028986))</td><td>0</td></tr><tr><td>Map(vectorType -> dense, length -> 5, values -> List(2.0, 0.34181823730468747, 0.6190475109212744, 0.3684210526315789, 0.42028985507246375))</td><td>0</td></tr><tr><td>Map(vectorType -> dense, length -> 5, values -> List(2.0, 0.35272730047052553, 0.749999943233669, 0.42105263157894735, 0.463768115942029))</td><td>0</td></tr><tr><td>Map(vectorType -> dense, length -> 5, values -> List(2.0, 0.36000005548650565, 0.8452381790360124, 0.2807017543859649, 0.40579710144927533))</td><td>0</td></tr><tr><td>Map(vectorType -> dense, length -> 5, values -> List(2.0, 0.36363636363636365, 0.7142857467236177, 0.3684210526315789, 0.3333333333333333))</td><td>0</td></tr><tr><td>Map(vectorType -> dense, length -> 5, values -> List(2.0, 0.3927273837002841, 0.5357143100427133, 0.38596491228070173, 0.536231884057971))</td><td>0</td></tr><tr><td>Map(vectorType -> dense, length -> 5, values -> List(2.0, 0.39999999999999997, 0.726190554582076, 0.40350877192982454, 0.18840579710144928))</td><td>0</td></tr><tr><td>Map(vectorType -> dense, length -> 5, values -> List(2.0, 0.43636363636363634, 0.583333314411223, 0.631578947368421, 0.3333333333333333))</td><td>0</td></tr><tr><td>Map(vectorType -> dense, length -> 5, values -> List(2.0, 0.498181845925071, 0.6904761310067009, 0.40350877192982454, 0.37681159420289856))</td><td>0</td></tr><tr><td>Map(vectorType -> dense, length -> 5, values -> List(2.0, 0.5054546009410511, 1.0, 0.3508771929824561, 0.391304347826087))</td><td>0</td></tr></tbody></table></div>"
      ]
     },
     "metadata": {
      "application/vnd.databricks.v1+output": {
       "addedWidgets": {},
       "aggData": [],
       "aggError": "",
       "aggOverflow": false,
       "aggSchema": [],
       "aggSeriesLimitReached": false,
       "aggType": "",
       "arguments": {},
       "columnCustomDisplayInfos": {},
       "data": [
        [
         {
          "length": 5,
          "values": [
           0.0,
           0.1163636641068892,
           0.6904761310067009,
           0.22807017543859648,
           0.2753623188405797
          ],
          "vectorType": "dense"
         },
         0
        ],
        [
         {
          "length": 5,
          "values": [
           0.0,
           0.12363641912286931,
           0.3690476812202672,
           0.3684210526315789,
           0.14492753623188406
          ],
          "vectorType": "dense"
         },
         0
        ],
        [
         {
          "length": 5,
          "values": [
           0.0,
           0.1563637473366477,
           0.47619049781574513,
           0.17543859649122806,
           0.0
          ],
          "vectorType": "dense"
         },
         0
        ],
        [
         {
          "length": 5,
          "values": [
           0.0,
           0.16000005548650567,
           0.416666685588777,
           0.12280701754385964,
           0.0
          ],
          "vectorType": "dense"
         },
         0
        ],
        [
         {
          "length": 5,
          "values": [
           0.0,
           0.19999999999999998,
           0.46428568995728675,
           0.19298245614035087,
           0.21739130434782608
          ],
          "vectorType": "dense"
         },
         0
        ],
        [
         {
          "length": 5,
          "values": [
           0.0,
           0.19999999999999998,
           0.7142857467236177,
           0.3508771929824561,
           0.2608695652173913
          ],
          "vectorType": "dense"
         },
         0
        ],
        [
         {
          "length": 5,
          "values": [
           0.0,
           0.20363644686612214,
           0.6666667423551079,
           0.10526315789473684,
           0.21739130434782608
          ],
          "vectorType": "dense"
         },
         0
        ],
        [
         {
          "length": 5,
          "values": [
           0.0,
           0.2072727550159801,
           0.6190475109212744,
           0.0,
           0.15942028985507245
          ],
          "vectorType": "dense"
         },
         0
        ],
        [
         {
          "length": 5,
          "values": [
           0.0,
           0.2072727550159801,
           0.8214285633190956,
           0.2807017543859649,
           0.40579710144927533
          ],
          "vectorType": "dense"
         },
         0
        ],
        [
         {
          "length": 5,
          "values": [
           0.0,
           0.21090920188210227,
           0.6547619344966495,
           0.3333333333333333,
           0.021739130434782608
          ],
          "vectorType": "dense"
         },
         0
        ],
        [
         {
          "length": 5,
          "values": [
           0.0,
           0.21818181818181817,
           0.40476187773031863,
           0.42105263157894735,
           0.2826086956521739
          ],
          "vectorType": "dense"
         },
         0
        ],
        [
         {
          "length": 5,
          "values": [
           0.0,
           0.21818181818181817,
           0.46428568995728675,
           0.12280701754385964,
           0.09420289855072464
          ],
          "vectorType": "dense"
         },
         0
        ],
        [
         {
          "length": 5,
          "values": [
           0.0,
           0.22181826504794033,
           0.5952381222696814,
           0.19298245614035087,
           0.3188405797101449
          ],
          "vectorType": "dense"
         },
         0
        ],
        [
         {
          "length": 5,
          "values": [
           0.0,
           0.23636363636363636,
           0.4880953056742035,
           0.43859649122807015,
           0.2608695652173913
          ],
          "vectorType": "dense"
         },
         0
        ],
        [
         {
          "length": 5,
          "values": [
           0.0,
           0.2509091463955966,
           0.5238095021842549,
           0.21052631578947367,
           0.20289855072463767
          ],
          "vectorType": "dense"
         },
         0
        ],
        [
         {
          "length": 5,
          "values": [
           0.0,
           0.2727272727272727,
           0.5476191179011717,
           0.21052631578947367,
           0.18840579710144928
          ],
          "vectorType": "dense"
         },
         0
        ],
        [
         {
          "length": 5,
          "values": [
           0.0,
           0.2763637195933949,
           0.5476191179011717,
           0.3333333333333333,
           0.10144927536231883
          ],
          "vectorType": "dense"
         },
         0
        ],
        [
         {
          "length": 5,
          "values": [
           0.0,
           0.2909090909090909,
           0.6904761310067009,
           0.24561403508771928,
           0.42028985507246375
          ],
          "vectorType": "dense"
         },
         0
        ],
        [
         {
          "length": 5,
          "values": [
           0.0,
           0.30545460094105115,
           0.5714285065527647,
           0.22807017543859648,
           0.10144927536231883
          ],
          "vectorType": "dense"
         },
         0
        ],
        [
         {
          "length": 5,
          "values": [
           0.0,
           0.30545460094105115,
           0.6904761310067009,
           0.10526315789473684,
           0.3188405797101449
          ],
          "vectorType": "dense"
         },
         0
        ],
        [
         {
          "length": 5,
          "values": [
           0.0,
           0.32727272727272727,
           0.6071429301281398,
           0.3157894736842105,
           0.34782608695652173
          ],
          "vectorType": "dense"
         },
         0
        ],
        [
         {
          "length": 5,
          "values": [
           0.0,
           0.32727272727272727,
           0.7142857467236177,
           0.24561403508771928,
           0.36231884057971014
          ],
          "vectorType": "dense"
         },
         0
        ],
        [
         {
          "length": 5,
          "values": [
           0.0,
           0.3345454822887074,
           0.9523809956314903,
           0.3684210526315789,
           0.4492753623188406
          ],
          "vectorType": "dense"
         },
         0
        ],
        [
         {
          "length": 5,
          "values": [
           0.0,
           0.33818192915482953,
           0.6547619344966495,
           0.2982456140350877,
           0.24637681159420288
          ],
          "vectorType": "dense"
         },
         0
        ],
        [
         {
          "length": 5,
          "values": [
           0.0,
           0.36000005548650565,
           0.047619004368509764,
           0.631578947368421,
           0.37681159420289856
          ],
          "vectorType": "dense"
         },
         1
        ],
        [
         {
          "length": 5,
          "values": [
           0.0,
           0.36000005548650565,
           0.7619047510921274,
           0.45614035087719296,
           0.34782608695652173
          ],
          "vectorType": "dense"
         },
         0
        ],
        [
         {
          "length": 5,
          "values": [
           0.0,
           0.3818181818181818,
           0.07142850655276464,
           0.6842105263157894,
           0.6086956521739131
          ],
          "vectorType": "dense"
         },
         1
        ],
        [
         {
          "length": 5,
          "values": [
           0.0,
           0.38545462868430397,
           0.07142850655276464,
           0.5964912280701754,
           0.3188405797101449
          ],
          "vectorType": "dense"
         },
         1
        ],
        [
         {
          "length": 5,
          "values": [
           0.0,
           0.38545462868430397,
           0.6190475109212744,
           0.38596491228070173,
           0.3550724637681159
          ],
          "vectorType": "dense"
         },
         0
        ],
        [
         {
          "length": 5,
          "values": [
           0.0,
           0.3890909368341619,
           0.1309523187797328,
           0.6140350877192982,
           0.536231884057971
          ],
          "vectorType": "dense"
         },
         1
        ],
        [
         {
          "length": 5,
          "values": [
           0.0,
           0.3927273837002841,
           0.0,
           0.7192982456140351,
           0.6231884057971014
          ],
          "vectorType": "dense"
         },
         1
        ],
        [
         {
          "length": 5,
          "values": [
           0.0,
           0.40363644686612216,
           0.16666662882244604,
           0.5964912280701754,
           0.463768115942029
          ],
          "vectorType": "dense"
         },
         1
        ],
        [
         {
          "length": 5,
          "values": [
           0.0,
           0.40363644686612216,
           0.7023809388651593,
           0.40350877192982454,
           0.5579710144927537
          ],
          "vectorType": "dense"
         },
         0
        ],
        [
         {
          "length": 5,
          "values": [
           0.0,
           0.4072727550159801,
           0.03571419651005139,
           0.6140350877192982,
           0.4492753623188406
          ],
          "vectorType": "dense"
         },
         1
        ],
        [
         {
          "length": 5,
          "values": [
           0.0,
           0.4109092018821022,
           0.15476182096398766,
           0.7719298245614035,
           0.5072463768115942
          ],
          "vectorType": "dense"
         },
         1
        ],
        [
         {
          "length": 5,
          "values": [
           0.0,
           0.4145455100319602,
           0.1309523187797328,
           0.8070175438596491,
           0.536231884057971
          ],
          "vectorType": "dense"
         },
         1
        ],
        [
         {
          "length": 5,
          "values": [
           0.0,
           0.4145455100319602,
           0.24999994323366906,
           0.6842105263157894,
           0.5217391304347826
          ],
          "vectorType": "dense"
         },
         1
        ],
        [
         {
          "length": 5,
          "values": [
           0.0,
           0.41818181818181815,
           0.09523800873701953,
           0.7543859649122806,
           0.5942028985507246
          ],
          "vectorType": "dense"
         },
         1
        ],
        [
         {
          "length": 5,
          "values": [
           0.0,
           0.4254545731977983,
           0.09523800873701953,
           0.5964912280701754,
           0.42028985507246375
          ],
          "vectorType": "dense"
         },
         1
        ],
        [
         {
          "length": 5,
          "values": [
           0.0,
           0.4327273282137784,
           0.05952381222696814,
           0.5964912280701754,
           0.43478260869565216
          ],
          "vectorType": "dense"
         },
         1
        ],
        [
         {
          "length": 5,
          "values": [
           0.0,
           0.4509091463955966,
           0.19047613100670094,
           0.7017543859649122,
           0.5797101449275363
          ],
          "vectorType": "dense"
         },
         1
        ],
        [
         {
          "length": 5,
          "values": [
           0.0,
           0.4509091463955966,
           0.3095237554606372,
           0.7543859649122806,
           0.5869565217391304
          ],
          "vectorType": "dense"
         },
         1
        ],
        [
         {
          "length": 5,
          "values": [
           0.0,
           0.4654546564275568,
           0.023809502184254882,
           0.6842105263157894,
           0.6521739130434783
          ],
          "vectorType": "dense"
         },
         1
        ],
        [
         {
          "length": 5,
          "values": [
           0.0,
           0.4654546564275568,
           0.08333331441122302,
           0.6666666666666666,
           0.5507246376811594
          ],
          "vectorType": "dense"
         },
         1
        ],
        [
         {
          "length": 5,
          "values": [
           0.0,
           0.4690909645774147,
           0.27380944541792396,
           0.8070175438596491,
           0.6376811594202898
          ],
          "vectorType": "dense"
         },
         1
        ],
        [
         {
          "length": 5,
          "values": [
           0.0,
           0.4727272727272727,
           0.15476182096398766,
           0.631578947368421,
           0.4492753623188406
          ],
          "vectorType": "dense"
         },
         1
        ],
        [
         {
          "length": 5,
          "values": [
           0.0,
           0.4727272727272727,
           0.16666662882244604,
           0.5789473684210527,
           0.6376811594202898
          ],
          "vectorType": "dense"
         },
         1
        ],
        [
         {
          "length": 5,
          "values": [
           0.0,
           0.4727272727272727,
           0.16666662882244604,
           0.7192982456140351,
           0.6231884057971014
          ],
          "vectorType": "dense"
         },
         1
        ],
        [
         {
          "length": 5,
          "values": [
           0.0,
           0.47636371959339485,
           0.08333331441122302,
           0.7192982456140351,
           0.5507246376811594
          ],
          "vectorType": "dense"
         },
         1
        ],
        [
         {
          "length": 5,
          "values": [
           0.0,
           0.47636371959339485,
           0.20238093886515932,
           0.6666666666666666,
           0.6811594202898551
          ],
          "vectorType": "dense"
         },
         1
        ],
        [
         {
          "length": 5,
          "values": [
           0.0,
           0.47636371959339485,
           0.3214285633190956,
           0.7192982456140351,
           0.7101449275362318
          ],
          "vectorType": "dense"
         },
         1
        ],
        [
         {
          "length": 5,
          "values": [
           0.0,
           0.47636371959339485,
           0.39285706987186025,
           0.8596491228070176,
           0.8985507246376812
          ],
          "vectorType": "dense"
         },
         1
        ],
        [
         {
          "length": 5,
          "values": [
           0.0,
           0.48000002774325284,
           0.07142850655276464,
           0.631578947368421,
           0.42028985507246375
          ],
          "vectorType": "dense"
         },
         1
        ],
        [
         {
          "length": 5,
          "values": [
           0.0,
           0.48000002774325284,
           0.08333331441122302,
           0.5964912280701754,
           0.391304347826087
          ],
          "vectorType": "dense"
         },
         1
        ],
        [
         {
          "length": 5,
          "values": [
           0.0,
           0.483636474609375,
           0.17857143668090442,
           0.6491228070175439,
           0.5652173913043478
          ],
          "vectorType": "dense"
         },
         1
        ],
        [
         {
          "length": 5,
          "values": [
           0.0,
           0.4872727827592329,
           0.07142850655276464,
           0.7017543859649122,
           0.5217391304347826
          ],
          "vectorType": "dense"
         },
         1
        ],
        [
         {
          "length": 5,
          "values": [
           0.0,
           0.4872727827592329,
           0.16666662882244604,
           0.6666666666666666,
           0.5507246376811594
          ],
          "vectorType": "dense"
         },
         1
        ],
        [
         {
          "length": 5,
          "values": [
           0.0,
           0.4872727827592329,
           0.2261904410494142,
           0.8070175438596491,
           0.6231884057971014
          ],
          "vectorType": "dense"
         },
         1
        ],
        [
         {
          "length": 5,
          "values": [
           0.0,
           0.49454553777521304,
           0.09523800873701953,
           0.7017543859649122,
           0.4492753623188406
          ],
          "vectorType": "dense"
         },
         1
        ],
        [
         {
          "length": 5,
          "values": [
           0.0,
           0.498181845925071,
           0.1309523187797328,
           0.7894736842105263,
           0.536231884057971
          ],
          "vectorType": "dense"
         },
         1
        ],
        [
         {
          "length": 5,
          "values": [
           0.0,
           0.498181845925071,
           0.17857143668090442,
           0.631578947368421,
           0.391304347826087
          ],
          "vectorType": "dense"
         },
         1
        ],
        [
         {
          "length": 5,
          "values": [
           0.0,
           0.509090909090909,
           0.011904694325796506,
           0.6491228070175439,
           0.4782608695652174
          ],
          "vectorType": "dense"
         },
         1
        ],
        [
         {
          "length": 5,
          "values": [
           0.0,
           0.5127273559570312,
           0.15476182096398766,
           0.7017543859649122,
           0.5217391304347826
          ],
          "vectorType": "dense"
         },
         1
        ],
        [
         {
          "length": 5,
          "values": [
           0.0,
           0.5127273559570312,
           0.16666662882244604,
           0.6140350877192982,
           0.5652173913043478
          ],
          "vectorType": "dense"
         },
         1
        ],
        [
         {
          "length": 5,
          "values": [
           0.0,
           0.5127273559570312,
           0.2142856331909558,
           0.8245614035087718,
           0.7101449275362318
          ],
          "vectorType": "dense"
         },
         1
        ],
        [
         {
          "length": 5,
          "values": [
           0.0,
           0.5200001109730114,
           0.2261904410494142,
           0.7368421052631579,
           0.536231884057971
          ],
          "vectorType": "dense"
         },
         1
        ],
        [
         {
          "length": 5,
          "values": [
           0.0,
           0.5236364191228693,
           0.047619004368509764,
           0.631578947368421,
           0.49275362318840576
          ],
          "vectorType": "dense"
         },
         1
        ],
        [
         {
          "length": 5,
          "values": [
           0.0,
           0.5236364191228693,
           0.15476182096398766,
           0.7543859649122806,
           0.5942028985507246
          ],
          "vectorType": "dense"
         },
         1
        ],
        [
         {
          "length": 5,
          "values": [
           0.0,
           0.5236364191228693,
           0.16666662882244604,
           0.6842105263157894,
           0.4492753623188406
          ],
          "vectorType": "dense"
         },
         1
        ],
        [
         {
          "length": 5,
          "values": [
           0.0,
           0.5272727272727272,
           0.1309523187797328,
           0.631578947368421,
           0.5797101449275363
          ],
          "vectorType": "dense"
         },
         1
        ],
        [
         {
          "length": 5,
          "values": [
           0.0,
           0.5345454822887074,
           0.27380944541792396,
           0.7192982456140351,
           0.6666666666666666
          ],
          "vectorType": "dense"
         },
         1
        ],
        [
         {
          "length": 5,
          "values": [
           0.0,
           0.5345454822887074,
           0.35714287336180883,
           0.7192982456140351,
           0.7681159420289855
          ],
          "vectorType": "dense"
         },
         1
        ],
        [
         {
          "length": 5,
          "values": [
           0.0,
           0.5490909923206676,
           0.28571425327638234,
           0.7192982456140351,
           0.6159420289855072
          ],
          "vectorType": "dense"
         },
         1
        ],
        [
         {
          "length": 5,
          "values": [
           0.0,
           0.5527273004705255,
           0.08333331441122302,
           0.7368421052631579,
           0.5434782608695652
          ],
          "vectorType": "dense"
         },
         1
        ],
        [
         {
          "length": 5,
          "values": [
           0.0,
           0.5600000554865057,
           0.1071428165954779,
           0.6666666666666666,
           0.5869565217391304
          ],
          "vectorType": "dense"
         },
         1
        ],
        [
         {
          "length": 5,
          "values": [
           0.0,
           0.5600000554865057,
           0.1309523187797328,
           0.6140350877192982,
           0.5072463768115942
          ],
          "vectorType": "dense"
         },
         1
        ],
        [
         {
          "length": 5,
          "values": [
           0.0,
           0.5600000554865057,
           0.2261904410494142,
           0.7719298245614035,
           0.6086956521739131
          ],
          "vectorType": "dense"
         },
         1
        ],
        [
         {
          "length": 5,
          "values": [
           0.0,
           0.5636363636363636,
           0.16666662882244604,
           0.7192982456140351,
           0.7391304347826086
          ],
          "vectorType": "dense"
         },
         1
        ],
        [
         {
          "length": 5,
          "values": [
           0.0,
           0.5672728105024858,
           0.2261904410494142,
           0.7368421052631579,
           0.5507246376811594
          ],
          "vectorType": "dense"
         },
         1
        ],
        [
         {
          "length": 5,
          "values": [
           0.0,
           0.5709091186523437,
           0.2261904410494142,
           0.7192982456140351,
           0.8115942028985507
          ],
          "vectorType": "dense"
         },
         1
        ],
        [
         {
          "length": 5,
          "values": [
           0.0,
           0.5818181818181818,
           0.23809524890787256,
           0.6140350877192982,
           0.7681159420289855
          ],
          "vectorType": "dense"
         },
         1
        ],
        [
         {
          "length": 5,
          "values": [
           0.0,
           0.585454628684304,
           0.14285712663819117,
           0.631578947368421,
           0.5072463768115942
          ],
          "vectorType": "dense"
         },
         1
        ],
        [
         {
          "length": 5,
          "values": [
           0.0,
           0.5927273837002841,
           0.15476182096398766,
           0.5087719298245614,
           0.5144927536231884
          ],
          "vectorType": "dense"
         },
         1
        ],
        [
         {
          "length": 5,
          "values": [
           0.0,
           0.5927273837002841,
           0.17857143668090442,
           0.6842105263157894,
           0.8695652173913043
          ],
          "vectorType": "dense"
         },
         1
        ],
        [
         {
          "length": 5,
          "values": [
           0.0,
           0.5927273837002841,
           0.3809522620134019,
           0.8070175438596491,
           0.7391304347826086
          ],
          "vectorType": "dense"
         },
         1
        ],
        [
         {
          "length": 5,
          "values": [
           0.0,
           0.596363691850142,
           0.11904762445393628,
           0.8070175438596491,
           0.7101449275362318
          ],
          "vectorType": "dense"
         },
         1
        ],
        [
         {
          "length": 5,
          "values": [
           0.0,
           0.596363691850142,
           0.2261904410494142,
           0.7894736842105263,
           0.5797101449275363
          ],
          "vectorType": "dense"
         },
         1
        ],
        [
         {
          "length": 5,
          "values": [
           0.0,
           0.6036364468661222,
           0.11904762445393628,
           0.631578947368421,
           0.463768115942029
          ],
          "vectorType": "dense"
         },
         1
        ],
        [
         {
          "length": 5,
          "values": [
           0.0,
           0.6036364468661222,
           0.23809524890787256,
           0.8421052631578947,
           0.7246376811594203
          ],
          "vectorType": "dense"
         },
         1
        ],
        [
         {
          "length": 5,
          "values": [
           0.0,
           0.6145455100319602,
           0.35714287336180883,
           0.7368421052631579,
           0.782608695652174
          ],
          "vectorType": "dense"
         },
         1
        ],
        [
         {
          "length": 5,
          "values": [
           0.0,
           0.6181818181818182,
           0.16666662882244604,
           0.6666666666666666,
           0.5144927536231884
          ],
          "vectorType": "dense"
         },
         1
        ],
        [
         {
          "length": 5,
          "values": [
           0.0,
           0.6181818181818182,
           0.20238093886515932,
           0.8070175438596491,
           0.6666666666666666
          ],
          "vectorType": "dense"
         },
         1
        ],
        [
         {
          "length": 5,
          "values": [
           0.0,
           0.6181818181818182,
           0.2261904410494142,
           0.9473684210526315,
           0.7681159420289855
          ],
          "vectorType": "dense"
         },
         1
        ],
        [
         {
          "length": 5,
          "values": [
           0.0,
           0.6218182650479404,
           0.24999994323366906,
           0.8245614035087718,
           1.0
          ],
          "vectorType": "dense"
         },
         1
        ],
        [
         {
          "length": 5,
          "values": [
           0.0,
           0.6254545731977983,
           0.3095237554606372,
           0.7543859649122806,
           0.8695652173913043
          ],
          "vectorType": "dense"
         },
         1
        ],
        [
         {
          "length": 5,
          "values": [
           0.0,
           0.6290910200639204,
           0.3214285633190956,
           0.7368421052631579,
           0.6014492753623188
          ],
          "vectorType": "dense"
         },
         1
        ],
        [
         {
          "length": 5,
          "values": [
           0.0,
           0.6327273282137784,
           0.35714287336180883,
           0.8771929824561403,
           0.8115942028985507
          ],
          "vectorType": "dense"
         },
         1
        ],
        [
         {
          "length": 5,
          "values": [
           0.0,
           0.6327273282137784,
           0.3690476812202672,
           0.9649122807017543,
           0.855072463768116
          ],
          "vectorType": "dense"
         },
         1
        ],
        [
         {
          "length": 5,
          "values": [
           0.0,
           0.6363636363636364,
           0.2261904410494142,
           0.7368421052631579,
           0.5507246376811594
          ],
          "vectorType": "dense"
         },
         1
        ],
        [
         {
          "length": 5,
          "values": [
           0.0,
           0.6363636363636364,
           0.34523806550335046,
           0.894736842105263,
           0.8260869565217391
          ],
          "vectorType": "dense"
         },
         1
        ],
        [
         {
          "length": 5,
          "values": [
           0.0,
           0.6436363913796165,
           0.3333332576448921,
           0.9649122807017543,
           0.8985507246376812
          ],
          "vectorType": "dense"
         },
         1
        ],
        [
         {
          "length": 5,
          "values": [
           0.0,
           0.6472728382457386,
           0.35714287336180883,
           0.6842105263157894,
           0.7391304347826086
          ],
          "vectorType": "dense"
         },
         1
        ],
        [
         {
          "length": 5,
          "values": [
           0.0,
           0.6509091463955966,
           0.24999994323366906,
           0.7719298245614035,
           0.8260869565217391
          ],
          "vectorType": "dense"
         },
         1
        ],
        [
         {
          "length": 5,
          "values": [
           0.0,
           0.6509091463955966,
           0.3333332576448921,
           0.8771929824561403,
           0.7246376811594203
          ],
          "vectorType": "dense"
         },
         1
        ],
        [
         {
          "length": 5,
          "values": [
           0.0,
           0.6509091463955966,
           0.3809522620134019,
           0.9824561403508771,
           0.8260869565217391
          ],
          "vectorType": "dense"
         },
         1
        ],
        [
         {
          "length": 5,
          "values": [
           0.0,
           0.6545454545454545,
           0.2261904410494142,
           0.894736842105263,
           0.6231884057971014
          ],
          "vectorType": "dense"
         },
         1
        ],
        [
         {
          "length": 5,
          "values": [
           0.0,
           0.6581819014115766,
           0.14285712663819117,
           0.7719298245614035,
           0.8260869565217391
          ],
          "vectorType": "dense"
         },
         1
        ],
        [
         {
          "length": 5,
          "values": [
           0.0,
           0.6690909645774148,
           0.24999994323366906,
           0.7368421052631579,
           0.6231884057971014
          ],
          "vectorType": "dense"
         },
         1
        ],
        [
         {
          "length": 5,
          "values": [
           0.0,
           0.6690909645774148,
           0.3333332576448921,
           0.8421052631578947,
           0.782608695652174
          ],
          "vectorType": "dense"
         },
         1
        ],
        [
         {
          "length": 5,
          "values": [
           0.0,
           0.6690909645774148,
           0.3333332576448921,
           0.894736842105263,
           0.7391304347826086
          ],
          "vectorType": "dense"
         },
         1
        ],
        [
         {
          "length": 5,
          "values": [
           0.0,
           0.6800000277432529,
           0.4999998864673381,
           0.9473684210526315,
           0.7971014492753623
          ],
          "vectorType": "dense"
         },
         1
        ],
        [
         {
          "length": 5,
          "values": [
           0.0,
           0.6909090909090909,
           0.3809522620134019,
           0.8070175438596491,
           0.9130434782608695
          ],
          "vectorType": "dense"
         },
         1
        ],
        [
         {
          "length": 5,
          "values": [
           0.0,
           0.7309091741388494,
           0.47619049781574513,
           0.9473684210526315,
           0.7391304347826086
          ],
          "vectorType": "dense"
         },
         1
        ],
        [
         {
          "length": 5,
          "values": [
           0.0,
           0.7418182373046874,
           0.2976190611348407,
           0.8245614035087718,
           0.7536231884057971
          ],
          "vectorType": "dense"
         },
         1
        ],
        [
         {
          "length": 5,
          "values": [
           0.0,
           0.7745455655184659,
           0.3214285633190956,
           0.7894736842105263,
           0.7681159420289855
          ],
          "vectorType": "dense"
         },
         1
        ],
        [
         {
          "length": 5,
          "values": [
           0.0,
           0.8072727550159801,
           0.3095237554606372,
           1.0,
           0.8115942028985507
          ],
          "vectorType": "dense"
         },
         1
        ],
        [
         {
          "length": 5,
          "values": [
           0.0,
           0.8654546564275568,
           0.46428568995728675,
           0.9473684210526315,
           0.7971014492753623
          ],
          "vectorType": "dense"
         },
         1
        ],
        [
         {
          "length": 5,
          "values": [
           0.0,
           1.0,
           0.46428568995728675,
           0.9824561403508771,
           0.927536231884058
          ],
          "vectorType": "dense"
         },
         1
        ],
        [
         {
          "length": 5,
          "values": [
           1.0,
           0.0,
           0.28571425327638234,
           0.24561403508771928,
           0.057971014492753624
          ],
          "vectorType": "dense"
         },
         0
        ],
        [
         {
          "length": 5,
          "values": [
           1.0,
           0.03636363636363636,
           0.35714287336180883,
           0.07017543859649122,
           0.014492753623188406
          ],
          "vectorType": "dense"
         },
         0
        ],
        [
         {
          "length": 5,
          "values": [
           1.0,
           0.06909096457741477,
           0.47619049781574513,
           0.19298245614035087,
           0.15942028985507245
          ],
          "vectorType": "dense"
         },
         0
        ],
        [
         {
          "length": 5,
          "values": [
           1.0,
           0.12727272727272726,
           0.5238095021842549,
           0.2982456140350877,
           0.09420289855072464
          ],
          "vectorType": "dense"
         },
         0
        ],
        [
         {
          "length": 5,
          "values": [
           1.0,
           0.13090917413884942,
           0.583333314411223,
           0.49122807017543857,
           0.20289855072463767
          ],
          "vectorType": "dense"
         },
         0
        ],
        [
         {
          "length": 5,
          "values": [
           1.0,
           0.14181823730468748,
           0.47619049781574513,
           0.22807017543859648,
           0.24637681159420288
          ],
          "vectorType": "dense"
         },
         0
        ],
        [
         {
          "length": 5,
          "values": [
           1.0,
           0.14181823730468748,
           0.5595236986943063,
           0.3684210526315789,
           0.17391304347826086
          ],
          "vectorType": "dense"
         },
         0
        ],
        [
         {
          "length": 5,
          "values": [
           1.0,
           0.14181823730468748,
           0.5714285065527647,
           0.2807017543859649,
           0.17391304347826086
          ],
          "vectorType": "dense"
         },
         0
        ],
        [
         {
          "length": 5,
          "values": [
           1.0,
           0.14181823730468748,
           0.6428571266381912,
           0.21052631578947367,
           0.07246376811594203
          ],
          "vectorType": "dense"
         },
         0
        ],
        [
         {
          "length": 5,
          "values": [
           1.0,
           0.15272730047052557,
           0.7619047510921274,
           0.2807017543859649,
           0.2753623188405797
          ],
          "vectorType": "dense"
         },
         0
        ],
        [
         {
          "length": 5,
          "values": [
           1.0,
           0.16000005548650567,
           0.583333314411223,
           0.14035087719298245,
           0.08695652173913043
          ],
          "vectorType": "dense"
         },
         0
        ],
        [
         {
          "length": 5,
          "values": [
           1.0,
           0.17090911865234373,
           0.6428571266381912,
           0.3333333333333333,
           0.18840579710144928
          ],
          "vectorType": "dense"
         },
         0
        ],
        [
         {
          "length": 5,
          "values": [
           1.0,
           0.17818187366832386,
           0.40476187773031863,
           0.19298245614035087,
           0.15942028985507245
          ],
          "vectorType": "dense"
         },
         0
        ],
        [
         {
          "length": 5,
          "values": [
           1.0,
           0.18545462868430396,
           0.5952381222696814,
           0.07017543859649122,
           0.30434782608695654
          ],
          "vectorType": "dense"
         },
         0
        ],
        [
         {
          "length": 5,
          "values": [
           1.0,
           0.18909093683416192,
           0.5595236986943063,
           0.2982456140350877,
           0.14492753623188406
          ],
          "vectorType": "dense"
         },
         0
        ],
        [
         {
          "length": 5,
          "values": [
           1.0,
           0.19636369185014205,
           0.6428571266381912,
           0.43859649122807015,
           0.47101449275362317
          ],
          "vectorType": "dense"
         },
         0
        ],
        [
         {
          "length": 5,
          "values": [
           1.0,
           0.19636369185014205,
           0.6904761310067009,
           0.08771929824561403,
           0.036231884057971016
          ],
          "vectorType": "dense"
         },
         0
        ],
        [
         {
          "length": 5,
          "values": [
           1.0,
           0.19999999999999998,
           0.7380951353752107,
           0.12280701754385964,
           0.13043478260869565
          ],
          "vectorType": "dense"
         },
         0
        ],
        [
         {
          "length": 5,
          "values": [
           1.0,
           0.2254545731977983,
           0.726190554582076,
           0.2631578947368421,
           0.3188405797101449
          ],
          "vectorType": "dense"
         },
         0
        ],
        [
         {
          "length": 5,
          "values": [
           1.0,
           0.24363639137961646,
           0.8214285633190956,
           0.2807017543859649,
           0.3188405797101449
          ],
          "vectorType": "dense"
         },
         0
        ],
        [
         {
          "length": 5,
          "values": [
           1.0,
           0.24727283824573862,
           0.6785713231482425,
           0.2807017543859649,
           0.21739130434782608
          ],
          "vectorType": "dense"
         },
         0
        ],
        [
         {
          "length": 5,
          "values": [
           1.0,
           0.2509091463955966,
           0.6666667423551079,
           0.19298245614035087,
           0.2318840579710145
          ],
          "vectorType": "dense"
         },
         0
        ],
        [
         {
          "length": 5,
          "values": [
           1.0,
           0.2581819014115767,
           0.6547619344966495,
           0.2807017543859649,
           0.40579710144927533
          ],
          "vectorType": "dense"
         },
         0
        ],
        [
         {
          "length": 5,
          "values": [
           1.0,
           0.26909096457741477,
           0.4285714934472354,
           0.07017543859649122,
           0.11594202898550725
          ],
          "vectorType": "dense"
         },
         0
        ],
        [
         {
          "length": 5,
          "values": [
           1.0,
           0.26909096457741477,
           0.5595236986943063,
           0.24561403508771928,
           0.13043478260869565
          ],
          "vectorType": "dense"
         },
         0
        ],
        [
         {
          "length": 5,
          "values": [
           1.0,
           0.2727272727272727,
           0.5952381222696814,
           0.21052631578947367,
           0.463768115942029
          ],
          "vectorType": "dense"
         },
         0
        ],
        [
         {
          "length": 5,
          "values": [
           1.0,
           0.2727272727272727,
           0.6785713231482425,
           0.2807017543859649,
           0.5072463768115942
          ],
          "vectorType": "dense"
         },
         0
        ],
        [
         {
          "length": 5,
          "values": [
           1.0,
           0.28000002774325283,
           0.7142857467236177,
           0.17543859649122806,
           0.5217391304347826
          ],
          "vectorType": "dense"
         },
         0
        ],
        [
         {
          "length": 5,
          "values": [
           1.0,
           0.29454553777521303,
           0.47619049781574513,
           0.3333333333333333,
           0.15942028985507245
          ],
          "vectorType": "dense"
         },
         0
        ],
        [
         {
          "length": 5,
          "values": [
           1.0,
           0.29454553777521303,
           0.833333371177554,
           0.45614035087719296,
           0.32608695652173914
          ],
          "vectorType": "dense"
         },
         0
        ],
        [
         {
          "length": 5,
          "values": [
           1.0,
           0.298181845925071,
           0.6428571266381912,
           0.38596491228070173,
           0.43478260869565216
          ],
          "vectorType": "dense"
         },
         0
        ],
        [
         {
          "length": 5,
          "values": [
           1.0,
           0.3090909090909091,
           0.4880953056742035,
           0.22807017543859648,
           0.18115942028985507
          ],
          "vectorType": "dense"
         },
         0
        ],
        [
         {
          "length": 5,
          "values": [
           1.0,
           0.3163636641068892,
           0.6309523187797328,
           0.3684210526315789,
           0.30434782608695654
          ],
          "vectorType": "dense"
         },
         0
        ],
        [
         {
          "length": 5,
          "values": [
           1.0,
           0.32000011097301134,
           0.416666685588777,
           0.22807017543859648,
           0.10144927536231883
          ],
          "vectorType": "dense"
         },
         2
        ],
        [
         {
          "length": 5,
          "values": [
           1.0,
           0.32000011097301134,
           0.6904761310067009,
           0.17543859649122806,
           0.30434782608695654
          ],
          "vectorType": "dense"
         },
         0
        ],
        [
         {
          "length": 5,
          "values": [
           1.0,
           0.32727272727272727,
           0.5238095021842549,
           0.2807017543859649,
           0.30434782608695654
          ],
          "vectorType": "dense"
         },
         0
        ],
        [
         {
          "length": 5,
          "values": [
           1.0,
           0.32727272727272727,
           0.5952381222696814,
           0.5438596491228069,
           0.42028985507246375
          ],
          "vectorType": "dense"
         },
         0
        ],
        [
         {
          "length": 5,
          "values": [
           1.0,
           0.32727272727272727,
           0.7023809388651593,
           0.14035087719298245,
           0.16666666666666666
          ],
          "vectorType": "dense"
         },
         0
        ],
        [
         {
          "length": 5,
          "values": [
           1.0,
           0.34181823730468747,
           0.6428571266381912,
           0.47368421052631576,
           0.3333333333333333
          ],
          "vectorType": "dense"
         },
         0
        ],
        [
         {
          "length": 5,
          "values": [
           1.0,
           0.3672728105024858,
           0.6428571266381912,
           0.10526315789473684,
           0.20289855072463767
          ],
          "vectorType": "dense"
         },
         0
        ],
        [
         {
          "length": 5,
          "values": [
           1.0,
           0.3745455655184659,
           0.4999998864673381,
           0.12280701754385964,
           0.21739130434782608
          ],
          "vectorType": "dense"
         },
         2
        ],
        [
         {
          "length": 5,
          "values": [
           1.0,
           0.37818187366832384,
           0.4285714934472354,
           0.22807017543859648,
           0.14492753623188406
          ],
          "vectorType": "dense"
         },
         2
        ],
        [
         {
          "length": 5,
          "values": [
           1.0,
           0.37818187366832384,
           0.4999998864673381,
           0.22807017543859648,
           0.14492753623188406
          ],
          "vectorType": "dense"
         },
         2
        ],
        [
         {
          "length": 5,
          "values": [
           1.0,
           0.40363644686612216,
           0.416666685588777,
           0.22807017543859648,
           0.014492753623188406
          ],
          "vectorType": "dense"
         },
         2
        ],
        [
         {
          "length": 5,
          "values": [
           1.0,
           0.4145455100319602,
           0.5952381222696814,
           0.49122807017543857,
           0.15942028985507245
          ],
          "vectorType": "dense"
         },
         2
        ],
        [
         {
          "length": 5,
          "values": [
           1.0,
           0.47636371959339485,
           0.416666685588777,
           0.2982456140350877,
           0.11594202898550725
          ],
          "vectorType": "dense"
         },
         2
        ],
        [
         {
          "length": 5,
          "values": [
           1.0,
           0.47636371959339485,
           0.5595236986943063,
           0.42105263157894735,
           0.3188405797101449
          ],
          "vectorType": "dense"
         },
         2
        ],
        [
         {
          "length": 5,
          "values": [
           1.0,
           0.483636474609375,
           0.6666667423551079,
           0.24561403508771928,
           0.1956521739130435
          ],
          "vectorType": "dense"
         },
         2
        ],
        [
         {
          "length": 5,
          "values": [
           1.0,
           0.4872727827592329,
           0.46428568995728675,
           0.38596491228070173,
           0.18840579710144928
          ],
          "vectorType": "dense"
         },
         2
        ],
        [
         {
          "length": 5,
          "values": [
           1.0,
           0.4909090909090909,
           0.749999943233669,
           0.3508771929824561,
           0.1956521739130435
          ],
          "vectorType": "dense"
         },
         2
        ],
        [
         {
          "length": 5,
          "values": [
           1.0,
           0.49454553777521304,
           0.46428568995728675,
           0.3684210526315789,
           0.2318840579710145
          ],
          "vectorType": "dense"
         },
         2
        ],
        [
         {
          "length": 5,
          "values": [
           1.0,
           0.5018182927911932,
           0.47619049781574513,
           0.2807017543859649,
           0.21014492753623187
          ],
          "vectorType": "dense"
         },
         2
        ],
        [
         {
          "length": 5,
          "values": [
           1.0,
           0.509090909090909,
           0.6071429301281398,
           0.07017543859649122,
           0.11594202898550725
          ],
          "vectorType": "dense"
         },
         2
        ],
        [
         {
          "length": 5,
          "values": [
           1.0,
           0.5127273559570312,
           0.5238095021842549,
           0.22807017543859648,
           0.2318840579710145
          ],
          "vectorType": "dense"
         },
         2
        ],
        [
         {
          "length": 5,
          "values": [
           1.0,
           0.5236364191228693,
           0.5714285065527647,
           0.3157894736842105,
           0.18840579710144928
          ],
          "vectorType": "dense"
         },
         2
        ],
        [
         {
          "length": 5,
          "values": [
           1.0,
           0.5272727272727272,
           0.5595236986943063,
           0.3333333333333333,
           0.2753623188405797
          ],
          "vectorType": "dense"
         },
         2
        ],
        [
         {
          "length": 5,
          "values": [
           1.0,
           0.5345454822887074,
           0.40476187773031863,
           0.2631578947368421,
           0.2318840579710145
          ],
          "vectorType": "dense"
         },
         2
        ],
        [
         {
          "length": 5,
          "values": [
           1.0,
           0.5636363636363636,
           0.6190475109212744,
           0.3684210526315789,
           0.2898550724637681
          ],
          "vectorType": "dense"
         },
         2
        ],
        [
         {
          "length": 5,
          "values": [
           1.0,
           0.5818181818181818,
           0.39285706987186025,
           0.43859649122807015,
           0.13768115942028986
          ],
          "vectorType": "dense"
         },
         2
        ],
        [
         {
          "length": 5,
          "values": [
           1.0,
           0.596363691850142,
           0.5238095021842549,
           0.2982456140350877,
           0.15942028985507245
          ],
          "vectorType": "dense"
         },
         2
        ],
        [
         {
          "length": 5,
          "values": [
           1.0,
           0.6145455100319602,
           0.7619047510921274,
           0.631578947368421,
           0.3188405797101449
          ],
          "vectorType": "dense"
         },
         2
        ],
        [
         {
          "length": 5,
          "values": [
           1.0,
           0.6145455100319602,
           0.7738095589505858,
           0.6666666666666666,
           0.42028985507246375
          ],
          "vectorType": "dense"
         },
         2
        ],
        [
         {
          "length": 5,
          "values": [
           1.0,
           0.6509091463955966,
           0.7619047510921274,
           0.38596491228070173,
           0.30434782608695654
          ],
          "vectorType": "dense"
         },
         2
        ],
        [
         {
          "length": 5,
          "values": [
           1.0,
           0.6545454545454545,
           0.5714285065527647,
           0.2807017543859649,
           0.15942028985507245
          ],
          "vectorType": "dense"
         },
         2
        ],
        [
         {
          "length": 5,
          "values": [
           1.0,
           0.6581819014115766,
           0.6666667423551079,
           0.42105263157894735,
           0.2681159420289855
          ],
          "vectorType": "dense"
         },
         2
        ],
        [
         {
          "length": 5,
          "values": [
           1.0,
           0.6581819014115766,
           0.6785713231482425,
           0.49122807017543857,
           0.2753623188405797
          ],
          "vectorType": "dense"
         },
         2
        ],
        [
         {
          "length": 5,
          "values": [
           1.0,
           0.6618182095614347,
           0.8214285633190956,
           0.40350877192982454,
           0.13043478260869565
          ],
          "vectorType": "dense"
         },
         2
        ],
        [
         {
          "length": 5,
          "values": [
           1.0,
           0.6690909645774148,
           0.6309523187797328,
           0.45614035087719296,
           0.15942028985507245
          ],
          "vectorType": "dense"
         },
         2
        ],
        [
         {
          "length": 5,
          "values": [
           1.0,
           0.6690909645774148,
           0.7738095589505858,
           0.47368421052631576,
           0.34782608695652173
          ],
          "vectorType": "dense"
         },
         2
        ],
        [
         {
          "length": 5,
          "values": [
           1.0,
           0.6727272727272727,
           0.749999943233669,
           0.3333333333333333,
           0.2753623188405797
          ],
          "vectorType": "dense"
         },
         2
        ],
        [
         {
          "length": 5,
          "values": [
           1.0,
           0.6763637195933948,
           0.7857143668090442,
           0.5087719298245614,
           0.34782608695652173
          ],
          "vectorType": "dense"
         },
         2
        ],
        [
         {
          "length": 5,
          "values": [
           1.0,
           0.6800000277432529,
           0.7023809388651593,
           0.631578947368421,
           0.36231884057971014
          ],
          "vectorType": "dense"
         },
         2
        ],
        [
         {
          "length": 5,
          "values": [
           1.0,
           0.6836364746093749,
           0.5714285065527647,
           0.38596491228070173,
           0.2391304347826087
          ],
          "vectorType": "dense"
         },
         2
        ],
        [
         {
          "length": 5,
          "values": [
           1.0,
           0.6836364746093749,
           0.7142857467236177,
           0.38596491228070173,
           0.20289855072463767
          ],
          "vectorType": "dense"
         },
         2
        ],
        [
         {
          "length": 5,
          "values": [
           1.0,
           0.698181845925071,
           0.726190554582076,
           0.3333333333333333,
           0.2318840579710145
          ],
          "vectorType": "dense"
         },
         2
        ],
        [
         {
          "length": 5,
          "values": [
           1.0,
           0.698181845925071,
           0.8095237554606373,
           0.42105263157894735,
           0.24637681159420288
          ],
          "vectorType": "dense"
         },
         2
        ],
        [
         {
          "length": 5,
          "values": [
           1.0,
           0.7018182927911931,
           0.7023809388651593,
           0.47368421052631576,
           0.3188405797101449
          ],
          "vectorType": "dense"
         },
         2
        ],
        [
         {
          "length": 5,
          "values": [
           1.0,
           0.7054546009410511,
           0.6666667423551079,
           0.22807017543859648,
           0.11594202898550725
          ],
          "vectorType": "dense"
         },
         2
        ],
        [
         {
          "length": 5,
          "values": [
           1.0,
           0.7127273559570312,
           0.857142759829147,
           0.3508771929824561,
           0.2681159420289855
          ],
          "vectorType": "dense"
         },
         2
        ],
        [
         {
          "length": 5,
          "values": [
           1.0,
           0.7200001109730113,
           0.7619047510921274,
           0.5614035087719298,
           0.3188405797101449
          ],
          "vectorType": "dense"
         },
         2
        ],
        [
         {
          "length": 5,
          "values": [
           1.0,
           0.7236364191228692,
           0.5952381222696814,
           0.47368421052631576,
           0.34782608695652173
          ],
          "vectorType": "dense"
         },
         2
        ],
        [
         {
          "length": 5,
          "values": [
           1.0,
           0.7236364191228692,
           0.7023809388651593,
           0.40350877192982454,
           0.37681159420289856
          ],
          "vectorType": "dense"
         },
         2
        ],
        [
         {
          "length": 5,
          "values": [
           1.0,
           0.7236364191228692,
           0.9047619912629805,
           0.631578947368421,
           0.5652173913043478
          ],
          "vectorType": "dense"
         },
         2
        ],
        [
         {
          "length": 5,
          "values": [
           1.0,
           0.7309091741388494,
           0.6785713231482425,
           0.40350877192982454,
           0.17391304347826086
          ],
          "vectorType": "dense"
         },
         2
        ],
        [
         {
          "length": 5,
          "values": [
           1.0,
           0.7490909923206676,
           0.7976189476021789,
           0.40350877192982454,
           0.2536231884057971
          ],
          "vectorType": "dense"
         },
         2
        ],
        [
         {
          "length": 5,
          "values": [
           1.0,
           0.7527273004705255,
           0.8214285633190956,
           0.5438596491228069,
           0.49275362318840576
          ],
          "vectorType": "dense"
         },
         2
        ],
        [
         {
          "length": 5,
          "values": [
           1.0,
           0.7781818736683238,
           0.8095237554606373,
           0.5438596491228069,
           0.4782608695652174
          ],
          "vectorType": "dense"
         },
         2
        ],
        [
         {
          "length": 5,
          "values": [
           1.0,
           0.8036364468661221,
           0.9166665720561151,
           0.47368421052631576,
           0.42028985507246375
          ],
          "vectorType": "dense"
         },
         2
        ],
        [
         {
          "length": 5,
          "values": [
           1.0,
           0.8618182095614346,
           0.7976189476021789,
           0.5789473684210527,
           0.3333333333333333
          ],
          "vectorType": "dense"
         },
         2
        ],
        [
         {
          "length": 5,
          "values": [
           1.0,
           0.9418182373046875,
           0.5595236986943063,
           0.12280701754385964,
           0.24637681159420288
          ],
          "vectorType": "dense"
         },
         2
        ],
        [
         {
          "length": 5,
          "values": [
           2.0,
           0.083636474609375,
           0.6309523187797328,
           0.17543859649122806,
           0.13768115942028986
          ],
          "vectorType": "dense"
         },
         0
        ],
        [
         {
          "length": 5,
          "values": [
           2.0,
           0.10909090909090909,
           0.749999943233669,
           0.3333333333333333,
           0.391304347826087
          ],
          "vectorType": "dense"
         },
         0
        ],
        [
         {
          "length": 5,
          "values": [
           2.0,
           0.11272735595703125,
           0.3333332576448921,
           0.21052631578947367,
           0.057971014492753624
          ],
          "vectorType": "dense"
         },
         0
        ],
        [
         {
          "length": 5,
          "values": [
           2.0,
           0.12363641912286931,
           0.5238095021842549,
           0.2807017543859649,
           0.24637681159420288
          ],
          "vectorType": "dense"
         },
         0
        ],
        [
         {
          "length": 5,
          "values": [
           2.0,
           0.13090917413884942,
           0.46428568995728675,
           0.2631578947368421,
           0.14492753623188406
          ],
          "vectorType": "dense"
         },
         0
        ],
        [
         {
          "length": 5,
          "values": [
           2.0,
           0.13818192915482955,
           0.416666685588777,
           0.2807017543859649,
           0.057971014492753624
          ],
          "vectorType": "dense"
         },
         0
        ],
        [
         {
          "length": 5,
          "values": [
           2.0,
           0.1490909923206676,
           0.35714287336180883,
           0.22807017543859648,
           0.20289855072463767
          ],
          "vectorType": "dense"
         },
         0
        ],
        [
         {
          "length": 5,
          "values": [
           2.0,
           0.16363636363636364,
           0.5595236986943063,
           0.19298245614035087,
           0.24637681159420288
          ],
          "vectorType": "dense"
         },
         0
        ],
        [
         {
          "length": 5,
          "values": [
           2.0,
           0.1672728105024858,
           0.6785713231482425,
           0.22807017543859648,
           0.2753623188405797
          ],
          "vectorType": "dense"
         },
         0
        ],
        [
         {
          "length": 5,
          "values": [
           2.0,
           0.1672728105024858,
           0.7380951353752107,
           0.3333333333333333,
           0.17391304347826086
          ],
          "vectorType": "dense"
         },
         0
        ],
        [
         {
          "length": 5,
          "values": [
           2.0,
           0.18545462868430396,
           0.749999943233669,
           0.17543859649122806,
           0.30434782608695654
          ],
          "vectorType": "dense"
         },
         0
        ],
        [
         {
          "length": 5,
          "values": [
           2.0,
           0.20363644686612214,
           0.7976189476021789,
           0.42105263157894735,
           0.18840579710144928
          ],
          "vectorType": "dense"
         },
         0
        ],
        [
         {
          "length": 5,
          "values": [
           2.0,
           0.2072727550159801,
           0.47619049781574513,
           0.21052631578947367,
           0.13043478260869565
          ],
          "vectorType": "dense"
         },
         0
        ],
        [
         {
          "length": 5,
          "values": [
           2.0,
           0.23636363636363636,
           0.46428568995728675,
           0.24561403508771928,
           0.014492753623188406
          ],
          "vectorType": "dense"
         },
         0
        ],
        [
         {
          "length": 5,
          "values": [
           2.0,
           0.23636363636363636,
           0.9642858034899486,
           0.2982456140350877,
           0.2753623188405797
          ],
          "vectorType": "dense"
         },
         0
        ],
        [
         {
          "length": 5,
          "values": [
           2.0,
           0.24000008322975852,
           0.7023809388651593,
           0.3684210526315789,
           0.17391304347826086
          ],
          "vectorType": "dense"
         },
         0
        ],
        [
         {
          "length": 5,
          "values": [
           2.0,
           0.24363639137961646,
           0.5357143100427133,
           0.2982456140350877,
           0.12318840579710144
          ],
          "vectorType": "dense"
         },
         0
        ],
        [
         {
          "length": 5,
          "values": [
           2.0,
           0.24727283824573862,
           0.5595236986943063,
           0.12280701754385964,
           0.2246376811594203
          ],
          "vectorType": "dense"
         },
         0
        ],
        [
         {
          "length": 5,
          "values": [
           2.0,
           0.2509091463955966,
           0.47619049781574513,
           0.2982456140350877,
           0.057971014492753624
          ],
          "vectorType": "dense"
         },
         0
        ],
        [
         {
          "length": 5,
          "values": [
           2.0,
           0.2545454545454545,
           0.6666667423551079,
           0.12280701754385964,
           0.2608695652173913
          ],
          "vectorType": "dense"
         },
         0
        ],
        [
         {
          "length": 5,
          "values": [
           2.0,
           0.26909096457741477,
           0.5119046943257965,
           0.21052631578947367,
           0.2753623188405797
          ],
          "vectorType": "dense"
         },
         0
        ],
        [
         {
          "length": 5,
          "values": [
           2.0,
           0.2727272727272727,
           0.4880953056742035,
           0.38596491228070173,
           0.20289855072463767
          ],
          "vectorType": "dense"
         },
         0
        ],
        [
         {
          "length": 5,
          "values": [
           2.0,
           0.298181845925071,
           0.583333314411223,
           0.3684210526315789,
           0.11594202898550725
          ],
          "vectorType": "dense"
         },
         0
        ],
        [
         {
          "length": 5,
          "values": [
           2.0,
           0.3090909090909091,
           0.7023809388651593,
           0.43859649122807015,
           0.3333333333333333
          ],
          "vectorType": "dense"
         },
         0
        ],
        [
         {
          "length": 5,
          "values": [
           2.0,
           0.32000011097301134,
           0.44047607424037,
           0.2982456140350877,
           0.24637681159420288
          ],
          "vectorType": "dense"
         },
         0
        ],
        [
         {
          "length": 5,
          "values": [
           2.0,
           0.32727272727272727,
           0.5357143100427133,
           0.14035087719298245,
           0.10144927536231883
          ],
          "vectorType": "dense"
         },
         0
        ],
        [
         {
          "length": 5,
          "values": [
           2.0,
           0.32727272727272727,
           0.6547619344966495,
           0.2631578947368421,
           0.13768115942028986
          ],
          "vectorType": "dense"
         },
         0
        ],
        [
         {
          "length": 5,
          "values": [
           2.0,
           0.34181823730468747,
           0.6190475109212744,
           0.3684210526315789,
           0.42028985507246375
          ],
          "vectorType": "dense"
         },
         0
        ],
        [
         {
          "length": 5,
          "values": [
           2.0,
           0.35272730047052553,
           0.749999943233669,
           0.42105263157894735,
           0.463768115942029
          ],
          "vectorType": "dense"
         },
         0
        ],
        [
         {
          "length": 5,
          "values": [
           2.0,
           0.36000005548650565,
           0.8452381790360124,
           0.2807017543859649,
           0.40579710144927533
          ],
          "vectorType": "dense"
         },
         0
        ],
        [
         {
          "length": 5,
          "values": [
           2.0,
           0.36363636363636365,
           0.7142857467236177,
           0.3684210526315789,
           0.3333333333333333
          ],
          "vectorType": "dense"
         },
         0
        ],
        [
         {
          "length": 5,
          "values": [
           2.0,
           0.3927273837002841,
           0.5357143100427133,
           0.38596491228070173,
           0.536231884057971
          ],
          "vectorType": "dense"
         },
         0
        ],
        [
         {
          "length": 5,
          "values": [
           2.0,
           0.39999999999999997,
           0.726190554582076,
           0.40350877192982454,
           0.18840579710144928
          ],
          "vectorType": "dense"
         },
         0
        ],
        [
         {
          "length": 5,
          "values": [
           2.0,
           0.43636363636363634,
           0.583333314411223,
           0.631578947368421,
           0.3333333333333333
          ],
          "vectorType": "dense"
         },
         0
        ],
        [
         {
          "length": 5,
          "values": [
           2.0,
           0.498181845925071,
           0.6904761310067009,
           0.40350877192982454,
           0.37681159420289856
          ],
          "vectorType": "dense"
         },
         0
        ],
        [
         {
          "length": 5,
          "values": [
           2.0,
           0.5054546009410511,
           1.0,
           0.3508771929824561,
           0.391304347826087
          ],
          "vectorType": "dense"
         },
         0
        ]
       ],
       "datasetInfos": [],
       "dbfsResultPath": null,
       "isJsonSchema": true,
       "metadata": {},
       "overflow": false,
       "plotOptions": {
        "customPlotOptions": {},
        "displayType": "table",
        "pivotAggregation": null,
        "pivotColumns": null,
        "xColumns": null,
        "yColumns": null
       },
       "removedWidgets": [],
       "schema": [
        {
         "metadata": "{\"ml_attr\":{\"attrs\":{\"numeric\":[{\"idx\":1,\"name\":\"normalizedFeatures_0\"},{\"idx\":2,\"name\":\"normalizedFeatures_1\"},{\"idx\":3,\"name\":\"normalizedFeatures_2\"},{\"idx\":4,\"name\":\"normalizedFeatures_3\"}],\"nominal\":[{\"vals\":[\"Biscoe\",\"Dream\",\"Torgersen\"],\"idx\":0,\"name\":\"IslandIdx\"}]},\"num_attrs\":5}}",
         "name": "features",
         "type": "{\"type\":\"udt\",\"class\":\"org.apache.spark.ml.linalg.VectorUDT\",\"pyClass\":\"pyspark.ml.linalg.VectorUDT\",\"sqlType\":{\"type\":\"struct\",\"fields\":[{\"name\":\"type\",\"type\":\"byte\",\"nullable\":false,\"metadata\":{}},{\"name\":\"size\",\"type\":\"integer\",\"nullable\":true,\"metadata\":{}},{\"name\":\"indices\",\"type\":{\"type\":\"array\",\"elementType\":\"integer\",\"containsNull\":false},\"nullable\":true,\"metadata\":{}},{\"name\":\"values\",\"type\":{\"type\":\"array\",\"elementType\":\"double\",\"containsNull\":false},\"nullable\":true,\"metadata\":{}}]}}"
        },
        {
         "metadata": "{}",
         "name": "label",
         "type": "\"integer\""
        }
       ],
       "type": "table"
      }
     },
     "output_type": "display_data"
    }
   ],
   "source": [
    "featVect = VectorAssembler(inputCols=[\"IslandIdx\", \"normalizedFeatures\"], outputCol=\"featuresVector\")\n",
    "preppedData = featVect.transform(scaledData)[col(\"featuresVector\").alias(\"features\"), col(\"Species\").alias(\"label\")]\n",
    "display(preppedData)"
   ]
  },
  {
   "cell_type": "code",
   "execution_count": 0,
   "metadata": {
    "application/vnd.databricks.v1+cell": {
     "cellMetadata": {
      "byteLimit": 2048000,
      "rowLimit": 10000
     },
     "inputWidgets": {},
     "nuid": "bbfc56b0-ee4a-455f-bc8b-e255720cd70b",
     "showTitle": false,
     "tableResultSettingsMap": {},
     "title": ""
    }
   },
   "outputs": [
    {
     "output_type": "stream",
     "name": "stdout",
     "output_type": "stream",
     "text": [
      "\uD83C\uDFC3 View run redolent-shrike-319 at: https://adb-417837659617408.8.azuredatabricks.net/ml/experiments/2521787647535717/runs/8d390f3e998f4ea78cef21a78ec136d7\n\uD83E\uDDEA View experiment at: https://adb-417837659617408.8.azuredatabricks.net/ml/experiments/2521787647535717\nModel trained!\n"
     ]
    }
   ],
   "source": [
    "from pyspark.ml.classification import LogisticRegression\n",
    "\n",
    "lr = LogisticRegression(labelCol=\"label\", featuresCol=\"features\", maxIter=10, regParam=0.3)\n",
    "model = lr.fit(preppedData)\n",
    "print (\"Model trained!\")"
   ]
  },
  {
   "cell_type": "code",
   "execution_count": 0,
   "metadata": {
    "application/vnd.databricks.v1+cell": {
     "cellMetadata": {
      "byteLimit": 2048000,
      "rowLimit": 10000
     },
     "inputWidgets": {},
     "nuid": "88fce138-c079-46fb-990a-c100fb576fc0",
     "showTitle": false,
     "tableResultSettingsMap": {},
     "title": ""
    }
   },
   "outputs": [
    {
     "output_type": "stream",
     "name": "stdout",
     "output_type": "stream",
     "text": [
      "\uD83C\uDFC3 View run intelligent-lark-653 at: https://adb-417837659617408.8.azuredatabricks.net/ml/experiments/2521787647535717/runs/80550ce6a19d48cc91c23a9d5f0e0684\n\uD83E\uDDEA View experiment at: https://adb-417837659617408.8.azuredatabricks.net/ml/experiments/2521787647535717\n\uD83C\uDFC3 View run smiling-skunk-256 at: https://adb-417837659617408.8.azuredatabricks.net/ml/experiments/2521787647535717/runs/16dc514577d445d8b6e479397ea6a603\n\uD83E\uDDEA View experiment at: https://adb-417837659617408.8.azuredatabricks.net/ml/experiments/2521787647535717\n"
     ]
    },
    {
     "output_type": "display_data",
     "data": {
      "text/html": [
       "<style scoped>\n",
       "  .table-result-container {\n",
       "    max-height: 300px;\n",
       "    overflow: auto;\n",
       "  }\n",
       "  table, th, td {\n",
       "    border: 1px solid black;\n",
       "    border-collapse: collapse;\n",
       "  }\n",
       "  th, td {\n",
       "    padding: 5px;\n",
       "  }\n",
       "  th {\n",
       "    text-align: left;\n",
       "  }\n",
       "</style><div class='table-result-container'><table class='table-result'><thead style='background-color: white'><tr><th>features</th><th>probability</th><th>prediction</th><th>trueLabel</th></tr></thead><tbody><tr><td>Map(vectorType -> dense, length -> 5, values -> List(0.0, 0.046296299566784584, 0.5866666683620875, 0.25862068965517243, 0.06060606060606061))</td><td>Map(vectorType -> dense, length -> 3, values -> List(0.8478539592927298, 0.06416419732657215, 0.08798184338069795))</td><td>0</td><td>0</td></tr><tr><td>Map(vectorType -> dense, length -> 5, values -> List(0.0, 0.06944444935017688, 0.5599999033610149, 0.3103448275862069, 0.22727272727272727))</td><td>Map(vectorType -> dense, length -> 3, values -> List(0.8018148923723891, 0.1089648160290908, 0.08922029159851991))</td><td>0</td><td>0</td></tr><tr><td>Map(vectorType -> dense, length -> 5, values -> List(0.0, 0.06944444935017688, 0.5599999033610149, 0.3448275862068966, 0.3106060606060606))</td><td>Map(vectorType -> dense, length -> 3, values -> List(0.7796015636280811, 0.13482947899085176, 0.08556895738106729))</td><td>0</td><td>0</td></tr><tr><td>Map(vectorType -> dense, length -> 5, values -> List(0.0, 0.10185189436819955, 0.42666658698188953, 0.22413793103448276, 0.13636363636363635))</td><td>Map(vectorType -> dense, length -> 3, values -> List(0.7844645429981116, 0.11501875141234484, 0.10051670558954351))</td><td>0</td><td>0</td></tr><tr><td>Map(vectorType -> dense, length -> 5, values -> List(0.0, 0.11111118960282995, 0.7333333672417492, 0.29310344827586204, 0.3333333333333333))</td><td>Map(vectorType -> dense, length -> 3, values -> List(0.8055385750375187, 0.09274196025747898, 0.1017194647050024))</td><td>0</td><td>0</td></tr><tr><td>Map(vectorType -> dense, length -> 5, values -> List(0.0, 0.19444449350176873, 0.3066666531033004, 0.1896551724137931, 0.11363636363636363))</td><td>Map(vectorType -> dense, length -> 3, values -> List(0.697211859396872, 0.16674076097653756, 0.1360473796265903))</td><td>0</td><td>0</td></tr><tr><td>Map(vectorType -> dense, length -> 5, values -> List(0.0, 0.2037037887363991, 0.6533333265516502, 0.0, 0.13636363636363635))</td><td>Map(vectorType -> dense, length -> 3, values -> List(0.8060578730632155, 0.05225687593888383, 0.14168525099790055))</td><td>0</td><td>0</td></tr><tr><td>Map(vectorType -> dense, length -> 5, values -> List(0.0, 0.217592643285161, 0.839999918619802, 0.3103448275862069, 0.36363636363636365))</td><td>Map(vectorType -> dense, length -> 3, values -> List(0.7464929711378625, 0.10090602604713945, 0.15260100281499808))</td><td>0</td><td>0</td></tr><tr><td>Map(vectorType -> dense, length -> 5, values -> List(0.0, 0.24537035238268481, 0.4666667344834984, 0.13793103448275862, 0.3333333333333333))</td><td>Map(vectorType -> dense, length -> 3, values -> List(0.6839444060111657, 0.16851251998417, 0.1475430740046642))</td><td>0</td><td>0</td></tr><tr><td>Map(vectorType -> dense, length -> 5, values -> List(0.0, 0.282407356714839, 0.9333333418104374, 0.3275862068965517, 0.36363636363636365))</td><td>Map(vectorType -> dense, length -> 3, values -> List(0.7078686964890356, 0.09608647468637202, 0.1960448288245923))</td><td>0</td><td>0</td></tr><tr><td>Map(vectorType -> dense, length -> 5, values -> List(0.0, 0.2870370926353379, 0.6933332197401404, 0.20689655172413793, 0.25757575757575757))</td><td>Map(vectorType -> dense, length -> 3, values -> List(0.6960105877271935, 0.11042333334655101, 0.1935660789262554))</td><td>0</td><td>0</td></tr><tr><td>Map(vectorType -> dense, length -> 5, values -> List(0.0, 0.3287036562816236, 0.6533333265516502, 0.1896551724137931, 0.25757575757575757))</td><td>Map(vectorType -> dense, length -> 3, values -> List(0.6546964476116239, 0.12664273938283932, 0.21866081300553658))</td><td>0</td><td>0</td></tr><tr><td>Map(vectorType -> dense, length -> 5, values -> List(0.0, 0.3287036562816236, 0.6799998372396041, 0.3620689655172414, 0.3333333333333333))</td><td>Map(vectorType -> dense, length -> 3, values -> List(0.5966761577589313, 0.18873572927443524, 0.21458811296663355))</td><td>0</td><td>0</td></tr><tr><td>Map(vectorType -> dense, length -> 5, values -> List(0.0, 0.34259268743675286, 0.0, 0.7241379310344828, 0.5909090909090909))</td><td>Map(vectorType -> dense, length -> 3, values -> List(0.10772697378585112, 0.8440670112448971, 0.04820601496925184))</td><td>1</td><td>1</td></tr><tr><td>Map(vectorType -> dense, length -> 5, values -> List(0.0, 0.34722224675088437, 0.839999918619802, 0.5344827586206896, 0.6136363636363636))</td><td>Map(vectorType -> dense, length -> 3, values -> List(0.5124012537250459, 0.29086409450628226, 0.19673465176867191))</td><td>0</td><td>0</td></tr><tr><td>Map(vectorType -> dense, length -> 5, values -> List(0.0, 0.3749999558484082, 0.5733332858615512, 0.3448275862068966, 0.3787878787878788))</td><td>Map(vectorType -> dense, length -> 3, values -> List(0.5146252817587863, 0.26181417828862985, 0.22356053995258396))</td><td>0</td><td>0</td></tr><tr><td>Map(vectorType -> dense, length -> 5, values -> List(0.0, 0.37962969176890704, 0.13333331637912543, 0.6551724137931034, 0.6060606060606061))</td><td>Map(vectorType -> dense, length -> 3, values -> List(0.1449081498851646, 0.7824506211257722, 0.07264122898906314))</td><td>1</td><td>1</td></tr><tr><td>Map(vectorType -> dense, length -> 5, values -> List(0.0, 0.40277784155229934, 0.7733332604302394, 0.43103448275862066, 0.4772727272727273))</td><td>Map(vectorType -> dense, length -> 3, values -> List(0.5047791529102682, 0.24579491797021422, 0.24942592911951764))</td><td>0</td><td>0</td></tr><tr><td>Map(vectorType -> dense, length -> 5, values -> List(0.0, 0.45370370043321545, 0.0400000203450495, 0.6206896551724138, 0.5681818181818182))</td><td>Map(vectorType -> dense, length -> 3, values -> List(0.10847861294993279, 0.815095006547105, 0.07642638050296216))</td><td>1</td><td>1</td></tr><tr><td>Map(vectorType -> dense, length -> 5, values -> List(0.0, 0.5046297359204989, 0.47999986267091593, 0.8103448275862069, 0.7727272727272727))</td><td>Map(vectorType -> dense, length -> 3, values -> List(0.11975136086765935, 0.7728203504739533, 0.10742828865838741))</td><td>1</td><td>1</td></tr><tr><td>Map(vectorType -> dense, length -> 5, values -> List(0.0, 0.5092592952346304, 0.080000040690099, 0.7586206896551724, 0.42424242424242425))</td><td>Map(vectorType -> dense, length -> 3, values -> List(0.09370706723063678, 0.807801981263351, 0.09849095150601231))</td><td>1</td><td>1</td></tr><tr><td>Map(vectorType -> dense, length -> 5, values -> List(0.0, 0.555555594801415, 0.026666637844513216, 0.6551724137931034, 0.45454545454545453))</td><td>Map(vectorType -> dense, length -> 3, values -> List(0.08550255518436574, 0.8112693660947203, 0.10322807872091397))</td><td>1</td><td>1</td></tr><tr><td>Map(vectorType -> dense, length -> 5, values -> List(0.0, 0.5601851541155465, 0.8799998118082922, 0.3275862068965517, 0.5757575757575758))</td><td>Map(vectorType -> dense, length -> 3, values -> List(0.402822180994921, 0.2301399852899852, 0.3670378337150937))</td><td>0</td><td>0</td></tr><tr><td>Map(vectorType -> dense, length -> 5, values -> List(0.0, 0.5833333038989388, 0.18666671922471123, 0.7413793103448276, 0.7272727272727273))</td><td>Map(vectorType -> dense, length -> 3, values -> List(0.06134252135140362, 0.8602185775928617, 0.07843890105573469))</td><td>1</td><td>1</td></tr><tr><td>Map(vectorType -> dense, length -> 5, values -> List(0.0, 0.5879630398194376, 0.053333402845585784, 0.7758620689655172, 0.5075757575757576))</td><td>Map(vectorType -> dense, length -> 3, values -> List(0.05873232675278549, 0.8546262761066497, 0.08664139714056475))</td><td>1</td><td>1</td></tr><tr><td>Map(vectorType -> dense, length -> 5, values -> List(0.0, 0.5925925991335692, 0.28000001525878715, 0.7413793103448276, 0.7121212121212122))</td><td>Map(vectorType -> dense, length -> 3, values -> List(0.07515343340087734, 0.8244449928674308, 0.10040157373169172))</td><td>1</td><td>1</td></tr><tr><td>Map(vectorType -> dense, length -> 5, values -> List(0.0, 0.5972223350540681, 0.2533333774142739, 0.8448275862068966, 0.696969696969697))</td><td>Map(vectorType -> dense, length -> 3, values -> List(0.05746575604707823, 0.858225906251046, 0.08430833770187582))</td><td>1</td><td>1</td></tr><tr><td>Map(vectorType -> dense, length -> 5, values -> List(0.0, 0.6018518943681996, 0.14666669887966172, 0.7758620689655172, 0.7575757575757576))</td><td>Map(vectorType -> dense, length -> 3, values -> List(0.046595071751116796, 0.887814762529286, 0.0655901657195973))</td><td>1</td><td>1</td></tr><tr><td>Map(vectorType -> dense, length -> 5, values -> List(0.0, 0.61111118960283, 0.21333335706922443, 0.8103448275862069, 0.7575757575757576))</td><td>Map(vectorType -> dense, length -> 3, values -> List(0.04903478842824104, 0.8776450441531616, 0.07332016741859743))</td><td>1</td><td>1</td></tr><tr><td>Map(vectorType -> dense, length -> 5, values -> List(0.0, 0.6157407489169615, 0.080000040690099, 0.7413793103448276, 0.6515151515151515))</td><td>Map(vectorType -> dense, length -> 3, values -> List(0.04893655436209692, 0.8756250383161474, 0.07543840732175575))</td><td>1</td><td>1</td></tr><tr><td>Map(vectorType -> dense, length -> 5, values -> List(0.0, 0.6203704848374604, 0.1200000610351485, 0.8620689655172413, 0.6590909090909091))</td><td>Map(vectorType -> dense, length -> 3, values -> List(0.040131314124507884, 0.8921037737184528, 0.06776491215703924))</td><td>1</td><td>1</td></tr><tr><td>Map(vectorType -> dense, length -> 5, values -> List(0.0, 0.6342593393862223, 0.0, 0.7241379310344828, 0.6742424242424242))</td><td>Map(vectorType -> dense, length -> 3, values -> List(0.038250127447371295, 0.898556243746512, 0.06319362880611669))</td><td>1</td><td>1</td></tr><tr><td>Map(vectorType -> dense, length -> 5, values -> List(0.0, 0.6388888987003538, 0.21333335706922443, 0.8620689655172413, 0.7727272727272727))</td><td>Map(vectorType -> dense, length -> 3, values -> List(0.03908084765356553, 0.8927816753030303, 0.06813747704340416))</td><td>1</td><td>1</td></tr><tr><td>Map(vectorType -> dense, length -> 5, values -> List(0.0, 0.6435186346208527, 0.1200000610351485, 0.6896551724137931, 0.6136363636363636))</td><td>Map(vectorType -> dense, length -> 3, values -> List(0.05822937715233048, 0.8416411073881818, 0.10012951545948784))</td><td>1</td><td>1</td></tr><tr><td>Map(vectorType -> dense, length -> 5, values -> List(0.0, 0.6805556389530069, 0.2533333774142739, 0.8448275862068966, 0.7272727272727273))</td><td>Map(vectorType -> dense, length -> 3, values -> List(0.04199065239756756, 0.8687818617928019, 0.08922748580963043))</td><td>1</td><td>1</td></tr><tr><td>Map(vectorType -> dense, length -> 5, values -> List(0.0, 0.6990740528159003, 0.3066666531033004, 1.0, 0.9393939393939394))</td><td>Map(vectorType -> dense, length -> 3, values -> List(0.02230462490173949, 0.9258690555548708, 0.05182631954338985))</td><td>1</td><td>1</td></tr><tr><td>Map(vectorType -> dense, length -> 5, values -> List(0.0, 0.7037037887363992, 0.26666663275825087, 0.6206896551724138, 0.803030303030303))</td><td>Map(vectorType -> dense, length -> 3, values -> List(0.05752849687724651, 0.8280309611013366, 0.11444054202141686))</td><td>1</td><td>1</td></tr><tr><td>Map(vectorType -> dense, length -> 5, values -> List(0.0, 0.7083333480505306, 0.33333341810437295, 0.8620689655172413, 1.0))</td><td>Map(vectorType -> dense, length -> 3, values -> List(0.02847903253288673, 0.9098496829586296, 0.061671284508483595))</td><td>1</td><td>1</td></tr><tr><td>Map(vectorType -> dense, length -> 5, values -> List(0.0, 0.7546296476173152, 0.41333320448135324, 1.0, 0.9090909090909091))</td><td>Map(vectorType -> dense, length -> 3, values -> List(0.025385997973230396, 0.8979316367876705, 0.07668236523909912))</td><td>1</td><td>1</td></tr><tr><td>Map(vectorType -> dense, length -> 5, values -> List(0.0, 0.7638889428519456, 0.21333335706922443, 0.8275862068965517, 0.8636363636363636))</td><td>Map(vectorType -> dense, length -> 3, values -> List(0.024249443058967778, 0.904991417699746, 0.07075913924128624))</td><td>1</td><td>1</td></tr><tr><td>Map(vectorType -> dense, length -> 5, values -> List(0.0, 0.7824075333212064, 0.21333335706922443, 0.896551724137931, 0.8636363636363636))</td><td>Map(vectorType -> dense, length -> 3, values -> List(0.019542672352954413, 0.9156357466504298, 0.06482158099661563))</td><td>1</td><td>1</td></tr><tr><td>Map(vectorType -> dense, length -> 5, values -> List(0.0, 0.7824075333212064, 0.26666663275825087, 0.8620689655172413, 0.9242424242424242))</td><td>Map(vectorType -> dense, length -> 3, values -> List(0.021690501576663163, 0.909875323727523, 0.06843417469581387))</td><td>1</td><td>1</td></tr><tr><td>Map(vectorType -> dense, length -> 5, values -> List(0.0, 0.7962963878699683, 0.17333333672417495, 0.8793103448275862, 0.8636363636363636))</td><td>Map(vectorType -> dense, length -> 3, values -> List(0.01762554362201781, 0.9205848318205083, 0.06178962455747397))</td><td>1</td><td>1</td></tr><tr><td>Map(vectorType -> dense, length -> 5, values -> List(0.0, 0.8009259471840998, 0.26666663275825087, 0.9310344827586207, 0.7575757575757576))</td><td>Map(vectorType -> dense, length -> 3, values -> List(0.023092729371460004, 0.8880499795988661, 0.0888572910296738))</td><td>1</td><td>1</td></tr><tr><td>Map(vectorType -> dense, length -> 5, values -> List(0.0, 0.8148148017328617, 0.37333331129286307, 0.9137931034482758, 0.7727272727272727))</td><td>Map(vectorType -> dense, length -> 3, values -> List(0.028621669199126773, 0.856659040023796, 0.11471929077707728))</td><td>1</td><td>1</td></tr><tr><td>Map(vectorType -> dense, length -> 5, values -> List(0.0, 0.8240740969674921, 0.06666665818956272, 0.7931034482758621, 0.7878787878787878))</td><td>Map(vectorType -> dense, length -> 3, values -> List(0.017194865490834415, 0.9153866003372233, 0.06741853417194216))</td><td>1</td><td>1</td></tr><tr><td>Map(vectorType -> dense, length -> 5, values -> List(0.0, 0.8333333922021225, 0.3466665462917905, 1.0, 0.8484848484848485))</td><td>Map(vectorType -> dense, length -> 3, values -> List(0.01852701848995507, 0.8987129046752271, 0.08276007683481766))</td><td>1</td><td>1</td></tr><tr><td>Map(vectorType -> dense, length -> 5, values -> List(0.0, 0.8611111012996463, 0.4399999694824258, 1.0, 0.8636363636363636))</td><td>Map(vectorType -> dense, length -> 3, values -> List(0.020546431835971456, 0.876366561599335, 0.10308700656469355))</td><td>1</td><td>1</td></tr><tr><td>Map(vectorType -> dense, length -> 5, values -> List(0.0, 1.0, 0.3066666531033004, 1.0, 0.9545454545454546))</td><td>Map(vectorType -> dense, length -> 3, values -> List(0.00813234859027569, 0.916942033859489, 0.07492561755023537))</td><td>1</td><td>1</td></tr><tr><td>Map(vectorType -> dense, length -> 5, values -> List(1.0, 0.12500004415159185, 0.47999986267091593, 0.25862068965517243, 0.18181818181818182))</td><td>Map(vectorType -> dense, length -> 3, values -> List(0.8174156507307658, 0.07190420061372478, 0.11068014865550936))</td><td>0</td><td>0</td></tr><tr><td>Map(vectorType -> dense, length -> 5, values -> List(1.0, 0.13425933938622223, 0.4399999694824258, 0.39655172413793105, 0.1893939393939394))</td><td>Map(vectorType -> dense, length -> 3, values -> List(0.7711522675474777, 0.11022407657371193, 0.11862365587881037))</td><td>0</td><td>0</td></tr><tr><td>Map(vectorType -> dense, length -> 5, values -> List(1.0, 0.14351845801448526, 0.6266665615505776, 0.20689655172413793, 0.23484848484848486))</td><td>Map(vectorType -> dense, length -> 3, values -> List(0.8331833086372012, 0.05144638424878226, 0.11537030711401647))</td><td>0</td><td>0</td></tr><tr><td>Map(vectorType -> dense, length -> 5, values -> List(1.0, 0.15740748916961453, 0.6533333265516502, 0.29310344827586204, 0.24242424242424243))</td><td>Map(vectorType -> dense, length -> 3, values -> List(0.8128032586900236, 0.06119333195271469, 0.1260034093572618))</td><td>0</td><td>0</td></tr><tr><td>Map(vectorType -> dense, length -> 5, values -> List(1.0, 0.16203704848374603, 0.42666658698188953, 0.22413793103448276, 0.09090909090909091))</td><td>Map(vectorType -> dense, length -> 3, values -> List(0.7986052064814407, 0.07061117584226097, 0.13078361767629823))</td><td>0</td><td>0</td></tr><tr><td>Map(vectorType -> dense, length -> 5, values -> List(1.0, 0.17592590303250794, 0.41333320448135324, 0.3448275862068966, 0.09090909090909091))</td><td>Map(vectorType -> dense, length -> 3, values -> List(0.7594081379295375, 0.0975619997040199, 0.1430298623664425))</td><td>0</td><td>0</td></tr><tr><td>Map(vectorType -> dense, length -> 5, values -> List(1.0, 0.19907405281590024, 0.5866666683620875, 0.3620689655172414, 0.3181818181818182))</td><td>Map(vectorType -> dense, length -> 3, values -> List(0.7514895285699927, 0.105316683237529, 0.14319378819247827))</td><td>0</td><td>0</td></tr><tr><td>Map(vectorType -> dense, length -> 5, values -> List(1.0, 0.21296290736466214, 0.5200000101725248, 0.25862068965517243, 0.2196969696969697))</td><td>Map(vectorType -> dense, length -> 3, values -> List(0.7621160546980772, 0.08603009961809802, 0.15185384568382462))</td><td>0</td><td>0</td></tr><tr><td>Map(vectorType -> dense, length -> 5, values -> List(1.0, 0.21296290736466214, 0.6533333265516502, 0.3103448275862069, 0.30303030303030304))</td><td>Map(vectorType -> dense, length -> 3, values -> List(0.7677555346020545, 0.080841449770769, 0.15140301562717653))</td><td>0</td><td>0</td></tr><tr><td>Map(vectorType -> dense, length -> 5, values -> List(1.0, 0.2638889428519456, 0.9866666174994638, 0.41379310344827586, 0.4393939393939394))</td><td>Map(vectorType -> dense, length -> 3, values -> List(0.7508284867770741, 0.0641894835047871, 0.18498202971813868))</td><td>0</td><td>0</td></tr><tr><td>Map(vectorType -> dense, length -> 5, values -> List(1.0, 0.2870370926353379, 0.5599999033610149, 0.3620689655172414, 0.4696969696969697))</td><td>Map(vectorType -> dense, length -> 3, values -> List(0.6518656322811409, 0.173267151799047, 0.1748672159198121))</td><td>0</td><td>0</td></tr><tr><td>Map(vectorType -> dense, length -> 5, values -> List(1.0, 0.3333333922021225, 0.4399999694824258, 0.3103448275862069, 0.3106060606060606))</td><td>Map(vectorType -> dense, length -> 3, values -> List(0.616196925779504, 0.17059698192052247, 0.21320609229997348))</td><td>0</td><td>0</td></tr><tr><td>Map(vectorType -> dense, length -> 5, values -> List(1.0, 0.337962951516254, 0.6933332197401404, 0.6206896551724138, 0.48484848484848486))</td><td>Map(vectorType -> dense, length -> 3, values -> List(0.5500886852413761, 0.23378430151847884, 0.21612701324014508))</td><td>0</td><td>0</td></tr><tr><td>Map(vectorType -> dense, length -> 5, values -> List(1.0, 0.3611111012996463, 0.8799998118082922, 0.3793103448275862, 0.25757575757575757))</td><td>Map(vectorType -> dense, length -> 3, values -> List(0.661901209288119, 0.0669932600671027, 0.2711055306447783))</td><td>0</td><td>0</td></tr><tr><td>Map(vectorType -> dense, length -> 5, values -> List(1.0, 0.40740740086643085, 1.0, 0.3275862068965517, 0.4393939393939394))</td><td>Map(vectorType -> dense, length -> 3, values -> List(0.6419578295502835, 0.06824951741237859, 0.28979265303733803))</td><td>0</td><td>0</td></tr><tr><td>Map(vectorType -> dense, length -> 5, values -> List(1.0, 0.44907414111908395, 0.6399999440511139, 0.3448275862068966, 0.42424242424242425))</td><td>Map(vectorType -> dense, length -> 3, values -> List(0.5300089258428019, 0.1692394996374321, 0.30075157451976603))</td><td>0</td><td>0</td></tr><tr><td>Map(vectorType -> dense, length -> 5, values -> List(1.0, 0.49074070476536963, 0.800000025431312, 0.41379310344827586, 0.5151515151515151))</td><td>Map(vectorType -> dense, length -> 3, values -> List(0.4949937011253697, 0.16625056976558408, 0.3387557291090462))</td><td>0</td><td>0</td></tr><tr><td>Map(vectorType -> dense, length -> 5, values -> List(1.0, 0.5648148900360453, 0.47999986267091593, 0.3620689655172414, 0.2727272727272727))</td><td>Map(vectorType -> dense, length -> 3, values -> List(0.38382109396850767, 0.2129727007584667, 0.4032062052730256))</td><td>2</td><td>2</td></tr><tr><td>Map(vectorType -> dense, length -> 5, values -> List(1.0, 0.5787037445848073, 0.6933332197401404, 0.39655172413793105, 0.4393939393939394))</td><td>Map(vectorType -> dense, length -> 3, values -> List(0.3928607870280034, 0.19313124206573862, 0.41400797090625807))</td><td>2</td><td>2</td></tr><tr><td>Map(vectorType -> dense, length -> 5, values -> List(1.0, 0.5972223350540681, 0.5466665208604786, 0.3275862068965517, 0.30303030303030304))</td><td>Map(vectorType -> dense, length -> 3, values -> List(0.3735902491394858, 0.1878550902373823, 0.43855466062313186))</td><td>2</td><td>2</td></tr><tr><td>Map(vectorType -> dense, length -> 5, values -> List(1.0, 0.5972223350540681, 0.6533333265516502, 0.3103448275862069, 0.22727272727272727))</td><td>Map(vectorType -> dense, length -> 3, values -> List(0.39884288171801735, 0.12573145114073125, 0.4754256671412515))</td><td>2</td><td>2</td></tr><tr><td>Map(vectorType -> dense, length -> 5, values -> List(1.0, 0.61111118960283, 0.5599999033610149, 0.39655172413793105, 0.18181818181818182))</td><td>Map(vectorType -> dense, length -> 3, values -> List(0.35069114953169855, 0.16751097902499296, 0.48179787144330866))</td><td>2</td><td>2</td></tr><tr><td>Map(vectorType -> dense, length -> 5, values -> List(1.0, 0.6203704848374604, 0.38666669379339935, 0.3448275862068966, 0.0))</td><td>Map(vectorType -> dense, length -> 3, values -> List(0.3332867540605551, 0.16232255656868244, 0.5043906893707626))</td><td>2</td><td>2</td></tr><tr><td>Map(vectorType -> dense, length -> 5, values -> List(1.0, 0.6250000441515918, 0.47999986267091593, 0.22413793103448276, 0.30303030303030304))</td><td>Map(vectorType -> dense, length -> 3, values -> List(0.36162875832420044, 0.1844540583010154, 0.45391718337478415))</td><td>2</td><td>2</td></tr><tr><td>Map(vectorType -> dense, length -> 5, values -> List(1.0, 0.6481481939349841, 0.41333320448135324, 0.46551724137931033, 0.36363636363636365))</td><td>Map(vectorType -> dense, length -> 3, values -> List(0.2557657309760083, 0.338144984944538, 0.40608928407945366))</td><td>2</td><td>2</td></tr><tr><td>Map(vectorType -> dense, length -> 5, values -> List(1.0, 0.7268519385197915, 0.6000000508626238, 0.39655172413793105, 0.5151515151515151))</td><td>Map(vectorType -> dense, length -> 3, values -> List(0.23818619866528756, 0.2788207389810607, 0.48299306235365164))</td><td>2</td><td>2</td></tr><tr><td>Map(vectorType -> dense, length -> 5, values -> List(1.0, 0.7314814978339229, 0.8266665361192658, 0.5344827586206896, 0.4090909090909091))</td><td>Map(vectorType -> dense, length -> 3, values -> List(0.24519621781404052, 0.18318885534586846, 0.5716149268400911))</td><td>2</td><td>2</td></tr><tr><td>Map(vectorType -> dense, length -> 5, values -> List(1.0, 0.7407407930685533, 0.7066666022406767, 0.48275862068965514, 0.3333333333333333))</td><td>Map(vectorType -> dense, length -> 3, values -> List(0.2349396295472319, 0.18985595175271835, 0.5752044187000497))</td><td>2</td><td>2</td></tr><tr><td>Map(vectorType -> dense, length -> 5, values -> List(1.0, 0.7453703523826849, 0.6000000508626238, 0.3620689655172414, 0.32575757575757575))</td><td>Map(vectorType -> dense, length -> 3, values -> List(0.24152242260383452, 0.1930700577940518, 0.5654075196021138))</td><td>2</td><td>2</td></tr><tr><td>Map(vectorType -> dense, length -> 5, values -> List(1.0, 0.7500000883031838, 0.6533333265516502, 0.39655172413793105, 0.2727272727272727))</td><td>Map(vectorType -> dense, length -> 3, values -> List(0.23896793662269, 0.16569548973610806, 0.595336573641202))</td><td>2</td><td>2</td></tr><tr><td>Map(vectorType -> dense, length -> 5, values -> List(1.0, 0.7546296476173152, 0.47999986267091593, 0.4482758620689655, 0.29545454545454547))</td><td>Map(vectorType -> dense, length -> 3, values -> List(0.20218548042750062, 0.2664024011649223, 0.531412118407577))</td><td>2</td><td>2</td></tr><tr><td>Map(vectorType -> dense, length -> 5, values -> List(1.0, 0.8009259471840998, 0.6399999440511139, 0.5, 0.5303030303030303))</td><td>Map(vectorType -> dense, length -> 3, values -> List(0.17287760657439494, 0.3059638280671918, 0.5211585653584133))</td><td>2</td><td>2</td></tr><tr><td>Map(vectorType -> dense, length -> 5, values -> List(1.0, 0.8101852424187302, 0.6799998372396041, 0.5344827586206896, 0.42424242424242425))</td><td>Map(vectorType -> dense, length -> 3, values -> List(0.1719891971868114, 0.25118764548057254, 0.5768231573326161))</td><td>2</td><td>2</td></tr><tr><td>Map(vectorType -> dense, length -> 5, values -> List(1.0, 0.8240740969674921, 0.6000000508626238, 0.43103448275862066, 0.3181818181818182))</td><td>Map(vectorType -> dense, length -> 3, values -> List(0.17475693453289418, 0.20993888894016294, 0.6153041765269429))</td><td>2</td><td>2</td></tr><tr><td>Map(vectorType -> dense, length -> 5, values -> List(2.0, 0.0, 0.7066666022406767, 0.3103448275862069, 0.2727272727272727))</td><td>Map(vectorType -> dense, length -> 3, values -> List(0.9135694835119089, 0.021479025938244946, 0.06495149054984618))</td><td>0</td><td>0</td></tr><tr><td>Map(vectorType -> dense, length -> 5, values -> List(2.0, 0.027777709097523803, 0.5866666683620875, 0.3620689655172414, 0.23484848484848486))</td><td>Map(vectorType -> dense, length -> 3, values -> List(0.8907619228704579, 0.03321798703872212, 0.07602009009082013))</td><td>0</td><td>0</td></tr><tr><td>Map(vectorType -> dense, length -> 5, values -> List(2.0, 0.050925858880916094, 0.4666667344834984, 0.29310344827586204, 0.15151515151515152))</td><td>Map(vectorType -> dense, length -> 3, values -> List(0.8812910826222466, 0.035143907060324, 0.08356501031742947))</td><td>0</td><td>0</td></tr><tr><td>Map(vectorType -> dense, length -> 5, values -> List(2.0, 0.050925858880916094, 0.9866666174994638, 0.4482758620689655, 0.5151515151515151))</td><td>Map(vectorType -> dense, length -> 3, values -> List(0.8958696183518203, 0.026157850685612938, 0.07797253096256673))</td><td>0</td><td>0</td></tr><tr><td>Map(vectorType -> dense, length -> 5, values -> List(2.0, 0.12500004415159185, 0.4666667344834984, 0.25862068965517243, 0.13636363636363635))</td><td>Map(vectorType -> dense, length -> 3, values -> List(0.849932534028786, 0.038462997719285325, 0.11160446825192866))</td><td>0</td><td>0</td></tr><tr><td>Map(vectorType -> dense, length -> 5, values -> List(2.0, 0.17592590303250794, 0.9066665768093648, 0.46551724137931033, 0.32575757575757575))</td><td>Map(vectorType -> dense, length -> 3, values -> List(0.8268006110509892, 0.03256817474727478, 0.14063121420173585))</td><td>0</td><td>0</td></tr><tr><td>Map(vectorType -> dense, length -> 5, values -> List(2.0, 0.19907405281590024, 0.47999986267091593, 0.13793103448275862, 0.30303030303030304))</td><td>Map(vectorType -> dense, length -> 3, values -> List(0.8222864519618116, 0.0465788167388188, 0.13113473129936976))</td><td>0</td><td>0</td></tr><tr><td>Map(vectorType -> dense, length -> 5, values -> List(2.0, 0.2314814978339229, 0.5599999033610149, 0.3103448275862069, 0.1893939393939394))</td><td>Map(vectorType -> dense, length -> 3, values -> List(0.7826227882654901, 0.04889593246744457, 0.16848127926706527))</td><td>0</td><td>0</td></tr><tr><td>Map(vectorType -> dense, length -> 5, values -> List(2.0, 0.2638889428519456, 0.7866666429307757, 0.39655172413793105, 0.5984848484848485))</td><td>Map(vectorType -> dense, length -> 3, values -> List(0.7571732927612115, 0.07695131113057851, 0.16587539610821003))</td><td>0</td><td>0</td></tr><tr><td>Map(vectorType -> dense, length -> 5, values -> List(2.0, 0.2685185021660771, 0.9199999593099011, 0.3103448275862069, 0.2878787878787879))</td><td>Map(vectorType -> dense, length -> 3, values -> List(0.785709068992722, 0.025709682335853586, 0.18858124867142445))</td><td>0</td><td>0</td></tr><tr><td>Map(vectorType -> dense, length -> 5, values -> List(2.0, 0.2870370926353379, 0.6266665615505776, 0.3103448275862069, 0.36363636363636365))</td><td>Map(vectorType -> dense, length -> 3, values -> List(0.7438695949627518, 0.06474854249352498, 0.19138186254372327))</td><td>0</td><td>0</td></tr><tr><td>Map(vectorType -> dense, length -> 5, values -> List(2.0, 0.3101852424187302, 0.4399999694824258, 0.06896551724137931, 0.22727272727272727))</td><td>Map(vectorType -> dense, length -> 3, values -> List(0.7521295047608411, 0.04967401522932553, 0.19819648000983336))</td><td>0</td><td>0</td></tr><tr><td>Map(vectorType -> dense, length -> 5, values -> List(2.0, 0.36574083722014517, 0.6399999440511139, 0.5172413793103449, 0.3560606060606061))</td><td>Map(vectorType -> dense, length -> 3, values -> List(0.6257856178478438, 0.11052346328487939, 0.26369091886727697))</td><td>0</td><td>0</td></tr><tr><td>Map(vectorType -> dense, length -> 5, values -> List(2.0, 0.4166666961010613, 0.9333333418104374, 0.43103448275862066, 0.5454545454545454))</td><td>Map(vectorType -> dense, length -> 3, values -> List(0.6371571783952722, 0.07076600254264204, 0.2920768190620857))</td><td>0</td><td>0</td></tr><tr><td>Map(vectorType -> dense, length -> 5, values -> List(2.0, 0.43055555064982315, 0.6399999440511139, 0.39655172413793105, 0.4696969696969697))</td><td>Map(vectorType -> dense, length -> 3, values -> List(0.5871955131837419, 0.11809015448541686, 0.29471433233084143))</td><td>0</td><td>0</td></tr></tbody></table></div>"
      ]
     },
     "metadata": {
      "application/vnd.databricks.v1+output": {
       "addedWidgets": {},
       "aggData": [],
       "aggError": "",
       "aggOverflow": false,
       "aggSchema": [],
       "aggSeriesLimitReached": false,
       "aggType": "",
       "arguments": {},
       "columnCustomDisplayInfos": {},
       "data": [
        [
         {
          "length": 5,
          "values": [
           0.0,
           0.046296299566784584,
           0.5866666683620875,
           0.25862068965517243,
           0.06060606060606061
          ],
          "vectorType": "dense"
         },
         {
          "length": 3,
          "values": [
           0.8478539592927298,
           0.06416419732657215,
           0.08798184338069795
          ],
          "vectorType": "dense"
         },
         0,
         0
        ],
        [
         {
          "length": 5,
          "values": [
           0.0,
           0.06944444935017688,
           0.5599999033610149,
           0.3103448275862069,
           0.22727272727272727
          ],
          "vectorType": "dense"
         },
         {
          "length": 3,
          "values": [
           0.8018148923723891,
           0.1089648160290908,
           0.08922029159851991
          ],
          "vectorType": "dense"
         },
         0,
         0
        ],
        [
         {
          "length": 5,
          "values": [
           0.0,
           0.06944444935017688,
           0.5599999033610149,
           0.3448275862068966,
           0.3106060606060606
          ],
          "vectorType": "dense"
         },
         {
          "length": 3,
          "values": [
           0.7796015636280811,
           0.13482947899085176,
           0.08556895738106729
          ],
          "vectorType": "dense"
         },
         0,
         0
        ],
        [
         {
          "length": 5,
          "values": [
           0.0,
           0.10185189436819955,
           0.42666658698188953,
           0.22413793103448276,
           0.13636363636363635
          ],
          "vectorType": "dense"
         },
         {
          "length": 3,
          "values": [
           0.7844645429981116,
           0.11501875141234484,
           0.10051670558954351
          ],
          "vectorType": "dense"
         },
         0,
         0
        ],
        [
         {
          "length": 5,
          "values": [
           0.0,
           0.11111118960282995,
           0.7333333672417492,
           0.29310344827586204,
           0.3333333333333333
          ],
          "vectorType": "dense"
         },
         {
          "length": 3,
          "values": [
           0.8055385750375187,
           0.09274196025747898,
           0.1017194647050024
          ],
          "vectorType": "dense"
         },
         0,
         0
        ],
        [
         {
          "length": 5,
          "values": [
           0.0,
           0.19444449350176873,
           0.3066666531033004,
           0.1896551724137931,
           0.11363636363636363
          ],
          "vectorType": "dense"
         },
         {
          "length": 3,
          "values": [
           0.697211859396872,
           0.16674076097653756,
           0.1360473796265903
          ],
          "vectorType": "dense"
         },
         0,
         0
        ],
        [
         {
          "length": 5,
          "values": [
           0.0,
           0.2037037887363991,
           0.6533333265516502,
           0.0,
           0.13636363636363635
          ],
          "vectorType": "dense"
         },
         {
          "length": 3,
          "values": [
           0.8060578730632155,
           0.05225687593888383,
           0.14168525099790055
          ],
          "vectorType": "dense"
         },
         0,
         0
        ],
        [
         {
          "length": 5,
          "values": [
           0.0,
           0.217592643285161,
           0.839999918619802,
           0.3103448275862069,
           0.36363636363636365
          ],
          "vectorType": "dense"
         },
         {
          "length": 3,
          "values": [
           0.7464929711378625,
           0.10090602604713945,
           0.15260100281499808
          ],
          "vectorType": "dense"
         },
         0,
         0
        ],
        [
         {
          "length": 5,
          "values": [
           0.0,
           0.24537035238268481,
           0.4666667344834984,
           0.13793103448275862,
           0.3333333333333333
          ],
          "vectorType": "dense"
         },
         {
          "length": 3,
          "values": [
           0.6839444060111657,
           0.16851251998417,
           0.1475430740046642
          ],
          "vectorType": "dense"
         },
         0,
         0
        ],
        [
         {
          "length": 5,
          "values": [
           0.0,
           0.282407356714839,
           0.9333333418104374,
           0.3275862068965517,
           0.36363636363636365
          ],
          "vectorType": "dense"
         },
         {
          "length": 3,
          "values": [
           0.7078686964890356,
           0.09608647468637202,
           0.1960448288245923
          ],
          "vectorType": "dense"
         },
         0,
         0
        ],
        [
         {
          "length": 5,
          "values": [
           0.0,
           0.2870370926353379,
           0.6933332197401404,
           0.20689655172413793,
           0.25757575757575757
          ],
          "vectorType": "dense"
         },
         {
          "length": 3,
          "values": [
           0.6960105877271935,
           0.11042333334655101,
           0.1935660789262554
          ],
          "vectorType": "dense"
         },
         0,
         0
        ],
        [
         {
          "length": 5,
          "values": [
           0.0,
           0.3287036562816236,
           0.6533333265516502,
           0.1896551724137931,
           0.25757575757575757
          ],
          "vectorType": "dense"
         },
         {
          "length": 3,
          "values": [
           0.6546964476116239,
           0.12664273938283932,
           0.21866081300553658
          ],
          "vectorType": "dense"
         },
         0,
         0
        ],
        [
         {
          "length": 5,
          "values": [
           0.0,
           0.3287036562816236,
           0.6799998372396041,
           0.3620689655172414,
           0.3333333333333333
          ],
          "vectorType": "dense"
         },
         {
          "length": 3,
          "values": [
           0.5966761577589313,
           0.18873572927443524,
           0.21458811296663355
          ],
          "vectorType": "dense"
         },
         0,
         0
        ],
        [
         {
          "length": 5,
          "values": [
           0.0,
           0.34259268743675286,
           0.0,
           0.7241379310344828,
           0.5909090909090909
          ],
          "vectorType": "dense"
         },
         {
          "length": 3,
          "values": [
           0.10772697378585112,
           0.8440670112448971,
           0.04820601496925184
          ],
          "vectorType": "dense"
         },
         1,
         1
        ],
        [
         {
          "length": 5,
          "values": [
           0.0,
           0.34722224675088437,
           0.839999918619802,
           0.5344827586206896,
           0.6136363636363636
          ],
          "vectorType": "dense"
         },
         {
          "length": 3,
          "values": [
           0.5124012537250459,
           0.29086409450628226,
           0.19673465176867191
          ],
          "vectorType": "dense"
         },
         0,
         0
        ],
        [
         {
          "length": 5,
          "values": [
           0.0,
           0.3749999558484082,
           0.5733332858615512,
           0.3448275862068966,
           0.3787878787878788
          ],
          "vectorType": "dense"
         },
         {
          "length": 3,
          "values": [
           0.5146252817587863,
           0.26181417828862985,
           0.22356053995258396
          ],
          "vectorType": "dense"
         },
         0,
         0
        ],
        [
         {
          "length": 5,
          "values": [
           0.0,
           0.37962969176890704,
           0.13333331637912543,
           0.6551724137931034,
           0.6060606060606061
          ],
          "vectorType": "dense"
         },
         {
          "length": 3,
          "values": [
           0.1449081498851646,
           0.7824506211257722,
           0.07264122898906314
          ],
          "vectorType": "dense"
         },
         1,
         1
        ],
        [
         {
          "length": 5,
          "values": [
           0.0,
           0.40277784155229934,
           0.7733332604302394,
           0.43103448275862066,
           0.4772727272727273
          ],
          "vectorType": "dense"
         },
         {
          "length": 3,
          "values": [
           0.5047791529102682,
           0.24579491797021422,
           0.24942592911951764
          ],
          "vectorType": "dense"
         },
         0,
         0
        ],
        [
         {
          "length": 5,
          "values": [
           0.0,
           0.45370370043321545,
           0.0400000203450495,
           0.6206896551724138,
           0.5681818181818182
          ],
          "vectorType": "dense"
         },
         {
          "length": 3,
          "values": [
           0.10847861294993279,
           0.815095006547105,
           0.07642638050296216
          ],
          "vectorType": "dense"
         },
         1,
         1
        ],
        [
         {
          "length": 5,
          "values": [
           0.0,
           0.5046297359204989,
           0.47999986267091593,
           0.8103448275862069,
           0.7727272727272727
          ],
          "vectorType": "dense"
         },
         {
          "length": 3,
          "values": [
           0.11975136086765935,
           0.7728203504739533,
           0.10742828865838741
          ],
          "vectorType": "dense"
         },
         1,
         1
        ],
        [
         {
          "length": 5,
          "values": [
           0.0,
           0.5092592952346304,
           0.080000040690099,
           0.7586206896551724,
           0.42424242424242425
          ],
          "vectorType": "dense"
         },
         {
          "length": 3,
          "values": [
           0.09370706723063678,
           0.807801981263351,
           0.09849095150601231
          ],
          "vectorType": "dense"
         },
         1,
         1
        ],
        [
         {
          "length": 5,
          "values": [
           0.0,
           0.555555594801415,
           0.026666637844513216,
           0.6551724137931034,
           0.45454545454545453
          ],
          "vectorType": "dense"
         },
         {
          "length": 3,
          "values": [
           0.08550255518436574,
           0.8112693660947203,
           0.10322807872091397
          ],
          "vectorType": "dense"
         },
         1,
         1
        ],
        [
         {
          "length": 5,
          "values": [
           0.0,
           0.5601851541155465,
           0.8799998118082922,
           0.3275862068965517,
           0.5757575757575758
          ],
          "vectorType": "dense"
         },
         {
          "length": 3,
          "values": [
           0.402822180994921,
           0.2301399852899852,
           0.3670378337150937
          ],
          "vectorType": "dense"
         },
         0,
         0
        ],
        [
         {
          "length": 5,
          "values": [
           0.0,
           0.5833333038989388,
           0.18666671922471123,
           0.7413793103448276,
           0.7272727272727273
          ],
          "vectorType": "dense"
         },
         {
          "length": 3,
          "values": [
           0.06134252135140362,
           0.8602185775928617,
           0.07843890105573469
          ],
          "vectorType": "dense"
         },
         1,
         1
        ],
        [
         {
          "length": 5,
          "values": [
           0.0,
           0.5879630398194376,
           0.053333402845585784,
           0.7758620689655172,
           0.5075757575757576
          ],
          "vectorType": "dense"
         },
         {
          "length": 3,
          "values": [
           0.05873232675278549,
           0.8546262761066497,
           0.08664139714056475
          ],
          "vectorType": "dense"
         },
         1,
         1
        ],
        [
         {
          "length": 5,
          "values": [
           0.0,
           0.5925925991335692,
           0.28000001525878715,
           0.7413793103448276,
           0.7121212121212122
          ],
          "vectorType": "dense"
         },
         {
          "length": 3,
          "values": [
           0.07515343340087734,
           0.8244449928674308,
           0.10040157373169172
          ],
          "vectorType": "dense"
         },
         1,
         1
        ],
        [
         {
          "length": 5,
          "values": [
           0.0,
           0.5972223350540681,
           0.2533333774142739,
           0.8448275862068966,
           0.696969696969697
          ],
          "vectorType": "dense"
         },
         {
          "length": 3,
          "values": [
           0.05746575604707823,
           0.858225906251046,
           0.08430833770187582
          ],
          "vectorType": "dense"
         },
         1,
         1
        ],
        [
         {
          "length": 5,
          "values": [
           0.0,
           0.6018518943681996,
           0.14666669887966172,
           0.7758620689655172,
           0.7575757575757576
          ],
          "vectorType": "dense"
         },
         {
          "length": 3,
          "values": [
           0.046595071751116796,
           0.887814762529286,
           0.0655901657195973
          ],
          "vectorType": "dense"
         },
         1,
         1
        ],
        [
         {
          "length": 5,
          "values": [
           0.0,
           0.61111118960283,
           0.21333335706922443,
           0.8103448275862069,
           0.7575757575757576
          ],
          "vectorType": "dense"
         },
         {
          "length": 3,
          "values": [
           0.04903478842824104,
           0.8776450441531616,
           0.07332016741859743
          ],
          "vectorType": "dense"
         },
         1,
         1
        ],
        [
         {
          "length": 5,
          "values": [
           0.0,
           0.6157407489169615,
           0.080000040690099,
           0.7413793103448276,
           0.6515151515151515
          ],
          "vectorType": "dense"
         },
         {
          "length": 3,
          "values": [
           0.04893655436209692,
           0.8756250383161474,
           0.07543840732175575
          ],
          "vectorType": "dense"
         },
         1,
         1
        ],
        [
         {
          "length": 5,
          "values": [
           0.0,
           0.6203704848374604,
           0.1200000610351485,
           0.8620689655172413,
           0.6590909090909091
          ],
          "vectorType": "dense"
         },
         {
          "length": 3,
          "values": [
           0.040131314124507884,
           0.8921037737184528,
           0.06776491215703924
          ],
          "vectorType": "dense"
         },
         1,
         1
        ],
        [
         {
          "length": 5,
          "values": [
           0.0,
           0.6342593393862223,
           0.0,
           0.7241379310344828,
           0.6742424242424242
          ],
          "vectorType": "dense"
         },
         {
          "length": 3,
          "values": [
           0.038250127447371295,
           0.898556243746512,
           0.06319362880611669
          ],
          "vectorType": "dense"
         },
         1,
         1
        ],
        [
         {
          "length": 5,
          "values": [
           0.0,
           0.6388888987003538,
           0.21333335706922443,
           0.8620689655172413,
           0.7727272727272727
          ],
          "vectorType": "dense"
         },
         {
          "length": 3,
          "values": [
           0.03908084765356553,
           0.8927816753030303,
           0.06813747704340416
          ],
          "vectorType": "dense"
         },
         1,
         1
        ],
        [
         {
          "length": 5,
          "values": [
           0.0,
           0.6435186346208527,
           0.1200000610351485,
           0.6896551724137931,
           0.6136363636363636
          ],
          "vectorType": "dense"
         },
         {
          "length": 3,
          "values": [
           0.05822937715233048,
           0.8416411073881818,
           0.10012951545948784
          ],
          "vectorType": "dense"
         },
         1,
         1
        ],
        [
         {
          "length": 5,
          "values": [
           0.0,
           0.6805556389530069,
           0.2533333774142739,
           0.8448275862068966,
           0.7272727272727273
          ],
          "vectorType": "dense"
         },
         {
          "length": 3,
          "values": [
           0.04199065239756756,
           0.8687818617928019,
           0.08922748580963043
          ],
          "vectorType": "dense"
         },
         1,
         1
        ],
        [
         {
          "length": 5,
          "values": [
           0.0,
           0.6990740528159003,
           0.3066666531033004,
           1.0,
           0.9393939393939394
          ],
          "vectorType": "dense"
         },
         {
          "length": 3,
          "values": [
           0.02230462490173949,
           0.9258690555548708,
           0.05182631954338985
          ],
          "vectorType": "dense"
         },
         1,
         1
        ],
        [
         {
          "length": 5,
          "values": [
           0.0,
           0.7037037887363992,
           0.26666663275825087,
           0.6206896551724138,
           0.803030303030303
          ],
          "vectorType": "dense"
         },
         {
          "length": 3,
          "values": [
           0.05752849687724651,
           0.8280309611013366,
           0.11444054202141686
          ],
          "vectorType": "dense"
         },
         1,
         1
        ],
        [
         {
          "length": 5,
          "values": [
           0.0,
           0.7083333480505306,
           0.33333341810437295,
           0.8620689655172413,
           1.0
          ],
          "vectorType": "dense"
         },
         {
          "length": 3,
          "values": [
           0.02847903253288673,
           0.9098496829586296,
           0.061671284508483595
          ],
          "vectorType": "dense"
         },
         1,
         1
        ],
        [
         {
          "length": 5,
          "values": [
           0.0,
           0.7546296476173152,
           0.41333320448135324,
           1.0,
           0.9090909090909091
          ],
          "vectorType": "dense"
         },
         {
          "length": 3,
          "values": [
           0.025385997973230396,
           0.8979316367876705,
           0.07668236523909912
          ],
          "vectorType": "dense"
         },
         1,
         1
        ],
        [
         {
          "length": 5,
          "values": [
           0.0,
           0.7638889428519456,
           0.21333335706922443,
           0.8275862068965517,
           0.8636363636363636
          ],
          "vectorType": "dense"
         },
         {
          "length": 3,
          "values": [
           0.024249443058967778,
           0.904991417699746,
           0.07075913924128624
          ],
          "vectorType": "dense"
         },
         1,
         1
        ],
        [
         {
          "length": 5,
          "values": [
           0.0,
           0.7824075333212064,
           0.21333335706922443,
           0.896551724137931,
           0.8636363636363636
          ],
          "vectorType": "dense"
         },
         {
          "length": 3,
          "values": [
           0.019542672352954413,
           0.9156357466504298,
           0.06482158099661563
          ],
          "vectorType": "dense"
         },
         1,
         1
        ],
        [
         {
          "length": 5,
          "values": [
           0.0,
           0.7824075333212064,
           0.26666663275825087,
           0.8620689655172413,
           0.9242424242424242
          ],
          "vectorType": "dense"
         },
         {
          "length": 3,
          "values": [
           0.021690501576663163,
           0.909875323727523,
           0.06843417469581387
          ],
          "vectorType": "dense"
         },
         1,
         1
        ],
        [
         {
          "length": 5,
          "values": [
           0.0,
           0.7962963878699683,
           0.17333333672417495,
           0.8793103448275862,
           0.8636363636363636
          ],
          "vectorType": "dense"
         },
         {
          "length": 3,
          "values": [
           0.01762554362201781,
           0.9205848318205083,
           0.06178962455747397
          ],
          "vectorType": "dense"
         },
         1,
         1
        ],
        [
         {
          "length": 5,
          "values": [
           0.0,
           0.8009259471840998,
           0.26666663275825087,
           0.9310344827586207,
           0.7575757575757576
          ],
          "vectorType": "dense"
         },
         {
          "length": 3,
          "values": [
           0.023092729371460004,
           0.8880499795988661,
           0.0888572910296738
          ],
          "vectorType": "dense"
         },
         1,
         1
        ],
        [
         {
          "length": 5,
          "values": [
           0.0,
           0.8148148017328617,
           0.37333331129286307,
           0.9137931034482758,
           0.7727272727272727
          ],
          "vectorType": "dense"
         },
         {
          "length": 3,
          "values": [
           0.028621669199126773,
           0.856659040023796,
           0.11471929077707728
          ],
          "vectorType": "dense"
         },
         1,
         1
        ],
        [
         {
          "length": 5,
          "values": [
           0.0,
           0.8240740969674921,
           0.06666665818956272,
           0.7931034482758621,
           0.7878787878787878
          ],
          "vectorType": "dense"
         },
         {
          "length": 3,
          "values": [
           0.017194865490834415,
           0.9153866003372233,
           0.06741853417194216
          ],
          "vectorType": "dense"
         },
         1,
         1
        ],
        [
         {
          "length": 5,
          "values": [
           0.0,
           0.8333333922021225,
           0.3466665462917905,
           1.0,
           0.8484848484848485
          ],
          "vectorType": "dense"
         },
         {
          "length": 3,
          "values": [
           0.01852701848995507,
           0.8987129046752271,
           0.08276007683481766
          ],
          "vectorType": "dense"
         },
         1,
         1
        ],
        [
         {
          "length": 5,
          "values": [
           0.0,
           0.8611111012996463,
           0.4399999694824258,
           1.0,
           0.8636363636363636
          ],
          "vectorType": "dense"
         },
         {
          "length": 3,
          "values": [
           0.020546431835971456,
           0.876366561599335,
           0.10308700656469355
          ],
          "vectorType": "dense"
         },
         1,
         1
        ],
        [
         {
          "length": 5,
          "values": [
           0.0,
           1.0,
           0.3066666531033004,
           1.0,
           0.9545454545454546
          ],
          "vectorType": "dense"
         },
         {
          "length": 3,
          "values": [
           0.00813234859027569,
           0.916942033859489,
           0.07492561755023537
          ],
          "vectorType": "dense"
         },
         1,
         1
        ],
        [
         {
          "length": 5,
          "values": [
           1.0,
           0.12500004415159185,
           0.47999986267091593,
           0.25862068965517243,
           0.18181818181818182
          ],
          "vectorType": "dense"
         },
         {
          "length": 3,
          "values": [
           0.8174156507307658,
           0.07190420061372478,
           0.11068014865550936
          ],
          "vectorType": "dense"
         },
         0,
         0
        ],
        [
         {
          "length": 5,
          "values": [
           1.0,
           0.13425933938622223,
           0.4399999694824258,
           0.39655172413793105,
           0.1893939393939394
          ],
          "vectorType": "dense"
         },
         {
          "length": 3,
          "values": [
           0.7711522675474777,
           0.11022407657371193,
           0.11862365587881037
          ],
          "vectorType": "dense"
         },
         0,
         0
        ],
        [
         {
          "length": 5,
          "values": [
           1.0,
           0.14351845801448526,
           0.6266665615505776,
           0.20689655172413793,
           0.23484848484848486
          ],
          "vectorType": "dense"
         },
         {
          "length": 3,
          "values": [
           0.8331833086372012,
           0.05144638424878226,
           0.11537030711401647
          ],
          "vectorType": "dense"
         },
         0,
         0
        ],
        [
         {
          "length": 5,
          "values": [
           1.0,
           0.15740748916961453,
           0.6533333265516502,
           0.29310344827586204,
           0.24242424242424243
          ],
          "vectorType": "dense"
         },
         {
          "length": 3,
          "values": [
           0.8128032586900236,
           0.06119333195271469,
           0.1260034093572618
          ],
          "vectorType": "dense"
         },
         0,
         0
        ],
        [
         {
          "length": 5,
          "values": [
           1.0,
           0.16203704848374603,
           0.42666658698188953,
           0.22413793103448276,
           0.09090909090909091
          ],
          "vectorType": "dense"
         },
         {
          "length": 3,
          "values": [
           0.7986052064814407,
           0.07061117584226097,
           0.13078361767629823
          ],
          "vectorType": "dense"
         },
         0,
         0
        ],
        [
         {
          "length": 5,
          "values": [
           1.0,
           0.17592590303250794,
           0.41333320448135324,
           0.3448275862068966,
           0.09090909090909091
          ],
          "vectorType": "dense"
         },
         {
          "length": 3,
          "values": [
           0.7594081379295375,
           0.0975619997040199,
           0.1430298623664425
          ],
          "vectorType": "dense"
         },
         0,
         0
        ],
        [
         {
          "length": 5,
          "values": [
           1.0,
           0.19907405281590024,
           0.5866666683620875,
           0.3620689655172414,
           0.3181818181818182
          ],
          "vectorType": "dense"
         },
         {
          "length": 3,
          "values": [
           0.7514895285699927,
           0.105316683237529,
           0.14319378819247827
          ],
          "vectorType": "dense"
         },
         0,
         0
        ],
        [
         {
          "length": 5,
          "values": [
           1.0,
           0.21296290736466214,
           0.5200000101725248,
           0.25862068965517243,
           0.2196969696969697
          ],
          "vectorType": "dense"
         },
         {
          "length": 3,
          "values": [
           0.7621160546980772,
           0.08603009961809802,
           0.15185384568382462
          ],
          "vectorType": "dense"
         },
         0,
         0
        ],
        [
         {
          "length": 5,
          "values": [
           1.0,
           0.21296290736466214,
           0.6533333265516502,
           0.3103448275862069,
           0.30303030303030304
          ],
          "vectorType": "dense"
         },
         {
          "length": 3,
          "values": [
           0.7677555346020545,
           0.080841449770769,
           0.15140301562717653
          ],
          "vectorType": "dense"
         },
         0,
         0
        ],
        [
         {
          "length": 5,
          "values": [
           1.0,
           0.2638889428519456,
           0.9866666174994638,
           0.41379310344827586,
           0.4393939393939394
          ],
          "vectorType": "dense"
         },
         {
          "length": 3,
          "values": [
           0.7508284867770741,
           0.0641894835047871,
           0.18498202971813868
          ],
          "vectorType": "dense"
         },
         0,
         0
        ],
        [
         {
          "length": 5,
          "values": [
           1.0,
           0.2870370926353379,
           0.5599999033610149,
           0.3620689655172414,
           0.4696969696969697
          ],
          "vectorType": "dense"
         },
         {
          "length": 3,
          "values": [
           0.6518656322811409,
           0.173267151799047,
           0.1748672159198121
          ],
          "vectorType": "dense"
         },
         0,
         0
        ],
        [
         {
          "length": 5,
          "values": [
           1.0,
           0.3333333922021225,
           0.4399999694824258,
           0.3103448275862069,
           0.3106060606060606
          ],
          "vectorType": "dense"
         },
         {
          "length": 3,
          "values": [
           0.616196925779504,
           0.17059698192052247,
           0.21320609229997348
          ],
          "vectorType": "dense"
         },
         0,
         0
        ],
        [
         {
          "length": 5,
          "values": [
           1.0,
           0.337962951516254,
           0.6933332197401404,
           0.6206896551724138,
           0.48484848484848486
          ],
          "vectorType": "dense"
         },
         {
          "length": 3,
          "values": [
           0.5500886852413761,
           0.23378430151847884,
           0.21612701324014508
          ],
          "vectorType": "dense"
         },
         0,
         0
        ],
        [
         {
          "length": 5,
          "values": [
           1.0,
           0.3611111012996463,
           0.8799998118082922,
           0.3793103448275862,
           0.25757575757575757
          ],
          "vectorType": "dense"
         },
         {
          "length": 3,
          "values": [
           0.661901209288119,
           0.0669932600671027,
           0.2711055306447783
          ],
          "vectorType": "dense"
         },
         0,
         0
        ],
        [
         {
          "length": 5,
          "values": [
           1.0,
           0.40740740086643085,
           1.0,
           0.3275862068965517,
           0.4393939393939394
          ],
          "vectorType": "dense"
         },
         {
          "length": 3,
          "values": [
           0.6419578295502835,
           0.06824951741237859,
           0.28979265303733803
          ],
          "vectorType": "dense"
         },
         0,
         0
        ],
        [
         {
          "length": 5,
          "values": [
           1.0,
           0.44907414111908395,
           0.6399999440511139,
           0.3448275862068966,
           0.42424242424242425
          ],
          "vectorType": "dense"
         },
         {
          "length": 3,
          "values": [
           0.5300089258428019,
           0.1692394996374321,
           0.30075157451976603
          ],
          "vectorType": "dense"
         },
         0,
         0
        ],
        [
         {
          "length": 5,
          "values": [
           1.0,
           0.49074070476536963,
           0.800000025431312,
           0.41379310344827586,
           0.5151515151515151
          ],
          "vectorType": "dense"
         },
         {
          "length": 3,
          "values": [
           0.4949937011253697,
           0.16625056976558408,
           0.3387557291090462
          ],
          "vectorType": "dense"
         },
         0,
         0
        ],
        [
         {
          "length": 5,
          "values": [
           1.0,
           0.5648148900360453,
           0.47999986267091593,
           0.3620689655172414,
           0.2727272727272727
          ],
          "vectorType": "dense"
         },
         {
          "length": 3,
          "values": [
           0.38382109396850767,
           0.2129727007584667,
           0.4032062052730256
          ],
          "vectorType": "dense"
         },
         2,
         2
        ],
        [
         {
          "length": 5,
          "values": [
           1.0,
           0.5787037445848073,
           0.6933332197401404,
           0.39655172413793105,
           0.4393939393939394
          ],
          "vectorType": "dense"
         },
         {
          "length": 3,
          "values": [
           0.3928607870280034,
           0.19313124206573862,
           0.41400797090625807
          ],
          "vectorType": "dense"
         },
         2,
         2
        ],
        [
         {
          "length": 5,
          "values": [
           1.0,
           0.5972223350540681,
           0.5466665208604786,
           0.3275862068965517,
           0.30303030303030304
          ],
          "vectorType": "dense"
         },
         {
          "length": 3,
          "values": [
           0.3735902491394858,
           0.1878550902373823,
           0.43855466062313186
          ],
          "vectorType": "dense"
         },
         2,
         2
        ],
        [
         {
          "length": 5,
          "values": [
           1.0,
           0.5972223350540681,
           0.6533333265516502,
           0.3103448275862069,
           0.22727272727272727
          ],
          "vectorType": "dense"
         },
         {
          "length": 3,
          "values": [
           0.39884288171801735,
           0.12573145114073125,
           0.4754256671412515
          ],
          "vectorType": "dense"
         },
         2,
         2
        ],
        [
         {
          "length": 5,
          "values": [
           1.0,
           0.61111118960283,
           0.5599999033610149,
           0.39655172413793105,
           0.18181818181818182
          ],
          "vectorType": "dense"
         },
         {
          "length": 3,
          "values": [
           0.35069114953169855,
           0.16751097902499296,
           0.48179787144330866
          ],
          "vectorType": "dense"
         },
         2,
         2
        ],
        [
         {
          "length": 5,
          "values": [
           1.0,
           0.6203704848374604,
           0.38666669379339935,
           0.3448275862068966,
           0.0
          ],
          "vectorType": "dense"
         },
         {
          "length": 3,
          "values": [
           0.3332867540605551,
           0.16232255656868244,
           0.5043906893707626
          ],
          "vectorType": "dense"
         },
         2,
         2
        ],
        [
         {
          "length": 5,
          "values": [
           1.0,
           0.6250000441515918,
           0.47999986267091593,
           0.22413793103448276,
           0.30303030303030304
          ],
          "vectorType": "dense"
         },
         {
          "length": 3,
          "values": [
           0.36162875832420044,
           0.1844540583010154,
           0.45391718337478415
          ],
          "vectorType": "dense"
         },
         2,
         2
        ],
        [
         {
          "length": 5,
          "values": [
           1.0,
           0.6481481939349841,
           0.41333320448135324,
           0.46551724137931033,
           0.36363636363636365
          ],
          "vectorType": "dense"
         },
         {
          "length": 3,
          "values": [
           0.2557657309760083,
           0.338144984944538,
           0.40608928407945366
          ],
          "vectorType": "dense"
         },
         2,
         2
        ],
        [
         {
          "length": 5,
          "values": [
           1.0,
           0.7268519385197915,
           0.6000000508626238,
           0.39655172413793105,
           0.5151515151515151
          ],
          "vectorType": "dense"
         },
         {
          "length": 3,
          "values": [
           0.23818619866528756,
           0.2788207389810607,
           0.48299306235365164
          ],
          "vectorType": "dense"
         },
         2,
         2
        ],
        [
         {
          "length": 5,
          "values": [
           1.0,
           0.7314814978339229,
           0.8266665361192658,
           0.5344827586206896,
           0.4090909090909091
          ],
          "vectorType": "dense"
         },
         {
          "length": 3,
          "values": [
           0.24519621781404052,
           0.18318885534586846,
           0.5716149268400911
          ],
          "vectorType": "dense"
         },
         2,
         2
        ],
        [
         {
          "length": 5,
          "values": [
           1.0,
           0.7407407930685533,
           0.7066666022406767,
           0.48275862068965514,
           0.3333333333333333
          ],
          "vectorType": "dense"
         },
         {
          "length": 3,
          "values": [
           0.2349396295472319,
           0.18985595175271835,
           0.5752044187000497
          ],
          "vectorType": "dense"
         },
         2,
         2
        ],
        [
         {
          "length": 5,
          "values": [
           1.0,
           0.7453703523826849,
           0.6000000508626238,
           0.3620689655172414,
           0.32575757575757575
          ],
          "vectorType": "dense"
         },
         {
          "length": 3,
          "values": [
           0.24152242260383452,
           0.1930700577940518,
           0.5654075196021138
          ],
          "vectorType": "dense"
         },
         2,
         2
        ],
        [
         {
          "length": 5,
          "values": [
           1.0,
           0.7500000883031838,
           0.6533333265516502,
           0.39655172413793105,
           0.2727272727272727
          ],
          "vectorType": "dense"
         },
         {
          "length": 3,
          "values": [
           0.23896793662269,
           0.16569548973610806,
           0.595336573641202
          ],
          "vectorType": "dense"
         },
         2,
         2
        ],
        [
         {
          "length": 5,
          "values": [
           1.0,
           0.7546296476173152,
           0.47999986267091593,
           0.4482758620689655,
           0.29545454545454547
          ],
          "vectorType": "dense"
         },
         {
          "length": 3,
          "values": [
           0.20218548042750062,
           0.2664024011649223,
           0.531412118407577
          ],
          "vectorType": "dense"
         },
         2,
         2
        ],
        [
         {
          "length": 5,
          "values": [
           1.0,
           0.8009259471840998,
           0.6399999440511139,
           0.5,
           0.5303030303030303
          ],
          "vectorType": "dense"
         },
         {
          "length": 3,
          "values": [
           0.17287760657439494,
           0.3059638280671918,
           0.5211585653584133
          ],
          "vectorType": "dense"
         },
         2,
         2
        ],
        [
         {
          "length": 5,
          "values": [
           1.0,
           0.8101852424187302,
           0.6799998372396041,
           0.5344827586206896,
           0.42424242424242425
          ],
          "vectorType": "dense"
         },
         {
          "length": 3,
          "values": [
           0.1719891971868114,
           0.25118764548057254,
           0.5768231573326161
          ],
          "vectorType": "dense"
         },
         2,
         2
        ],
        [
         {
          "length": 5,
          "values": [
           1.0,
           0.8240740969674921,
           0.6000000508626238,
           0.43103448275862066,
           0.3181818181818182
          ],
          "vectorType": "dense"
         },
         {
          "length": 3,
          "values": [
           0.17475693453289418,
           0.20993888894016294,
           0.6153041765269429
          ],
          "vectorType": "dense"
         },
         2,
         2
        ],
        [
         {
          "length": 5,
          "values": [
           2.0,
           0.0,
           0.7066666022406767,
           0.3103448275862069,
           0.2727272727272727
          ],
          "vectorType": "dense"
         },
         {
          "length": 3,
          "values": [
           0.9135694835119089,
           0.021479025938244946,
           0.06495149054984618
          ],
          "vectorType": "dense"
         },
         0,
         0
        ],
        [
         {
          "length": 5,
          "values": [
           2.0,
           0.027777709097523803,
           0.5866666683620875,
           0.3620689655172414,
           0.23484848484848486
          ],
          "vectorType": "dense"
         },
         {
          "length": 3,
          "values": [
           0.8907619228704579,
           0.03321798703872212,
           0.07602009009082013
          ],
          "vectorType": "dense"
         },
         0,
         0
        ],
        [
         {
          "length": 5,
          "values": [
           2.0,
           0.050925858880916094,
           0.4666667344834984,
           0.29310344827586204,
           0.15151515151515152
          ],
          "vectorType": "dense"
         },
         {
          "length": 3,
          "values": [
           0.8812910826222466,
           0.035143907060324,
           0.08356501031742947
          ],
          "vectorType": "dense"
         },
         0,
         0
        ],
        [
         {
          "length": 5,
          "values": [
           2.0,
           0.050925858880916094,
           0.9866666174994638,
           0.4482758620689655,
           0.5151515151515151
          ],
          "vectorType": "dense"
         },
         {
          "length": 3,
          "values": [
           0.8958696183518203,
           0.026157850685612938,
           0.07797253096256673
          ],
          "vectorType": "dense"
         },
         0,
         0
        ],
        [
         {
          "length": 5,
          "values": [
           2.0,
           0.12500004415159185,
           0.4666667344834984,
           0.25862068965517243,
           0.13636363636363635
          ],
          "vectorType": "dense"
         },
         {
          "length": 3,
          "values": [
           0.849932534028786,
           0.038462997719285325,
           0.11160446825192866
          ],
          "vectorType": "dense"
         },
         0,
         0
        ],
        [
         {
          "length": 5,
          "values": [
           2.0,
           0.17592590303250794,
           0.9066665768093648,
           0.46551724137931033,
           0.32575757575757575
          ],
          "vectorType": "dense"
         },
         {
          "length": 3,
          "values": [
           0.8268006110509892,
           0.03256817474727478,
           0.14063121420173585
          ],
          "vectorType": "dense"
         },
         0,
         0
        ],
        [
         {
          "length": 5,
          "values": [
           2.0,
           0.19907405281590024,
           0.47999986267091593,
           0.13793103448275862,
           0.30303030303030304
          ],
          "vectorType": "dense"
         },
         {
          "length": 3,
          "values": [
           0.8222864519618116,
           0.0465788167388188,
           0.13113473129936976
          ],
          "vectorType": "dense"
         },
         0,
         0
        ],
        [
         {
          "length": 5,
          "values": [
           2.0,
           0.2314814978339229,
           0.5599999033610149,
           0.3103448275862069,
           0.1893939393939394
          ],
          "vectorType": "dense"
         },
         {
          "length": 3,
          "values": [
           0.7826227882654901,
           0.04889593246744457,
           0.16848127926706527
          ],
          "vectorType": "dense"
         },
         0,
         0
        ],
        [
         {
          "length": 5,
          "values": [
           2.0,
           0.2638889428519456,
           0.7866666429307757,
           0.39655172413793105,
           0.5984848484848485
          ],
          "vectorType": "dense"
         },
         {
          "length": 3,
          "values": [
           0.7571732927612115,
           0.07695131113057851,
           0.16587539610821003
          ],
          "vectorType": "dense"
         },
         0,
         0
        ],
        [
         {
          "length": 5,
          "values": [
           2.0,
           0.2685185021660771,
           0.9199999593099011,
           0.3103448275862069,
           0.2878787878787879
          ],
          "vectorType": "dense"
         },
         {
          "length": 3,
          "values": [
           0.785709068992722,
           0.025709682335853586,
           0.18858124867142445
          ],
          "vectorType": "dense"
         },
         0,
         0
        ],
        [
         {
          "length": 5,
          "values": [
           2.0,
           0.2870370926353379,
           0.6266665615505776,
           0.3103448275862069,
           0.36363636363636365
          ],
          "vectorType": "dense"
         },
         {
          "length": 3,
          "values": [
           0.7438695949627518,
           0.06474854249352498,
           0.19138186254372327
          ],
          "vectorType": "dense"
         },
         0,
         0
        ],
        [
         {
          "length": 5,
          "values": [
           2.0,
           0.3101852424187302,
           0.4399999694824258,
           0.06896551724137931,
           0.22727272727272727
          ],
          "vectorType": "dense"
         },
         {
          "length": 3,
          "values": [
           0.7521295047608411,
           0.04967401522932553,
           0.19819648000983336
          ],
          "vectorType": "dense"
         },
         0,
         0
        ],
        [
         {
          "length": 5,
          "values": [
           2.0,
           0.36574083722014517,
           0.6399999440511139,
           0.5172413793103449,
           0.3560606060606061
          ],
          "vectorType": "dense"
         },
         {
          "length": 3,
          "values": [
           0.6257856178478438,
           0.11052346328487939,
           0.26369091886727697
          ],
          "vectorType": "dense"
         },
         0,
         0
        ],
        [
         {
          "length": 5,
          "values": [
           2.0,
           0.4166666961010613,
           0.9333333418104374,
           0.43103448275862066,
           0.5454545454545454
          ],
          "vectorType": "dense"
         },
         {
          "length": 3,
          "values": [
           0.6371571783952722,
           0.07076600254264204,
           0.2920768190620857
          ],
          "vectorType": "dense"
         },
         0,
         0
        ],
        [
         {
          "length": 5,
          "values": [
           2.0,
           0.43055555064982315,
           0.6399999440511139,
           0.39655172413793105,
           0.4696969696969697
          ],
          "vectorType": "dense"
         },
         {
          "length": 3,
          "values": [
           0.5871955131837419,
           0.11809015448541686,
           0.29471433233084143
          ],
          "vectorType": "dense"
         },
         0,
         0
        ]
       ],
       "datasetInfos": [],
       "dbfsResultPath": null,
       "isJsonSchema": true,
       "metadata": {},
       "overflow": false,
       "plotOptions": {
        "customPlotOptions": {},
        "displayType": "table",
        "pivotAggregation": null,
        "pivotColumns": null,
        "xColumns": null,
        "yColumns": null
       },
       "removedWidgets": [],
       "schema": [
        {
         "metadata": "{\"ml_attr\":{\"attrs\":{\"numeric\":[{\"idx\":1,\"name\":\"normalizedFeatures_0\"},{\"idx\":2,\"name\":\"normalizedFeatures_1\"},{\"idx\":3,\"name\":\"normalizedFeatures_2\"},{\"idx\":4,\"name\":\"normalizedFeatures_3\"}],\"nominal\":[{\"vals\":[\"Biscoe\",\"Dream\",\"Torgersen\"],\"idx\":0,\"name\":\"IslandIdx\"}]},\"num_attrs\":5}}",
         "name": "features",
         "type": "{\"type\":\"udt\",\"class\":\"org.apache.spark.ml.linalg.VectorUDT\",\"pyClass\":\"pyspark.ml.linalg.VectorUDT\",\"sqlType\":{\"type\":\"struct\",\"fields\":[{\"name\":\"type\",\"type\":\"byte\",\"nullable\":false,\"metadata\":{}},{\"name\":\"size\",\"type\":\"integer\",\"nullable\":true,\"metadata\":{}},{\"name\":\"indices\",\"type\":{\"type\":\"array\",\"elementType\":\"integer\",\"containsNull\":false},\"nullable\":true,\"metadata\":{}},{\"name\":\"values\",\"type\":{\"type\":\"array\",\"elementType\":\"double\",\"containsNull\":false},\"nullable\":true,\"metadata\":{}}]}}"
        },
        {
         "metadata": "{\"ml_attr\":{\"num_attrs\":3}}",
         "name": "probability",
         "type": "{\"type\":\"udt\",\"class\":\"org.apache.spark.ml.linalg.VectorUDT\",\"pyClass\":\"pyspark.ml.linalg.VectorUDT\",\"sqlType\":{\"type\":\"struct\",\"fields\":[{\"name\":\"type\",\"type\":\"byte\",\"nullable\":false,\"metadata\":{}},{\"name\":\"size\",\"type\":\"integer\",\"nullable\":true,\"metadata\":{}},{\"name\":\"indices\",\"type\":{\"type\":\"array\",\"elementType\":\"integer\",\"containsNull\":false},\"nullable\":true,\"metadata\":{}},{\"name\":\"values\",\"type\":{\"type\":\"array\",\"elementType\":\"double\",\"containsNull\":false},\"nullable\":true,\"metadata\":{}}]}}"
        },
        {
         "metadata": "{}",
         "name": "prediction",
         "type": "\"integer\""
        },
        {
         "metadata": "{}",
         "name": "trueLabel",
         "type": "\"integer\""
        }
       ],
       "type": "table"
      }
     },
     "output_type": "display_data"
    }
   ],
   "source": [
    "# Prepare the test data\n",
    "indexedTestData = indexer.fit(test).transform(test).drop(\"Island\")\n",
    "vectorizedTestData = numericColVector.transform(indexedTestData)\n",
    "scaledTestData = minMax.fit(vectorizedTestData).transform(vectorizedTestData)\n",
    "preppedTestData = featVect.transform(scaledTestData)[col(\"featuresVector\").alias(\"features\"), col(\"Species\").alias(\"label\")]\n",
    "\n",
    "# Get predictions\n",
    "prediction = model.transform(preppedTestData)\n",
    "predicted = prediction.select(\"features\", \"probability\", col(\"prediction\").astype(\"Int\"), col(\"label\").alias(\"trueLabel\"))\n",
    "display(predicted)"
   ]
  },
  {
   "cell_type": "code",
   "execution_count": 0,
   "metadata": {
    "application/vnd.databricks.v1+cell": {
     "cellMetadata": {
      "byteLimit": 2048000,
      "rowLimit": 10000
     },
     "inputWidgets": {},
     "nuid": "e57aefcf-e2a9-4c91-bd3f-a425c249e95a",
     "showTitle": false,
     "tableResultSettingsMap": {},
     "title": ""
    }
   },
   "outputs": [
    {
     "output_type": "stream",
     "name": "stdout",
     "output_type": "stream",
     "text": [
      "Accuracy: 1.0\n\nIndividual class metrics:\nClass 0\n\tPrecision: 1.0\n\tRecall: 1.0\n\tF1 Score: 1.0\nClass 1\n\tPrecision: 1.0\n\tRecall: 1.0\n\tF1 Score: 1.0\nClass 2\n\tPrecision: 1.0\n\tRecall: 1.0\n\tF1 Score: 1.0\nOverall Precision: 1.0\nOverall Recall: 1.0\nOverall F1 Score: 1.0\n"
     ]
    }
   ],
   "source": [
    "from pyspark.ml.evaluation import MulticlassClassificationEvaluator\n",
    "\n",
    "evaluator = MulticlassClassificationEvaluator(labelCol=\"label\", predictionCol=\"prediction\")\n",
    "\n",
    "# Simple accuracy\n",
    "accuracy = evaluator.evaluate(prediction, {evaluator.metricName:\"accuracy\"})\n",
    "print(\"Accuracy:\", accuracy)\n",
    "\n",
    "# Individual class metrics\n",
    "labels = [0,1,2]\n",
    "print(\"\\nIndividual class metrics:\")\n",
    "for label in sorted(labels):\n",
    "   print (\"Class %s\" % (label))\n",
    "\n",
    "   # Precision\n",
    "   precision = evaluator.evaluate(prediction, {evaluator.metricLabel:label,\n",
    "                                               evaluator.metricName:\"precisionByLabel\"})\n",
    "   print(\"\\tPrecision:\", precision)\n",
    "\n",
    "   # Recall\n",
    "   recall = evaluator.evaluate(prediction, {evaluator.metricLabel:label,\n",
    "                                            evaluator.metricName:\"recallByLabel\"})\n",
    "   print(\"\\tRecall:\", recall)\n",
    "\n",
    "   # F1 score\n",
    "   f1 = evaluator.evaluate(prediction, {evaluator.metricLabel:label,\n",
    "                                        evaluator.metricName:\"fMeasureByLabel\"})\n",
    "   print(\"\\tF1 Score:\", f1)\n",
    "\n",
    "# Weighted (overall) metrics\n",
    "overallPrecision = evaluator.evaluate(prediction, {evaluator.metricName:\"weightedPrecision\"})\n",
    "print(\"Overall Precision:\", overallPrecision)\n",
    "overallRecall = evaluator.evaluate(prediction, {evaluator.metricName:\"weightedRecall\"})\n",
    "print(\"Overall Recall:\", overallRecall)\n",
    "overallF1 = evaluator.evaluate(prediction, {evaluator.metricName:\"weightedFMeasure\"})\n",
    "print(\"Overall F1 Score:\", overallF1)"
   ]
  },
  {
   "cell_type": "code",
   "execution_count": 0,
   "metadata": {
    "application/vnd.databricks.v1+cell": {
     "cellMetadata": {
      "byteLimit": 2048000,
      "rowLimit": 10000
     },
     "inputWidgets": {},
     "nuid": "6c2a6c72-a834-404b-ab9e-0ab64ad83807",
     "showTitle": false,
     "tableResultSettingsMap": {},
     "title": ""
    }
   },
   "outputs": [
    {
     "output_type": "stream",
     "name": "stdout",
     "output_type": "stream",
     "text": [
      "\uD83C\uDFC3 View run wistful-bee-330 at: https://adb-417837659617408.8.azuredatabricks.net/ml/experiments/2521787647535717/runs/09d1f9f1cf744b1daf3bdd1456706c71\n\uD83E\uDDEA View experiment at: https://adb-417837659617408.8.azuredatabricks.net/ml/experiments/2521787647535717\nModel trained!\n"
     ]
    }
   ],
   "source": [
    "from pyspark.ml import Pipeline\n",
    "from pyspark.ml.feature import StringIndexer, VectorAssembler, MinMaxScaler\n",
    "from pyspark.ml.classification import LogisticRegression\n",
    "\n",
    "catFeature = \"Island\"\n",
    "numFeatures = [\"CulmenLength\", \"CulmenDepth\", \"FlipperLength\", \"BodyMass\"]\n",
    "\n",
    "# Define the feature engineering and model training algorithm steps\n",
    "catIndexer = StringIndexer(inputCol=catFeature, outputCol=catFeature + \"Idx\")\n",
    "numVector = VectorAssembler(inputCols=numFeatures, outputCol=\"numericFeatures\")\n",
    "numScaler = MinMaxScaler(inputCol = numVector.getOutputCol(), outputCol=\"normalizedFeatures\")\n",
    "featureVector = VectorAssembler(inputCols=[\"IslandIdx\", \"normalizedFeatures\"], outputCol=\"Features\")\n",
    "algo = LogisticRegression(labelCol=\"Species\", featuresCol=\"Features\", maxIter=10, regParam=0.3)\n",
    "\n",
    "# Chain the steps as stages in a pipeline\n",
    "pipeline = Pipeline(stages=[catIndexer, numVector, numScaler, featureVector, algo])\n",
    "\n",
    "# Use the pipeline to prepare data and fit the model algorithm\n",
    "model = pipeline.fit(train)\n",
    "print (\"Model trained!\")"
   ]
  },
  {
   "cell_type": "code",
   "execution_count": 0,
   "metadata": {
    "application/vnd.databricks.v1+cell": {
     "cellMetadata": {
      "byteLimit": 2048000,
      "rowLimit": 10000
     },
     "inputWidgets": {},
     "nuid": "4188d048-d58e-423f-a426-9ad9f5f6819d",
     "showTitle": false,
     "tableResultSettingsMap": {},
     "title": ""
    }
   },
   "outputs": [
    {
     "output_type": "display_data",
     "data": {
      "text/html": [
       "<style scoped>\n",
       "  .table-result-container {\n",
       "    max-height: 300px;\n",
       "    overflow: auto;\n",
       "  }\n",
       "  table, th, td {\n",
       "    border: 1px solid black;\n",
       "    border-collapse: collapse;\n",
       "  }\n",
       "  th, td {\n",
       "    padding: 5px;\n",
       "  }\n",
       "  th {\n",
       "    text-align: left;\n",
       "  }\n",
       "</style><div class='table-result-container'><table class='table-result'><thead style='background-color: white'><tr><th>Features</th><th>probability</th><th>prediction</th><th>trueLabel</th></tr></thead><tbody><tr><td>Map(vectorType -> dense, length -> 5, values -> List(0.0, 0.08727278275923295, 0.5952381222696814, 0.22807017543859648, 0.014492753623188406))</td><td>Map(vectorType -> dense, length -> 3, values -> List(0.8353229973173701, 0.0600249895959531, 0.1046520130866767))</td><td>0</td><td>0</td></tr><tr><td>Map(vectorType -> dense, length -> 5, values -> List(0.0, 0.10545460094105114, 0.5714285065527647, 0.2807017543859649, 0.17391304347826086))</td><td>Map(vectorType -> dense, length -> 3, values -> List(0.7959506811241166, 0.0991716438406674, 0.10487767503521597))</td><td>0</td><td>0</td></tr><tr><td>Map(vectorType -> dense, length -> 5, values -> List(0.0, 0.10545460094105114, 0.5714285065527647, 0.3157894736842105, 0.2536231884057971))</td><td>Map(vectorType -> dense, length -> 3, values -> List(0.7764366766165373, 0.12245543266334874, 0.10110789072011388))</td><td>0</td><td>0</td></tr><tr><td>Map(vectorType -> dense, length -> 5, values -> List(0.0, 0.13090917413884942, 0.4523808820988284, 0.19298245614035087, 0.08695652173913043))</td><td>Map(vectorType -> dense, length -> 3, values -> List(0.7852332772154579, 0.09976467061243076, 0.11500205217211136))</td><td>0</td><td>0</td></tr><tr><td>Map(vectorType -> dense, length -> 5, values -> List(0.0, 0.13818192915482955, 0.726190554582076, 0.2631578947368421, 0.2753623188405797))</td><td>Map(vectorType -> dense, length -> 3, values -> List(0.799608073139797, 0.08532275763295638, 0.11506916922724662))</td><td>0</td><td>0</td></tr><tr><td>Map(vectorType -> dense, length -> 5, values -> List(0.0, 0.20363644686612214, 0.34523806550335046, 0.15789473684210525, 0.06521739130434782))</td><td>Map(vectorType -> dense, length -> 3, values -> List(0.7188042535683178, 0.13509706725742882, 0.1460986791742534))</td><td>0</td><td>0</td></tr><tr><td>Map(vectorType -> dense, length -> 5, values -> List(0.0, 0.21090920188210227, 0.6547619344966495, -0.03508771929824561, 0.08695652173913043))</td><td>Map(vectorType -> dense, length -> 3, values -> List(0.8085413424551947, 0.044708329002136726, 0.14675032854266862))</td><td>0</td><td>0</td></tr><tr><td>Map(vectorType -> dense, length -> 5, values -> List(0.0, 0.22181826504794033, 0.8214285633190956, 0.2807017543859649, 0.30434782608695654))</td><td>Map(vectorType -> dense, length -> 3, values -> List(0.7520118960379021, 0.09004850467162272, 0.15793959929047519))</td><td>0</td><td>0</td></tr><tr><td>Map(vectorType -> dense, length -> 5, values -> List(0.0, 0.24363639137961646, 0.4880953056742035, 0.10526315789473684, 0.2753623188405797))</td><td>Map(vectorType -> dense, length -> 3, values -> List(0.7110791099931799, 0.13629683054563146, 0.15262405946118854))</td><td>0</td><td>0</td></tr><tr><td>Map(vectorType -> dense, length -> 5, values -> List(0.0, 0.2727272727272727, 0.9047619912629805, 0.2982456140350877, 0.30434782608695654))</td><td>Map(vectorType -> dense, length -> 3, values -> List(0.7218928983539531, 0.08528390205356091, 0.19282319959248612))</td><td>0</td><td>0</td></tr><tr><td>Map(vectorType -> dense, length -> 5, values -> List(0.0, 0.2763637195933949, 0.6904761310067009, 0.17543859649122806, 0.20289855072463767))</td><td>Map(vectorType -> dense, length -> 3, values -> List(0.7169498636508079, 0.09252002986089157, 0.19053010648830054))</td><td>0</td><td>0</td></tr><tr><td>Map(vectorType -> dense, length -> 5, values -> List(0.0, 0.3090909090909091, 0.6547619344966495, 0.15789473684210525, 0.20289855072463767))</td><td>Map(vectorType -> dense, length -> 3, values -> List(0.6862485243943804, 0.10364758930380616, 0.21010388630181331))</td><td>0</td><td>0</td></tr><tr><td>Map(vectorType -> dense, length -> 5, values -> List(0.0, 0.3090909090909091, 0.6785713231482425, 0.3333333333333333, 0.2753623188405797))</td><td>Map(vectorType -> dense, length -> 3, values -> List(0.6329337694182774, 0.1576846280046072, 0.20938160257711538))</td><td>0</td><td>0</td></tr><tr><td>Map(vectorType -> dense, length -> 5, values -> List(0.0, 0.32000011097301134, 0.07142850655276464, 0.7017543859649122, 0.5217391304347826))</td><td>Map(vectorType -> dense, length -> 3, values -> List(0.15575372786513095, 0.7807141343030609, 0.06353213783180828))</td><td>1</td><td>1</td></tr><tr><td>Map(vectorType -> dense, length -> 5, values -> List(0.0, 0.3236364191228693, 0.8214285633190956, 0.5087719298245614, 0.5434782608695652))</td><td>Map(vectorType -> dense, length -> 3, values -> List(0.5542441941588746, 0.2520171329237526, 0.19373867291737273))</td><td>0</td><td>0</td></tr><tr><td>Map(vectorType -> dense, length -> 5, values -> List(0.0, 0.34545454545454546, 0.583333314411223, 0.3157894736842105, 0.3188405797101449))</td><td>Map(vectorType -> dense, length -> 3, values -> List(0.5692853322602572, 0.21338757511689782, 0.21732709262284486))</td><td>0</td><td>0</td></tr><tr><td>Map(vectorType -> dense, length -> 5, values -> List(0.0, 0.3490909923206676, 0.19047613100670094, 0.631578947368421, 0.536231884057971))</td><td>Map(vectorType -> dense, length -> 3, values -> List(0.20314282049614918, 0.7073336866104113, 0.0895234928934396))</td><td>1</td><td>1</td></tr><tr><td>Map(vectorType -> dense, length -> 5, values -> List(0.0, 0.3672728105024858, 0.7619047510921274, 0.40350877192982454, 0.41304347826086957))</td><td>Map(vectorType -> dense, length -> 3, values -> List(0.5571106491506718, 0.20658623127046968, 0.23630311957885852))</td><td>0</td><td>0</td></tr><tr><td>Map(vectorType -> dense, length -> 5, values -> List(0.0, 0.4072727550159801, 0.1071428165954779, 0.5964912280701754, 0.5))</td><td>Map(vectorType -> dense, length -> 3, values -> List(0.16487571271681328, 0.7403582372738099, 0.0947660500093768))</td><td>1</td><td>1</td></tr><tr><td>Map(vectorType -> dense, length -> 5, values -> List(0.0, 0.4472728382457386, 0.4999998864673381, 0.7894736842105263, 0.6956521739130435))</td><td>Map(vectorType -> dense, length -> 3, values -> List(0.16998257379953105, 0.710705207657653, 0.11931221854281601))</td><td>1</td><td>1</td></tr><tr><td>Map(vectorType -> dense, length -> 5, values -> List(0.0, 0.4509091463955966, 0.14285712663819117, 0.7368421052631579, 0.36231884057971014))</td><td>Map(vectorType -> dense, length -> 3, values -> List(0.1446249300301278, 0.738082970424662, 0.11729209954521017))</td><td>1</td><td>1</td></tr><tr><td>Map(vectorType -> dense, length -> 5, values -> List(0.0, 0.4872727827592329, 0.09523800873701953, 0.631578947368421, 0.391304347826087))</td><td>Map(vectorType -> dense, length -> 3, values -> List(0.13868119528535025, 0.7380048914505555, 0.12331391326409416))</td><td>1</td><td>1</td></tr><tr><td>Map(vectorType -> dense, length -> 5, values -> List(0.0, 0.4909090909090909, 0.857142759829147, 0.2982456140350877, 0.5072463768115942))</td><td>Map(vectorType -> dense, length -> 3, values -> List(0.48363810836739224, 0.19207863658025612, 0.32428325505235167))</td><td>0</td><td>0</td></tr><tr><td>Map(vectorType -> dense, length -> 5, values -> List(0.0, 0.509090909090909, 0.23809524890787256, 0.7192982456140351, 0.6521739130434783))</td><td>Map(vectorType -> dense, length -> 3, values -> List(0.10156088724293807, 0.8047334301664807, 0.09370568259058122))</td><td>1</td><td>1</td></tr><tr><td>Map(vectorType -> dense, length -> 5, values -> List(0.0, 0.5127273559570312, 0.11904762445393628, 0.7543859649122806, 0.44202898550724634))</td><td>Map(vectorType -> dense, length -> 3, values -> List(0.09898972113059377, 0.796588292271317, 0.10442198659808917))</td><td>1</td><td>1</td></tr><tr><td>Map(vectorType -> dense, length -> 5, values -> List(0.0, 0.5163636641068892, 0.3214285633190956, 0.7192982456140351, 0.6376811594202898))</td><td>Map(vectorType -> dense, length -> 3, values -> List(0.12066589018785481, 0.7640423295224487, 0.11529178028969662))</td><td>1</td><td>1</td></tr><tr><td>Map(vectorType -> dense, length -> 5, values -> List(0.0, 0.5200001109730114, 0.2976190611348407, 0.8245614035087718, 0.6231884057971014))</td><td>Map(vectorType -> dense, length -> 3, values -> List(0.09414921048155998, 0.8074456181266662, 0.09840517139177403))</td><td>1</td><td>1</td></tr><tr><td>Map(vectorType -> dense, length -> 5, values -> List(0.0, 0.5236364191228693, 0.20238093886515932, 0.7543859649122806, 0.6811594202898551))</td><td>Map(vectorType -> dense, length -> 3, values -> List(0.08002152289037834, 0.8401161906563241, 0.07986228645329763))</td><td>1</td><td>1</td></tr><tr><td>Map(vectorType -> dense, length -> 5, values -> List(0.0, 0.5309091741388494, 0.26190475109212746, 0.7894736842105263, 0.6811594202898551))</td><td>Map(vectorType -> dense, length -> 3, values -> List(0.0829747799837296, 0.8297944569975804, 0.08723076301869016))</td><td>1</td><td>1</td></tr><tr><td>Map(vectorType -> dense, length -> 5, values -> List(0.0, 0.5345454822887074, 0.14285712663819117, 0.7192982456140351, 0.5797101449275363))</td><td>Map(vectorType -> dense, length -> 3, values -> List(0.08527576545209828, 0.8230414162912043, 0.09168281825669738))</td><td>1</td><td>1</td></tr><tr><td>Map(vectorType -> dense, length -> 5, values -> List(0.0, 0.5381819291548295, 0.17857143668090442, 0.8421052631578947, 0.5869565217391304))</td><td>Map(vectorType -> dense, length -> 3, values -> List(0.06984357304715512, 0.8481393844839051, 0.08201704246893961))</td><td>1</td><td>1</td></tr><tr><td>Map(vectorType -> dense, length -> 5, values -> List(0.0, 0.5490909923206676, 0.07142850655276464, 0.7017543859649122, 0.6014492753623188))</td><td>Map(vectorType -> dense, length -> 3, values -> List(0.06978860263146196, 0.8512735279259301, 0.0789378694426078))</td><td>1</td><td>1</td></tr><tr><td>Map(vectorType -> dense, length -> 5, values -> List(0.0, 0.5527273004705255, 0.26190475109212746, 0.8421052631578947, 0.6956521739130435))</td><td>Map(vectorType -> dense, length -> 3, values -> List(0.06790309446763829, 0.8510419726020658, 0.08105493293029585))</td><td>1</td><td>1</td></tr><tr><td>Map(vectorType -> dense, length -> 5, values -> List(0.0, 0.5563637473366477, 0.17857143668090442, 0.6666666666666666, 0.5434782608695652))</td><td>Map(vectorType -> dense, length -> 3, values -> List(0.10093062792140017, 0.7814175245520714, 0.11765184752652856))</td><td>1</td><td>1</td></tr><tr><td>Map(vectorType -> dense, length -> 5, values -> List(0.0, 0.585454628684304, 0.2976190611348407, 0.8245614035087718, 0.6521739130434783))</td><td>Map(vectorType -> dense, length -> 3, values -> List(0.07362283406554564, 0.8236628870799647, 0.10271427885448962))</td><td>1</td><td>1</td></tr><tr><td>Map(vectorType -> dense, length -> 5, values -> List(0.0, 0.6, 0.34523806550335046, 0.9824561403508771, 0.855072463768116))</td><td>Map(vectorType -> dense, length -> 3, values -> List(0.040382862283226836, 0.8987678968377126, 0.06084924087906049))</td><td>1</td><td>1</td></tr><tr><td>Map(vectorType -> dense, length -> 5, values -> List(0.0, 0.6036364468661222, 0.3095237554606372, 0.5964912280701754, 0.7246376811594203))</td><td>Map(vectorType -> dense, length -> 3, values -> List(0.10159298428137158, 0.7688420370402289, 0.1295649786783995))</td><td>1</td><td>1</td></tr><tr><td>Map(vectorType -> dense, length -> 5, values -> List(0.0, 0.6072727550159801, 0.3690476812202672, 0.8421052631578947, 0.9130434782608695))</td><td>Map(vectorType -> dense, length -> 3, values -> List(0.0516661840517176, 0.8764557984011419, 0.07187801754714065))</td><td>1</td><td>1</td></tr><tr><td>Map(vectorType -> dense, length -> 5, values -> List(0.0, 0.6436363913796165, 0.44047607424037, 0.9824561403508771, 0.8260869565217391))</td><td>Map(vectorType -> dense, length -> 3, values -> List(0.04606034400725402, 0.8685197990699038, 0.0854198569228422))</td><td>1</td><td>1</td></tr><tr><td>Map(vectorType -> dense, length -> 5, values -> List(0.0, 0.6509091463955966, 0.26190475109212746, 0.8070175438596491, 0.782608695652174))</td><td>Map(vectorType -> dense, length -> 3, values -> List(0.046773651030463784, 0.8705184363396558, 0.08270791262988053))</td><td>1</td><td>1</td></tr><tr><td>Map(vectorType -> dense, length -> 5, values -> List(0.0, 0.6654546564275567, 0.26190475109212746, 0.8771929824561403, 0.782608695652174))</td><td>Map(vectorType -> dense, length -> 3, values -> List(0.03829810653622787, 0.8860586589101573, 0.07564323455361492))</td><td>1</td><td>1</td></tr><tr><td>Map(vectorType -> dense, length -> 5, values -> List(0.0, 0.6654546564275567, 0.3095237554606372, 0.8421052631578947, 0.8405797101449275))</td><td>Map(vectorType -> dense, length -> 3, values -> List(0.04206136676439492, 0.8788341509137494, 0.07910448232185582))</td><td>1</td><td>1</td></tr><tr><td>Map(vectorType -> dense, length -> 5, values -> List(0.0, 0.6763637195933948, 0.2261904410494142, 0.8596491228070176, 0.782608695652174))</td><td>Map(vectorType -> dense, length -> 3, values -> List(0.03534063024908083, 0.8919202996417374, 0.07273907010918189))</td><td>1</td><td>1</td></tr><tr><td>Map(vectorType -> dense, length -> 5, values -> List(0.0, 0.6800000277432529, 0.3095237554606372, 0.9122807017543859, 0.6811594202898551))</td><td>Map(vectorType -> dense, length -> 3, values -> List(0.04449496786657677, 0.855526567187669, 0.09997846494575423))</td><td>1</td><td>1</td></tr><tr><td>Map(vectorType -> dense, length -> 5, values -> List(0.0, 0.6909090909090909, 0.40476187773031863, 0.894736842105263, 0.6956521739130435))</td><td>Map(vectorType -> dense, length -> 3, values -> List(0.0538888617570167, 0.8216077522277216, 0.12450338601526163))</td><td>1</td><td>1</td></tr><tr><td>Map(vectorType -> dense, length -> 5, values -> List(0.0, 0.698181845925071, 0.1309523187797328, 0.7719298245614035, 0.7101449275362318))</td><td>Map(vectorType -> dense, length -> 3, values -> List(0.035999583176852826, 0.8836095780709414, 0.08039083875220573))</td><td>1</td><td>1</td></tr><tr><td>Map(vectorType -> dense, length -> 5, values -> List(0.0, 0.7054546009410511, 0.3809522620134019, 0.9824561403508771, 0.7681159420289855))</td><td>Map(vectorType -> dense, length -> 3, values -> List(0.03612206438348623, 0.8723533808708513, 0.09152455474566241))</td><td>1</td><td>1</td></tr><tr><td>Map(vectorType -> dense, length -> 5, values -> List(0.0, 0.7272727272727273, 0.46428568995728675, 0.9824561403508771, 0.782608695652174))</td><td>Map(vectorType -> dense, length -> 3, values -> List(0.039787266243339996, 0.8499521854390164, 0.11026054831764363))</td><td>1</td><td>1</td></tr><tr><td>Map(vectorType -> dense, length -> 5, values -> List(0.0, 0.8363636363636363, 0.34523806550335046, 0.9824561403508771, 0.8695652173913043))</td><td>Map(vectorType -> dense, length -> 3, values -> List(0.018359253151202185, 0.9001059556381391, 0.0815347912106588))</td><td>1</td><td>1</td></tr><tr><td>Map(vectorType -> dense, length -> 5, values -> List(1.0, 0.1490909923206676, 0.4999998864673381, 0.22807017543859648, 0.13043478260869565))</td><td>Map(vectorType -> dense, length -> 3, values -> List(0.814674688245157, 0.061901876992910915, 0.12342343476193202))</td><td>0</td><td>0</td></tr><tr><td>Map(vectorType -> dense, length -> 5, values -> List(1.0, 0.1563637473366477, 0.46428568995728675, 0.3684210526315789, 0.13768115942028986))</td><td>Map(vectorType -> dense, length -> 3, values -> List(0.773560175428636, 0.09432356060437823, 0.13211626396698575))</td><td>0</td><td>0</td></tr><tr><td>Map(vectorType -> dense, length -> 5, values -> List(1.0, 0.16363636363636364, 0.6309523187797328, 0.17543859649122806, 0.18115942028985507))</td><td>Map(vectorType -> dense, length -> 3, values -> List(0.8286006298380115, 0.04518582130519186, 0.12621354885679661))</td><td>0</td><td>0</td></tr><tr><td>Map(vectorType -> dense, length -> 5, values -> List(1.0, 0.1745455655184659, 0.6547619344966495, 0.2631578947368421, 0.18840579710144928))</td><td>Map(vectorType -> dense, length -> 3, values -> List(0.8097320740593007, 0.05389363813417046, 0.13637428780652888))</td><td>0</td><td>0</td></tr><tr><td>Map(vectorType -> dense, length -> 5, values -> List(1.0, 0.17818187366832386, 0.4523808820988284, 0.19298245614035087, 0.043478260869565216))</td><td>Map(vectorType -> dense, length -> 3, values -> List(0.7999946911581399, 0.05901217435666275, 0.14099313448519735))</td><td>0</td><td>0</td></tr><tr><td>Map(vectorType -> dense, length -> 5, values -> List(1.0, 0.18909093683416192, 0.44047607424037, 0.3157894736842105, 0.043478260869565216))</td><td>Map(vectorType -> dense, length -> 3, values -> List(0.7654123854431534, 0.08136467296796374, 0.1532229415888829))</td><td>0</td><td>0</td></tr><tr><td>Map(vectorType -> dense, length -> 5, values -> List(1.0, 0.2072727550159801, 0.5952381222696814, 0.3333333333333333, 0.2608695652173913))</td><td>Map(vectorType -> dense, length -> 3, values -> List(0.7594418804395756, 0.08941276270660004, 0.15114535685382446))</td><td>0</td><td>0</td></tr><tr><td>Map(vectorType -> dense, length -> 5, values -> List(1.0, 0.21818181818181817, 0.5357143100427133, 0.22807017543859648, 0.16666666666666666))</td><td>Map(vectorType -> dense, length -> 3, values -> List(0.7709471665586436, 0.07131777467759817, 0.15773505876375832))</td><td>0</td><td>0</td></tr><tr><td>Map(vectorType -> dense, length -> 5, values -> List(1.0, 0.21818181818181817, 0.6547619344966495, 0.2807017543859649, 0.24637681159420288))</td><td>Map(vectorType -> dense, length -> 3, values -> List(0.7738283170391151, 0.06902346541802083, 0.15714821754286412))</td><td>0</td><td>0</td></tr><tr><td>Map(vectorType -> dense, length -> 5, values -> List(1.0, 0.2581819014115767, 0.9523809956314903, 0.38596491228070173, 0.37681159420289856))</td><td>Map(vectorType -> dense, length -> 3, values -> List(0.7581744744658747, 0.05786349474659373, 0.18396203078753165))</td><td>0</td><td>0</td></tr><tr><td>Map(vectorType -> dense, length -> 5, values -> List(1.0, 0.2763637195933949, 0.5714285065527647, 0.3333333333333333, 0.40579710144927533))</td><td>Map(vectorType -> dense, length -> 3, values -> List(0.6832816276309963, 0.1407255116169563, 0.17599286075204745))</td><td>0</td><td>0</td></tr><tr><td>Map(vectorType -> dense, length -> 5, values -> List(1.0, 0.3127273559570312, 0.46428568995728675, 0.2807017543859649, 0.2536231884057971))</td><td>Map(vectorType -> dense, length -> 3, values -> List(0.6583042864507168, 0.13363529003926775, 0.2080604235100153))</td><td>0</td><td>0</td></tr><tr><td>Map(vectorType -> dense, length -> 5, values -> List(1.0, 0.3163636641068892, 0.6904761310067009, 0.5964912280701754, 0.42028985507246375))</td><td>Map(vectorType -> dense, length -> 3, values -> List(0.5904766576173922, 0.19685877765959908, 0.21266456472300876))</td><td>0</td><td>0</td></tr><tr><td>Map(vectorType -> dense, length -> 5, values -> List(1.0, 0.3345454822887074, 0.857142759829147, 0.3508771929824561, 0.20289855072463767))</td><td>Map(vectorType -> dense, length -> 3, values -> List(0.6906253798151016, 0.05736995885455202, 0.25200466133034627))</td><td>0</td><td>0</td></tr><tr><td>Map(vectorType -> dense, length -> 5, values -> List(1.0, 0.3709091186523437, 0.9642858034899486, 0.2982456140350877, 0.37681159420289856))</td><td>Map(vectorType -> dense, length -> 3, values -> List(0.6795830758926523, 0.058405872598575145, 0.2620110515087725))</td><td>0</td><td>0</td></tr><tr><td>Map(vectorType -> dense, length -> 5, values -> List(1.0, 0.40363644686612216, 0.6428571266381912, 0.3157894736842105, 0.36231884057971014))</td><td>Map(vectorType -> dense, length -> 3, values -> List(0.5913635195298198, 0.13419350631582255, 0.27444297415435776))</td><td>0</td><td>0</td></tr><tr><td>Map(vectorType -> dense, length -> 5, values -> List(1.0, 0.43636363636363634, 0.7857143668090442, 0.38596491228070173, 0.4492753623188406))</td><td>Map(vectorType -> dense, length -> 3, values -> List(0.5616277158354451, 0.13566748091404718, 0.3027048032505075))</td><td>0</td><td>0</td></tr><tr><td>Map(vectorType -> dense, length -> 5, values -> List(1.0, 0.49454553777521304, 0.4999998864673381, 0.3333333333333333, 0.21739130434782608))</td><td>Map(vectorType -> dense, length -> 3, values -> List(0.4725514462182716, 0.16655012999603902, 0.3608984237856895))</td><td>0</td><td>2</td></tr><tr><td>Map(vectorType -> dense, length -> 5, values -> List(1.0, 0.5054546009410511, 0.6904761310067009, 0.3684210526315789, 0.37681159420289856))</td><td>Map(vectorType -> dense, length -> 3, values -> List(0.47988451895587836, 0.1557508654487683, 0.3643646155953534))</td><td>0</td><td>2</td></tr><tr><td>Map(vectorType -> dense, length -> 5, values -> List(1.0, 0.5200001109730114, 0.5595236986943063, 0.2982456140350877, 0.24637681159420288))</td><td>Map(vectorType -> dense, length -> 3, values -> List(0.4664060547070469, 0.14785544181604834, 0.3857385034769048))</td><td>0</td><td>2</td></tr><tr><td>Map(vectorType -> dense, length -> 5, values -> List(1.0, 0.5200001109730114, 0.6547619344966495, 0.2807017543859649, 0.17391304347826086))</td><td>Map(vectorType -> dense, length -> 3, values -> List(0.4890018419692609, 0.10071701572307491, 0.41028114230766427))</td><td>0</td><td>2</td></tr><tr><td>Map(vectorType -> dense, length -> 5, values -> List(1.0, 0.5309091741388494, 0.5714285065527647, 0.3684210526315789, 0.13043478260869565))</td><td>Map(vectorType -> dense, length -> 3, values -> List(0.4431270713112662, 0.13438619380265782, 0.422486734886076))</td><td>0</td><td>2</td></tr><tr><td>Map(vectorType -> dense, length -> 5, values -> List(1.0, 0.5381819291548295, 0.416666685588777, 0.3157894736842105, -0.043478260869565216))</td><td>Map(vectorType -> dense, length -> 3, values -> List(0.4288458565911276, 0.12705036933993755, 0.4441037740689348))</td><td>2</td><td>2</td></tr><tr><td>Map(vectorType -> dense, length -> 5, values -> List(1.0, 0.5418182373046875, 0.4999998864673381, 0.19298245614035087, 0.24637681159420288))</td><td>Map(vectorType -> dense, length -> 3, values -> List(0.46140654591406954, 0.14219536092683813, 0.3963980931590923))</td><td>0</td><td>2</td></tr><tr><td>Map(vectorType -> dense, length -> 5, values -> List(1.0, 0.5600000554865057, 0.44047607424037, 0.43859649122807015, 0.30434782608695654))</td><td>Map(vectorType -> dense, length -> 3, values -> List(0.35195693872303035, 0.2729484023902834, 0.37509465888668614))</td><td>2</td><td>2</td></tr><tr><td>Map(vectorType -> dense, length -> 5, values -> List(1.0, 0.6218182650479404, 0.6071429301281398, 0.3684210526315789, 0.4492753623188406))</td><td>Map(vectorType -> dense, length -> 3, values -> List(0.3403101599879005, 0.22974915302055807, 0.42994068699154137))</td><td>2</td><td>2</td></tr><tr><td>Map(vectorType -> dense, length -> 5, values -> List(1.0, 0.6254545731977983, 0.8095237554606373, 0.5087719298245614, 0.34782608695652173))</td><td>Map(vectorType -> dense, length -> 3, values -> List(0.3434233542654476, 0.159595347190108, 0.49698129854444434))</td><td>2</td><td>2</td></tr><tr><td>Map(vectorType -> dense, length -> 5, values -> List(1.0, 0.6327273282137784, 0.7023809388651593, 0.45614035087719296, 0.2753623188405797))</td><td>Map(vectorType -> dense, length -> 3, values -> List(0.3348230177199749, 0.16228529565823419, 0.5028916866217908))</td><td>2</td><td>2</td></tr><tr><td>Map(vectorType -> dense, length -> 5, values -> List(1.0, 0.6363636363636364, 0.6071429301281398, 0.3333333333333333, 0.2681159420289855))</td><td>Map(vectorType -> dense, length -> 3, values -> List(0.34623503302572123, 0.1598234724686128, 0.4939414945056661))</td><td>2</td><td>2</td></tr><tr><td>Map(vectorType -> dense, length -> 5, values -> List(1.0, 0.6400000832297585, 0.6547619344966495, 0.3684210526315789, 0.21739130434782608))</td><td>Map(vectorType -> dense, length -> 3, values -> List(0.342654638289229, 0.13964940788492652, 0.5176959538258444))</td><td>2</td><td>2</td></tr><tr><td>Map(vectorType -> dense, length -> 5, values -> List(1.0, 0.6436363913796165, 0.4999998864673381, 0.42105263157894735, 0.2391304347826087))</td><td>Map(vectorType -> dense, length -> 3, values -> List(0.3010366033036592, 0.22133367475573187, 0.4776297219406089))</td><td>2</td><td>2</td></tr><tr><td>Map(vectorType -> dense, length -> 5, values -> List(1.0, 0.6800000277432529, 0.6428571266381912, 0.47368421052631576, 0.463768115942029))</td><td>Map(vectorType -> dense, length -> 3, values -> List(0.2679120697862565, 0.2635911085022303, 0.4684968217115132))</td><td>2</td><td>2</td></tr><tr><td>Map(vectorType -> dense, length -> 5, values -> List(1.0, 0.6872727827592329, 0.6785713231482425, 0.5087719298245614, 0.36231884057971014))</td><td>Map(vectorType -> dense, length -> 3, values -> List(0.26670472185711575, 0.21983212132928645, 0.5134631568135977))</td><td>2</td><td>2</td></tr><tr><td>Map(vectorType -> dense, length -> 5, values -> List(1.0, 0.698181845925071, 0.6071429301281398, 0.40350877192982454, 0.2608695652173913))</td><td>Map(vectorType -> dense, length -> 3, values -> List(0.27428728363612437, 0.1808297141561992, 0.5448830022076764))</td><td>2</td><td>2</td></tr><tr><td>Map(vectorType -> dense, length -> 5, values -> List(2.0, 0.050909146395596586, 0.7023809388651593, 0.2807017543859649, 0.21739130434782608))</td><td>Map(vectorType -> dense, length -> 3, values -> List(0.8978251650954862, 0.0210889044026908, 0.08108593050182299))</td><td>0</td><td>0</td></tr><tr><td>Map(vectorType -> dense, length -> 5, values -> List(2.0, 0.07272727272727272, 0.5952381222696814, 0.3333333333333333, 0.18115942028985507))</td><td>Map(vectorType -> dense, length -> 3, values -> List(0.8764975024682797, 0.031127528025343784, 0.09237496950637651))</td><td>0</td><td>0</td></tr><tr><td>Map(vectorType -> dense, length -> 5, values -> List(2.0, 0.09090909090909091, 0.4880953056742035, 0.2631578947368421, 0.10144927536231883))</td><td>Map(vectorType -> dense, length -> 3, values -> List(0.8692827940497989, 0.0315239668641592, 0.099193239086042))</td><td>0</td><td>0</td></tr><tr><td>Map(vectorType -> dense, length -> 5, values -> List(2.0, 0.09090909090909091, 0.9523809956314903, 0.42105263157894735, 0.4492753623188406))</td><td>Map(vectorType -> dense, length -> 3, values -> List(0.8802742493775074, 0.026462705845795763, 0.09326304477669664))</td><td>0</td><td>0</td></tr><tr><td>Map(vectorType -> dense, length -> 5, values -> List(2.0, 0.1490909923206676, 0.4880953056742035, 0.22807017543859648, 0.08695652173913043))</td><td>Map(vectorType -> dense, length -> 3, values -> List(0.8432592278004134, 0.03296146550114834, 0.12377930669843827))</td><td>0</td><td>0</td></tr><tr><td>Map(vectorType -> dense, length -> 5, values -> List(2.0, 0.18909093683416192, 0.8809523755460638, 0.43859649122807015, 0.2681159420289855))</td><td>Map(vectorType -> dense, length -> 3, values -> List(0.8201455844366887, 0.030310667389549597, 0.14954374817376181))</td><td>0</td><td>0</td></tr><tr><td>Map(vectorType -> dense, length -> 5, values -> List(2.0, 0.2072727550159801, 0.4999998864673381, 0.10526315789473684, 0.24637681159420288))</td><td>Map(vectorType -> dense, length -> 3, values -> List(0.8252200590490826, 0.03778557251966024, 0.1369943684312571))</td><td>0</td><td>0</td></tr><tr><td>Map(vectorType -> dense, length -> 5, values -> List(2.0, 0.2327273282137784, 0.5714285065527647, 0.2807017543859649, 0.13768115942028986))</td><td>Map(vectorType -> dense, length -> 3, values -> List(0.7883519035073001, 0.040492867965695914, 0.17115522852700382))</td><td>0</td><td>0</td></tr><tr><td>Map(vectorType -> dense, length -> 5, values -> List(2.0, 0.2581819014115767, 0.7738095589505858, 0.3684210526315789, 0.5289855072463768))</td><td>Map(vectorType -> dense, length -> 3, values -> List(0.7688519726276811, 0.06500981928261407, 0.16613820808970473))</td><td>0</td><td>0</td></tr><tr><td>Map(vectorType -> dense, length -> 5, values -> List(2.0, 0.26181820956143464, 0.8928571834045221, 0.2807017543859649, 0.2318840579710145))</td><td>Map(vectorType -> dense, length -> 3, values -> List(0.791708218553604, 0.02280328629396143, 0.1854884951524345))</td><td>0</td><td>0</td></tr><tr><td>Map(vectorType -> dense, length -> 5, values -> List(2.0, 0.2763637195933949, 0.6309523187797328, 0.2807017543859649, 0.30434782608695654))</td><td>Map(vectorType -> dense, length -> 3, values -> List(0.7600598368768872, 0.05257977601282302, 0.1873603871102898))</td><td>0</td><td>0</td></tr><tr><td>Map(vectorType -> dense, length -> 5, values -> List(2.0, 0.29454553777521303, 0.46428568995728675, 0.03508771929824561, 0.17391304347826086))</td><td>Map(vectorType -> dense, length -> 3, values -> List(0.7726305107668094, 0.037888136063285685, 0.189481353169905))</td><td>0</td><td>0</td></tr><tr><td>Map(vectorType -> dense, length -> 5, values -> List(2.0, 0.33818192915482953, 0.6428571266381912, 0.49122807017543857, 0.2971014492753623))</td><td>Map(vectorType -> dense, length -> 3, values -> List(0.6626514359388279, 0.08925701357448183, 0.24809155048669024))</td><td>0</td><td>0</td></tr><tr><td>Map(vectorType -> dense, length -> 5, values -> List(2.0, 0.37818187366832384, 0.9047619912629805, 0.40350877192982454, 0.4782608695652174))</td><td>Map(vectorType -> dense, length -> 3, values -> List(0.6774326177167984, 0.05904973706533273, 0.2635176452178688))</td><td>0</td><td>0</td></tr><tr><td>Map(vectorType -> dense, length -> 5, values -> List(2.0, 0.3890909368341619, 0.6428571266381912, 0.3684210526315789, 0.40579710144927533))</td><td>Map(vectorType -> dense, length -> 3, values -> List(0.6397230360249143, 0.09246696923415038, 0.26780999474093525))</td><td>0</td><td>0</td></tr></tbody></table></div>"
      ]
     },
     "metadata": {
      "application/vnd.databricks.v1+output": {
       "addedWidgets": {},
       "aggData": [],
       "aggError": "",
       "aggOverflow": false,
       "aggSchema": [],
       "aggSeriesLimitReached": false,
       "aggType": "",
       "arguments": {},
       "columnCustomDisplayInfos": {},
       "data": [
        [
         {
          "length": 5,
          "values": [
           0.0,
           0.08727278275923295,
           0.5952381222696814,
           0.22807017543859648,
           0.014492753623188406
          ],
          "vectorType": "dense"
         },
         {
          "length": 3,
          "values": [
           0.8353229973173701,
           0.0600249895959531,
           0.1046520130866767
          ],
          "vectorType": "dense"
         },
         0,
         0
        ],
        [
         {
          "length": 5,
          "values": [
           0.0,
           0.10545460094105114,
           0.5714285065527647,
           0.2807017543859649,
           0.17391304347826086
          ],
          "vectorType": "dense"
         },
         {
          "length": 3,
          "values": [
           0.7959506811241166,
           0.0991716438406674,
           0.10487767503521597
          ],
          "vectorType": "dense"
         },
         0,
         0
        ],
        [
         {
          "length": 5,
          "values": [
           0.0,
           0.10545460094105114,
           0.5714285065527647,
           0.3157894736842105,
           0.2536231884057971
          ],
          "vectorType": "dense"
         },
         {
          "length": 3,
          "values": [
           0.7764366766165373,
           0.12245543266334874,
           0.10110789072011388
          ],
          "vectorType": "dense"
         },
         0,
         0
        ],
        [
         {
          "length": 5,
          "values": [
           0.0,
           0.13090917413884942,
           0.4523808820988284,
           0.19298245614035087,
           0.08695652173913043
          ],
          "vectorType": "dense"
         },
         {
          "length": 3,
          "values": [
           0.7852332772154579,
           0.09976467061243076,
           0.11500205217211136
          ],
          "vectorType": "dense"
         },
         0,
         0
        ],
        [
         {
          "length": 5,
          "values": [
           0.0,
           0.13818192915482955,
           0.726190554582076,
           0.2631578947368421,
           0.2753623188405797
          ],
          "vectorType": "dense"
         },
         {
          "length": 3,
          "values": [
           0.799608073139797,
           0.08532275763295638,
           0.11506916922724662
          ],
          "vectorType": "dense"
         },
         0,
         0
        ],
        [
         {
          "length": 5,
          "values": [
           0.0,
           0.20363644686612214,
           0.34523806550335046,
           0.15789473684210525,
           0.06521739130434782
          ],
          "vectorType": "dense"
         },
         {
          "length": 3,
          "values": [
           0.7188042535683178,
           0.13509706725742882,
           0.1460986791742534
          ],
          "vectorType": "dense"
         },
         0,
         0
        ],
        [
         {
          "length": 5,
          "values": [
           0.0,
           0.21090920188210227,
           0.6547619344966495,
           -0.03508771929824561,
           0.08695652173913043
          ],
          "vectorType": "dense"
         },
         {
          "length": 3,
          "values": [
           0.8085413424551947,
           0.044708329002136726,
           0.14675032854266862
          ],
          "vectorType": "dense"
         },
         0,
         0
        ],
        [
         {
          "length": 5,
          "values": [
           0.0,
           0.22181826504794033,
           0.8214285633190956,
           0.2807017543859649,
           0.30434782608695654
          ],
          "vectorType": "dense"
         },
         {
          "length": 3,
          "values": [
           0.7520118960379021,
           0.09004850467162272,
           0.15793959929047519
          ],
          "vectorType": "dense"
         },
         0,
         0
        ],
        [
         {
          "length": 5,
          "values": [
           0.0,
           0.24363639137961646,
           0.4880953056742035,
           0.10526315789473684,
           0.2753623188405797
          ],
          "vectorType": "dense"
         },
         {
          "length": 3,
          "values": [
           0.7110791099931799,
           0.13629683054563146,
           0.15262405946118854
          ],
          "vectorType": "dense"
         },
         0,
         0
        ],
        [
         {
          "length": 5,
          "values": [
           0.0,
           0.2727272727272727,
           0.9047619912629805,
           0.2982456140350877,
           0.30434782608695654
          ],
          "vectorType": "dense"
         },
         {
          "length": 3,
          "values": [
           0.7218928983539531,
           0.08528390205356091,
           0.19282319959248612
          ],
          "vectorType": "dense"
         },
         0,
         0
        ],
        [
         {
          "length": 5,
          "values": [
           0.0,
           0.2763637195933949,
           0.6904761310067009,
           0.17543859649122806,
           0.20289855072463767
          ],
          "vectorType": "dense"
         },
         {
          "length": 3,
          "values": [
           0.7169498636508079,
           0.09252002986089157,
           0.19053010648830054
          ],
          "vectorType": "dense"
         },
         0,
         0
        ],
        [
         {
          "length": 5,
          "values": [
           0.0,
           0.3090909090909091,
           0.6547619344966495,
           0.15789473684210525,
           0.20289855072463767
          ],
          "vectorType": "dense"
         },
         {
          "length": 3,
          "values": [
           0.6862485243943804,
           0.10364758930380616,
           0.21010388630181331
          ],
          "vectorType": "dense"
         },
         0,
         0
        ],
        [
         {
          "length": 5,
          "values": [
           0.0,
           0.3090909090909091,
           0.6785713231482425,
           0.3333333333333333,
           0.2753623188405797
          ],
          "vectorType": "dense"
         },
         {
          "length": 3,
          "values": [
           0.6329337694182774,
           0.1576846280046072,
           0.20938160257711538
          ],
          "vectorType": "dense"
         },
         0,
         0
        ],
        [
         {
          "length": 5,
          "values": [
           0.0,
           0.32000011097301134,
           0.07142850655276464,
           0.7017543859649122,
           0.5217391304347826
          ],
          "vectorType": "dense"
         },
         {
          "length": 3,
          "values": [
           0.15575372786513095,
           0.7807141343030609,
           0.06353213783180828
          ],
          "vectorType": "dense"
         },
         1,
         1
        ],
        [
         {
          "length": 5,
          "values": [
           0.0,
           0.3236364191228693,
           0.8214285633190956,
           0.5087719298245614,
           0.5434782608695652
          ],
          "vectorType": "dense"
         },
         {
          "length": 3,
          "values": [
           0.5542441941588746,
           0.2520171329237526,
           0.19373867291737273
          ],
          "vectorType": "dense"
         },
         0,
         0
        ],
        [
         {
          "length": 5,
          "values": [
           0.0,
           0.34545454545454546,
           0.583333314411223,
           0.3157894736842105,
           0.3188405797101449
          ],
          "vectorType": "dense"
         },
         {
          "length": 3,
          "values": [
           0.5692853322602572,
           0.21338757511689782,
           0.21732709262284486
          ],
          "vectorType": "dense"
         },
         0,
         0
        ],
        [
         {
          "length": 5,
          "values": [
           0.0,
           0.3490909923206676,
           0.19047613100670094,
           0.631578947368421,
           0.536231884057971
          ],
          "vectorType": "dense"
         },
         {
          "length": 3,
          "values": [
           0.20314282049614918,
           0.7073336866104113,
           0.0895234928934396
          ],
          "vectorType": "dense"
         },
         1,
         1
        ],
        [
         {
          "length": 5,
          "values": [
           0.0,
           0.3672728105024858,
           0.7619047510921274,
           0.40350877192982454,
           0.41304347826086957
          ],
          "vectorType": "dense"
         },
         {
          "length": 3,
          "values": [
           0.5571106491506718,
           0.20658623127046968,
           0.23630311957885852
          ],
          "vectorType": "dense"
         },
         0,
         0
        ],
        [
         {
          "length": 5,
          "values": [
           0.0,
           0.4072727550159801,
           0.1071428165954779,
           0.5964912280701754,
           0.5
          ],
          "vectorType": "dense"
         },
         {
          "length": 3,
          "values": [
           0.16487571271681328,
           0.7403582372738099,
           0.0947660500093768
          ],
          "vectorType": "dense"
         },
         1,
         1
        ],
        [
         {
          "length": 5,
          "values": [
           0.0,
           0.4472728382457386,
           0.4999998864673381,
           0.7894736842105263,
           0.6956521739130435
          ],
          "vectorType": "dense"
         },
         {
          "length": 3,
          "values": [
           0.16998257379953105,
           0.710705207657653,
           0.11931221854281601
          ],
          "vectorType": "dense"
         },
         1,
         1
        ],
        [
         {
          "length": 5,
          "values": [
           0.0,
           0.4509091463955966,
           0.14285712663819117,
           0.7368421052631579,
           0.36231884057971014
          ],
          "vectorType": "dense"
         },
         {
          "length": 3,
          "values": [
           0.1446249300301278,
           0.738082970424662,
           0.11729209954521017
          ],
          "vectorType": "dense"
         },
         1,
         1
        ],
        [
         {
          "length": 5,
          "values": [
           0.0,
           0.4872727827592329,
           0.09523800873701953,
           0.631578947368421,
           0.391304347826087
          ],
          "vectorType": "dense"
         },
         {
          "length": 3,
          "values": [
           0.13868119528535025,
           0.7380048914505555,
           0.12331391326409416
          ],
          "vectorType": "dense"
         },
         1,
         1
        ],
        [
         {
          "length": 5,
          "values": [
           0.0,
           0.4909090909090909,
           0.857142759829147,
           0.2982456140350877,
           0.5072463768115942
          ],
          "vectorType": "dense"
         },
         {
          "length": 3,
          "values": [
           0.48363810836739224,
           0.19207863658025612,
           0.32428325505235167
          ],
          "vectorType": "dense"
         },
         0,
         0
        ],
        [
         {
          "length": 5,
          "values": [
           0.0,
           0.509090909090909,
           0.23809524890787256,
           0.7192982456140351,
           0.6521739130434783
          ],
          "vectorType": "dense"
         },
         {
          "length": 3,
          "values": [
           0.10156088724293807,
           0.8047334301664807,
           0.09370568259058122
          ],
          "vectorType": "dense"
         },
         1,
         1
        ],
        [
         {
          "length": 5,
          "values": [
           0.0,
           0.5127273559570312,
           0.11904762445393628,
           0.7543859649122806,
           0.44202898550724634
          ],
          "vectorType": "dense"
         },
         {
          "length": 3,
          "values": [
           0.09898972113059377,
           0.796588292271317,
           0.10442198659808917
          ],
          "vectorType": "dense"
         },
         1,
         1
        ],
        [
         {
          "length": 5,
          "values": [
           0.0,
           0.5163636641068892,
           0.3214285633190956,
           0.7192982456140351,
           0.6376811594202898
          ],
          "vectorType": "dense"
         },
         {
          "length": 3,
          "values": [
           0.12066589018785481,
           0.7640423295224487,
           0.11529178028969662
          ],
          "vectorType": "dense"
         },
         1,
         1
        ],
        [
         {
          "length": 5,
          "values": [
           0.0,
           0.5200001109730114,
           0.2976190611348407,
           0.8245614035087718,
           0.6231884057971014
          ],
          "vectorType": "dense"
         },
         {
          "length": 3,
          "values": [
           0.09414921048155998,
           0.8074456181266662,
           0.09840517139177403
          ],
          "vectorType": "dense"
         },
         1,
         1
        ],
        [
         {
          "length": 5,
          "values": [
           0.0,
           0.5236364191228693,
           0.20238093886515932,
           0.7543859649122806,
           0.6811594202898551
          ],
          "vectorType": "dense"
         },
         {
          "length": 3,
          "values": [
           0.08002152289037834,
           0.8401161906563241,
           0.07986228645329763
          ],
          "vectorType": "dense"
         },
         1,
         1
        ],
        [
         {
          "length": 5,
          "values": [
           0.0,
           0.5309091741388494,
           0.26190475109212746,
           0.7894736842105263,
           0.6811594202898551
          ],
          "vectorType": "dense"
         },
         {
          "length": 3,
          "values": [
           0.0829747799837296,
           0.8297944569975804,
           0.08723076301869016
          ],
          "vectorType": "dense"
         },
         1,
         1
        ],
        [
         {
          "length": 5,
          "values": [
           0.0,
           0.5345454822887074,
           0.14285712663819117,
           0.7192982456140351,
           0.5797101449275363
          ],
          "vectorType": "dense"
         },
         {
          "length": 3,
          "values": [
           0.08527576545209828,
           0.8230414162912043,
           0.09168281825669738
          ],
          "vectorType": "dense"
         },
         1,
         1
        ],
        [
         {
          "length": 5,
          "values": [
           0.0,
           0.5381819291548295,
           0.17857143668090442,
           0.8421052631578947,
           0.5869565217391304
          ],
          "vectorType": "dense"
         },
         {
          "length": 3,
          "values": [
           0.06984357304715512,
           0.8481393844839051,
           0.08201704246893961
          ],
          "vectorType": "dense"
         },
         1,
         1
        ],
        [
         {
          "length": 5,
          "values": [
           0.0,
           0.5490909923206676,
           0.07142850655276464,
           0.7017543859649122,
           0.6014492753623188
          ],
          "vectorType": "dense"
         },
         {
          "length": 3,
          "values": [
           0.06978860263146196,
           0.8512735279259301,
           0.0789378694426078
          ],
          "vectorType": "dense"
         },
         1,
         1
        ],
        [
         {
          "length": 5,
          "values": [
           0.0,
           0.5527273004705255,
           0.26190475109212746,
           0.8421052631578947,
           0.6956521739130435
          ],
          "vectorType": "dense"
         },
         {
          "length": 3,
          "values": [
           0.06790309446763829,
           0.8510419726020658,
           0.08105493293029585
          ],
          "vectorType": "dense"
         },
         1,
         1
        ],
        [
         {
          "length": 5,
          "values": [
           0.0,
           0.5563637473366477,
           0.17857143668090442,
           0.6666666666666666,
           0.5434782608695652
          ],
          "vectorType": "dense"
         },
         {
          "length": 3,
          "values": [
           0.10093062792140017,
           0.7814175245520714,
           0.11765184752652856
          ],
          "vectorType": "dense"
         },
         1,
         1
        ],
        [
         {
          "length": 5,
          "values": [
           0.0,
           0.585454628684304,
           0.2976190611348407,
           0.8245614035087718,
           0.6521739130434783
          ],
          "vectorType": "dense"
         },
         {
          "length": 3,
          "values": [
           0.07362283406554564,
           0.8236628870799647,
           0.10271427885448962
          ],
          "vectorType": "dense"
         },
         1,
         1
        ],
        [
         {
          "length": 5,
          "values": [
           0.0,
           0.6,
           0.34523806550335046,
           0.9824561403508771,
           0.855072463768116
          ],
          "vectorType": "dense"
         },
         {
          "length": 3,
          "values": [
           0.040382862283226836,
           0.8987678968377126,
           0.06084924087906049
          ],
          "vectorType": "dense"
         },
         1,
         1
        ],
        [
         {
          "length": 5,
          "values": [
           0.0,
           0.6036364468661222,
           0.3095237554606372,
           0.5964912280701754,
           0.7246376811594203
          ],
          "vectorType": "dense"
         },
         {
          "length": 3,
          "values": [
           0.10159298428137158,
           0.7688420370402289,
           0.1295649786783995
          ],
          "vectorType": "dense"
         },
         1,
         1
        ],
        [
         {
          "length": 5,
          "values": [
           0.0,
           0.6072727550159801,
           0.3690476812202672,
           0.8421052631578947,
           0.9130434782608695
          ],
          "vectorType": "dense"
         },
         {
          "length": 3,
          "values": [
           0.0516661840517176,
           0.8764557984011419,
           0.07187801754714065
          ],
          "vectorType": "dense"
         },
         1,
         1
        ],
        [
         {
          "length": 5,
          "values": [
           0.0,
           0.6436363913796165,
           0.44047607424037,
           0.9824561403508771,
           0.8260869565217391
          ],
          "vectorType": "dense"
         },
         {
          "length": 3,
          "values": [
           0.04606034400725402,
           0.8685197990699038,
           0.0854198569228422
          ],
          "vectorType": "dense"
         },
         1,
         1
        ],
        [
         {
          "length": 5,
          "values": [
           0.0,
           0.6509091463955966,
           0.26190475109212746,
           0.8070175438596491,
           0.782608695652174
          ],
          "vectorType": "dense"
         },
         {
          "length": 3,
          "values": [
           0.046773651030463784,
           0.8705184363396558,
           0.08270791262988053
          ],
          "vectorType": "dense"
         },
         1,
         1
        ],
        [
         {
          "length": 5,
          "values": [
           0.0,
           0.6654546564275567,
           0.26190475109212746,
           0.8771929824561403,
           0.782608695652174
          ],
          "vectorType": "dense"
         },
         {
          "length": 3,
          "values": [
           0.03829810653622787,
           0.8860586589101573,
           0.07564323455361492
          ],
          "vectorType": "dense"
         },
         1,
         1
        ],
        [
         {
          "length": 5,
          "values": [
           0.0,
           0.6654546564275567,
           0.3095237554606372,
           0.8421052631578947,
           0.8405797101449275
          ],
          "vectorType": "dense"
         },
         {
          "length": 3,
          "values": [
           0.04206136676439492,
           0.8788341509137494,
           0.07910448232185582
          ],
          "vectorType": "dense"
         },
         1,
         1
        ],
        [
         {
          "length": 5,
          "values": [
           0.0,
           0.6763637195933948,
           0.2261904410494142,
           0.8596491228070176,
           0.782608695652174
          ],
          "vectorType": "dense"
         },
         {
          "length": 3,
          "values": [
           0.03534063024908083,
           0.8919202996417374,
           0.07273907010918189
          ],
          "vectorType": "dense"
         },
         1,
         1
        ],
        [
         {
          "length": 5,
          "values": [
           0.0,
           0.6800000277432529,
           0.3095237554606372,
           0.9122807017543859,
           0.6811594202898551
          ],
          "vectorType": "dense"
         },
         {
          "length": 3,
          "values": [
           0.04449496786657677,
           0.855526567187669,
           0.09997846494575423
          ],
          "vectorType": "dense"
         },
         1,
         1
        ],
        [
         {
          "length": 5,
          "values": [
           0.0,
           0.6909090909090909,
           0.40476187773031863,
           0.894736842105263,
           0.6956521739130435
          ],
          "vectorType": "dense"
         },
         {
          "length": 3,
          "values": [
           0.0538888617570167,
           0.8216077522277216,
           0.12450338601526163
          ],
          "vectorType": "dense"
         },
         1,
         1
        ],
        [
         {
          "length": 5,
          "values": [
           0.0,
           0.698181845925071,
           0.1309523187797328,
           0.7719298245614035,
           0.7101449275362318
          ],
          "vectorType": "dense"
         },
         {
          "length": 3,
          "values": [
           0.035999583176852826,
           0.8836095780709414,
           0.08039083875220573
          ],
          "vectorType": "dense"
         },
         1,
         1
        ],
        [
         {
          "length": 5,
          "values": [
           0.0,
           0.7054546009410511,
           0.3809522620134019,
           0.9824561403508771,
           0.7681159420289855
          ],
          "vectorType": "dense"
         },
         {
          "length": 3,
          "values": [
           0.03612206438348623,
           0.8723533808708513,
           0.09152455474566241
          ],
          "vectorType": "dense"
         },
         1,
         1
        ],
        [
         {
          "length": 5,
          "values": [
           0.0,
           0.7272727272727273,
           0.46428568995728675,
           0.9824561403508771,
           0.782608695652174
          ],
          "vectorType": "dense"
         },
         {
          "length": 3,
          "values": [
           0.039787266243339996,
           0.8499521854390164,
           0.11026054831764363
          ],
          "vectorType": "dense"
         },
         1,
         1
        ],
        [
         {
          "length": 5,
          "values": [
           0.0,
           0.8363636363636363,
           0.34523806550335046,
           0.9824561403508771,
           0.8695652173913043
          ],
          "vectorType": "dense"
         },
         {
          "length": 3,
          "values": [
           0.018359253151202185,
           0.9001059556381391,
           0.0815347912106588
          ],
          "vectorType": "dense"
         },
         1,
         1
        ],
        [
         {
          "length": 5,
          "values": [
           1.0,
           0.1490909923206676,
           0.4999998864673381,
           0.22807017543859648,
           0.13043478260869565
          ],
          "vectorType": "dense"
         },
         {
          "length": 3,
          "values": [
           0.814674688245157,
           0.061901876992910915,
           0.12342343476193202
          ],
          "vectorType": "dense"
         },
         0,
         0
        ],
        [
         {
          "length": 5,
          "values": [
           1.0,
           0.1563637473366477,
           0.46428568995728675,
           0.3684210526315789,
           0.13768115942028986
          ],
          "vectorType": "dense"
         },
         {
          "length": 3,
          "values": [
           0.773560175428636,
           0.09432356060437823,
           0.13211626396698575
          ],
          "vectorType": "dense"
         },
         0,
         0
        ],
        [
         {
          "length": 5,
          "values": [
           1.0,
           0.16363636363636364,
           0.6309523187797328,
           0.17543859649122806,
           0.18115942028985507
          ],
          "vectorType": "dense"
         },
         {
          "length": 3,
          "values": [
           0.8286006298380115,
           0.04518582130519186,
           0.12621354885679661
          ],
          "vectorType": "dense"
         },
         0,
         0
        ],
        [
         {
          "length": 5,
          "values": [
           1.0,
           0.1745455655184659,
           0.6547619344966495,
           0.2631578947368421,
           0.18840579710144928
          ],
          "vectorType": "dense"
         },
         {
          "length": 3,
          "values": [
           0.8097320740593007,
           0.05389363813417046,
           0.13637428780652888
          ],
          "vectorType": "dense"
         },
         0,
         0
        ],
        [
         {
          "length": 5,
          "values": [
           1.0,
           0.17818187366832386,
           0.4523808820988284,
           0.19298245614035087,
           0.043478260869565216
          ],
          "vectorType": "dense"
         },
         {
          "length": 3,
          "values": [
           0.7999946911581399,
           0.05901217435666275,
           0.14099313448519735
          ],
          "vectorType": "dense"
         },
         0,
         0
        ],
        [
         {
          "length": 5,
          "values": [
           1.0,
           0.18909093683416192,
           0.44047607424037,
           0.3157894736842105,
           0.043478260869565216
          ],
          "vectorType": "dense"
         },
         {
          "length": 3,
          "values": [
           0.7654123854431534,
           0.08136467296796374,
           0.1532229415888829
          ],
          "vectorType": "dense"
         },
         0,
         0
        ],
        [
         {
          "length": 5,
          "values": [
           1.0,
           0.2072727550159801,
           0.5952381222696814,
           0.3333333333333333,
           0.2608695652173913
          ],
          "vectorType": "dense"
         },
         {
          "length": 3,
          "values": [
           0.7594418804395756,
           0.08941276270660004,
           0.15114535685382446
          ],
          "vectorType": "dense"
         },
         0,
         0
        ],
        [
         {
          "length": 5,
          "values": [
           1.0,
           0.21818181818181817,
           0.5357143100427133,
           0.22807017543859648,
           0.16666666666666666
          ],
          "vectorType": "dense"
         },
         {
          "length": 3,
          "values": [
           0.7709471665586436,
           0.07131777467759817,
           0.15773505876375832
          ],
          "vectorType": "dense"
         },
         0,
         0
        ],
        [
         {
          "length": 5,
          "values": [
           1.0,
           0.21818181818181817,
           0.6547619344966495,
           0.2807017543859649,
           0.24637681159420288
          ],
          "vectorType": "dense"
         },
         {
          "length": 3,
          "values": [
           0.7738283170391151,
           0.06902346541802083,
           0.15714821754286412
          ],
          "vectorType": "dense"
         },
         0,
         0
        ],
        [
         {
          "length": 5,
          "values": [
           1.0,
           0.2581819014115767,
           0.9523809956314903,
           0.38596491228070173,
           0.37681159420289856
          ],
          "vectorType": "dense"
         },
         {
          "length": 3,
          "values": [
           0.7581744744658747,
           0.05786349474659373,
           0.18396203078753165
          ],
          "vectorType": "dense"
         },
         0,
         0
        ],
        [
         {
          "length": 5,
          "values": [
           1.0,
           0.2763637195933949,
           0.5714285065527647,
           0.3333333333333333,
           0.40579710144927533
          ],
          "vectorType": "dense"
         },
         {
          "length": 3,
          "values": [
           0.6832816276309963,
           0.1407255116169563,
           0.17599286075204745
          ],
          "vectorType": "dense"
         },
         0,
         0
        ],
        [
         {
          "length": 5,
          "values": [
           1.0,
           0.3127273559570312,
           0.46428568995728675,
           0.2807017543859649,
           0.2536231884057971
          ],
          "vectorType": "dense"
         },
         {
          "length": 3,
          "values": [
           0.6583042864507168,
           0.13363529003926775,
           0.2080604235100153
          ],
          "vectorType": "dense"
         },
         0,
         0
        ],
        [
         {
          "length": 5,
          "values": [
           1.0,
           0.3163636641068892,
           0.6904761310067009,
           0.5964912280701754,
           0.42028985507246375
          ],
          "vectorType": "dense"
         },
         {
          "length": 3,
          "values": [
           0.5904766576173922,
           0.19685877765959908,
           0.21266456472300876
          ],
          "vectorType": "dense"
         },
         0,
         0
        ],
        [
         {
          "length": 5,
          "values": [
           1.0,
           0.3345454822887074,
           0.857142759829147,
           0.3508771929824561,
           0.20289855072463767
          ],
          "vectorType": "dense"
         },
         {
          "length": 3,
          "values": [
           0.6906253798151016,
           0.05736995885455202,
           0.25200466133034627
          ],
          "vectorType": "dense"
         },
         0,
         0
        ],
        [
         {
          "length": 5,
          "values": [
           1.0,
           0.3709091186523437,
           0.9642858034899486,
           0.2982456140350877,
           0.37681159420289856
          ],
          "vectorType": "dense"
         },
         {
          "length": 3,
          "values": [
           0.6795830758926523,
           0.058405872598575145,
           0.2620110515087725
          ],
          "vectorType": "dense"
         },
         0,
         0
        ],
        [
         {
          "length": 5,
          "values": [
           1.0,
           0.40363644686612216,
           0.6428571266381912,
           0.3157894736842105,
           0.36231884057971014
          ],
          "vectorType": "dense"
         },
         {
          "length": 3,
          "values": [
           0.5913635195298198,
           0.13419350631582255,
           0.27444297415435776
          ],
          "vectorType": "dense"
         },
         0,
         0
        ],
        [
         {
          "length": 5,
          "values": [
           1.0,
           0.43636363636363634,
           0.7857143668090442,
           0.38596491228070173,
           0.4492753623188406
          ],
          "vectorType": "dense"
         },
         {
          "length": 3,
          "values": [
           0.5616277158354451,
           0.13566748091404718,
           0.3027048032505075
          ],
          "vectorType": "dense"
         },
         0,
         0
        ],
        [
         {
          "length": 5,
          "values": [
           1.0,
           0.49454553777521304,
           0.4999998864673381,
           0.3333333333333333,
           0.21739130434782608
          ],
          "vectorType": "dense"
         },
         {
          "length": 3,
          "values": [
           0.4725514462182716,
           0.16655012999603902,
           0.3608984237856895
          ],
          "vectorType": "dense"
         },
         0,
         2
        ],
        [
         {
          "length": 5,
          "values": [
           1.0,
           0.5054546009410511,
           0.6904761310067009,
           0.3684210526315789,
           0.37681159420289856
          ],
          "vectorType": "dense"
         },
         {
          "length": 3,
          "values": [
           0.47988451895587836,
           0.1557508654487683,
           0.3643646155953534
          ],
          "vectorType": "dense"
         },
         0,
         2
        ],
        [
         {
          "length": 5,
          "values": [
           1.0,
           0.5200001109730114,
           0.5595236986943063,
           0.2982456140350877,
           0.24637681159420288
          ],
          "vectorType": "dense"
         },
         {
          "length": 3,
          "values": [
           0.4664060547070469,
           0.14785544181604834,
           0.3857385034769048
          ],
          "vectorType": "dense"
         },
         0,
         2
        ],
        [
         {
          "length": 5,
          "values": [
           1.0,
           0.5200001109730114,
           0.6547619344966495,
           0.2807017543859649,
           0.17391304347826086
          ],
          "vectorType": "dense"
         },
         {
          "length": 3,
          "values": [
           0.4890018419692609,
           0.10071701572307491,
           0.41028114230766427
          ],
          "vectorType": "dense"
         },
         0,
         2
        ],
        [
         {
          "length": 5,
          "values": [
           1.0,
           0.5309091741388494,
           0.5714285065527647,
           0.3684210526315789,
           0.13043478260869565
          ],
          "vectorType": "dense"
         },
         {
          "length": 3,
          "values": [
           0.4431270713112662,
           0.13438619380265782,
           0.422486734886076
          ],
          "vectorType": "dense"
         },
         0,
         2
        ],
        [
         {
          "length": 5,
          "values": [
           1.0,
           0.5381819291548295,
           0.416666685588777,
           0.3157894736842105,
           -0.043478260869565216
          ],
          "vectorType": "dense"
         },
         {
          "length": 3,
          "values": [
           0.4288458565911276,
           0.12705036933993755,
           0.4441037740689348
          ],
          "vectorType": "dense"
         },
         2,
         2
        ],
        [
         {
          "length": 5,
          "values": [
           1.0,
           0.5418182373046875,
           0.4999998864673381,
           0.19298245614035087,
           0.24637681159420288
          ],
          "vectorType": "dense"
         },
         {
          "length": 3,
          "values": [
           0.46140654591406954,
           0.14219536092683813,
           0.3963980931590923
          ],
          "vectorType": "dense"
         },
         0,
         2
        ],
        [
         {
          "length": 5,
          "values": [
           1.0,
           0.5600000554865057,
           0.44047607424037,
           0.43859649122807015,
           0.30434782608695654
          ],
          "vectorType": "dense"
         },
         {
          "length": 3,
          "values": [
           0.35195693872303035,
           0.2729484023902834,
           0.37509465888668614
          ],
          "vectorType": "dense"
         },
         2,
         2
        ],
        [
         {
          "length": 5,
          "values": [
           1.0,
           0.6218182650479404,
           0.6071429301281398,
           0.3684210526315789,
           0.4492753623188406
          ],
          "vectorType": "dense"
         },
         {
          "length": 3,
          "values": [
           0.3403101599879005,
           0.22974915302055807,
           0.42994068699154137
          ],
          "vectorType": "dense"
         },
         2,
         2
        ],
        [
         {
          "length": 5,
          "values": [
           1.0,
           0.6254545731977983,
           0.8095237554606373,
           0.5087719298245614,
           0.34782608695652173
          ],
          "vectorType": "dense"
         },
         {
          "length": 3,
          "values": [
           0.3434233542654476,
           0.159595347190108,
           0.49698129854444434
          ],
          "vectorType": "dense"
         },
         2,
         2
        ],
        [
         {
          "length": 5,
          "values": [
           1.0,
           0.6327273282137784,
           0.7023809388651593,
           0.45614035087719296,
           0.2753623188405797
          ],
          "vectorType": "dense"
         },
         {
          "length": 3,
          "values": [
           0.3348230177199749,
           0.16228529565823419,
           0.5028916866217908
          ],
          "vectorType": "dense"
         },
         2,
         2
        ],
        [
         {
          "length": 5,
          "values": [
           1.0,
           0.6363636363636364,
           0.6071429301281398,
           0.3333333333333333,
           0.2681159420289855
          ],
          "vectorType": "dense"
         },
         {
          "length": 3,
          "values": [
           0.34623503302572123,
           0.1598234724686128,
           0.4939414945056661
          ],
          "vectorType": "dense"
         },
         2,
         2
        ],
        [
         {
          "length": 5,
          "values": [
           1.0,
           0.6400000832297585,
           0.6547619344966495,
           0.3684210526315789,
           0.21739130434782608
          ],
          "vectorType": "dense"
         },
         {
          "length": 3,
          "values": [
           0.342654638289229,
           0.13964940788492652,
           0.5176959538258444
          ],
          "vectorType": "dense"
         },
         2,
         2
        ],
        [
         {
          "length": 5,
          "values": [
           1.0,
           0.6436363913796165,
           0.4999998864673381,
           0.42105263157894735,
           0.2391304347826087
          ],
          "vectorType": "dense"
         },
         {
          "length": 3,
          "values": [
           0.3010366033036592,
           0.22133367475573187,
           0.4776297219406089
          ],
          "vectorType": "dense"
         },
         2,
         2
        ],
        [
         {
          "length": 5,
          "values": [
           1.0,
           0.6800000277432529,
           0.6428571266381912,
           0.47368421052631576,
           0.463768115942029
          ],
          "vectorType": "dense"
         },
         {
          "length": 3,
          "values": [
           0.2679120697862565,
           0.2635911085022303,
           0.4684968217115132
          ],
          "vectorType": "dense"
         },
         2,
         2
        ],
        [
         {
          "length": 5,
          "values": [
           1.0,
           0.6872727827592329,
           0.6785713231482425,
           0.5087719298245614,
           0.36231884057971014
          ],
          "vectorType": "dense"
         },
         {
          "length": 3,
          "values": [
           0.26670472185711575,
           0.21983212132928645,
           0.5134631568135977
          ],
          "vectorType": "dense"
         },
         2,
         2
        ],
        [
         {
          "length": 5,
          "values": [
           1.0,
           0.698181845925071,
           0.6071429301281398,
           0.40350877192982454,
           0.2608695652173913
          ],
          "vectorType": "dense"
         },
         {
          "length": 3,
          "values": [
           0.27428728363612437,
           0.1808297141561992,
           0.5448830022076764
          ],
          "vectorType": "dense"
         },
         2,
         2
        ],
        [
         {
          "length": 5,
          "values": [
           2.0,
           0.050909146395596586,
           0.7023809388651593,
           0.2807017543859649,
           0.21739130434782608
          ],
          "vectorType": "dense"
         },
         {
          "length": 3,
          "values": [
           0.8978251650954862,
           0.0210889044026908,
           0.08108593050182299
          ],
          "vectorType": "dense"
         },
         0,
         0
        ],
        [
         {
          "length": 5,
          "values": [
           2.0,
           0.07272727272727272,
           0.5952381222696814,
           0.3333333333333333,
           0.18115942028985507
          ],
          "vectorType": "dense"
         },
         {
          "length": 3,
          "values": [
           0.8764975024682797,
           0.031127528025343784,
           0.09237496950637651
          ],
          "vectorType": "dense"
         },
         0,
         0
        ],
        [
         {
          "length": 5,
          "values": [
           2.0,
           0.09090909090909091,
           0.4880953056742035,
           0.2631578947368421,
           0.10144927536231883
          ],
          "vectorType": "dense"
         },
         {
          "length": 3,
          "values": [
           0.8692827940497989,
           0.0315239668641592,
           0.099193239086042
          ],
          "vectorType": "dense"
         },
         0,
         0
        ],
        [
         {
          "length": 5,
          "values": [
           2.0,
           0.09090909090909091,
           0.9523809956314903,
           0.42105263157894735,
           0.4492753623188406
          ],
          "vectorType": "dense"
         },
         {
          "length": 3,
          "values": [
           0.8802742493775074,
           0.026462705845795763,
           0.09326304477669664
          ],
          "vectorType": "dense"
         },
         0,
         0
        ],
        [
         {
          "length": 5,
          "values": [
           2.0,
           0.1490909923206676,
           0.4880953056742035,
           0.22807017543859648,
           0.08695652173913043
          ],
          "vectorType": "dense"
         },
         {
          "length": 3,
          "values": [
           0.8432592278004134,
           0.03296146550114834,
           0.12377930669843827
          ],
          "vectorType": "dense"
         },
         0,
         0
        ],
        [
         {
          "length": 5,
          "values": [
           2.0,
           0.18909093683416192,
           0.8809523755460638,
           0.43859649122807015,
           0.2681159420289855
          ],
          "vectorType": "dense"
         },
         {
          "length": 3,
          "values": [
           0.8201455844366887,
           0.030310667389549597,
           0.14954374817376181
          ],
          "vectorType": "dense"
         },
         0,
         0
        ],
        [
         {
          "length": 5,
          "values": [
           2.0,
           0.2072727550159801,
           0.4999998864673381,
           0.10526315789473684,
           0.24637681159420288
          ],
          "vectorType": "dense"
         },
         {
          "length": 3,
          "values": [
           0.8252200590490826,
           0.03778557251966024,
           0.1369943684312571
          ],
          "vectorType": "dense"
         },
         0,
         0
        ],
        [
         {
          "length": 5,
          "values": [
           2.0,
           0.2327273282137784,
           0.5714285065527647,
           0.2807017543859649,
           0.13768115942028986
          ],
          "vectorType": "dense"
         },
         {
          "length": 3,
          "values": [
           0.7883519035073001,
           0.040492867965695914,
           0.17115522852700382
          ],
          "vectorType": "dense"
         },
         0,
         0
        ],
        [
         {
          "length": 5,
          "values": [
           2.0,
           0.2581819014115767,
           0.7738095589505858,
           0.3684210526315789,
           0.5289855072463768
          ],
          "vectorType": "dense"
         },
         {
          "length": 3,
          "values": [
           0.7688519726276811,
           0.06500981928261407,
           0.16613820808970473
          ],
          "vectorType": "dense"
         },
         0,
         0
        ],
        [
         {
          "length": 5,
          "values": [
           2.0,
           0.26181820956143464,
           0.8928571834045221,
           0.2807017543859649,
           0.2318840579710145
          ],
          "vectorType": "dense"
         },
         {
          "length": 3,
          "values": [
           0.791708218553604,
           0.02280328629396143,
           0.1854884951524345
          ],
          "vectorType": "dense"
         },
         0,
         0
        ],
        [
         {
          "length": 5,
          "values": [
           2.0,
           0.2763637195933949,
           0.6309523187797328,
           0.2807017543859649,
           0.30434782608695654
          ],
          "vectorType": "dense"
         },
         {
          "length": 3,
          "values": [
           0.7600598368768872,
           0.05257977601282302,
           0.1873603871102898
          ],
          "vectorType": "dense"
         },
         0,
         0
        ],
        [
         {
          "length": 5,
          "values": [
           2.0,
           0.29454553777521303,
           0.46428568995728675,
           0.03508771929824561,
           0.17391304347826086
          ],
          "vectorType": "dense"
         },
         {
          "length": 3,
          "values": [
           0.7726305107668094,
           0.037888136063285685,
           0.189481353169905
          ],
          "vectorType": "dense"
         },
         0,
         0
        ],
        [
         {
          "length": 5,
          "values": [
           2.0,
           0.33818192915482953,
           0.6428571266381912,
           0.49122807017543857,
           0.2971014492753623
          ],
          "vectorType": "dense"
         },
         {
          "length": 3,
          "values": [
           0.6626514359388279,
           0.08925701357448183,
           0.24809155048669024
          ],
          "vectorType": "dense"
         },
         0,
         0
        ],
        [
         {
          "length": 5,
          "values": [
           2.0,
           0.37818187366832384,
           0.9047619912629805,
           0.40350877192982454,
           0.4782608695652174
          ],
          "vectorType": "dense"
         },
         {
          "length": 3,
          "values": [
           0.6774326177167984,
           0.05904973706533273,
           0.2635176452178688
          ],
          "vectorType": "dense"
         },
         0,
         0
        ],
        [
         {
          "length": 5,
          "values": [
           2.0,
           0.3890909368341619,
           0.6428571266381912,
           0.3684210526315789,
           0.40579710144927533
          ],
          "vectorType": "dense"
         },
         {
          "length": 3,
          "values": [
           0.6397230360249143,
           0.09246696923415038,
           0.26780999474093525
          ],
          "vectorType": "dense"
         },
         0,
         0
        ]
       ],
       "datasetInfos": [],
       "dbfsResultPath": null,
       "isJsonSchema": true,
       "metadata": {},
       "overflow": false,
       "plotOptions": {
        "customPlotOptions": {},
        "displayType": "table",
        "pivotAggregation": null,
        "pivotColumns": null,
        "xColumns": null,
        "yColumns": null
       },
       "removedWidgets": [],
       "schema": [
        {
         "metadata": "{\"ml_attr\":{\"attrs\":{\"numeric\":[{\"idx\":1,\"name\":\"normalizedFeatures_0\"},{\"idx\":2,\"name\":\"normalizedFeatures_1\"},{\"idx\":3,\"name\":\"normalizedFeatures_2\"},{\"idx\":4,\"name\":\"normalizedFeatures_3\"}],\"nominal\":[{\"vals\":[\"Biscoe\",\"Dream\",\"Torgersen\"],\"idx\":0,\"name\":\"IslandIdx\"}]},\"num_attrs\":5}}",
         "name": "Features",
         "type": "{\"type\":\"udt\",\"class\":\"org.apache.spark.ml.linalg.VectorUDT\",\"pyClass\":\"pyspark.ml.linalg.VectorUDT\",\"sqlType\":{\"type\":\"struct\",\"fields\":[{\"name\":\"type\",\"type\":\"byte\",\"nullable\":false,\"metadata\":{}},{\"name\":\"size\",\"type\":\"integer\",\"nullable\":true,\"metadata\":{}},{\"name\":\"indices\",\"type\":{\"type\":\"array\",\"elementType\":\"integer\",\"containsNull\":false},\"nullable\":true,\"metadata\":{}},{\"name\":\"values\",\"type\":{\"type\":\"array\",\"elementType\":\"double\",\"containsNull\":false},\"nullable\":true,\"metadata\":{}}]}}"
        },
        {
         "metadata": "{\"ml_attr\":{\"num_attrs\":3}}",
         "name": "probability",
         "type": "{\"type\":\"udt\",\"class\":\"org.apache.spark.ml.linalg.VectorUDT\",\"pyClass\":\"pyspark.ml.linalg.VectorUDT\",\"sqlType\":{\"type\":\"struct\",\"fields\":[{\"name\":\"type\",\"type\":\"byte\",\"nullable\":false,\"metadata\":{}},{\"name\":\"size\",\"type\":\"integer\",\"nullable\":true,\"metadata\":{}},{\"name\":\"indices\",\"type\":{\"type\":\"array\",\"elementType\":\"integer\",\"containsNull\":false},\"nullable\":true,\"metadata\":{}},{\"name\":\"values\",\"type\":{\"type\":\"array\",\"elementType\":\"double\",\"containsNull\":false},\"nullable\":true,\"metadata\":{}}]}}"
        },
        {
         "metadata": "{}",
         "name": "prediction",
         "type": "\"integer\""
        },
        {
         "metadata": "{}",
         "name": "trueLabel",
         "type": "\"integer\""
        }
       ],
       "type": "table"
      }
     },
     "output_type": "display_data"
    }
   ],
   "source": [
    "prediction = model.transform(test)\n",
    "predicted = prediction.select(\"Features\", \"probability\", col(\"prediction\").astype(\"Int\"), col(\"Species\").alias(\"trueLabel\"))\n",
    "display(predicted)"
   ]
  },
  {
   "cell_type": "code",
   "execution_count": 0,
   "metadata": {
    "application/vnd.databricks.v1+cell": {
     "cellMetadata": {
      "byteLimit": 2048000,
      "rowLimit": 10000
     },
     "inputWidgets": {},
     "nuid": "2c68b42c-e79e-49ab-a90e-58ef35685e6e",
     "showTitle": false,
     "tableResultSettingsMap": {},
     "title": ""
    }
   },
   "outputs": [
    {
     "output_type": "stream",
     "name": "stdout",
     "output_type": "stream",
     "text": [
      "\uD83C\uDFC3 View run glamorous-mule-486 at: https://adb-417837659617408.8.azuredatabricks.net/ml/experiments/2521787647535717/runs/8b799dfdfef8455da8c3ed088e0f71d4\n\uD83E\uDDEA View experiment at: https://adb-417837659617408.8.azuredatabricks.net/ml/experiments/2521787647535717\nModel trained!\n"
     ]
    }
   ],
   "source": [
    "from pyspark.ml import Pipeline\n",
    "from pyspark.ml.feature import StringIndexer, VectorAssembler, MinMaxScaler\n",
    "from pyspark.ml.classification import DecisionTreeClassifier\n",
    "\n",
    "catFeature = \"Island\"\n",
    "numFeatures = [\"CulmenLength\", \"CulmenDepth\", \"FlipperLength\", \"BodyMass\"]\n",
    "\n",
    "# Define the feature engineering and model steps\n",
    "catIndexer = StringIndexer(inputCol=catFeature, outputCol=catFeature + \"Idx\")\n",
    "numVector = VectorAssembler(inputCols=numFeatures, outputCol=\"numericFeatures\")\n",
    "numScaler = MinMaxScaler(inputCol = numVector.getOutputCol(), outputCol=\"normalizedFeatures\")\n",
    "featureVector = VectorAssembler(inputCols=[\"IslandIdx\", \"normalizedFeatures\"], outputCol=\"Features\")\n",
    "algo = DecisionTreeClassifier(labelCol=\"Species\", featuresCol=\"Features\", maxDepth=10)\n",
    "\n",
    "# Chain the steps as stages in a pipeline\n",
    "pipeline = Pipeline(stages=[catIndexer, numVector, numScaler, featureVector, algo])\n",
    "\n",
    "# Use the pipeline to prepare data and fit the model algorithm\n",
    "model = pipeline.fit(train)\n",
    "print (\"Model trained!\")"
   ]
  },
  {
   "cell_type": "code",
   "execution_count": 0,
   "metadata": {
    "application/vnd.databricks.v1+cell": {
     "cellMetadata": {
      "byteLimit": 2048000,
      "rowLimit": 10000
     },
     "inputWidgets": {},
     "nuid": "90ab4c40-1ed6-46c0-b099-7b080788acb7",
     "showTitle": false,
     "tableResultSettingsMap": {},
     "title": ""
    }
   },
   "outputs": [
    {
     "output_type": "stream",
     "name": "stdout",
     "output_type": "stream",
     "text": [
      "Accuracy: 0.9795918367346939\n\nIndividual class metrics:\nClass 0\n\tPrecision: 1.0\n\tRecall: 0.9591836734693877\n\tF1 Score: 0.9791666666666666\nClass 1\n\tPrecision: 1.0\n\tRecall: 1.0\n\tF1 Score: 1.0\nClass 2\n\tPrecision: 0.8947368421052632\n\tRecall: 1.0\n\tF1 Score: 0.9444444444444444\nOverall Precision: 0.9817400644468314\nOverall Recall: 0.9795918367346939\nOverall F1 Score: 0.9799461451247165\n"
     ]
    }
   ],
   "source": [
    "# Get predictions\n",
    "prediction = model.transform(test)\n",
    "predicted = prediction.select(\"Features\", \"probability\", col(\"prediction\").astype(\"Int\"), col(\"Species\").alias(\"trueLabel\"))\n",
    "\n",
    "# Generate evaluation metrics\n",
    "from pyspark.ml.evaluation import MulticlassClassificationEvaluator\n",
    "\n",
    "evaluator = MulticlassClassificationEvaluator(labelCol=\"Species\", predictionCol=\"prediction\")\n",
    "\n",
    "# Simple accuracy\n",
    "accuracy = evaluator.evaluate(prediction, {evaluator.metricName:\"accuracy\"})\n",
    "print(\"Accuracy:\", accuracy)\n",
    "\n",
    "# Class metrics\n",
    "labels = [0,1,2]\n",
    "print(\"\\nIndividual class metrics:\")\n",
    "for label in sorted(labels):\n",
    "   print (\"Class %s\" % (label))\n",
    "\n",
    "   # Precision\n",
    "   precision = evaluator.evaluate(prediction, {evaluator.metricLabel:label,\n",
    "                                                   evaluator.metricName:\"precisionByLabel\"})\n",
    "   print(\"\\tPrecision:\", precision)\n",
    "\n",
    "   # Recall\n",
    "   recall = evaluator.evaluate(prediction, {evaluator.metricLabel:label,\n",
    "                                            evaluator.metricName:\"recallByLabel\"})\n",
    "   print(\"\\tRecall:\", recall)\n",
    "\n",
    "   # F1 score\n",
    "   f1 = evaluator.evaluate(prediction, {evaluator.metricLabel:label,\n",
    "                                        evaluator.metricName:\"fMeasureByLabel\"})\n",
    "   print(\"\\tF1 Score:\", f1)\n",
    "\n",
    "# Weighed (overall) metrics\n",
    "overallPrecision = evaluator.evaluate(prediction, {evaluator.metricName:\"weightedPrecision\"})\n",
    "print(\"Overall Precision:\", overallPrecision)\n",
    "overallRecall = evaluator.evaluate(prediction, {evaluator.metricName:\"weightedRecall\"})\n",
    "print(\"Overall Recall:\", overallRecall)\n",
    "overallF1 = evaluator.evaluate(prediction, {evaluator.metricName:\"weightedFMeasure\"})\n",
    "print(\"Overall F1 Score:\", overallF1)"
   ]
  },
  {
   "cell_type": "code",
   "execution_count": 0,
   "metadata": {
    "application/vnd.databricks.v1+cell": {
     "cellMetadata": {
      "byteLimit": 2048000,
      "rowLimit": 10000
     },
     "inputWidgets": {},
     "nuid": "fb685651-c3ee-4d3f-975c-21e927f30e69",
     "showTitle": false,
     "tableResultSettingsMap": {},
     "title": ""
    }
   },
   "outputs": [],
   "source": [
    "model.save(\"/models/penguin.model\")"
   ]
  },
  {
   "cell_type": "code",
   "execution_count": 0,
   "metadata": {
    "application/vnd.databricks.v1+cell": {
     "cellMetadata": {
      "byteLimit": 2048000,
      "rowLimit": 10000
     },
     "inputWidgets": {},
     "nuid": "8397e6dc-fe76-4af7-8f07-792653e023aa",
     "showTitle": false,
     "tableResultSettingsMap": {},
     "title": ""
    }
   },
   "outputs": [
    {
     "output_type": "display_data",
     "data": {
      "text/html": [
       "<style scoped>\n",
       "  .table-result-container {\n",
       "    max-height: 300px;\n",
       "    overflow: auto;\n",
       "  }\n",
       "  table, th, td {\n",
       "    border: 1px solid black;\n",
       "    border-collapse: collapse;\n",
       "  }\n",
       "  th, td {\n",
       "    padding: 5px;\n",
       "  }\n",
       "  th {\n",
       "    text-align: left;\n",
       "  }\n",
       "</style><div class='table-result-container'><table class='table-result'><thead style='background-color: white'><tr><th>Island</th><th>CulmenDepth</th><th>CulmenLength</th><th>FlipperLength</th><th>BodyMass</th><th>PredictedSpecies</th></tr></thead><tbody><tr><td>Biscoe</td><td>14.5</td><td>47.6</td><td>215</td><td>5400</td><td>1.0</td></tr></tbody></table></div>"
      ]
     },
     "metadata": {
      "application/vnd.databricks.v1+output": {
       "addedWidgets": {},
       "aggData": [],
       "aggError": "",
       "aggOverflow": false,
       "aggSchema": [],
       "aggSeriesLimitReached": false,
       "aggType": "",
       "arguments": {},
       "columnCustomDisplayInfos": {},
       "data": [
        [
         "Biscoe",
         14.5,
         47.6,
         215,
         5400,
         1.0
        ]
       ],
       "datasetInfos": [],
       "dbfsResultPath": null,
       "isJsonSchema": true,
       "metadata": {},
       "overflow": false,
       "plotOptions": {
        "customPlotOptions": {},
        "displayType": "table",
        "pivotAggregation": null,
        "pivotColumns": null,
        "xColumns": null,
        "yColumns": null
       },
       "removedWidgets": [],
       "schema": [
        {
         "metadata": "{}",
         "name": "Island",
         "type": "\"string\""
        },
        {
         "metadata": "{}",
         "name": "CulmenDepth",
         "type": "\"double\""
        },
        {
         "metadata": "{}",
         "name": "CulmenLength",
         "type": "\"double\""
        },
        {
         "metadata": "{}",
         "name": "FlipperLength",
         "type": "\"long\""
        },
        {
         "metadata": "{}",
         "name": "BodyMass",
         "type": "\"long\""
        },
        {
         "metadata": "{\"ml_attr\":{\"type\":\"nominal\",\"num_vals\":3}}",
         "name": "PredictedSpecies",
         "type": "\"double\""
        }
       ],
       "type": "table"
      }
     },
     "output_type": "display_data"
    }
   ],
   "source": [
    "from pyspark.ml.pipeline import PipelineModel\n",
    "\n",
    "persistedModel = PipelineModel.load(\"/models/penguin.model\")\n",
    "\n",
    "newData = spark.createDataFrame ([{\"Island\": \"Biscoe\",\n",
    "                                 \"CulmenLength\": 47.6,\n",
    "                                 \"CulmenDepth\": 14.5,\n",
    "                                 \"FlipperLength\": 215,\n",
    "                                 \"BodyMass\": 5400}])\n",
    "\n",
    "\n",
    "predictions = persistedModel.transform(newData)\n",
    "display(predictions.select(\"Island\", \"CulmenDepth\", \"CulmenLength\", \"FlipperLength\", \"BodyMass\", col(\"prediction\").alias(\"PredictedSpecies\")))"
   ]
  }
 ],
 "metadata": {
  "application/vnd.databricks.v1+notebook": {
   "computePreferences": null,
   "dashboards": [],
   "environmentMetadata": {
    "base_environment": "",
    "environment_version": "3"
   },
   "inputWidgetPreferences": null,
   "language": "python",
   "notebookMetadata": {
    "mostRecentlyExecutedCommandWithImplicitDF": {
     "commandId": 7336384425883427,
     "dataframes": [
      "_sqldf"
     ]
    },
    "pythonIndentUnit": 4
   },
   "notebookName": "Machine Learning",
   "widgets": {}
  },
  "language_info": {
   "name": "python"
  }
 },
 "nbformat": 4,
 "nbformat_minor": 0
}